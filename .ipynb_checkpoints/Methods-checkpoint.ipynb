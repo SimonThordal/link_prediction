{
 "cells": [
  {
   "cell_type": "markdown",
   "metadata": {},
   "source": [
    "# Table of Contents\n"
   ]
  },
  {
   "cell_type": "markdown",
   "metadata": {},
   "source": []
  },
  {
   "cell_type": "markdown",
   "metadata": {},
   "source": [
    "Rebuilding Calico took many years <a name=\"ref-1\"/>[(UNDEFINED)](#cite-Kataria:2012:TML:2518912)."
   ]
  },
  {
   "cell_type": "raw",
   "metadata": {},
   "source": [
    "<--bibtex\n",
    "@phdthesis{Kataria:2012:TML:2518912,\n",
    " author = {Kataria, Saurabh},\n",
    " advisor = {Mitra, Prasenjit},\n",
    " title = {Topic Models for Link Prediction in Document Networks},\n",
    " year = {2012},\n",
    " isbn = {978-1-267-51143-0},\n",
    " note = {AAI3521232},\n",
    " publisher = {Pennsylvania State University},\n",
    " address = {University Park, PA, USA},\n",
    "}\n",
    "\n",
    "@article{Lü20111150,\n",
    "  title = {Link prediction in complex networks: A survey},\n",
    "  journal = {Physica A: Statistical Mechanics and its Applications},\n",
    "  volume = {390},\n",
    "  number = {6},\n",
    "  pages = {1150 - 1170},\n",
    "  year = {2011},\n",
    "  note = {},\n",
    "  issn = {0378-4371},\n",
    "  doi = {http://dx.doi.org/10.1016/j.physa.2010.11.027},\n",
    "  url = {http://www.sciencedirect.com/science/article/pii/S037843711000991X},\n",
    "  author = {Linyuan Lü and Tao Zhou},\n",
    "  keywords = {Link prediction},\n",
    "  keywords = {Complex networks},\n",
    "  keywords = {Node similarity},\n",
    "  keywords = {Maximum likelihood methods},\n",
    "  keywords = {Probabilistic models}\n",
    "}\n",
    "\n",
    "@inproceedings{Liben-Nowell:2003:LPP:956863.956972,\n",
    " author = {Liben-Nowell, David and Kleinberg, Jon},\n",
    " title = {The Link Prediction Problem for Social Networks},\n",
    " booktitle = {Proceedings of the Twelfth International Conference on Information and Knowledge Management},\n",
    " series = {CIKM '03},\n",
    " year = {2003},\n",
    " isbn = {1-58113-723-0},\n",
    " location = {New Orleans, LA, USA},\n",
    " pages = {556--559},\n",
    " numpages = {4},\n",
    " url = {http://doi.acm.org/10.1145/956863.956972},\n",
    " doi = {10.1145/956863.956972},\n",
    " acmid = {956972},\n",
    " publisher = {ACM},\n",
    " address = {New York, NY, USA},\n",
    " keywords = {link analysis, link prediction, social networks},\n",
    "}\n",
    "\n",
    "@ARTICLE{2011PhyA..390.1150L,\n",
    "   author = {Linyuan Lü and Tao Zhou},\n",
    "    title = {Link prediction in complex networks: A survey},\n",
    "  journal = {Physica A Statistical Mechanics and its Applications},\n",
    "archivePrefix = {arXiv},\n",
    "   eprint = {1010.0725},\n",
    " primaryClass = {physics.soc-ph},\n",
    "     year = {2011},\n",
    "    month = {mar},\n",
    "   volume = {390},\n",
    "    pages = {1150-1170},\n",
    "      doi = {10.1016/j.physa.2010.11.027},\n",
    "   adsurl = {http://adsabs.harvard.edu/abs/2011PhyA..390.1150L},\n",
    "  adsnote = {Provided by the SAO/NASA Astrophysics Data System}\n",
    "}\n",
    "\n",
    "@ARTICLE{2015arXiv151204776T,\n",
    "   author = {Tabourier, L. and Libert, A.-S. and Lambiotte, R.},\n",
    "    title = {Predicting links in ego-networks using temporal information},\n",
    "  journal = {ArXiv e-prints},\n",
    "archivePrefix = {arXiv},\n",
    "   eprint = {1512.04776},\n",
    " keywords = {Computer Science - Social and Information Networks, Physics - Physics and Society},\n",
    "     year = {2015},\n",
    "    month = {dec},\n",
    "   adsurl = {http://adsabs.harvard.edu/abs/2015arXiv151204776T},\n",
    "  adsnote = {Provided by the SAO/NASA Astrophysics Data System}\n",
    "}\n",
    "\n",
    "@inproceedings{chang2009relational,\n",
    "  title={Relational topic models for document networks},\n",
    "  author={Chang, Jonathan and Blei, David M},\n",
    "  booktitle={International Conference on Artificial Intelligence and Statistics},\n",
    "  pages={81--88},\n",
    "  year={2009}\n",
    "}\n",
    "\n",
    "@inproceedings{Blei:2011:PTM:2107736.2107741,\n",
    " author = {Blei, David},\n",
    " title = {Probabilistic Topic Models},\n",
    " booktitle = {Proceedings of the 17th ACM SIGKDD International Conference Tutorials},\n",
    " series = {KDD '11 Tutorials},\n",
    " year = {2011},\n",
    " isbn = {978-1-4503-1201-1},\n",
    " location = {San Diego, California},\n",
    " pages = {5:1--5:1},\n",
    " articleno = {5},\n",
    " numpages = {1},\n",
    " url = {http://doi.acm.org.proxy.findit.dtu.dk/10.1145/2107736.2107741},\n",
    " doi = {10.1145/2107736.2107741},\n",
    " acmid = {2107741},\n",
    " publisher = {ACM},\n",
    " address = {New York, NY, USA},\n",
    "}\n",
    "-->"
   ]
  },
  {
   "cell_type": "code",
   "execution_count": null,
   "metadata": {
    "collapsed": true
   },
   "outputs": [],
   "source": []
  },
  {
   "cell_type": "markdown",
   "metadata": {},
   "source": [
    "# References\n",
    "\n"
   ]
  }
 ],
 "metadata": {
  "kernelspec": {
   "display_name": "Python 2",
   "language": "python",
   "name": "python2"
  },
  "language_info": {
   "codemirror_mode": {
    "name": "ipython",
    "version": 2
   },
   "file_extension": ".py",
   "mimetype": "text/x-python",
   "name": "python",
   "nbconvert_exporter": "python",
   "pygments_lexer": "ipython2",
   "version": "2.7.10"
  }
 },
 "nbformat": 4,
 "nbformat_minor": 0
}
