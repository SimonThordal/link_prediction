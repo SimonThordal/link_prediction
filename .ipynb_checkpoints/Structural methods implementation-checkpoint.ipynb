{
 "cells": [
  {
   "cell_type": "code",
   "execution_count": null,
   "metadata": {
    "collapsed": false
   },
   "outputs": [],
   "source": [
    "%run load_data.py\n",
    "import sys\n",
    "import multiprocessing as mp"
   ]
  },
  {
   "cell_type": "markdown",
   "metadata": {},
   "source": [
    "In this document the methods described in the methods section are implemented for the network of verdicts. The data is loaded as `networkx`directed graph making it relatively easy to work with."
   ]
  },
  {
   "cell_type": "code",
   "execution_count": null,
   "metadata": {
    "collapsed": false
   },
   "outputs": [],
   "source": [
    "def jaccard_predictions(G):\n",
    "    \"\"\"\n",
    "    Create a ranked list of possible new links based on the Jaccard similarity,\n",
    "    defined as the intersection of nodes divided by the union of nodes\n",
    "    \n",
    "    parameters\n",
    "    G: Directed or undirected nx graph\n",
    "    returns\n",
    "    list of linkbunches with the score as an attribute\n",
    "    \"\"\"\n",
    "    potential_edges = []\n",
    "    G_undirected = nx.Graph(G)\n",
    "    for non_edge in nx.non_edges(G_undirected):\n",
    "        u = set(G.neighbors(non_edge[0]))\n",
    "        v = set(G.neighbors(non_edge[1]))\n",
    "        uv_un = len(u.union(v))\n",
    "        uv_int = len(u.intersection(v))\n",
    "        if uv_int == 0 or uv_un == 0:\n",
    "            continue\n",
    "        else:\n",
    "            s = (1.0*uv_int)/uv_un\n",
    "            \n",
    "        potential_edges.append(non_edge + ({'score': s},))\n",
    "        \n",
    "    return potential_edges\n",
    "\n",
    "def jaccard_prediction(non_edge):\n",
    "    u = set(G.neighbors(non_edge[0]))\n",
    "    v = set(G.neighbors(non_edge[1]))\n",
    "    uv_un = len(u.union(v))\n",
    "    uv_int = len(u.intersection(v))\n",
    "    if uv_int != 0 or uv_un != 0:\n",
    "        s = (1.0*uv_int)/uv_un\n",
    "        return non_edge + ({'score': s},)\n",
    "\n",
    "def jaccard_mp_predictions(G):\n",
    "    \"\"\"\n",
    "    Create a ranked list of possible new links based on the Jaccard similarity,\n",
    "    defined as the intersection of nodes divided by the union of nodes\n",
    "    \n",
    "    parameters\n",
    "    G: Directed or undirected nx graph\n",
    "    returns\n",
    "    list of linkbunches with the score as an attribute\n",
    "    \"\"\"\n",
    "    pool = mp.Pool(processes=4)\n",
    "    G_undirected = nx.Graph(G)\n",
    "    results = pool.map(jaccard_prediction, nx.non_edges(G_undirected))\n",
    "    return results\n"
   ]
  },
  {
   "cell_type": "code",
   "execution_count": null,
   "metadata": {
    "collapsed": false
   },
   "outputs": [],
   "source": [
    "%time p = jaccard_predictions(G)"
   ]
  },
  {
   "cell_type": "code",
   "execution_count": null,
   "metadata": {
    "collapsed": false
   },
   "outputs": [],
   "source": [
    "sorted(p, key=lambda x: x[2]['score'], reverse=True)"
   ]
  },
  {
   "cell_type": "code",
   "execution_count": null,
   "metadata": {
    "collapsed": false
   },
   "outputs": [],
   "source": [
    "%time pp = jaccard_mp_predictions(G)"
   ]
  },
  {
   "cell_type": "code",
   "execution_count": null,
   "metadata": {
    "collapsed": false
   },
   "outputs": [],
   "source": [
    "G.edges('61959CJ0046')"
   ]
  },
  {
   "cell_type": "code",
   "execution_count": null,
   "metadata": {
    "collapsed": false
   },
   "outputs": [],
   "source": [
    "nx.Graph(G).edges('61959CJ0023')"
   ]
  },
  {
   "cell_type": "code",
   "execution_count": null,
   "metadata": {
    "collapsed": false
   },
   "outputs": [],
   "source": [
    "G['61959CJ0023']"
   ]
  },
  {
   "cell_type": "code",
   "execution_count": null,
   "metadata": {
    "collapsed": false
   },
   "outputs": [],
   "source": [
    "c = 0\n",
    "for non_edge in nx.non_edges(G):\n",
    "    c = c+1\n",
    "print c"
   ]
  },
  {
   "cell_type": "code",
   "execution_count": null,
   "metadata": {
    "collapsed": true
   },
   "outputs": [],
   "source": []
  }
 ],
 "metadata": {
  "kernelspec": {
   "display_name": "Python 2",
   "language": "python",
   "name": "python2"
  }
 },
 "nbformat": 4,
 "nbformat_minor": 0
}
