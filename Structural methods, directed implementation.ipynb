{
 "cells": [
  {
   "cell_type": "code",
   "execution_count": 1,
   "metadata": {
    "collapsed": false
   },
   "outputs": [],
   "source": [
    "%run load_data.py\n",
    "import sys\n",
    "import multiprocessing as mp\n",
    "import numpy as np\n",
    "import scipy.sparse.linalg as splin\n",
    "import scipy.sparse as sparse\n",
    "import random\n",
    "import math\n",
    "import heapq\n",
    "from collections import *\n",
    "\n",
    "np.random.seed(42)\n",
    "random.seed(42)"
   ]
  },
  {
   "cell_type": "code",
   "execution_count": 2,
   "metadata": {
    "collapsed": true
   },
   "outputs": [],
   "source": [
    "import matplotlib.pyplot as plt\n",
    "%matplotlib inline"
   ]
  },
  {
   "cell_type": "markdown",
   "metadata": {},
   "source": [
    "In this document the methods described in the methods section are implemented for the network of verdicts. The data is loaded as `networkx`directed graph making it relatively easy to work with. The goal is to set up an easily used interface for running K-folds cross validation on the network for different link prediction algorithms and evaluate them with ROC and precision."
   ]
  },
  {
   "cell_type": "code",
   "execution_count": 3,
   "metadata": {
    "collapsed": false
   },
   "outputs": [],
   "source": [
    "# Find the greatest connected component and work on that\n",
    "components = []\n",
    "lengths = []\n",
    "# Find the greatest component from the undirected version of the graph\n",
    "for component in nx.connected_component_subgraphs(nx.Graph(G)):\n",
    "    components.append(component)\n",
    "    lengths.append(len(component))\n",
    "# Find the GCC as the largest component and then recreate the directed graph\n",
    "GCC = components[lengths.index(max(lengths))]\n",
    "GCC = G.subgraph(GCC.nodes())"
   ]
  },
  {
   "cell_type": "code",
   "execution_count": 4,
   "metadata": {
    "collapsed": false
   },
   "outputs": [],
   "source": [
    "def successors_scoped(node, head, G):\n",
    "    \"\"\"\n",
    "    Return the successors of a node scoped to the time specified by the head node\n",
    "    \n",
    "    arguments:\n",
    "    node -- node to return successors for\n",
    "    head -- node containing the timestamp to scope the graph to\n",
    "    G -- graph containing the nodes\n",
    "    \"\"\"\n",
    "    max_time = G.node[head]['date']\n",
    "    return [n for n in G[node] if G.node[n]['date'] <= max_time]\n",
    "\n",
    "def predecessors_scoped(node, head, G):\n",
    "    \"\"\"\n",
    "    Return the predecessors of a node scoped to the time specified by the head node\n",
    "    \n",
    "    arguments:\n",
    "    node -- node to return predecessors for\n",
    "    head -- node containing the timestamp to scope the graph to\n",
    "    G -- graph containing the nodes\n",
    "    \"\"\"\n",
    "    max_time = G.node[head]['date']\n",
    "    return [n for n in G.pred[node] if G.node[n]['date'] <= max_time]\n",
    "\n",
    "def scoped_neighborhood(node, head_node, G):\n",
    "    \"\"\"\n",
    "    Return the neighborhood of a node at a given timestamp\n",
    "    \n",
    "    arguments:\n",
    "    node -- node to find the neighborhood for\n",
    "    head_node -- node containing the timestamp to filter the nodes by\n",
    "    G -- directed graph containing the node\n",
    "    \"\"\"\n",
    "    max_date = G.node[head_node]['date']\n",
    "    pre = predecessors_scoped(node, head_node, G)\n",
    "    suc = successors_scoped(node, head_node, G)\n",
    "    return list(set(pre).union(set(suc)))    \n",
    "    \n",
    "def scoped_out_degree(node, head_node, G):\n",
    "    \"\"\"\n",
    "    Return the degree of a node at a given timestamp\n",
    "    \n",
    "    arguments:\n",
    "    node -- node to return the degree for\n",
    "    head_node -- node containing the timestamp to filter the nodes by\n",
    "    G -- graph containing the nodes\n",
    "    \"\"\"\n",
    "    max_date = G.node[head_node]['date']\n",
    "    neighborhood = [n for n in G[node] if G.node[n]['date'] <= max_date]\n",
    "    return len(neighborhood)\n",
    "\n",
    "def scoped_in_degree(node, head_node, G):\n",
    "    \"\"\"\n",
    "    Return the degree of a node at a given timestamp\n",
    "    \n",
    "    arguments:\n",
    "    node -- node to return the degree for\n",
    "    head_node -- node containing the timestamp to filter the nodes by\n",
    "    G -- graph containing the nodes\n",
    "    \"\"\"\n",
    "    max_date = G.node[head_node]['date']\n",
    "    neighborhood = [n for n in G.pred[node] if G.node[n]['date'] <= max_date]\n",
    "    return len(neighborhood)\n",
    "\n",
    "def get_common_neighbors(x,y,G):\n",
    "    u = set(scoped_neighborhood(x,x,G))\n",
    "    v = set(scoped_neighborhood(y,x,G))\n",
    "    return u.intersection(v)\n",
    "\n",
    "def get_neighbor_union(x,y,G):\n",
    "    u = set(scoped_neighborhood(x,x,G))\n",
    "    v = set(scoped_neighborhood(y,x,G))\n",
    "    return u.union(v)\n",
    "\n",
    "def get_common_referrers(x,y,G):\n",
    "    common_referrers_source = {n for m in successors_scoped(x, x, G) for n in predecessors_scoped(m, x, G)} - {x}\n",
    "    referrers_to_target = set(predecessors_scoped(y,x,G))\n",
    "    return common_referrers_source.intersection(referrers_to_target)\n",
    "\n",
    "    \n",
    "def common_referrers(validation_set, G):\n",
    "    \"\"\"\n",
    "    For a given node pair x and y, return the number of nodes that both refer to a node that x also refers and refers to y\n",
    "    or f(y) intersection g(f(x)) where f returns the predeccessors of a node and g returns the successors\n",
    "    \n",
    "    arguments:\n",
    "    validation_set -- list of edges to score\n",
    "    G -- digraph containing the nodes in the edges of the validation set\n",
    "    \n",
    "    returns:\n",
    "    list of edges with score as an attribute\n",
    "    \"\"\"\n",
    "    results = []   \n",
    "    for non_edge in validation_set:\n",
    "        x = non_edge[0]\n",
    "        y = non_edge[1]\n",
    "        s= len(get_common_referrers(x,y,G))\n",
    "        non_edge[2]['score'] = s\n",
    "        results.append(non_edge)\n",
    "    return results\n",
    "\n",
    "def common_neighbors(validation_set, G):\n",
    "    \"\"\"\n",
    "    Perform common neighbors scoring on a list of edges\n",
    "    \n",
    "    arguments:\n",
    "    validation_set -- list of edges to score\n",
    "    G -- digraph containing the nodes in the edges of the validation set\n",
    "    \n",
    "    returns:\n",
    "    list of edges with score as an attribute\n",
    "    \"\"\"\n",
    "    results = []\n",
    "    for non_edge in validation_set:\n",
    "        x = non_edge[0]\n",
    "        y = non_edge[1]\n",
    "        s = len(get_common_neighbors(x,y,G))\n",
    "        non_edge[2]['score'] = s\n",
    "        results.append(non_edge)\n",
    "    return results\n",
    "\n",
    "def jaccard(validation_set, G):\n",
    "    \"\"\"\n",
    "    Perform jaccard scoring on a list of edges\n",
    "    \n",
    "    arguments:\n",
    "    validation_set -- list of edges to score\n",
    "    G -- digraph containing the nodes in the edges of the validation set\n",
    "    \n",
    "    returns:\n",
    "    list of edges with score as an attribute\n",
    "    \"\"\"\n",
    "    results = []\n",
    "    for non_edge in validation_set:\n",
    "        x = non_edge[0]\n",
    "        y = non_edge[1]\n",
    "        u = set(scoped_neighborhood(x,x,G))\n",
    "        v = set(scoped_neighborhood(y,x,G))\n",
    "        try:\n",
    "            s = len(u & v)/len(u | v)\n",
    "        except:\n",
    "            s = 0.0\n",
    "        non_edge[2]['score'] = s\n",
    "        results.append(non_edge)\n",
    "    return results\n",
    "\n",
    "def adamic_adar(validation_set, G):\n",
    "    \"\"\"\n",
    "    Perform jaccard scoring on a list of edges\n",
    "    \n",
    "    arguments:\n",
    "    validation_set -- list of edges to score\n",
    "    G -- digraph containing the nodes in the edges of the validation set\n",
    "    \n",
    "    returns:\n",
    "    list of edges with score as an attribute\n",
    "    \"\"\"\n",
    "    results = []\n",
    "    for non_edge in validation_set:\n",
    "        x = non_edge[0]\n",
    "        y = non_edge[1]\n",
    "        neighbors = get_common_neighbors(x,y,G)\n",
    "        s = sum([1.0/math.log(scoped_in_degree(node, x, G)) for node in neighbors if scoped_in_degree(node, x, G) > 1])\n",
    "        non_edge[2]['score'] = s\n",
    "        results.append(non_edge)\n",
    "    return results\n",
    "\n",
    "def resource_allocation(validation_set, G):\n",
    "    \"\"\"\n",
    "    Perform resource allocation scoring on a list of edges\n",
    "    \n",
    "    arguments:\n",
    "    validation_set -- list of edges to score\n",
    "    G -- digraph containing the nodes in the edges of the validation set\n",
    "    \n",
    "    returns:\n",
    "    list of edges with score as an attribute\n",
    "    \"\"\"\n",
    "    results = []\n",
    "    for non_edge in validation_set:\n",
    "        x = non_edge[0]\n",
    "        y = non_edge[1]\n",
    "        neighbors = get_common_neighbors(x,y,G)\n",
    "        s = sum([1.0/scoped_in_degree(node, x, G) for node in neighbors if scoped_in_degree(node, x, G) > 1])\n",
    "        non_edge[2]['score'] = s\n",
    "        results.append(non_edge)\n",
    "    return results\n",
    "\n",
    "def leicht_holme_newman(validation_set, G):\n",
    "    \"\"\"\n",
    "    Perform LHN1 scoring on a single edge\n",
    "    \n",
    "    arguments:\n",
    "    non_edge -- edge tuple specified by node endpoints\n",
    "    G -- graph containing the nodes in the edge\n",
    "    \n",
    "    return:\n",
    "    edges with the score as an attribute\n",
    "    \"\"\"\n",
    "    results = []\n",
    "    for non_edge in validation_set:\n",
    "        x = non_edge[0]\n",
    "        y = non_edge[1]\n",
    "        cn = get_common_neighbors(x,y,G)\n",
    "        if scoped_out_degree(x, x, G) == 0 or scoped_in_degree(y, x, G) == 0:\n",
    "            s = 0.0\n",
    "        else:\n",
    "            s = 1.0*len(cn)/(scoped_out_degree(x, x, G)*scoped_in_degree(y, x, G))\n",
    "        non_edge[2]['score'] = s\n",
    "        results.append(non_edge)\n",
    "    return results\n",
    "\n",
    "def preferential_attachment(validation_set, G):\n",
    "    \"\"\"\n",
    "    Perform preferential attachment scoring on a list of edges\n",
    "    \n",
    "    arguments:\n",
    "    validation_set -- list of edges to score\n",
    "    G -- digraph containing the nodes in the edges of the validation set\n",
    "    \n",
    "    returns:\n",
    "    list of edges with score as an attribute\n",
    "    \"\"\"\n",
    "    results = []\n",
    "    for non_edge in validation_set:\n",
    "        x = non_edge[0]\n",
    "        y = non_edge[1]\n",
    "        s = scoped_out_degree(x,x,G)*scoped_in_degree(y,x,G)\n",
    "        non_edge[2]['score'] = s\n",
    "        results.append(non_edge)\n",
    "    return results\n",
    "\n",
    "def triadic_closeness(validation_set, G, census=None):\n",
    "    results = []\n",
    "    if census == None:\n",
    "        census = triadic_distribution(G)\n",
    "    for non_edge in validation_set:\n",
    "        x = non_edge[0]\n",
    "        y = non_edge[1]\n",
    "        u = set(scoped_neighborhood(x,x,G))\n",
    "        v = set(scoped_neighborhood(y,x,G))\n",
    "        cn = u.intersection(v)\n",
    "        t_score = []\n",
    "        for z in cn:\n",
    "            triad = get_triad(x,z,y,G)\n",
    "            if census[triad] == 0:\n",
    "                continue\n",
    "            try:\n",
    "                F2 = census[triad+30]\n",
    "            except KeyError:\n",
    "                F2 = 0.0\n",
    "            try:\n",
    "                F1 = census[triad+10]\n",
    "            except KeyError:\n",
    "                F1 = 0.0\n",
    "            \n",
    "            score = (1.0*F1 + F2)/census[triad]\n",
    "            t_score.append(score)\n",
    "        s = sum(t_score)\n",
    "        non_edge[2]['score'] = s\n",
    "        results.append(non_edge)\n",
    "    return results\n",
    "\n",
    "def triadic_distribution(G):\n",
    "    \"\"\"\n",
    "    Return the distribution of closed triad configurations for a graph\n",
    "    The distribution is labelled as in the paper by Schall\n",
    "    http://link.springer.com.proxy.findit.dtu.dk/article/10.1007/s13278-014-0157-9\n",
    "    \n",
    "    arguments:\n",
    "    G -- directed graph\n",
    "    \n",
    "    returns:\n",
    "    Dict of labels with counts\n",
    "    \"\"\"\n",
    "    \n",
    "    # Integer labels as presented in the paper\n",
    "    TRIAD_NAMES = range(1,10) + range(11, 20) + range(21,30) + range (31, 40)\n",
    "    census = {name: 0 for name in TRIAD_NAMES}\n",
    "    for u in G.nodes_iter():\n",
    "        u_neighbors = list(set(G.successors(u)) | set(G.predecessors(u)))\n",
    "        for z in u_neighbors:\n",
    "            z_neighbors = list((set(G.successors(z)) | set(G.predecessors(z))) - {u} )\n",
    "            for v in z_neighbors:\n",
    "                name = get_triad(u,z,v, G)\n",
    "                census[name] += 1\n",
    "    return census\n",
    "\n",
    "\n",
    "def get_triad(u,z,v,G):\n",
    "    \"\"\"\n",
    "    Return the triad created by the nodes u,v and z\n",
    "    This implementation is quite probably awful.\n",
    "    \n",
    "    parameters:\n",
    "    \n",
    "    u -- starting node\n",
    "    z -- connecting node\n",
    "    v -- ending node\n",
    "    G -- DiGraph containing the nodes\n",
    "    \n",
    "    returns:\n",
    "    Dict containing closed triad counts\n",
    "    \"\"\"\n",
    "    \n",
    "    u_out = G[u]\n",
    "    v_out = G[v]\n",
    "    z_out = G[z]\n",
    "    id = 0\n",
    "    \n",
    "    if v in u_out and u in v_out:\n",
    "        id = 30\n",
    "    elif u in v_out:\n",
    "        id = 20\n",
    "    elif v in u_out:\n",
    "        id = 10\n",
    "    \n",
    "    if u in z_out and z not in u_out:\n",
    "        id += 7\n",
    "        if v in z_out and z not in v_out:\n",
    "            return id + 2\n",
    "        elif z in v_out and v not in z_out:\n",
    "            return id + 1\n",
    "        elif z in v_out and v in z_out:\n",
    "            return id\n",
    "        raise Exception(\"Error in finding triad\")\n",
    "    elif z in v_out and v not in z_out:\n",
    "        id += 5\n",
    "        if z in u_out and u not in z_out:\n",
    "            return id + 1\n",
    "        elif z in u_out and u in z_out:\n",
    "            return id\n",
    "        raise Exception(\"Error in finding triad\")\n",
    "    elif z in u_out and u not in z_out:\n",
    "        id += 3\n",
    "        if v in z_out and z not in v_out:\n",
    "            return id + 1\n",
    "        if v in z_out and z in v_out:\n",
    "            return id\n",
    "        raise Exception(\"Error in finding triad\")\n",
    "    elif z in u_out and u in z_out:\n",
    "        if v in z_out and z not in v_out:\n",
    "            return id + 2\n",
    "        elif v in z_out and z in v_out:\n",
    "            return id + 1\n",
    "    \n",
    "    raise Exception(\"No triad found\")\n",
    "        \n",
    "\n",
    "def get_closed_triads(x, y, G):\n",
    "    \"\"\"\n",
    "    Return the closed triads generated by adding a link from x to y.\n",
    "    Triads are classified according to the triadic_census algorithm of NetworkX based on \n",
    "    http://vlado.fmf.uni-lj.si/pub/networks/doc/triads/triads.pdf\n",
    "    \"\"\"\n",
    "    \n",
    "    # Taken directly from nx.triadic_census source\n",
    "    TRIAD_NAMES = ('003', '012', '102', '021D', '021U', '021C', '111D', '111U',\n",
    "                   '030T', '030C', '201', '120D', '120U', '120C', '210', '300')\n",
    "    census = {name: 0 for name in TRIAD_NAMES}\n",
    "    \n",
    "    x_in = set(G.predecessors(x))\n",
    "    y_in = set(G.predecessors(y))\n",
    "    x_out = set(G.successors(x))\n",
    "    y_out = set(G.successors(y))\n",
    "    \n",
    "    for node in x_in | y_in | x_out | y_out:\n",
    "        # y refers to a node that refers to x\n",
    "        if node in x_in and node in y_out:\n",
    "            census['030C'] += 1\n",
    "        # y is being referred to by a node that refers to x\n",
    "        if node in x_in and node in y_in:\n",
    "            census['030T'] += 1\n",
    "        # x refers to a node that refers to y\n",
    "        if node in x_out and node in y_in:\n",
    "            census['030T'] += 1\n",
    "        # x refers to a node that y refers to\n",
    "        if node in x_out and node in y_out:\n",
    "            census['030T'] += 1\n",
    "            \n",
    "class CommonNeighbors():\n",
    "    \"\"\"\n",
    "    An experiment that scores a list of edges based on the number of common neighbors between the source and the target node\n",
    "    \"\"\"\n",
    "        \n",
    "    def valid_false_edges(self, G, source_nodes):\n",
    "        \"\"\"\n",
    "        Returns a list of edges that do not exist in G and will score highly on the common neighbors index\n",
    "        \n",
    "        Parameters\n",
    "        ----------\n",
    "        G: networkX.Graph\n",
    "            Graph to perform experiment on\n",
    "        source_nodes: list of tuples\n",
    "            Nodes containing the true edges to be scored\n",
    "        \"\"\"\n",
    "        false_validation_edges = [(source, target) for source in source_nodes\n",
    "                   for neighbor in G[source].keys()\n",
    "                   for target in set(scoped_neighborhood(neighbor, source, G)) - {source} if target not in G[source].keys()]\n",
    "        \n",
    "        false_validation_edges = list(set(false_validation_edges))\n",
    "        for i in range(len(false_validation_edges)):\n",
    "            edge = false_validation_edges[i]\n",
    "            # Add date information to the non-edge\n",
    "            false_validation_edges[i] = edge + ({'date': G.node[edge[0]]['date']},)\n",
    "        \n",
    "        return false_validation_edges\n",
    "        \n",
    "    def score_edges(self, edges, G):\n",
    "        return common_neighbors(edges, G)\n",
    "    \n",
    "class Jaccard(CommonNeighbors):\n",
    "    def score_edges(self, G, edges):\n",
    "        return jaccard(G, edges)\n",
    "    \n",
    "class AdamicAdar(CommonNeighbors):\n",
    "    def score_edges(self, G, edges):\n",
    "        return adamic_adar(G, edges)\n",
    "    \n",
    "class ResourceAllocation(CommonNeighbors):\n",
    "    def score_edges(self, G, edges):\n",
    "        return resource_allocation(G, edges)\n",
    "    \n",
    "class LeichHolmeNewman(CommonNeighbors):\n",
    "    def score_edges(self, G, edges):\n",
    "        return leicht_holme_newman(G, edges)\n",
    "    \n",
    "class TriadicCloseness(CommonNeighbors):\n",
    "    \n",
    "    def __init__(self, cache_distribution=False):\n",
    "        self.cache_distribution = cache_distribution\n",
    "        self.census = None\n",
    "    \n",
    "    def score_edges(self, edges, G):\n",
    "        if self.cache_distribution == True and self.census == None:\n",
    "            self.census = triadic_distribution(G)\n",
    "            return triadic_closeness(edges, G, self.census)\n",
    "        else:\n",
    "            return triadic_closeness(edges, G, self.census)\n",
    "    \n",
    "class CommonReferrers():\n",
    "    \n",
    "    def valid_false_edges(self, G, source_nodes):\n",
    "        \"\"\"\n",
    "        Returns a list of edges that do not exist in G and will score highly on the common referrers index\n",
    "        \n",
    "        Parameters\n",
    "        ----------\n",
    "        G: networkX.Graph\n",
    "            Graph to perform experiment on\n",
    "        source_nodes: list of tuples\n",
    "            Nodes containing the true edges to be scored\n",
    "        \"\"\"\n",
    "        non_edges = []\n",
    "        for source in source_nodes:\n",
    "            neighbors = G[source].keys()\n",
    "            corefs = set()\n",
    "            for neighbor in neighbors:\n",
    "                corefs = corefs | {c for c in predecessors_scoped(neighbor, source, G)}\n",
    "            [non_edges.append((source, referee)) for coref in (corefs - {source}) \n",
    "                                                 for referee in set(successors_scoped(coref, source, G)) - set(neighbors)]\n",
    "            \n",
    "        for i in range(len(non_edges)):\n",
    "            edge = non_edges[i]\n",
    "            # Add date information to the non-edge\n",
    "            non_edges[i] = edge + ({'date': G.node[edge[0]]['date']},)\n",
    "        \n",
    "        return non_edges\n",
    "    \n",
    "    def score_edges(self, edges, G):\n",
    "        return common_referrers(edges, G)\n",
    "            \n",
    "                \n",
    "def valid_random_non_edges(graph, n):\n",
    "    \"\"\"\n",
    "    Returns randomized, non-existent links between nodes in the graph that are guaranteed to observe causality.\n",
    "\n",
    "    Parameters\n",
    "    ----------\n",
    "    graph : NetworkX graph.\n",
    "        Graph to find non-existent edges.\n",
    "    n : integer\n",
    "        Number of non-existent edges to find\n",
    "\n",
    "    Returns\n",
    "    -------\n",
    "    non_edges : list\n",
    "        List of n edges that are not in the graph.\n",
    "    \"\"\"\n",
    "    result_pairs = []\n",
    "    # Sort edges according to age\n",
    "    sorted_edges =[node for node, data in sorted(graph.nodes(data=True), key=lambda x: x[1]['date'], reverse=True)]\n",
    "    node_set = set(graph.nodes())\n",
    "    candidates = list(np.random.choice(sorted_edges, n, replace=True))\n",
    "    i = 0\n",
    "    while i < len(candidates):\n",
    "        u = candidates[i]\n",
    "        # Make sure the potential neighbors respect causality with a resolution equal to the timestamp\n",
    "        cand_index = sorted_edges.index(u)\n",
    "        potential_neighbors = set(sorted_edges[cand_index:])\n",
    "        if graph.is_directed():\n",
    "            neighbors = set(graph.successors(u)).union(set(graph.predecessors(u)))\n",
    "        else:\n",
    "            neighbors = set(graph.neighbors(u))\n",
    "        # Make sure the potential neighbors respect causality\n",
    "        non_neighbors = list(potential_neighbors - neighbors)\n",
    "        # The oldest node will have a neighborhood of Ø, so add a new candidate to the list in that case\n",
    "        if len(non_neighbors) == 0:\n",
    "            candidates.append(random.choice(graph.nodes()))\n",
    "        else:    \n",
    "            result_pairs.append((u, random.choice(non_neighbors)))\n",
    "        i += 1\n",
    "    return result_pairs\n",
    "        \n",
    "\n",
    "def k_fold_validate(G, k, experiment):\n",
    "    \"\"\"\n",
    "    K-fold validation of some specified function\n",
    "    \n",
    "    arguments:\n",
    "    G -- Graph to perform the function on\n",
    "    k -- number of folds\n",
    "    fun -- function to be evaluated\n",
    "    kwargs -- arguments to be passed to the evaluated function\n",
    "    \n",
    "    return:\n",
    "    List of lists of scored predictions\n",
    "    \"\"\"\n",
    "    results = []\n",
    "    validation_sets = []\n",
    "    edges = G.edges(data=True)\n",
    "    random.shuffle(edges)\n",
    "    # Find all edges that do not exist in the graph, but will return a high score\n",
    "    false_edges = experiment.valid_false_edges(G, G.nodes())\n",
    "    random.shuffle(false_edges)\n",
    "    M = len(false_edges)/k\n",
    "    # Find the number of true members in the validation set\n",
    "    N = len(edges)/k\n",
    "    for i in range(0,k):\n",
    "        validation_sets.append(edges[i*N:(i+1)*N] + false_edges[i*M:(i+1)*M])\n",
    "    for val_edges in validation_sets:\n",
    "        res = experiment.score_edges(val_edges, G)\n",
    "        # If not shuffled, subsequent sorting algorithms will always rank true edges higher than false edges when they have\n",
    "        # the same score\n",
    "        random.shuffle(res)\n",
    "        results.append(res)\n",
    "    return results\n",
    "\n",
    "def k_fold_nodes(G, k, experiment):\n",
    "    \"\"\"\n",
    "    Perform k-fold validation on the nodes of the graph.\n",
    "    This validation only tests relevant false edges, i.e. edges where we are fairly certain the score won't come out as 0.0\n",
    "    making it useful for precision / recall, but not for AUC. The true edges can still score 0.0\n",
    "    \"\"\"\n",
    "    results = []\n",
    "    nodes = G.nodes()\n",
    "    random.shuffle(nodes)\n",
    "    N = len(nodes)/k\n",
    "    validation_sets = []\n",
    "    for i in range(0, k):\n",
    "        validation_sets.append(nodes[i*N:(i+1)*N])\n",
    "    for true_nodes in validation_sets:\n",
    "        # Validation sets consist of all possible the edges in \n",
    "        val_edges = [(source, target, G[source][target]) for source in true_nodes for target in G[source].keys()]\n",
    "        val_set = set((source, target) for (source, target, _) in val_edges)\n",
    "        G_train = G.copy()\n",
    "        G_train.remove_edges_from(val_edges)\n",
    "        false_validation_edges = experiment.valid_false_edges(G, true_nodes)\n",
    "        false_validation_edges = [(x,y,data) for (x,y,data) in false_validation_edges if (x,y) not in val_set]\n",
    "        validation_set = val_edges + false_validation_edges\n",
    "        # If not shuffled, subsequent sorting algorithms will always rank true edges higher than false edges when they have\n",
    "        # the same score\n",
    "        random.shuffle(validation_set)        \n",
    "        results.append(experiment.score_edges(validation_set, G))\n",
    "    return results\n",
    "        \n",
    "def precision(G, results, L):\n",
    "    \"\"\"\n",
    "    Find the ratio of the true positives to trues\n",
    "    \n",
    "    arguments:\n",
    "    G -- graph the results are based on\n",
    "    results -- list of lists of scored predictions\n",
    "    L -- number of results to be considered\n",
    "    \n",
    "    return:\n",
    "    List of precisions for each set of results\n",
    "    \"\"\"\n",
    "    # Sort the results with descending scores\n",
    "    results = [sorted(result, key=lambda x: x[2]['score'], reverse=True) for result in results]\n",
    "    for res in results:\n",
    "        if L > len(res):\n",
    "            raise ArgumentError(\"L is larger than the number of results\")\n",
    "    edge_set = set(G.edges())\n",
    "    # True positives exist in both the edge set and the result set\n",
    "    true_positives = [[(edge[0],edge[1]) for edge in result[0:L] if (edge[0], edge[1]) in edge_set] for result in results]\n",
    "    return [1.0*len(trues)/L for trues in true_positives]\n",
    "\n",
    "def per_node_precision(G, results):\n",
    "    \"\"\"\n",
    "    results : dict\n",
    "        A dict of {node: [e1, e2, ... e_n]} where e is an edge of the form (source, target, {'n_edges': x, 'score': y}) where\n",
    "        n_edges number of edges the node had when the prediction was made.\n",
    "    \"\"\"\n",
    "    \n",
    "    m = 43\n",
    "    # Create a dict that all the edges sorted by score and grouped by n_edges and then node\n",
    "    s = {n: {k: [] for k in range(1,m+1)} for n in results.iterkeys()}\n",
    "    for node, node_res in results.iteritems():\n",
    "        # Sort the entire list of results\n",
    "        srt = sorted(node_res, key=lambda x: x[2]['score'], reverse=True)\n",
    "        for x,y,data in srt:\n",
    "            # Add each result to its proper bin\n",
    "            s[node][data['n_edges']].append((x,y,{'score': data['score']}))\n",
    "    precisions = {k: [] for k in range(1,m+1)}\n",
    "    edge_set = set(G.edges())\n",
    "    for node, node_res in s.iteritems():\n",
    "        n = G.out_degree(node)\n",
    "        for level, results in node_res.iteritems():\n",
    "            L = n-level\n",
    "            if len(results) == 0:\n",
    "                break\n",
    "            precisions[level].append(1.0*len([(edge[0],edge[1]) for edge in results[0:L] if (edge[0], edge[1]) in edge_set])/L)\n",
    "    return precisions\n",
    "    \n",
    "\n",
    "def precision2(G, results, L):\n",
    "    \"\"\"\n",
    "    Find the ratio of the true positives to trues\n",
    "    \n",
    "    arguments:\n",
    "    G -- graph the results are based on\n",
    "    results -- list of lists of scored predictions\n",
    "    L -- number of results to be considered\n",
    "    \n",
    "    return:\n",
    "    List of precisions for each set of results\n",
    "    \"\"\"\n",
    "    # Sort the results with descending scores\n",
    "    #results = heapq.nlargest(L, results, key=lambda x: x[2]['score'])\n",
    "    edge_set = set(G.edges())\n",
    "    # True positives exist in both the edge set and the result set\n",
    "    true_positives = [(edge[0],edge[1]) for edge in results if (edge[0], edge[1]) in edge_set]\n",
    "    return 1.0*len(true_positives)/L\n",
    "\n",
    "def AUC(G, results):\n",
    "    \"\"\"\n",
    "    Perform n trials where the score of a non-edge and an edge in the result is compared. Count the number of trials where\n",
    "    the edge had the higher score as n' and the number of times the score was equal as n'' and return the AUC as (n' + n'')/n.\n",
    "    \n",
    "    arguments:\n",
    "    G -- graph the results are based on\n",
    "    results -- list of lists of scored predictions\n",
    "    \n",
    "    return:\n",
    "    List of precisions for each set of results\n",
    "    \"\"\"\n",
    "    \n",
    "    edge_set = set(G.edges())\n",
    "    AUC = []\n",
    "    for result_set in results:\n",
    "        true_edges = []\n",
    "        false_edges = []\n",
    "        for (x,y,data) in result_set:\n",
    "            if (x,y) in edge_set:\n",
    "                true_edges.append((x,y,data))\n",
    "            else:\n",
    "                false_edges.append((x,y,data))\n",
    "        \n",
    "        random.shuffle(true_edges)\n",
    "        random.shuffle(false_edges)\n",
    "        n = len(true_edges)\n",
    "        n_better = 0.0\n",
    "        n_same = 0.0\n",
    "        for i in range(0, n):\n",
    "            if true_edges[i][2]['score'] > false_edges[i][2]['score']:\n",
    "                n_better += 1.0\n",
    "            if true_edges[i][2]['score'] == false_edges[i][2]['score']:\n",
    "                n_same += 1.0\n",
    "        AUC.append((n_better + 0.5*n_same)/n)\n",
    "    return AUC\n"
   ]
  },
  {
   "cell_type": "code",
   "execution_count": 5,
   "metadata": {
    "collapsed": false
   },
   "outputs": [
    {
     "name": "stdout",
     "output_type": "stream",
     "text": [
      "Wall time: 37.9 s\n"
     ]
    }
   ],
   "source": [
    "%time tc_results = k_fold_validate(GCC,5, TriadicCloseness())"
   ]
  },
  {
   "cell_type": "code",
   "execution_count": 6,
   "metadata": {
    "collapsed": false
   },
   "outputs": [
    {
     "name": "stdout",
     "output_type": "stream",
     "text": [
      "Wall time: 16.3 s\n"
     ]
    }
   ],
   "source": [
    "%time cn_results = k_fold_validate(GCC, 5, CommonNeighbors())"
   ]
  },
  {
   "cell_type": "code",
   "execution_count": 7,
   "metadata": {
    "collapsed": false
   },
   "outputs": [
    {
     "name": "stdout",
     "output_type": "stream",
     "text": [
      "Wall time: 4min 2s\n"
     ]
    }
   ],
   "source": [
    "%time cr_results = k_fold_validate(GCC, 5, CommonReferrers())"
   ]
  },
  {
   "cell_type": "code",
   "execution_count": 17,
   "metadata": {
    "collapsed": false
   },
   "outputs": [
    {
     "name": "stdout",
     "output_type": "stream",
     "text": [
      "Common referrers:\n",
      "0.0624685138539\n"
     ]
    }
   ],
   "source": [
    "print \"Common referrers:\"\n",
    "print sum(precision(GCC, cr_results, 8734))/5"
   ]
  },
  {
   "cell_type": "code",
   "execution_count": 9,
   "metadata": {
    "collapsed": false
   },
   "outputs": [
    {
     "name": "stdout",
     "output_type": "stream",
     "text": [
      "Common neighbors:\n",
      "0.576528509274\n"
     ]
    }
   ],
   "source": [
    "print \"Common neighbors:\"\n",
    "print sum(precision(GCC, cn_results, 8734))/5"
   ]
  },
  {
   "cell_type": "code",
   "execution_count": 10,
   "metadata": {
    "collapsed": false
   },
   "outputs": [
    {
     "name": "stdout",
     "output_type": "stream",
     "text": [
      "Triadic closeness:\n",
      "0.848042134188\n"
     ]
    }
   ],
   "source": [
    "print \"Triadic closeness:\"\n",
    "print sum(precision(GCC, tc_results, 8734))/5"
   ]
  },
  {
   "cell_type": "code",
   "execution_count": 11,
   "metadata": {
    "collapsed": false
   },
   "outputs": [],
   "source": [
    "def bub(G, experiment, m):\n",
    "    res = {}\n",
    "    H = G.copy()\n",
    "    to_be_evaluated = []\n",
    "    # Randomly sample n nodes from each degree bin\n",
    "    deg=nx.degree(G)\n",
    "    h = {}\n",
    "    for node, grp in deg.iteritems():\n",
    "        if not grp in h.keys():\n",
    "            h[grp] = []\n",
    "        h[grp].append(node)\n",
    "    for k, nodes in h.iteritems():\n",
    "        if len(nodes) > m and k > 1:\n",
    "            to_be_evaluated += random.sample(nodes, m)\n",
    "    for node in to_be_evaluated:\n",
    "        res[node] = []\n",
    "        e = G.edges(node, data=True)\n",
    "        n = len(e)\n",
    "        if n < 2:\n",
    "            continue\n",
    "        G.remove_edges_from(e[1:n-1])\n",
    "        for i in range(1,n):\n",
    "            to_be_scored = experiment.valid_false_edges(H, [node]) + e[i:n-1]\n",
    "            random.shuffle(to_be_scored)\n",
    "            scored_edges = experiment.score_edges(to_be_scored, G)\n",
    "            [edge[2].update({'n_edges': i}) for edge in scored_edges]\n",
    "            res[node] += scored_edges\n",
    "            #res[node][i] = scored_edges\n",
    "            G.add_edge(e[i][0], e[i][1])\n",
    "    return res"
   ]
  },
  {
   "cell_type": "code",
   "execution_count": 12,
   "metadata": {
    "collapsed": false
   },
   "outputs": [
    {
     "name": "stdout",
     "output_type": "stream",
     "text": [
      "Wall time: 37.2 s\n"
     ]
    }
   ],
   "source": [
    "%time tc = bub(GCC, TriadicCloseness(cache_distribution=True), 100)"
   ]
  },
  {
   "cell_type": "code",
   "execution_count": 13,
   "metadata": {
    "collapsed": false
   },
   "outputs": [
    {
     "name": "stdout",
     "output_type": "stream",
     "text": [
      "Wall time: 5min 13s\n"
     ]
    }
   ],
   "source": [
    "%time cr = bub(GCC, CommonReferrers(), 100)"
   ]
  },
  {
   "cell_type": "code",
   "execution_count": 14,
   "metadata": {
    "collapsed": false
   },
   "outputs": [
    {
     "name": "stdout",
     "output_type": "stream",
     "text": [
      "Wall time: 27.5 s\n"
     ]
    }
   ],
   "source": [
    "%time cn = bub(GCC, CommonNeighbors(), 100)"
   ]
  },
  {
   "cell_type": "code",
   "execution_count": 15,
   "metadata": {
    "collapsed": false
   },
   "outputs": [],
   "source": [
    "a = per_node_precision(GCC, cn)\n",
    "b = per_node_precision(GCC, cr)\n",
    "c = per_node_precision(GCC, tc)\n",
    "d = {k: sum(p)/len(p) for k,p in a.iteritems() if len(p) != 0}\n",
    "e = {k: sum(p)/len(p) for k,p in b.iteritems() if len(p) != 0}\n",
    "f = {k: sum(p)/len(p) for k,p in c.iteritems() if len(p) != 0}"
   ]
  },
  {
   "cell_type": "code",
   "execution_count": 16,
   "metadata": {
    "collapsed": false
   },
   "outputs": [
    {
     "data": {
      "text/plain": [
       "<matplotlib.legend.Legend at 0x10f0bff98>"
      ]
     },
     "execution_count": 16,
     "metadata": {},
     "output_type": "execute_result"
    },
    {
     "data": {
      "image/png": "[encoded data removed]",
      "text/plain": [
       "<matplotlib.figure.Figure at 0x2010efd0>"
      ]
     },
     "metadata": {},
     "output_type": "display_data"
    }
   ],
   "source": [
    "plt.plot(d.keys(), d.values(), d.keys(), e.values(), d.keys(), f.values())\n",
    "plt.legend(['d', 'e', 'f'])"
   ]
  },
  {
   "cell_type": "code",
   "execution_count": null,
   "metadata": {
    "collapsed": true
   },
   "outputs": [],
   "source": [
    "# test for precision()\n",
    "H = nx.DiGraph()\n",
    "H.add_nodes_from([1,2,3,4,5])\n",
    "H.add_edges_from([(1,2), (2,4), (3,5)])\n",
    "test_edges = ([(1,2,{'score': 2}), (2,3, {'score': 1}), (3,5, {'score': 0.5}), (4,5, {'score': 0.5})])\n",
    "assert precision(H, [test_edges], 1) == [1.0]\n",
    "assert precision(H, [test_edges], 2) == [0.5]\n",
    "assert precision(H, [test_edges], 4) == [0.5]"
   ]
  },
  {
   "cell_type": "code",
   "execution_count": 270,
   "metadata": {
    "collapsed": false
   },
   "outputs": [],
   "source": [
    "# Test for per_node_precision()\n",
    "H = nx.DiGraph()\n",
    "H.add_nodes_from([1,2,3,4,5,6,7])\n",
    "H.add_edges_from([(1,2), (1,5), (1,3), (2,4), (2,5), (2,3), (3,5), (3,4)])\n",
    "test_edges = {1: [(1,2,{'score': 2, 'n_edges': 1}), (1,6,{'score': 1, 'n_edges': 1}),\n",
    "                  (1,2,{'score': 2, 'n_edges': 2}), (1,6,{'score': 2, 'n_edges': 2})],\n",
    "              2: [(2,3,{'score': 2, 'n_edges': 1}), (2,4,{'score': 2, 'n_edges': 1}), (2,5,{'score': 1, 'n_edges': 1}),\n",
    "                  (2,3,{'score': 2, 'n_edges': 2})],\n",
    "              3: [(3,1,{'score': 2, 'n_edges': 1})]\n",
    "             }\n",
    "prec = per_node_precision(H, test_edges)\n",
    "assert prec[1] == [0.5, 1.0, 0.0]\n",
    "assert prec[2] == [1.0, 1.0]"
   ]
  },
  {
   "cell_type": "code",
   "execution_count": 278,
   "metadata": {
    "collapsed": false
   },
   "outputs": [],
   "source": [
    "# Test for triadic_distribution(), values taken from paper\n",
    "H = nx.DiGraph()\n",
    "H.add_nodes_from(['a', 'b', 'c', 'd', 'e', 'f', 'g', 'h'])\n",
    "H.add_edges_from([('a', 'b'), ('a', 'c'), ('a', 'd')])\n",
    "H.add_edges_from([('b', 'a'), ('b', 'c')])\n",
    "H.add_edges_from([('c', 'a'), ('c', 'b'), ('c', 'd')])\n",
    "H.add_edges_from([('d', 'e'), ('d', 'f')])\n",
    "H.add_edges_from([('e', 'f')])\n",
    "H.add_edges_from([('f', 'd'), ('f', 'e'), ('f', 'g'), ('f', 'h')])\n",
    "H.add_edges_from([('g', 'f')])\n",
    "H.add_edges_from([('h', 'f')])\n",
    "dist = triadic_distribution(H)\n",
    "assert dist.pop(1) == 10\n",
    "assert dist.pop(2) == 2\n",
    "assert dist.pop(3) == 2\n",
    "assert dist.pop(4) == 2\n",
    "assert dist.pop(5) == 2\n",
    "assert dist.pop(7) == 2\n",
    "assert dist.pop(8) == 2\n",
    "assert dist.pop(11) == 1\n",
    "assert dist.pop(12) == 2\n",
    "assert dist.pop(21) == 1\n",
    "assert dist.pop(27) == 2\n",
    "assert dist.pop(31) == 6\n",
    "assert dist.pop(32) == 1\n",
    "assert dist.pop(33) == 1\n",
    "assert dist.pop(35) == 1\n",
    "assert dist.pop(36) == 2\n",
    "assert dist.pop(37) == 1\n",
    "for v in dist.itervalues():\n",
    "    assert v == 0"
   ]
  },
  {
   "cell_type": "code",
   "execution_count": 292,
   "metadata": {
    "collapsed": false
   },
   "outputs": [],
   "source": [
    "# Test for CommonNeighbors.valid_false_edges()\n",
    "H = nx.DiGraph()\n",
    "H.add_nodes_from([(1, {'date': 7}), (2, {'date': 7}),(3, {'date': 7}),(4, {'date': 7}),\n",
    "                  (5, {'date': 7}),(6, {'date': 7}),(7, {'date': 7})])\n",
    "H.add_edges_from([(1,2, {'date': 7}), (1,5, {'date': 7}), (1,3, {'date': 7}), (2,4, {'date': 7}), (2,5, {'date': 7}), \n",
    "                  (2,3, {'date': 7}), (3,5, {'date': 7}), (3,4, {'date': 7})])\n",
    "fe = CommonNeighbors().valid_false_edges(H, H.nodes())\n",
    "for (x,y, data) in fe:\n",
    "    assert set(scoped_neighborhood(y,x,H)).intersection(set(scoped_neighborhood(x,x,H))) != set()\n",
    "assert {(x,y) for (x,y,data) in fe}.intersection(set(H.nodes())) == set()"
   ]
  },
  {
   "cell_type": "code",
   "execution_count": 294,
   "metadata": {
    "collapsed": true
   },
   "outputs": [],
   "source": [
    "# Test for TriadicCloseness.valid_false_edges()\n",
    "H = nx.DiGraph()\n",
    "H.add_nodes_from([(1, {'date': 7}), (2, {'date': 7}),(3, {'date': 7}),(4, {'date': 7}),\n",
    "                  (5, {'date': 7}),(6, {'date': 7}),(7, {'date': 7})])\n",
    "H.add_edges_from([(1,2, {'date': 7}), (1,5, {'date': 7}), (1,3, {'date': 7}), (2,4, {'date': 7}), (2,5, {'date': 7}), \n",
    "                  (2,3, {'date': 7}), (3,5, {'date': 7}), (3,4, {'date': 7})])\n",
    "fe = TriadicCloseness().valid_false_edges(H, H.nodes())\n",
    "for (x,y, data) in fe:\n",
    "    assert set(scoped_neighborhood(y,x,H)).intersection(set(scoped_neighborhood(x,x,H))) != set()\n",
    "assert {(x,y) for (x,y,data) in fe}.intersection(set(H.nodes())) == set()"
   ]
  },
  {
   "cell_type": "code",
   "execution_count": null,
   "metadata": {
    "collapsed": true
   },
   "outputs": [],
   "source": [
    "# Test for CommonReferrers.valid_false_edges()\n",
    "H = nx.DiGraph()\n",
    "H.add_nodes_from([(1, {'date': 7}), (2, {'date': 7}),(3, {'date': 7}),(4, {'date': 7}),\n",
    "                  (5, {'date': 7})])\n",
    "H.add_edges_from([(1,2, {'date': 7}), (1,5, {'date': 7}), (3,2, {'date': 7}), (3,4, {'date': 7}), (3,5, {'date': 7})])\n",
    "fe = CommonReferrers().valid_false_edges(H, H.nodes())\n",
    "for (x,y, data) in fe:\n",
    "    neighbors = successors_scoped(x,x,H)\n",
    "    referrers = predecessors_scoped(y,x,H)\n",
    "    z = set([ref for neighbor in neighbors for ref in predecessors_scoped(neighbor,x,H)]) - {x}\n",
    "    assert z & set(referrers) != set()\n",
    "assert {(x,y) for (x,y,data) in fe}.intersection(set(H.nodes())) == set()"
   ]
  },
  {
   "cell_type": "code",
   "execution_count": 369,
   "metadata": {
    "collapsed": false
   },
   "outputs": [
    {
     "data": {
      "text/plain": [
       "[(1, 2, {'date': 7, 'score': 1}),\n",
       " (1, 5, {'date': 7, 'score': 1}),\n",
       " (3, 2, {'date': 7, 'score': 1}),\n",
       " (3, 4, {'date': 7, 'score': 0}),\n",
       " (3, 5, {'date': 7, 'score': 1}),\n",
       " (5, 2, {'date': 7, 'score': 0}),\n",
       " (1, 4, {'date': 7, 'score': 1})]"
      ]
     },
     "execution_count": 369,
     "metadata": {},
     "output_type": "execute_result"
    }
   ],
   "source": [
    "# Test for CommonRefferers.score_edges()\n",
    "validation_set = H.edges(data=True) + [(5,2,{'date': 7}), (1,4,{'date': 7})]\n",
    "CommonReferrers().score_edges(validation_set, H)"
   ]
  },
  {
   "cell_type": "code",
   "execution_count": 361,
   "metadata": {
    "collapsed": false
   },
   "outputs": [],
   "source": [
    "x = 3\n",
    "y = 5\n",
    "successors_scoped(x, x, H)\n",
    "s = set()\n",
    "for m in successors_scoped(x,x,H):\n",
    "    s = s | set(predecessors_scoped(m,x,H))"
   ]
  },
  {
   "cell_type": "code",
   "execution_count": 367,
   "metadata": {
    "collapsed": false
   },
   "outputs": [
    {
     "data": {
      "text/plain": [
       "{1}"
      ]
     },
     "execution_count": 367,
     "metadata": {},
     "output_type": "execute_result"
    }
   ],
   "source": [
    "{n for m in successors_scoped(x, x, H) for n in predecessors_scoped(m, x, H)} - {x}"
   ]
  },
  {
   "cell_type": "code",
   "execution_count": 348,
   "metadata": {
    "collapsed": false
   },
   "outputs": [
    {
     "data": {
      "text/plain": [
       "{1}"
      ]
     },
     "execution_count": 348,
     "metadata": {},
     "output_type": "execute_result"
    }
   ],
   "source": [
    "{n for n in (set(predecessors_scoped(5,x,H)) - {x})}"
   ]
  },
  {
   "cell_type": "code",
   "execution_count": 298,
   "metadata": {
    "collapsed": false
   },
   "outputs": [
    {
     "data": {
      "text/plain": [
       "[(1, 4, {'date': 7})]"
      ]
     },
     "execution_count": 298,
     "metadata": {},
     "output_type": "execute_result"
    }
   ],
   "source": [
    "fe"
   ]
  },
  {
   "cell_type": "code",
   "execution_count": 239,
   "metadata": {
    "collapsed": true
   },
   "outputs": [],
   "source": [
    "true_positives = [[(edge[0],edge[1]) for edge in result[0:1] if (edge[0], edge[1]) in edge_set] for result in results]"
   ]
  },
  {
   "cell_type": "code",
   "execution_count": 249,
   "metadata": {
    "collapsed": false
   },
   "outputs": [
    {
     "data": {
      "text/plain": [
       "[1.0]"
      ]
     },
     "execution_count": 249,
     "metadata": {},
     "output_type": "execute_result"
    }
   ],
   "source": [
    "precision(H, [test_edges], 1)"
   ]
  },
  {
   "cell_type": "code",
   "execution_count": 142,
   "metadata": {
    "collapsed": false
   },
   "outputs": [],
   "source": [
    "m = 43\n",
    "s = {n: {k: [] for k in range(1,m+1)} for n in r.iterkeys()}\n",
    "for node, node_res in r.iteritems():\n",
    "    srt = sorted(node_res, key=lambda x: x[2]['score'], reverse=True)\n",
    "    for x,y,data in srt:\n",
    "        if not s[node][data['n_edges']]:\n",
    "            s[node][data['n_edges']] = []\n",
    "        s[node][data['n_edges']].append((x,y,{'score': data['score']}))"
   ]
  },
  {
   "cell_type": "code",
   "execution_count": 143,
   "metadata": {
    "collapsed": false
   },
   "outputs": [],
   "source": [
    "precisions = {k: [] for k in range(1,m+1)}\n",
    "edge_set = set(GCC.edges())\n",
    "for node, node_res in s.iteritems():\n",
    "    n = GCC.degree(node)\n",
    "    for level, results in node_res.iteritems():\n",
    "        L = n-level\n",
    "        if len(results) == 0:\n",
    "            break\n",
    "        precisions[level].append(1.0*len([(edge[0],edge[1]) for edge in results[0:L] if (edge[0], edge[1]) in edge_set])/L)\n"
   ]
  },
  {
   "cell_type": "code",
   "execution_count": 265,
   "metadata": {
    "collapsed": false
   },
   "outputs": [],
   "source": [
    "a = per_node_precision(GCC, cn)\n",
    "b = per_node_precision(GCC, cr)\n",
    "c = per_node_precision(GCC, tc)\n",
    "d = {k: sum(p)/len(p) for k,p in a.iteritems() if len(p) != 0}\n",
    "e = {k: sum(p)/len(p) for k,p in b.iteritems() if len(p) != 0}\n",
    "f = {k: sum(p)/len(p) for k,p in c.iteritems() if len(p) != 0}"
   ]
  },
  {
   "cell_type": "code",
   "execution_count": 266,
   "metadata": {
    "collapsed": false
   },
   "outputs": [
    {
     "data": {
      "text/plain": [
       "<matplotlib.legend.Legend at 0x9d135f98>"
      ]
     },
     "execution_count": 266,
     "metadata": {},
     "output_type": "execute_result"
    },
    {
     "data": {
      "image/png": "[encoded data removed]",
      "text/plain": [
       "<matplotlib.figure.Figure at 0x9d137e10>"
      ]
     },
     "metadata": {},
     "output_type": "display_data"
    }
   ],
   "source": [
    "plt.plot(d.keys(), d.values(), d.keys(), e.values(), d.keys(), f.values())\n",
    "plt.legend(['d', 'e', 'f'])"
   ]
  },
  {
   "cell_type": "markdown",
   "metadata": {},
   "source": [
    "To check whether my implementation of the triadic census is correct I'll verify it with the graph presented by Schall"
   ]
  },
  {
   "cell_type": "code",
   "execution_count": null,
   "metadata": {
    "collapsed": false
   },
   "outputs": [],
   "source": [
    "H = nx.DiGraph()\n",
    "H.add_nodes_from(['a', 'b', 'c', 'd', 'e', 'f', 'g', 'h'])\n",
    "H.add_edges_from([('a', 'b'), ('a', 'c'), ('a', 'd')])\n",
    "H.add_edges_from([('b', 'a'), ('b', 'c')])\n",
    "H.add_edges_from([('c', 'a'), ('c', 'b'), ('c', 'd')])\n",
    "H.add_edges_from([('d', 'e'), ('d', 'f')])\n",
    "H.add_edges_from([('e', 'f')])\n",
    "H.add_edges_from([('f', 'd'), ('f', 'e'), ('f', 'g'), ('f', 'h')])\n",
    "H.add_edges_from([('g', 'f')])\n",
    "H.add_edges_from([('h', 'f')])\n",
    "dist = triadic_distribution(H)\n",
    "filter(lambda x: x[1] != 0, sorted(dist.items(), key=lambda x: x[1], reverse=True))"
   ]
  },
  {
   "cell_type": "markdown",
   "metadata": {},
   "source": [
    "Seems like it matches!"
   ]
  },
  {
   "cell_type": "code",
   "execution_count": null,
   "metadata": {
    "collapsed": false
   },
   "outputs": [],
   "source": [
    "%time dist = triadic_distribution(GCC)"
   ]
  },
  {
   "cell_type": "code",
   "execution_count": null,
   "metadata": {
    "collapsed": false
   },
   "outputs": [],
   "source": [
    "H = nx.DiGraph()"
   ]
  },
  {
   "cell_type": "code",
   "execution_count": null,
   "metadata": {
    "collapsed": true
   },
   "outputs": [],
   "source": [
    "H.add_nodes_from([('a', {'date': 2}), ('b', {'date': 2}), ('c', {'date': 2}), ('d', {'date': 2}), ('e', {'date': 2})])"
   ]
  },
  {
   "cell_type": "code",
   "execution_count": null,
   "metadata": {
    "collapsed": false
   },
   "outputs": [],
   "source": [
    "%matplotlib inline\n",
    "H.add_edges_from([('a', 'b'), ('a', 'e'), ('a', 'c'), ('c','e'), ('c', 'b'), ('c', 'd'), ('e', 'd')])\n",
    "nx.draw(H, with_labels=True)"
   ]
  },
  {
   "cell_type": "code",
   "execution_count": null,
   "metadata": {
    "collapsed": false
   },
   "outputs": [],
   "source": [
    "AdamicAdar().score_edges([('a', 'c', {'date': 3})], H)"
   ]
  },
  {
   "cell_type": "code",
   "execution_count": null,
   "metadata": {
    "collapsed": false
   },
   "outputs": [],
   "source": [
    "AdamicAdar().valid_false_edges(H, ['e'])"
   ]
  },
  {
   "cell_type": "code",
   "execution_count": null,
   "metadata": {
    "collapsed": false
   },
   "outputs": [],
   "source": [
    "hh[1] = 10"
   ]
  },
  {
   "cell_type": "code",
   "execution_count": null,
   "metadata": {
    "collapsed": false
   },
   "outputs": [],
   "source": [
    "hh"
   ]
  },
  {
   "cell_type": "code",
   "execution_count": null,
   "metadata": {
    "collapsed": false
   },
   "outputs": [],
   "source": [
    "math.log(scoped_in_degree('e', 'a', H))"
   ]
  },
  {
   "cell_type": "code",
   "execution_count": null,
   "metadata": {
    "collapsed": false
   },
   "outputs": [],
   "source": [
    "u = H.nodes()[1]\n",
    "z = H.neighbors(u)[2]\n",
    "v = H.neighbors(z)[0]\n",
    "u_in = set(H.predecessors(u))\n",
    "v_in = set(H.predecessors(v))\n",
    "z_in = set(H.predecessors(z))\n",
    "u_out = set(H.successors(u))\n",
    "v_out = set(H.successors(v))\n",
    "z_out = set(H.successors(z))\n",
    "id = 0\n",
    "print u, z, v"
   ]
  },
  {
   "cell_type": "code",
   "execution_count": 216,
   "metadata": {
    "collapsed": false
   },
   "outputs": [],
   "source": [
    "fe=AdamicAdar().valid_false_edges(GCC, GCC.nodes())"
   ]
  },
  {
   "cell_type": "code",
   "execution_count": 217,
   "metadata": {
    "collapsed": false
   },
   "outputs": [
    {
     "data": {
      "text/plain": [
       "set()"
      ]
     },
     "execution_count": 217,
     "metadata": {},
     "output_type": "execute_result"
    }
   ],
   "source": [
    "{(x,y) for x,y,data in fe}.intersection(set(GCC.edges()))"
   ]
  },
  {
   "cell_type": "code",
   "execution_count": 219,
   "metadata": {
    "collapsed": false
   },
   "outputs": [
    {
     "data": {
      "text/plain": [
       "['AUC',\n",
       " 'AdamicAdar',\n",
       " 'Callable',\n",
       " 'CommonNeighbors',\n",
       " 'CommonReferrers',\n",
       " 'Container',\n",
       " 'Counter',\n",
       " 'G',\n",
       " 'GCC',\n",
       " 'Hashable',\n",
       " 'In',\n",
       " 'ItemsView',\n",
       " 'Iterable',\n",
       " 'Iterator',\n",
       " 'Jaccard',\n",
       " 'KeysView',\n",
       " 'L',\n",
       " 'LeichHolmeNewman',\n",
       " 'Mapping',\n",
       " 'MappingView',\n",
       " 'MutableMapping',\n",
       " 'MutableSequence',\n",
       " 'MutableSet',\n",
       " 'OrderedDict',\n",
       " 'Out',\n",
       " 'ResourceAllocation',\n",
       " 'Sequence',\n",
       " 'Set',\n",
       " 'Sized',\n",
       " 'TriadicCloseness',\n",
       " 'ValuesView',\n",
       " '_',\n",
       " '_10',\n",
       " '_113',\n",
       " '_126',\n",
       " '_127',\n",
       " '_131',\n",
       " '_132',\n",
       " '_134',\n",
       " '_135',\n",
       " '_136',\n",
       " '_14',\n",
       " '_140',\n",
       " '_145',\n",
       " '_150',\n",
       " '_151',\n",
       " '_155',\n",
       " '_160',\n",
       " '_161',\n",
       " '_162',\n",
       " '_164',\n",
       " '_166',\n",
       " '_169',\n",
       " '_174',\n",
       " '_175',\n",
       " '_177',\n",
       " '_191',\n",
       " '_20',\n",
       " '_206',\n",
       " '_207',\n",
       " '_211',\n",
       " '_213',\n",
       " '_215',\n",
       " '_217',\n",
       " '_22',\n",
       " '_23',\n",
       " '_26',\n",
       " '_27',\n",
       " '_28',\n",
       " '_42',\n",
       " '_49',\n",
       " '_64',\n",
       " '_69',\n",
       " '_7',\n",
       " '_70',\n",
       " '_71',\n",
       " '_72',\n",
       " '_73',\n",
       " '_75',\n",
       " '_77',\n",
       " '_78',\n",
       " '_8',\n",
       " '_86',\n",
       " '_9',\n",
       " '_95',\n",
       " '_96',\n",
       " '__',\n",
       " '___',\n",
       " '__builtin__',\n",
       " '__builtins__',\n",
       " '__doc__',\n",
       " '__name__',\n",
       " '__nonzero__',\n",
       " '__package__',\n",
       " '_dh',\n",
       " '_i',\n",
       " '_i1',\n",
       " '_i10',\n",
       " '_i100',\n",
       " '_i101',\n",
       " '_i102',\n",
       " '_i103',\n",
       " '_i104',\n",
       " '_i105',\n",
       " '_i106',\n",
       " '_i107',\n",
       " '_i108',\n",
       " '_i109',\n",
       " '_i11',\n",
       " '_i110',\n",
       " '_i111',\n",
       " '_i112',\n",
       " '_i113',\n",
       " '_i114',\n",
       " '_i115',\n",
       " '_i116',\n",
       " '_i117',\n",
       " '_i118',\n",
       " '_i119',\n",
       " '_i12',\n",
       " '_i120',\n",
       " '_i121',\n",
       " '_i122',\n",
       " '_i123',\n",
       " '_i124',\n",
       " '_i125',\n",
       " '_i126',\n",
       " '_i127',\n",
       " '_i128',\n",
       " '_i129',\n",
       " '_i13',\n",
       " '_i130',\n",
       " '_i131',\n",
       " '_i132',\n",
       " '_i133',\n",
       " '_i134',\n",
       " '_i135',\n",
       " '_i136',\n",
       " '_i137',\n",
       " '_i138',\n",
       " '_i139',\n",
       " '_i14',\n",
       " '_i140',\n",
       " '_i141',\n",
       " '_i142',\n",
       " '_i143',\n",
       " '_i144',\n",
       " '_i145',\n",
       " '_i146',\n",
       " '_i147',\n",
       " '_i148',\n",
       " '_i149',\n",
       " '_i15',\n",
       " '_i150',\n",
       " '_i151',\n",
       " '_i152',\n",
       " '_i153',\n",
       " '_i154',\n",
       " '_i155',\n",
       " '_i156',\n",
       " '_i157',\n",
       " '_i158',\n",
       " '_i159',\n",
       " '_i16',\n",
       " '_i160',\n",
       " '_i161',\n",
       " '_i162',\n",
       " '_i163',\n",
       " '_i164',\n",
       " '_i165',\n",
       " '_i166',\n",
       " '_i167',\n",
       " '_i168',\n",
       " '_i169',\n",
       " '_i17',\n",
       " '_i170',\n",
       " '_i171',\n",
       " '_i172',\n",
       " '_i173',\n",
       " '_i174',\n",
       " '_i175',\n",
       " '_i176',\n",
       " '_i177',\n",
       " '_i178',\n",
       " '_i179',\n",
       " '_i18',\n",
       " '_i180',\n",
       " '_i181',\n",
       " '_i182',\n",
       " '_i183',\n",
       " '_i184',\n",
       " '_i185',\n",
       " '_i186',\n",
       " '_i187',\n",
       " '_i188',\n",
       " '_i189',\n",
       " '_i19',\n",
       " '_i190',\n",
       " '_i191',\n",
       " '_i192',\n",
       " '_i193',\n",
       " '_i194',\n",
       " '_i195',\n",
       " '_i196',\n",
       " '_i197',\n",
       " '_i198',\n",
       " '_i199',\n",
       " '_i2',\n",
       " '_i20',\n",
       " '_i200',\n",
       " '_i201',\n",
       " '_i202',\n",
       " '_i203',\n",
       " '_i204',\n",
       " '_i205',\n",
       " '_i206',\n",
       " '_i207',\n",
       " '_i208',\n",
       " '_i209',\n",
       " '_i21',\n",
       " '_i210',\n",
       " '_i211',\n",
       " '_i212',\n",
       " '_i213',\n",
       " '_i214',\n",
       " '_i215',\n",
       " '_i216',\n",
       " '_i217',\n",
       " '_i218',\n",
       " '_i219',\n",
       " '_i22',\n",
       " '_i23',\n",
       " '_i24',\n",
       " '_i25',\n",
       " '_i26',\n",
       " '_i27',\n",
       " '_i28',\n",
       " '_i29',\n",
       " '_i3',\n",
       " '_i30',\n",
       " '_i31',\n",
       " '_i32',\n",
       " '_i33',\n",
       " '_i34',\n",
       " '_i35',\n",
       " '_i36',\n",
       " '_i37',\n",
       " '_i38',\n",
       " '_i39',\n",
       " '_i4',\n",
       " '_i40',\n",
       " '_i41',\n",
       " '_i42',\n",
       " '_i43',\n",
       " '_i44',\n",
       " '_i45',\n",
       " '_i46',\n",
       " '_i47',\n",
       " '_i48',\n",
       " '_i49',\n",
       " '_i5',\n",
       " '_i50',\n",
       " '_i51',\n",
       " '_i52',\n",
       " '_i53',\n",
       " '_i54',\n",
       " '_i55',\n",
       " '_i56',\n",
       " '_i57',\n",
       " '_i58',\n",
       " '_i59',\n",
       " '_i6',\n",
       " '_i60',\n",
       " '_i61',\n",
       " '_i62',\n",
       " '_i63',\n",
       " '_i64',\n",
       " '_i65',\n",
       " '_i66',\n",
       " '_i67',\n",
       " '_i68',\n",
       " '_i69',\n",
       " '_i7',\n",
       " '_i70',\n",
       " '_i71',\n",
       " '_i72',\n",
       " '_i73',\n",
       " '_i74',\n",
       " '_i75',\n",
       " '_i76',\n",
       " '_i77',\n",
       " '_i78',\n",
       " '_i79',\n",
       " '_i8',\n",
       " '_i80',\n",
       " '_i81',\n",
       " '_i82',\n",
       " '_i83',\n",
       " '_i84',\n",
       " '_i85',\n",
       " '_i86',\n",
       " '_i87',\n",
       " '_i88',\n",
       " '_i89',\n",
       " '_i9',\n",
       " '_i90',\n",
       " '_i91',\n",
       " '_i92',\n",
       " '_i93',\n",
       " '_i94',\n",
       " '_i95',\n",
       " '_i96',\n",
       " '_i97',\n",
       " '_i98',\n",
       " '_i99',\n",
       " '_ih',\n",
       " '_ii',\n",
       " '_iii',\n",
       " '_oh',\n",
       " '_sh',\n",
       " 'a',\n",
       " 'adamic_adar',\n",
       " 'all_courts',\n",
       " 'b',\n",
       " 'bub',\n",
       " 'c',\n",
       " 'chosen_court',\n",
       " 'cn',\n",
       " 'cn_results',\n",
       " 'common_neighbors',\n",
       " 'common_referrers',\n",
       " 'component',\n",
       " 'components',\n",
       " 'cr',\n",
       " 'cr_results',\n",
       " 'd',\n",
       " 'data',\n",
       " 'datetime',\n",
       " 'defaultdict',\n",
       " 'deque',\n",
       " 'e',\n",
       " 'edge',\n",
       " 'edge_date',\n",
       " 'edge_set',\n",
       " 'edges',\n",
       " 'exit',\n",
       " 'f',\n",
       " 'false_validation_edges',\n",
       " 'fe',\n",
       " 'get_closed_triads',\n",
       " 'get_common_neighbors',\n",
       " 'get_common_referrers',\n",
       " 'get_ipython',\n",
       " 'get_neighbor_union',\n",
       " 'get_triad',\n",
       " 'heapq',\n",
       " 'i',\n",
       " 'jaccard',\n",
       " 'k_fold_nodes',\n",
       " 'k_fold_validate',\n",
       " 'leicht_holme_newman',\n",
       " 'lengths',\n",
       " 'level',\n",
       " 'm',\n",
       " 'math',\n",
       " 'mp',\n",
       " 'n',\n",
       " 'n_results',\n",
       " 'namedtuple',\n",
       " 'neighbor',\n",
       " 'node',\n",
       " 'node_res',\n",
       " 'nodes',\n",
       " 'np',\n",
       " 'nx',\n",
       " 'pd',\n",
       " 'per_node_precision',\n",
       " 'pickle',\n",
       " 'plt',\n",
       " 'precision',\n",
       " 'precision2',\n",
       " 'precisions',\n",
       " 'predecessors_scoped',\n",
       " 'preferential_attachment',\n",
       " 'quit',\n",
       " 'r',\n",
       " 'random',\n",
       " 'resource_allocation',\n",
       " 'results',\n",
       " 's',\n",
       " 'scoped_in_degree',\n",
       " 'scoped_neighborhood',\n",
       " 'scoped_out_degree',\n",
       " 'source',\n",
       " 'source_nodes',\n",
       " 'sparse',\n",
       " 'splin',\n",
       " 'srt',\n",
       " 'successors_scoped',\n",
       " 'sys',\n",
       " 'target',\n",
       " 'tc',\n",
       " 'tc_results',\n",
       " 'triadic_closeness',\n",
       " 'triadic_distribution',\n",
       " 'v',\n",
       " 'valid_false_edges',\n",
       " 'valid_random_non_edges',\n",
       " 'x',\n",
       " 'y']"
      ]
     },
     "execution_count": 219,
     "metadata": {},
     "output_type": "execute_result"
    }
   ],
   "source": [
    "dir()"
   ]
  },
  {
   "cell_type": "code",
   "execution_count": 220,
   "metadata": {
    "collapsed": false
   },
   "outputs": [],
   "source": [
    "s = []"
   ]
  },
  {
   "cell_type": "code",
   "execution_count": 225,
   "metadata": {
    "collapsed": false
   },
   "outputs": [
    {
     "data": {
      "text/plain": [
       "3"
      ]
     },
     "execution_count": 225,
     "metadata": {},
     "output_type": "execute_result"
    }
   ],
   "source": []
  },
  {
   "cell_type": "code",
   "execution_count": null,
   "metadata": {
    "collapsed": false
   },
   "outputs": [],
   "source": [
    "get_triad('a', 'd', 'c', H)"
   ]
  },
  {
   "cell_type": "code",
   "execution_count": null,
   "metadata": {
    "collapsed": false
   },
   "outputs": [],
   "source": [
    "%time cr_results = k_fold_validate(GCC, 5, common_referrers)"
   ]
  },
  {
   "cell_type": "code",
   "execution_count": null,
   "metadata": {
    "collapsed": false
   },
   "outputs": [],
   "source": [
    "print \"CR:\"\n",
    "print sum(precision(GCC, cr_results, 50))/5\n",
    "print sum(AUC(GCC, cr_results))/5"
   ]
  },
  {
   "cell_type": "code",
   "execution_count": null,
   "metadata": {
    "collapsed": false
   },
   "outputs": [],
   "source": [
    "%time cn_results = k_fold_validate(GCC, 5, common_neighbors)"
   ]
  },
  {
   "cell_type": "code",
   "execution_count": null,
   "metadata": {
    "collapsed": false
   },
   "outputs": [],
   "source": [
    "print \"CR:\"\n",
    "print sum(precision(GCC, cn_results, 50))/5\n",
    "print sum(AUC(GCC, cn_results))/5"
   ]
  },
  {
   "cell_type": "code",
   "execution_count": null,
   "metadata": {
    "collapsed": false
   },
   "outputs": [],
   "source": [
    "%time nx.triadic_census(GCC)"
   ]
  },
  {
   "cell_type": "code",
   "execution_count": null,
   "metadata": {
    "collapsed": true
   },
   "outputs": [],
   "source": [
    "c = 0\n",
    "f = 0\n",
    "for node in GCC.nodes_iter():\n",
    "    for n in GCC.neighbors(node):\n",
    "        nei = GCC.neighbors(n)\n",
    "        if node in nei:\n",
    "            c+= 1\n",
    "            if GCC.node[node]['date'] != GCC.node[n]['date']:\n",
    "                f+=1\n"
   ]
  },
  {
   "cell_type": "code",
   "execution_count": null,
   "metadata": {
    "collapsed": false
   },
   "outputs": [],
   "source": [
    "n1 = GCC.nodes()[1234]\n",
    "n2 = GCC.nodes()[4321]"
   ]
  },
  {
   "cell_type": "code",
   "execution_count": null,
   "metadata": {
    "collapsed": true
   },
   "outputs": [],
   "source": [
    "s = set(GCC.predecessors(n1)) | set(GCC.successors(n1)) | set(GCC.predecessors(n2)) | set(GCC.successors(n2)) | set([n1, n2])"
   ]
  },
  {
   "cell_type": "code",
   "execution_count": null,
   "metadata": {
    "collapsed": false
   },
   "outputs": [],
   "source": [
    "n1"
   ]
  },
  {
   "cell_type": "code",
   "execution_count": null,
   "metadata": {
    "collapsed": false
   },
   "outputs": [],
   "source": [
    "    TRIAD_NAMES = range(1,10) + range(11, 20) + range(21,30)\n",
    "    census = {name: 0 for name in TRIAD_NAMES}\n"
   ]
  },
  {
   "cell_type": "code",
   "execution_count": null,
   "metadata": {
    "collapsed": false
   },
   "outputs": [],
   "source": [
    "census[1]"
   ]
  },
  {
   "cell_type": "code",
   "execution_count": null,
   "metadata": {
    "collapsed": true
   },
   "outputs": [],
   "source": [
    "H.add_edge(n1,n2)"
   ]
  },
  {
   "cell_type": "code",
   "execution_count": null,
   "metadata": {
    "collapsed": false
   },
   "outputs": [],
   "source": [
    "nx.triadic_census(H)"
   ]
  },
  {
   "cell_type": "code",
   "execution_count": null,
   "metadata": {
    "collapsed": false
   },
   "outputs": [],
   "source": [
    "GCC[n1]"
   ]
  },
  {
   "cell_type": "code",
   "execution_count": null,
   "metadata": {
    "collapsed": false
   },
   "outputs": [],
   "source": [
    "set(GCC.predecessors(n1)) | set(GCC.successors(n1))"
   ]
  },
  {
   "cell_type": "code",
   "execution_count": null,
   "metadata": {
    "collapsed": false
   },
   "outputs": [],
   "source": [
    "set(H.predecessors(n1)) | set(H.successors(n1))"
   ]
  },
  {
   "cell_type": "code",
   "execution_count": null,
   "metadata": {
    "collapsed": false
   },
   "outputs": [],
   "source": [
    "%pdb"
   ]
  },
  {
   "cell_type": "code",
   "execution_count": null,
   "metadata": {
    "collapsed": true
   },
   "outputs": [],
   "source": []
  }
 ],
 "metadata": {
  "kernelspec": {
   "display_name": "Python 2",
   "language": "python",
   "name": "python2"
  },
  "language_info": {
   "codemirror_mode": {
    "name": "ipython",
    "version": 2
   },
   "file_extension": ".py",
   "mimetype": "text/x-python",
   "name": "python",
   "nbconvert_exporter": "python",
   "pygments_lexer": "ipython2",
   "version": "2.7.11"
  }
 },
 "nbformat": 4,
 "nbformat_minor": 0
}
