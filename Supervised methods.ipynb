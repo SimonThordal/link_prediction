{
 "cells": [
  {
   "cell_type": "markdown",
   "metadata": {},
   "source": [
    "# Table of Contents\n",
    "* &nbsp;\n",
    "\t* [Preparing the data](#Preparing-the-data)\n",
    "\t\t* [Class imbalance and data set size](#Class-imbalance-and-data-set-size)\n",
    "* [Methods](#Methods)\n",
    "\t* [Topological features](#Topological-features)\n",
    "\t\t* [Local indexing](#Local-indexing)\n",
    "\t\t\t* [Common Neighbors (CN)](#Common-Neighbors-%28CN%29)\n",
    "\t\t\t* [Triadic Closeness (TC)](#Triadic-Closeness-%28TC%29)\n",
    "\t\t* [Global indexing](#Global-indexing)\n",
    "\t\t\t* [Shortest Path (SP)](#Shortest-Path-%28SP%29)\n",
    "\t\t* [Communities as features](#Communities-as-features)\n",
    "\t\t\t* [Katz indexing (KZI)](#Katz-indexing-%28KZI%29)\n",
    "\t\t\t* [Leicht, Holme, Newman (LHN2)](#Leicht,-Holme,-Newman-%28LHN2%29)\n",
    "\t\t\t* [Average Commute Time (ACM)](#Average-Commute-Time-%28ACM%29)\n",
    "\t\t* [Quasi global indexing](#Quasi-global-indexing)\n",
    "\t\t\t* [Common referrers](#Common-referrers)\n",
    "\t\t\t* [Local Path Indexing (LPI)](#Local-Path-Indexing-%28LPI%29)\n",
    "\t\t\t* [Local Random Walk (LRW)](#Local-Random-Walk-%28LRW%29)\n",
    "\t\t\t* [Superimposed Random Walk (SRW)](#Superimposed-Random-Walk-%28SRW%29)\n",
    "\t* [Node specific features](#Node-specific-features)\n",
    "\t\t* [Temporal features](#Temporal-features)\n",
    "\t\t\t* [Deprecating likelihoods](#Deprecating-likelihoods)\n",
    "\t\t\t* [Burstiness](#Burstiness)\n",
    "\t* [Predictive power of single features and feature correlation](#Predictive-power-of-single-features-and-feature-correlation)\n",
    "* [Supervised Methods](#Supervised-Methods)\n",
    "\t* [Feature selection](#Feature-selection)\n",
    "\t\t* [Logistic regression](#Logistic-regression)\n",
    "\t\t* [Parameter tuning and feature selection](#Parameter-tuning-and-feature-selection)\n",
    "\t\t* [Decision trees](#Decision-trees)\n",
    "\t* [Random Forests](#Random-Forests)\n",
    "\t\t* [Hyper-parameter tuning and feature selection](#Hyper-parameter-tuning-and-feature-selection)\n"
   ]
  },
  {
   "cell_type": "code",
   "execution_count": 1,
   "metadata": {
    "collapsed": false,
    "hide_input": true
   },
   "outputs": [
    {
     "data": {
      "text/html": [
       "#<script>\n",
       "#    var code_show=true; //true -> hide code at first\n",
       "#\n",
       "#    function code_toggle() {\n",
       "#        $('div.prompt').hide(); // always hide prompt#\n",
       "#\n",
       "#        if (code_show){\n",
       "#            $('div.input').hide();\n",
       "#        } else {\n",
       "#            $('div.input').show();\n",
       "#        }\n",
       "#        code_show = !code_show\n",
       "#    }\n",
       "#    $( document ).ready(code_toggle);\n",
       "#</script>"
      ],
      "text/plain": [
       "<IPython.core.display.HTML object>"
      ]
     },
     "metadata": {},
     "output_type": "display_data"
    }
   ],
   "source": [
    "%%html\n",
    "#<script>\n",
    "#    var code_show=true; //true -> hide code at first\n",
    "#\n",
    "#    function code_toggle() {\n",
    "#        $('div.prompt').hide(); // always hide prompt#\n",
    "#\n",
    "#        if (code_show){\n",
    "#            $('div.input').hide();\n",
    "#        } else {\n",
    "#            $('div.input').show();\n",
    "#        }\n",
    "#        code_show = !code_show\n",
    "#    }\n",
    "#    $( document ).ready(code_toggle);\n",
    "#</script>"
   ]
  },
  {
   "cell_type": "code",
   "execution_count": 2,
   "metadata": {
    "collapsed": false,
    "hide_input": true
   },
   "outputs": [
    {
     "data": {
      "text/html": [
       "<a href=\"javascript:code_toggle()\">[Toggle Code]</a>"
      ],
      "text/plain": [
       "<IPython.core.display.HTML object>"
      ]
     },
     "metadata": {},
     "output_type": "display_data"
    }
   ],
   "source": [
    "%%html\n",
    "<a href=\"javascript:code_toggle()\">[Toggle Code]</a>"
   ]
  },
  {
   "cell_type": "code",
   "execution_count": 1,
   "metadata": {
    "collapsed": false,
    "hide_input": false
   },
   "outputs": [
    {
     "name": "stdout",
     "output_type": "stream",
     "text": [
      "Wall time: 23.7 s\n"
     ]
    }
   ],
   "source": [
    "%%time\n",
    "import matplotlib.pyplot as plt\n",
    "%matplotlib inline\n",
    "import seaborn as sns\n",
    "from sys import getsizeof\n",
    "import numpy as np\n",
    "import random\n",
    "import math\n",
    "from os.path import isfile\n",
    "from sklearn.externals.six import StringIO\n",
    "import pydotplus\n",
    "import igraph as ig\n",
    "import re\n",
    "from sklearn.ensemble import RandomForestClassifier, GradientBoostingClassifier\n",
    "from sklearn.metrics import roc_curve, auc, precision_recall_curve, average_precision_score, make_scorer\n",
    "from sklearn.grid_search import GridSearchCV\n",
    "from sklearn.cross_validation import StratifiedKFold, train_test_split\n",
    "from sklearn.metrics import confusion_matrix\n",
    "from sklearn.metrics import classification_report\n",
    "from sklearn.feature_selection import RFECV, SelectFromModel\n",
    "from sklearn.ensemble import RandomForestClassifier\n",
    "from sklearn import tree\n",
    "from scipy.stats import binned_statistic\n",
    "from collections import *\n",
    "import cPickle as pickle\n",
    "import pandas as pd\n",
    "from sklearn.linear_model import LogisticRegression, LogisticRegressionCV\n",
    "from sklearn.feature_extraction.text import CountVectorizer, TfidfVectorizer\n",
    "from sklearn.metrics.pairwise import pairwise_distances\n",
    "from sklearn.svm import SVC, SVR\n",
    "from scipy.sparse import dok_matrix\n",
    "import MySQLdb as sql\n",
    "from sklearn.decomposition import PCA, FastICA\n",
    "from sklearn.pipeline import Pipeline\n",
    "from sklearn.grid_search import GridSearchCV\n",
    "db = sql.connect('localhost', 'root', 'root', 'enys')\n",
    "court = 'cjeu'"
   ]
  },
  {
   "cell_type": "code",
   "execution_count": 2,
   "metadata": {
    "collapsed": false,
    "hide_input": false
   },
   "outputs": [],
   "source": [
    "%run load_data.py\n",
    "GRAPH = 'cjeu'\n",
    "np.random.seed(42)\n",
    "random.seed(42)\n",
    "\n",
    "\n",
    "# Find the greatest connected component and work on that\n",
    "components = []\n",
    "lengths = []\n",
    "# Find the greatest component from the undirected version of the graph\n",
    "for component in nx.connected_component_subgraphs(nx.Graph(G)):\n",
    "    components.append(component)\n",
    "    lengths.append(len(component))\n",
    "# Find the GCC as the largest component and then recreate the directed graph\n",
    "GCC = components[lengths.index(max(lengths))]\n",
    "GCC = G.subgraph(GCC.nodes())\n",
    "components = None\n",
    "lengths = None\n",
    "G = None"
   ]
  },
  {
   "cell_type": "code",
   "execution_count": 3,
   "metadata": {
    "collapsed": false,
    "hide_input": false
   },
   "outputs": [],
   "source": [
    "def calc_bag_of_words(court, metric='cosine'):\n",
    "    \"\"\"\n",
    "    Perform bag-of-words vectorization on the full court dataset of size N and return its rowwise similarity\n",
    "    \n",
    "    argument:\n",
    "    metric -- sklearn supported distance measure\n",
    "    court -- what court to work on (cjeu or echr)\n",
    "    \n",
    "    returns:\n",
    "    name_to_col -- mapping from node name to column\n",
    "    col_to_name -- mapping from column to node name\n",
    "    X -- NxN matrix of similarites\n",
    "    \"\"\"\n",
    "    def clean_text(t):\n",
    "        pat = r'[^a-zA-Z\\s]'\n",
    "        t = re.sub(pat, '', t.lower())\n",
    "        t = \" \".join([w for w in t.split(\" \") if len(w) > 1])\n",
    "        return t\n",
    "    if isfile('pickles/{}_bow.pkl'.format(court)):\n",
    "        name_to_col, col_to_name, X = pickle.load(open('pickles/{}_bow.pkl'.format(court), 'rb'))\n",
    "    else:\n",
    "        count_vec = CountVectorizer()\n",
    "        crs = db.cursor()\n",
    "        crs.execute(\"\"\"SET GLOBAL max_allowed_packet=1073741824\"\"\")\n",
    "        crs.execute(\"\"\"SET SESSION group_concat_max_len=1073741824\"\"\")\n",
    "        # Query that returns string of entire paragraphs indexed by the case ID\n",
    "        query = \"\"\"SELECT {0}_cases.case_true_id, \n",
    "        GROUP_CONCAT({0}_paragraphs.paragraph_content) \n",
    "        FROM {0}_paragraphs \n",
    "        INNER JOIN {0}_cases ON {0}_paragraphs.case_id = {0}_cases.id\n",
    "        GROUP BY case_id\"\"\".format(court)\n",
    "        crs.execute(query)\n",
    "        data = zip(*crs.fetchall())\n",
    "        data = (data[0], map(clean_text, data[1]))\n",
    "        name_to_col = {d:i for i,d in enumerate(data[0])}\n",
    "        col_to_name = {i:d for i,d in enumerate(data[0])}\n",
    "        X = count_vec.fit_transform(data[1])\n",
    "        with open('pickles/{}_bow.pkl'.format(court), 'wb') as fl:\n",
    "            pickle.dump((name_to_col, col_to_name, X), fl)\n",
    "    return (name_to_col, col_to_name, 1.0-pairwise_distances(X, metric=metric))\n",
    "\n",
    "def get_bag_of_words(candidate_edges, G, court=GRAPH, metric='cosine'):\n",
    "    \"\"\"\n",
    "    Return bag of words cosine similarity\n",
    "    \"\"\"\n",
    "    results = []\n",
    "    name_to_col, col_to_name, X = calc_bag_of_words(court, metric)\n",
    "    for x,y,_ in candidate_edges:\n",
    "        try:\n",
    "            s = X[name_to_col[x], name_to_col[y]]\n",
    "        except KeyError:\n",
    "            s = 0.0\n",
    "        results.append((x,y,{'score': s}))\n",
    "    return results\n",
    "\n",
    "def calc_tf_idf(court, metric='cosine'):\n",
    "    \"\"\"\n",
    "    Perform tf-idf vectorization on the full court dataset of size N and return its rowwise similarity\n",
    "    \n",
    "    argument:\n",
    "    metric -- sklearn supported distance measure\n",
    "    court -- what court to work on (cjeu or echr)\n",
    "    \n",
    "    returns:\n",
    "    name_to_col -- mapping from node name to column\n",
    "    col_to_name -- mapping from column to node name\n",
    "    X -- NxN matrix of similarites\n",
    "    \"\"\"\n",
    "    def clean_text(t):\n",
    "        pat = r'[^a-zA-Z\\s]'\n",
    "        t = re.sub(pat, '', t.lower())\n",
    "        t = \" \".join([w for w in t.split(\" \") if len(w) > 1])\n",
    "        return t\n",
    "    if isfile('pickles/{}_tfidf.pkl'.format(court)):\n",
    "        name_to_col, col_to_name, X = pickle.load(open('pickles/{}_tfidf.pkl'.format(court), 'rb'))\n",
    "    else:\n",
    "        tf_idf_vec = TfidfVectorizer()\n",
    "        crs = db.cursor()\n",
    "        crs.execute(\"\"\"SET GLOBAL max_allowed_packet=1073741824\"\"\")\n",
    "        crs.execute(\"\"\"SET SESSION group_concat_max_len=1073741824\"\"\")\n",
    "        # Query that returns string of entire paragraphs indexed by the case ID\n",
    "        query = \"\"\"SELECT {0}_cases.case_true_id, \n",
    "        GROUP_CONCAT({0}_paragraphs.paragraph_content) \n",
    "        FROM {0}_paragraphs \n",
    "        INNER JOIN {0}_cases ON {0}_paragraphs.case_id = {0}_cases.id\n",
    "        GROUP BY case_id\"\"\".format(court)\n",
    "        crs.execute(query)\n",
    "        data = zip(*crs.fetchall())\n",
    "        data = (data[0], map(clean_text, data[1]))\n",
    "        name_to_col = {d:i for i,d in enumerate(data[0])}\n",
    "        col_to_name = {i:d for i,d in enumerate(data[0])}\n",
    "        X = tf_idf_vec.fit_transform(data[1])\n",
    "        with open('pickles/{}_tfidf.pkl'.format(court), 'wb') as fl:\n",
    "            pickle.dump((name_to_col, col_to_name, X), fl)\n",
    "    return (name_to_col, col_to_name, 1.0-pairwise_distances(X, metric=metric))\n",
    "\n",
    "def get_tf_idf(candidate_edges, G, court=GRAPH, metric='cosine'):\n",
    "    \"\"\"\n",
    "    Return bag of words cosine similarity\n",
    "    \"\"\"\n",
    "    results = []\n",
    "    name_to_col, col_to_name, X = calc_tf_idf(court, metric)\n",
    "    for x,y,_ in candidate_edges:\n",
    "        try:\n",
    "            s = X[name_to_col[x], name_to_col[y]]\n",
    "        except KeyError:\n",
    "            s = 0.0\n",
    "        results.append((x,y,{'score': s}))\n",
    "    return results\n",
    "    \n",
    "def successors_scoped(node, head, G):\n",
    "    \"\"\"\n",
    "    Return the successors of a node scoped to the time specified by the head node\n",
    "    \n",
    "    arguments:\n",
    "    node -- node to return successors for\n",
    "    head -- node containing the timestamp to scope the graph to\n",
    "    G -- graph containing the nodes\n",
    "    \"\"\"\n",
    "    max_time = G.node[head]['date']\n",
    "    return [n for n in G[node] if G.node[n]['date'] <= max_time]\n",
    "\n",
    "def predecessors_scoped(node, head, G):\n",
    "    \"\"\"\n",
    "    Return the predecessors of a node scoped to the time specified by the head node\n",
    "    \n",
    "    arguments:\n",
    "    node -- node to return predecessors for\n",
    "    head -- node containing the timestamp to scope the graph to\n",
    "    G -- graph containing the nodes\n",
    "    \"\"\"\n",
    "    max_time = G.node[head]['date']\n",
    "    return [n for n in G.pred[node] if G.node[n]['date'] <= max_time]\n",
    "\n",
    "def scoped_neighborhood(node, head_node, G):\n",
    "    \"\"\"\n",
    "    Return the neighborhood of a node at a given timestamp\n",
    "    \n",
    "    arguments:\n",
    "    node -- node to find the neighborhood for\n",
    "    head_node -- node containing the timestamp to filter the nodes by\n",
    "    G -- directed graph containing the node\n",
    "    \"\"\"\n",
    "    max_date = G.node[head_node]['date']\n",
    "    pre = predecessors_scoped(node, head_node, G)\n",
    "    suc = successors_scoped(node, head_node, G)\n",
    "    return list(set(pre).union(set(suc)))    \n",
    "    \n",
    "def scoped_out_degree(node, head_node, G):\n",
    "    \"\"\"\n",
    "    Return the degree of a node at a given timestamp\n",
    "    \n",
    "    arguments:\n",
    "    node -- node to return the degree for\n",
    "    head_node -- node containing the timestamp to filter the nodes by\n",
    "    G -- graph containing the nodes\n",
    "    \"\"\"\n",
    "    max_date = G.node[head_node]['date']\n",
    "    neighborhood = [n for n in G[node] if G.node[n]['date'] <= max_date]\n",
    "    return len(neighborhood)\n",
    "\n",
    "def scoped_in_degree(node, head_node, G):\n",
    "    \"\"\"\n",
    "    Return the degree of a node at a given timestamp\n",
    "    \n",
    "    arguments:\n",
    "    node -- node to return the degree for\n",
    "    head_node -- node containing the timestamp to filter the nodes by\n",
    "    G -- graph containing the nodes\n",
    "    \"\"\"\n",
    "    max_date = G.node[head_node]['date']\n",
    "    neighborhood = [n for n in G.pred[node] if G.node[n]['date'] <= max_date]\n",
    "    return len(neighborhood)\n",
    "\n",
    "def scoped_degree(node, head_node, G):\n",
    "    \"\"\"\n",
    "    Return the degree of a node at a given timestamop\n",
    "    \"\"\"\n",
    "    return len(scoped_neighborhood(node, head_node, G))\n",
    "\n",
    "def get_common_neighbors(x,y,G):\n",
    "    u = set(scoped_neighborhood(x,x,G))\n",
    "    v = set(scoped_neighborhood(y,x,G))\n",
    "    return u.intersection(v)\n",
    "\n",
    "def get_neighbor_union(x,y,G):\n",
    "    u = set(scoped_neighborhood(x,x,G))\n",
    "    v = set(scoped_neighborhood(y,x,G))\n",
    "    return u.union(v)\n",
    "\n",
    "def get_common_referrers(x,y,G):\n",
    "    common_referrers_source = {n for m in successors_scoped(x, x, G) for n in predecessors_scoped(m, x, G)} - {x}\n",
    "    referrers_to_target = set(predecessors_scoped(y,x,G))\n",
    "    return common_referrers_source.intersection(referrers_to_target)\n",
    "\n",
    "    \n",
    "def common_referrers(validation_set, G, weighting_scheme=None):\n",
    "    \"\"\"\n",
    "    For a given node pair x and y, return the number of nodes that both refer to a node that x also refers and refers to y\n",
    "    or f(y) intersection g(f(x)) where f returns the predeccessors of a node and g returns the successors\n",
    "    \n",
    "    arguments:\n",
    "    validation_set -- list of edges to score\n",
    "    G -- digraph containing the nodes in the edges of the validation set\n",
    "    \n",
    "    returns:\n",
    "    list of edges with score as an attribute\n",
    "    \"\"\"\n",
    " \n",
    "    results = []\n",
    "    for non_edge in validation_set:\n",
    "        x = non_edge[0]\n",
    "        y = non_edge[1]\n",
    "        connected = y in G[x]\n",
    "        if connected:\n",
    "            G.remove_edge(x,y)\n",
    "        cn = get_common_referrers(x,y,G)\n",
    "        if weighting_scheme and weighting_scheme.is_local():\n",
    "            weights = []\n",
    "            for z in cn:\n",
    "                weights.append(weighting_scheme.score(z, x, G) * 1.0)\n",
    "            s = sum(weights)\n",
    "        else:\n",
    "            s = len(cn)\n",
    "        if weighting_scheme and weighting_scheme.is_global():\n",
    "            s = s*weighting_scheme.score(x,y,G)\n",
    "        if len(non_edge) > 2:\n",
    "            non_edge[2]['score'] = s\n",
    "            results.append(non_edge)\n",
    "        else:\n",
    "            results.append(s)\n",
    "        if connected:\n",
    "            G.add_edge(x,y)\n",
    "    return results\n",
    "\n",
    "def common_neighbors(validation_set, G, weighting_scheme=None, recalculate=False):\n",
    "    \"\"\"\n",
    "    Perform common neighbors scoring on a list of edges, backed by the database\n",
    "    \n",
    "    arguments:\n",
    "    validation_set -- list of edges to score\n",
    "    G -- digraph containing the nodes in the edges of the validation set\n",
    "    recalculate -- Whether to load edges from the database or recalculate them all    \n",
    "    returns:\n",
    "    list of edges with score as an attribute\n",
    "    \"\"\"\n",
    "    results = []\n",
    "    for non_edge in validation_set:\n",
    "        x = non_edge[0]\n",
    "        y = non_edge[1]\n",
    "        cn = get_common_neighbors(x,y,GCC)\n",
    "        if weighting_scheme and weighting_scheme.is_local():\n",
    "            weights = []\n",
    "            for z in cn:\n",
    "                weights.append(weighting_scheme.score(z, x, GCC) * 1.0)\n",
    "            s = sum(weights)\n",
    "        else:\n",
    "            s = len(cn)\n",
    "        if weighting_scheme and weighting_scheme.is_global():\n",
    "            s = s*weighting_scheme.score(x,y,GCC)\n",
    "        non_edge[2]['score'] = s\n",
    "        results.append(non_edge)\n",
    "    return results\n",
    "\n",
    "class WeightingScheme():\n",
    "    \n",
    "    def is_global(self):\n",
    "        return self.weight_type == \"global\"\n",
    "    def is_local(self):\n",
    "        return self.weight_type == \"local\"\n",
    "        \n",
    "\n",
    "class Jaccard(WeightingScheme):\n",
    "    \n",
    "    def __init__(self):\n",
    "        self.weight_type = \"global\"\n",
    "    \n",
    "    def score(self,x,y,G):\n",
    "        \"\"\"\n",
    "        Perform jaccard scoring on a list of edges\n",
    "\n",
    "        arguments:\n",
    "        validation_set -- list of edges to score\n",
    "        G -- digraph containing the nodes in the edges of the validation set\n",
    "\n",
    "        returns:\n",
    "        list of edges with score as an attribute\n",
    "        \"\"\"\n",
    "        u = set(scoped_neighborhood(x,x,G))\n",
    "        v = set(scoped_neighborhood(y,x,G))\n",
    "        try:\n",
    "            s = 1.0*len(u & v)/len(u | v)\n",
    "        except:\n",
    "            s = 0.0\n",
    "        return s\n",
    "    \n",
    "class AdamicAdar(WeightingScheme):\n",
    "    \n",
    "    def __init__(self):\n",
    "        self.weight_type = 'local'\n",
    "        \n",
    "    def score(self, z, x, G):\n",
    "        \"\"\"\n",
    "        Return the AdamicAdar coefficient for a single neighbor z, scoped to the time of a node x\n",
    "        \n",
    "        arguments:\n",
    "        z -- node to return the AA coefficient for\n",
    "        x -- node that holds the timestamp to scope z to\n",
    "        G -- graph containing x and z\n",
    "        \"\"\"\n",
    "        deg = scoped_degree(z,x,G)\n",
    "        if deg > 1:\n",
    "            return 1.0/math.log(scoped_degree(z, x, G))\n",
    "        else:\n",
    "            return 0.0\n",
    "\n",
    "        \n",
    "class ResourceAllocation(WeightingScheme):\n",
    "    \n",
    "    def __init__(self):\n",
    "        self.weight_type = 'local'\n",
    "        \n",
    "    def score(self, z, x, G):\n",
    "        \"\"\"\n",
    "        Return the RA coefficient for a single neighbor z, scoped to the time of a node x\n",
    "        \n",
    "        arguments:\n",
    "        z -- node to return the AA coefficient for\n",
    "        x -- node that holds the timestamp to scope z to\n",
    "        G -- graph containing x and z\n",
    "        \"\"\"\n",
    "        deg = scoped_degree(z,x,G)\n",
    "        if deg > 1:\n",
    "            return 1.0/scoped_degree(z, x, G)\n",
    "        else:\n",
    "            return 0.0\n",
    "\n",
    "\n",
    "        \n",
    "class LeichtHolmeNewman(WeightingScheme):\n",
    "    \n",
    "    def __init__(self):\n",
    "        self.weight_type = 'global'\n",
    "        \n",
    "    def score(self, x, y, G):\n",
    "        \"\"\"\n",
    "        Return the RA coefficient for a single neighbor z, scoped to the time of a node x\n",
    "        \n",
    "        arguments:\n",
    "        z -- node to return the AA coefficient for\n",
    "        x -- node that holds the timestamp to scope z to\n",
    "        G -- graph containing x and z\n",
    "        \"\"\"\n",
    "        x_deg = scoped_degree(x,x,G)\n",
    "        y_deg = scoped_degree(y,x,G)\n",
    "        if x_deg > 0 and y_deg > 0:\n",
    "            return 1.0/x_deg*y_deg\n",
    "        else:\n",
    "            return 0.0\n",
    "\n",
    "class HubDepressed(WeightingScheme):\n",
    "    def __init__(self):\n",
    "        self.weight_type = 'local'\n",
    "\n",
    "    def score(self, x, y, G):\n",
    "        x_deg = scoped_degree(x,x,G)\n",
    "        y_deg = scoped_degree(y,x,G)\n",
    "        if x_deg != 0 and y_deg != 0:\n",
    "            return 1.0/min(x_deg, y_deg)\n",
    "        else:\n",
    "            return 0.0\n",
    "    \n",
    "class HubPromoted(WeightingScheme):\n",
    "    def __init__(self):\n",
    "        self.weight_type = 'global'\n",
    "\n",
    "    def score(self, x, y, G):\n",
    "        x_deg = scoped_degree(x,x,G)\n",
    "        y_deg = scoped_degree(y,x,G)\n",
    "        if x_deg != 0 or y_deg != 0:\n",
    "            return 1.0/max(x_deg, y_deg)\n",
    "        else:\n",
    "            return 0.0\n",
    "\n",
    "class Salton(WeightingScheme):\n",
    "    def __init__(self):\n",
    "        self.weight_type = 'global'\n",
    "\n",
    "\n",
    "    def score(self, x, y, G):\n",
    "        x_deg = scoped_degree(x,x,G)\n",
    "        y_deg = scoped_degree(y,x,G)\n",
    "        if x_deg != 0 and y_deg != 0:\n",
    "            return 1.0/math.sqrt(x_deg*y_deg)\n",
    "        else:\n",
    "            return 0.0\n",
    "\n",
    "def hub_depressed(validation_set, G):\n",
    "    \"\"\"\n",
    "    Find the hub promoted similarity of a single edge\n",
    "    \"\"\"\n",
    "    results = []\n",
    "    for non_edge in validation_set:\n",
    "        x = non_edge[0]\n",
    "        y = non_edge[1]\n",
    "        cn = get_common_neighbors(x,y,G)\n",
    "        if scoped_out_degree(x, x, G) != 0 and scoped_in_degree(y, x, G) != 0:\n",
    "            s = 1.0*len(cn)/min(scoped_out_degree(x, x, G),scoped_in_degree(y, x, G))\n",
    "        else:\n",
    "            s = 0.0\n",
    "        non_edge[2]['score'] = s\n",
    "        results.append(non_edge)\n",
    "    return results\n",
    "\n",
    "def hub_promoted(validation_set, G):\n",
    "    \"\"\"\n",
    "    Find the hub promoted similarity of a single edge\n",
    "    \"\"\"\n",
    "    results = []\n",
    "    for non_edge in validation_set:\n",
    "        x = non_edge[0]\n",
    "        y = non_edge[1]\n",
    "        cn = get_common_neighbors(x,y,G)\n",
    "        if scoped_out_degree(x, x, G) != 0 or scoped_in_degree(y, x, G) != 0:\n",
    "            s = 1.0*len(cn)/max(scoped_out_degree(x, x, G),scoped_in_degree(y, x, G))\n",
    "        else:\n",
    "            s = 0.0\n",
    "        non_edge[2]['score'] = s\n",
    "        results.append(non_edge)\n",
    "    return results\n",
    "\n",
    "def salton(validation_set, G):\n",
    "    \"\"\"\n",
    "    Find the salton similarity of a single edge\n",
    "    \"\"\"\n",
    "    results = []\n",
    "    for non_edge in validation_set:\n",
    "        x = non_edge[0]\n",
    "        y = non_edge[1]\n",
    "        cn = get_common_neighbors(x,y,G)\n",
    "        if scoped_out_degree(x, x, G) == 0 or scoped_in_degree(y, x, G) == 0:\n",
    "            s = 0.0\n",
    "        else:\n",
    "            s = 1.0*len(cn)/math.sqrt(scoped_out_degree(x, x, G)*scoped_in_degree(y, x, G))\n",
    "        non_edge[2]['score'] = s\n",
    "        results.append(non_edge)\n",
    "    return results\n",
    "\n",
    "def leicht_holme_newman(validation_set, G):\n",
    "    \"\"\"\n",
    "    Perform LHN1 scoring on a single edge\n",
    "    \n",
    "    arguments:\n",
    "    non_edge -- edge tuple specified by node endpoints\n",
    "    G -- graph containing the nodes in the edge\n",
    "    \n",
    "    return:\n",
    "    edges with the score as an attribute\n",
    "    \"\"\"\n",
    "    results = []\n",
    "    for non_edge in validation_set:\n",
    "        x = non_edge[0]\n",
    "        y = non_edge[1]\n",
    "        cn = get_common_neighbors(x,y,G)\n",
    "        if scoped_out_degree(x, x, G) == 0 or scoped_in_degree(y, x, G) == 0:\n",
    "            s = 0.0\n",
    "        else:\n",
    "            s = 1.0*len(cn)/(scoped_out_degree(x, x, G)*scoped_in_degree(y, x, G))\n",
    "        non_edge[2]['score'] = s\n",
    "        results.append(non_edge)\n",
    "    return results\n",
    "\n",
    "def adamic_adar(validation_set, G):\n",
    "    \"\"\"\n",
    "    Perform jaccard scoring on a list of edges\n",
    "    \n",
    "    arguments:\n",
    "    validation_set -- list of edges to score\n",
    "    G -- digraph containing the nodes in the edges of the validation set\n",
    "    \n",
    "    returns:\n",
    "    list of edges with score as an attribute\n",
    "    \"\"\"\n",
    "    results = []\n",
    "    for non_edge in validation_set:\n",
    "        x = non_edge[0]\n",
    "        y = non_edge[1]\n",
    "        neighbors = get_common_neighbors(x,y,G)\n",
    "        s = 1*sum([1.0/math.log(scoped_degree(node, x, G)) for node in neighbors if scoped_degree(node, x, G) > 1])\n",
    "        non_edge[2]['score'] = s\n",
    "        results.append(non_edge)\n",
    "    return results\n",
    "\n",
    "def resource_allocation(validation_set, G):\n",
    "    \"\"\"\n",
    "    Perform resource allocation scoring on a list of edges\n",
    "    \n",
    "    arguments:\n",
    "    validation_set -- list of edges to score\n",
    "    G -- digraph containing the nodes in the edges of the validation set\n",
    "    \n",
    "    returns:\n",
    "    list of edges with score as an attribute\n",
    "    \"\"\"\n",
    "    results = []\n",
    "    for non_edge in validation_set:\n",
    "        x = non_edge[0]\n",
    "        y = non_edge[1]\n",
    "        neighbors = get_common_neighbors(x,y,G)\n",
    "        s = sum([1.0/scoped_degree(node, x, G) for node in neighbors if scoped_degree(node, x, G) > 1])\n",
    "        non_edge[2]['score'] = s\n",
    "        results.append(non_edge)\n",
    "    return results\n",
    "\n",
    "\n",
    "def preferential_attachment(validation_set, G):\n",
    "    \"\"\"\n",
    "    Perform preferential attachment scoring on a list of edges\n",
    "    \n",
    "    arguments:\n",
    "    validation_set -- list of edges to score\n",
    "    G -- digraph containing the nodes in the edges of the validation set\n",
    "    \n",
    "    returns:\n",
    "    list of edges with score as an attribute\n",
    "    \"\"\"\n",
    "\n",
    "    results = []\n",
    "    for non_edge in validation_set:\n",
    "        x = non_edge[0]\n",
    "        y = non_edge[1]\n",
    "        s = scoped_out_degree(x,x,G)*scoped_in_degree(y,x,G)\n",
    "        non_edge[2]['score'] = s\n",
    "        results.append(non_edge)\n",
    "    return results\n",
    "\n",
    "def triadic_closeness(validation_set, G, census=None, weighting_scheme=None):\n",
    "    \n",
    "    results = []\n",
    "    if census == None:\n",
    "        census = triadic_distribution(G)\n",
    "    for non_edge in validation_set:\n",
    "        \n",
    "        x = non_edge[0]\n",
    "        y = non_edge[1]\n",
    "        connected = y in G[x]\n",
    "        if connected:\n",
    "            G.remove_edge(x,y)\n",
    "        u = set(scoped_neighborhood(x,x,G))\n",
    "        v = set(scoped_neighborhood(y,x,G))\n",
    "        cn = u.intersection(v)\n",
    "        t_score = []\n",
    "        for z in cn:\n",
    "            triad = get_triad(x,z,y,G)\n",
    "            if census[triad] == 0:\n",
    "                continue\n",
    "            try:\n",
    "                F2 = census[triad+30]\n",
    "            except KeyError:\n",
    "                F2 = 0.0\n",
    "            try:\n",
    "                F1 = census[triad+10]\n",
    "            except KeyError:\n",
    "                F1 = 0.0\n",
    "            \n",
    "            # Add in any weighting schemes that work on the individual nodes in the common neighborhood\n",
    "            if weighting_scheme and weighting_scheme.is_local():\n",
    "                score = weighting_scheme.score(z, x, GCC)*(1.0*F1 + F2)/census[triad]\n",
    "            else:\n",
    "                score = (1.0*F1 + F2)/census[triad]\n",
    "            \n",
    "            t_score.append(score)\n",
    "        s = sum(t_score)\n",
    "        if weighting_scheme and weighting_scheme.is_global():\n",
    "            s = s*weighting_scheme.score(x, y, G)\n",
    "        if len(non_edge) > 2:\n",
    "            non_edge[2]['score'] = s\n",
    "            results.append(non_edge)\n",
    "        else:\n",
    "            results.append(s)\n",
    "        if connected:\n",
    "            G.add_edge(x,y)\n",
    "    return results\n",
    "\n",
    "def triadic_distribution(G):\n",
    "    \"\"\"\n",
    "    Return the distribution of closed triad configurations for a graph\n",
    "    The distribution is labelled as in the paper by Schall\n",
    "    http://link.springer.com.proxy.findit.dtu.dk/article/10.1007/s13278-014-0157-9\n",
    "    \n",
    "    arguments:\n",
    "    G -- directed graph\n",
    "    \n",
    "    returns:\n",
    "    Dict of labels with counts\n",
    "    \"\"\"\n",
    "    \n",
    "    # Integer labels as presented in the paper\n",
    "    TRIAD_NAMES = range(1,10) + range(11, 20) + range(21,30) + range (31, 40)\n",
    "    census = {name: 0 for name in TRIAD_NAMES}\n",
    "    for u in G.nodes_iter():\n",
    "        u_neighbors = list(set(G.successors(u)) | set(G.predecessors(u)))\n",
    "        for z in u_neighbors:\n",
    "            z_neighbors = list((set(G.successors(z)) | set(G.predecessors(z))) - {u} )\n",
    "            for v in z_neighbors:\n",
    "                name = get_triad(u,z,v, G)\n",
    "                census[name] += 1\n",
    "    return census\n",
    "\n",
    "\n",
    "def get_triad(u,z,v,G):\n",
    "    \"\"\"\n",
    "    Return the triad created by the nodes u,v and z\n",
    "    This implementation is quite probably awful.\n",
    "    \n",
    "    parameters:\n",
    "    \n",
    "    u -- starting node\n",
    "    z -- connecting node\n",
    "    v -- ending node\n",
    "    G -- DiGraph containing the nodes\n",
    "    \n",
    "    returns:\n",
    "    Dict containing closed triad counts\n",
    "    \"\"\"\n",
    "    \n",
    "    u_out = G[u]\n",
    "    v_out = G[v]\n",
    "    z_out = G[z]\n",
    "    id = 0\n",
    "    \n",
    "    if v in u_out and u in v_out:\n",
    "        id = 30\n",
    "    elif u in v_out:\n",
    "        id = 20\n",
    "    elif v in u_out:\n",
    "        id = 10\n",
    "    \n",
    "    if u in z_out and z not in u_out:\n",
    "        id += 7\n",
    "        if v in z_out and z not in v_out:\n",
    "            return id + 2\n",
    "        elif z in v_out and v not in z_out:\n",
    "            return id + 1\n",
    "        elif z in v_out and v in z_out:\n",
    "            return id\n",
    "        raise Exception(\"Error in finding triad\")\n",
    "    elif z in v_out and v not in z_out:\n",
    "        id += 5\n",
    "        if z in u_out and u not in z_out:\n",
    "            return id + 1\n",
    "        elif z in u_out and u in z_out:\n",
    "            return id\n",
    "        raise Exception(\"Error in finding triad\")\n",
    "    elif z in u_out and u not in z_out:\n",
    "        id += 3\n",
    "        if v in z_out and z not in v_out:\n",
    "            return id + 1\n",
    "        if v in z_out and z in v_out:\n",
    "            return id\n",
    "        raise Exception(\"Error in finding triad\")\n",
    "    elif z in u_out and u in z_out:\n",
    "        if v in z_out and z not in v_out:\n",
    "            return id + 2\n",
    "        elif v in z_out and z in v_out:\n",
    "            return id + 1\n",
    "    \n",
    "    raise Exception(\"No triad found\")\n",
    "        \n",
    "\n",
    "def get_closed_triads(x, y, G):\n",
    "    \"\"\"\n",
    "    Return the closed triads generated by adding a link from x to y.\n",
    "    Triads are classified according to the triadic_census algorithm of NetworkX based on \n",
    "    http://vlado.fmf.uni-lj.si/pub/networks/doc/triads/triads.pdf\n",
    "    \"\"\"\n",
    "    \n",
    "    # Taken directly from nx.triadic_census source\n",
    "    TRIAD_NAMES = ('003', '012', '102', '021D', '021U', '021C', '111D', '111U',\n",
    "                   '030T', '030C', '201', '120D', '120U', '120C', '210', '300')\n",
    "    census = {name: 0 for name in TRIAD_NAMES}\n",
    "    \n",
    "    x_in = set(G.predecessors(x))\n",
    "    y_in = set(G.predecessors(y))\n",
    "    x_out = set(G.successors(x))\n",
    "    y_out = set(G.successors(y))\n",
    "    \n",
    "    for node in x_in | y_in | x_out | y_out:\n",
    "        # y refers to a node that refers to x\n",
    "        if node in x_in and node in y_out:\n",
    "            census['030C'] += 1\n",
    "        # y is being referred to by a node that refers to x\n",
    "        if node in x_in and node in y_in:\n",
    "            census['030T'] += 1\n",
    "        # x refers to a node that refers to y\n",
    "        if node in x_out and node in y_in:\n",
    "            census['030T'] += 1\n",
    "        # x refers to a node that y refers to\n",
    "        if node in x_out and node in y_out:\n",
    "            census['030T'] += 1\n",
    "\n",
    "def time_difference(candidate_edges, G):\n",
    "    \"\"\"\n",
    "    Return the time difference for a set of edges\n",
    "    \"\"\"\n",
    "\n",
    "    results = []\n",
    "    \n",
    "    results = [(x,y, {'score': int((G.node[x]['date'] - G.node[y]['date']).days)}) for x,y,_ in candidate_edges]\n",
    "    return results\n",
    "\n",
    "def shortest_dag_path(candidate_edges, G):\n",
    "    results = []\n",
    "    longest_possible_path = len(G.nodes())\n",
    "    H = nx.Graph(G)\n",
    "    for x,y,_ in candidate_edges:\n",
    "        connected = y in G[x].keys()\n",
    "        if connected:\n",
    "            H.remove_edge(x,y)\n",
    "        try:\n",
    "            results.append((x,y,{'score': nx.shortest_path_length(H,x,y)}))\n",
    "        except:\n",
    "            results.append((x,y, {'score': longest_possible_path}))\n",
    "        if connected:\n",
    "            H.add_edge(x,y)\n",
    "    return results\n",
    "        \n",
    "class CommonNeighbors():\n",
    "    \"\"\"\n",
    "    An experiment that scores a list of edges based on the number of common neighbors between the source and the target node\n",
    "    \"\"\"\n",
    "    \n",
    "    def __init__(self, weighting_scheme=None):\n",
    "        self.weighting_scheme = weighting_scheme\n",
    "        \n",
    "    def valid_false_edges(self, G, source_nodes):\n",
    "        \"\"\"\n",
    "        Returns a list of edges that do not exist in G and will score highly on the common neighbors index\n",
    "        \n",
    "        Parameters\n",
    "        ----------\n",
    "        G: networkX.Graph\n",
    "            Graph to perform experiment on\n",
    "        source_nodes: list of tuples\n",
    "            Nodes containing the true edges to be scored\n",
    "        \"\"\"\n",
    "        false_validation_edges = [(source, target) for source in source_nodes\n",
    "                   for neighbor in G[source].keys()\n",
    "                   for target in set(scoped_neighborhood(neighbor, source, G)) - {source} if target not in G[source].keys()]\n",
    "        \n",
    "        false_validation_edges = list(set(false_validation_edges))\n",
    "        for i in range(len(false_validation_edges)):\n",
    "            edge = false_validation_edges[i]\n",
    "            # Add date information to the non-edge\n",
    "            false_validation_edges[i] = edge + ({'date': G.node[edge[0]]['date']},)\n",
    "        \n",
    "        return false_validation_edges\n",
    "        \n",
    "    def score_edges(self, edges, G):\n",
    "        return common_neighbors(edges, G, self.weighting_scheme)\n",
    "    \n",
    "class TriadicCloseness(CommonNeighbors):\n",
    "    \n",
    "    def __init__(self, cache_distribution=False, weighting_scheme=None):\n",
    "        self.cache_distribution = cache_distribution\n",
    "        self.census = None\n",
    "        self.weighting_scheme=weighting_scheme\n",
    "    \n",
    "    def score_edges(self, edges, G):\n",
    "        \n",
    "        if self.cache_distribution == True and self.census == None:\n",
    "            self.census = triadic_distribution(G)\n",
    "            return triadic_closeness(edges, G, self.census, self.weighting_scheme)\n",
    "        else:\n",
    "            return triadic_closeness(edges, G, self.census, self.weighting_scheme)\n",
    "    \n",
    "class CommonReferrers():\n",
    "    \n",
    "    def __init__(self, weighting_scheme=None):\n",
    "        self.weighting_scheme = weighting_scheme\n",
    "    \n",
    "    def valid_false_edges(self, G, source_nodes):\n",
    "        \"\"\"\n",
    "        Returns a list of edges that do not exist in G and will score highly on the common referrers index\n",
    "        \n",
    "        Parameters\n",
    "        ----------\n",
    "        G: networkX.Graph\n",
    "            Graph to perform experiment on\n",
    "        source_nodes: list of tuples\n",
    "            Nodes containing the true edges to be scored\n",
    "        \"\"\"\n",
    "        non_edges = []\n",
    "        for source in source_nodes:\n",
    "            neighbors = G[source].keys()\n",
    "            corefs = set()\n",
    "            for neighbor in neighbors:\n",
    "                corefs = corefs | {c for c in predecessors_scoped(neighbor, source, G)}\n",
    "            [non_edges.append((source, referee)) for coref in (corefs - {source}) \n",
    "                                                 for referee in set(successors_scoped(coref, source, G)) - set(neighbors)]\n",
    "            \n",
    "        for i in range(len(non_edges)):\n",
    "            edge = non_edges[i]\n",
    "            # Add date information to the non-edge\n",
    "            non_edges[i] = edge + ({'date': G.node[edge[0]]['date']},)\n",
    "        \n",
    "        return non_edges\n",
    "    \n",
    "    def score_edges(self, edges, G):\n",
    "        return common_referrers(edges, G, self.weighting_scheme)\n",
    "            \n",
    "                \n",
    "def valid_random_non_edges(graph, n):\n",
    "    \"\"\"\n",
    "    Returns randomized, non-existent links between nodes in the graph that are guaranteed to observe causality.\n",
    "\n",
    "    Parameters\n",
    "    ----------\n",
    "    graph : NetworkX graph.\n",
    "        Graph to find non-existent edges.\n",
    "    n : integer\n",
    "        Number of non-existent edges to find\n",
    "\n",
    "    Returns\n",
    "    -------\n",
    "    non_edges : list\n",
    "        List of n edges that are not in the graph.\n",
    "    \"\"\"\n",
    "    result_pairs = {}\n",
    "    # Sort edges according to age\n",
    "    sorted_edges =[node for node, data in sorted(graph.nodes(data=True), key=lambda x: x[1]['date'], reverse=True)]\n",
    "    node_set = set(graph.nodes())\n",
    "    candidates = list(np.random.choice(sorted_edges, n, replace=True))\n",
    "    i = 0\n",
    "    while i < len(candidates):\n",
    "        u = candidates[i]\n",
    "        if not u in result_pairs.keys():\n",
    "            result_pairs[u] = []\n",
    "            \n",
    "        # Make sure the potential neighbors respect causality with a resolution equal to the timestamp\n",
    "        cand_index = sorted_edges.index(u)\n",
    "        potential_neighbors = set(sorted_edges[cand_index:])\n",
    "        if graph.is_directed():\n",
    "            neighbors = set(graph.successors(u)).union(set(graph.predecessors(u)))\n",
    "        else:\n",
    "            neighbors = set(graph.neighbors(u))\n",
    "        # Make sure the potential neighbors respect causality\n",
    "        non_neighbors = list(potential_neighbors - neighbors - set(result_pairs[u]))\n",
    "        # The oldest node will have a neighborhood of Ø, so add a new candidate to the list in that case\n",
    "        if len(non_neighbors) == 0:\n",
    "            candidates.append(random.choice(graph.nodes()))\n",
    "        else:    \n",
    "            result_pairs[u].append(random.choice(non_neighbors))\n",
    "        i += 1\n",
    "    \n",
    "    return [(k,v) for k, arr in result_pairs.iteritems() for v in arr]\n",
    "        \n",
    "\n",
    "def k_fold_validate(G, k, experiment):\n",
    "    \"\"\"\n",
    "    K-fold validation of some specified function\n",
    "    \n",
    "    arguments:\n",
    "    G -- Graph to perform the function on\n",
    "    k -- number of folds\n",
    "    fun -- function to be evaluated\n",
    "    kwargs -- arguments to be passed to the evaluated function\n",
    "    \n",
    "    return:\n",
    "    List of lists of scored predictions\n",
    "    \"\"\"\n",
    "    results = []\n",
    "    validation_sets = []\n",
    "    edges = G.edges(data=True)\n",
    "    random.shuffle(edges)\n",
    "    # Find all edges that do not exist in the graph, but will return a high score\n",
    "    false_edges = experiment.valid_false_edges(G, G.nodes())\n",
    "    random.shuffle(false_edges)\n",
    "    M = len(false_edges)/k\n",
    "    # Find the number of true members in the validation set\n",
    "    N = len(edges)/k\n",
    "    for i in range(0,k):\n",
    "        validation_sets.append(edges[i*N:(i+1)*N] + false_edges[i*M:(i+1)*M])\n",
    "    for val_edges in validation_sets:\n",
    "        res = experiment.score_edges(val_edges, G)\n",
    "        # If not shuffled, subsequent sorting algorithms will always rank true edges higher than false edges when they have\n",
    "        # the same score\n",
    "        random.shuffle(res)\n",
    "        results.append(res)\n",
    "    return results\n",
    "\n",
    "def k_fold_nodes(G, k, experiment):\n",
    "    \"\"\"\n",
    "    Perform k-fold validation on the nodes of the graph.\n",
    "    This validation only tests relevant false edges, i.e. edges where we are fairly certain the score won't come out as 0.0\n",
    "    making it useful for precision / recall, but not for AUC. The true edges can still score 0.0\n",
    "    \"\"\"\n",
    "    results = []\n",
    "    nodes = G.nodes()\n",
    "    random.shuffle(nodes)\n",
    "    N = len(nodes)/k\n",
    "    validation_sets = []\n",
    "    for i in range(0, k):\n",
    "        validation_sets.append(nodes[i*N:(i+1)*N])\n",
    "    for true_nodes in validation_sets:\n",
    "        # Validation sets consist of all possible the edges in \n",
    "        val_edges = [(source, target, G[source][target]) for source in true_nodes for target in G[source].keys()]\n",
    "        val_set = set((source, target) for (source, target, _) in val_edges)\n",
    "        G_train = G.copy()\n",
    "        G_train.remove_edges_from(val_edges)\n",
    "        false_validation_edges = experiment.valid_false_edges(G, true_nodes)\n",
    "        false_validation_edges = [(x,y,data) for (x,y,data) in false_validation_edges if (x,y) not in val_set]\n",
    "        validation_set = val_edges + false_validation_edges\n",
    "        # If not shuffled, subsequent sorting algorithms will always rank true edges higher than false edges when they have\n",
    "        # the same score\n",
    "        random.shuffle(validation_set)        \n",
    "        results.append(experiment.score_edges(validation_set, G))\n",
    "    return results\n",
    "\n",
    "def at_degree_validation(G, experiment, degree):\n",
    "    if degree < 2:\n",
    "        raise Exception('Degree must be larger than 2')\n",
    "    res = {}\n",
    "    H = G.copy()\n",
    "    to_be_evaluated = []\n",
    "    # Randomly sample n nodes from each degree bin\n",
    "    deg=nx.degree(G)\n",
    "    h = {}\n",
    "    for node in G.nodes_iter():\n",
    "        if G.out_degree(node) == degree:\n",
    "            to_be_evaluated.append(node)\n",
    "    for node in to_be_evaluated:\n",
    "        res[node] = []\n",
    "        e = G.edges(node, data=True)\n",
    "        if not len(e) == degree:\n",
    "            raise Exception(\"Mismatch: {}\".format(len(e)))\n",
    "        G.remove_edges_from(e[1:degree-1])\n",
    "        for i in range(1, degree):\n",
    "            to_be_scored = experiment.valid_false_edges(H, [node]) + e[i:degree]\n",
    "            random.shuffle(to_be_scored)\n",
    "            scored_edges = experiment.score_edges(to_be_scored, G)\n",
    "            [edge[2].update({'n_edges': i}) for edge in scored_edges]\n",
    "            res[node] += scored_edges\n",
    "            #res[node][i] = scored_edges\n",
    "            G.add_edge(e[i][0], e[i][1])\n",
    "    return res\n",
    "        \n",
    "def precision(G, results, L):\n",
    "    \"\"\"\n",
    "    Find the ratio of the true positives to trues\n",
    "    \n",
    "    arguments:\n",
    "    G -- graph the results are based on\n",
    "    results -- list of lists of scored predictions\n",
    "    L -- number of results to be considered\n",
    "    \n",
    "    return:\n",
    "    List of precisions for each set of results\n",
    "    \"\"\"\n",
    "    # Sort the results with descending scores\n",
    "    results = [sorted(result, key=lambda x: x[2]['score'], reverse=True) for result in results]\n",
    "    for res in results:\n",
    "        if L > len(res):\n",
    "            raise ArgumentError(\"L is larger than the number of results\")\n",
    "    edge_set = set(G.edges())\n",
    "    # True positives exist in both the edge set and the result set\n",
    "    true_positives = [[(edge[0],edge[1]) for edge in result[0:L] if (edge[0], edge[1]) in edge_set] for result in results]\n",
    "    return [1.0*len(trues)/L for trues in true_positives]\n",
    "\n",
    "def per_node_precision(G, results):\n",
    "    \"\"\"\n",
    "    results : dict\n",
    "        A dict of {node: [e1, e2, ... e_n]} where e is an edge of the form (source, target, {'n_edges': x, 'score': y}) where\n",
    "        n_edges number of edges the node had when the prediction was made.\n",
    "    \"\"\"\n",
    "    \n",
    "    m = 43\n",
    "    # Create a dict that all the edges sorted by score and grouped by n_edges and then node\n",
    "    s = {n: {k: [] for k in range(1,m+1)} for n in results.iterkeys()}\n",
    "    for node, node_res in results.iteritems():\n",
    "        # Sort the entire list of results\n",
    "        srt = sorted(node_res, key=lambda x: x[2]['score'], reverse=True)\n",
    "        for x,y,data in srt:\n",
    "            # Add each result to its proper bin\n",
    "            s[node][data['n_edges']].append((x,y,{'score': data['score']}))\n",
    "    precisions = {k: [] for k in range(1,m+1)}\n",
    "    edge_set = set(G.edges())\n",
    "    for node, node_res in s.iteritems():\n",
    "        n = G.out_degree(node)\n",
    "        for level, results in node_res.iteritems():\n",
    "            L = n-level\n",
    "            if len(results) == 0:\n",
    "                break\n",
    "            precisions[level].append(1.0*len([(edge[0],edge[1]) for edge in results[0:L] if (edge[0], edge[1]) in edge_set])/L)\n",
    "    return precisions\n",
    "    \n",
    "\n",
    "def precision2(G, results, L):\n",
    "    \"\"\"\n",
    "    Find the ratio of the true positives to trues\n",
    "    \n",
    "    arguments:\n",
    "    G -- graph the results are based on\n",
    "    results -- list of lists of scored predictions\n",
    "    L -- number of results to be considered\n",
    "    \n",
    "    return:\n",
    "    List of precisions for each set of results\n",
    "    \"\"\"\n",
    "    # Sort the results with descending scores\n",
    "    #results = heapq.nlargest(L, results, key=lambda x: x[2]['score'])\n",
    "    edge_set = set(G.edges())\n",
    "    # True positives exist in both the edge set and the result set\n",
    "    true_positives = [(edge[0],edge[1]) for edge in results if (edge[0], edge[1]) in edge_set]\n",
    "    return 1.0*len(true_positives)/L\n",
    "\n",
    "def AUC(G, results):\n",
    "    \"\"\"\n",
    "    Perform n trials where the score of a non-edge and an edge in the result is compared. Count the number of trials where\n",
    "    the edge had the higher score as n' and the number of times the score was equal as n'' and return the AUC as (n' + n'')/n.\n",
    "    \n",
    "    arguments:\n",
    "    G -- graph the results are based on\n",
    "    results -- list of lists of scored predictions\n",
    "    \n",
    "    return:\n",
    "    List of precisions for each set of results\n",
    "    \"\"\"\n",
    "    \n",
    "    edge_set = set(G.edges())\n",
    "    AUC = []\n",
    "    for result_set in results:\n",
    "        true_edges = []\n",
    "        false_edges = []\n",
    "        for (x,y,data) in result_set:\n",
    "            if (x,y) in edge_set:\n",
    "                true_edges.append((x,y,data))\n",
    "            else:\n",
    "                false_edges.append((x,y,data))\n",
    "        \n",
    "        random.shuffle(true_edges)\n",
    "        random.shuffle(false_edges)\n",
    "        n = len(true_edges)\n",
    "        n_better = 0.0\n",
    "        n_same = 0.0\n",
    "        for i in range(0, n):\n",
    "            if true_edges[i][2]['score'] > false_edges[i][2]['score']:\n",
    "                n_better += 1.0\n",
    "            if true_edges[i][2]['score'] == false_edges[i][2]['score']:\n",
    "                n_same += 1.0\n",
    "        AUC.append((n_better + 0.5*n_same)/n)\n",
    "    return AUC\n",
    "\n",
    "def in_cluster(candidate_edges, G):\n",
    "    results = []\n",
    "    nx.write_gml(G, 'G.gml', stringizer=lambda x: str(x))\n",
    "    G_i = ig.Graph.Read_GML('G.gml')\n",
    "    vc = G_i.community_infomap()\n",
    "    node_to_cluster = {}\n",
    "    for node, cluster in zip(G_i.vs(), vc.membership):\n",
    "        node_to_cluster[node['label']] = cluster\n",
    "    for x,y,data in candidate_edges:\n",
    "        s = False\n",
    "        if node_to_cluster[x] == node_to_cluster[y]:\n",
    "            s = True\n",
    "        results.append((x,y,{'score': s}))\n",
    "    return results\n",
    "\n",
    "def slice_graph_by_year(start_year, end_year, G):\n",
    "    \"\"\"\n",
    "    Returns all nodes created within a range of years\n",
    "    \"\"\"\n",
    "    if datetime.date(start_year, 1, 1) < datetime.date(end_year, 1, 1):\n",
    "        raise ArgumentError(\"The starting year must be larger than or equal to the ending year\")\n",
    "    t1 = datetime.date(start_year, 12, 31)\n",
    "    t2 = datetime.date(end_year, 1, 1)\n",
    "    \n",
    "    return [n for n in G.nodes(data=True) if n[1]['date'] >= t2 and n[1]['date'] < t1]\n",
    "\n",
    "def get_features(G, cand_edges, year, load=True):\n",
    "    \n",
    "    def load_or_extract(function, f_name, year, cand_edges, G, load=True, dtype=None):\n",
    "        path = 'pickles/'+GRAPH+'_'+year+'_'+f_name+'.pkl'\n",
    "        if isfile(path) and load:\n",
    "            res = pd.read_pickle(path)\n",
    "        else:\n",
    "            res = pd.Series([data['score'] for x,y, data in function(cand_edges, G)], index=[(x,y) for x,y,_ in cand_edges], dtype=dtype)\n",
    "            if load:\n",
    "                res.to_pickle(path)\n",
    "        return res\n",
    "                              \n",
    "    df = pd.DataFrame(index=[(x,y) for x,y,_ in cand_edges])\n",
    "    true_edges = set(G.edges())\n",
    "    #df['shortest_path'] = load_or_extract(shortest_dag_path, 'shortest_path', str(year), cand_edges, G, dtype='uint16', load=load)\n",
    "    df['edge'] = pd.Series([True if (x,y) in true_edges else False for x,y,_ in cand_edges], index=[(x,y) for x,y,_ in cand_edges])\n",
    "    df['triadic_closeness'] = load_or_extract(triadic_closeness, 'triadic_closeness', str(year), cand_edges, G, load)\n",
    "    df['bag_of_words'] = load_or_extract(get_bag_of_words, 'bag_of_words', str(year), cand_edges, G, load)\n",
    "    df['tf_idf'] = load_or_extract(get_tf_idf, 'tf_idf', str(year), cand_edges, G, load)\n",
    "    df['in_cluster'] = load_or_extract(in_cluster, 'in_cluster', str(year), cand_edges, G, load)\n",
    "    df['common_neighbors'] = load_or_extract(common_neighbors, 'common_neighbors', str(year), cand_edges, G, dtype='uint16', load=load)\n",
    "    df['time_difference'] = load_or_extract(time_difference, 'time_difference', str(year), cand_edges, G, dtype='uint16', load=load)\n",
    "    df['common_referrers'] = load_or_extract(common_referrers, 'common_referrers', str(year), cand_edges, G, dtype='uint16', load=load)\n",
    "    #df['src_degree'] = pd.Series([len(G[x]) for x, _, __ in cand_edges], dtype='uint16')\n",
    "    #df['trg_degree'] = pd.Series([len(G[y]) for _, y, __ in cand_edges], dtype='uint16')\n",
    "    df['preferential_attachment'] = load_or_extract(preferential_attachment, 'preferential_attachment', \n",
    "                                                    str(year), cand_edges, G, dtype='uint32', load=load)\n",
    "    df['adamic_adar'] = load_or_extract(adamic_adar, 'adamic_adar', str(year), cand_edges, G, load)\n",
    "    df['leicht_holme_newman'] = load_or_extract(leicht_holme_newman, \n",
    "                                                'leicht_holme_newman', str(year), cand_edges, G, load)\n",
    "    df['resource_allocation'] = load_or_extract(resource_allocation, \n",
    "                                                'resource_allocation', str(year), cand_edges, G, load)\n",
    "    return df"
   ]
  },
  {
   "cell_type": "code",
   "execution_count": 32,
   "metadata": {
    "collapsed": false,
    "hide_input": false
   },
   "outputs": [
    {
     "name": "stdout",
     "output_type": "stream",
     "text": [
      "Wall time: 1min 51s\n"
     ]
    }
   ],
   "source": [
    "%%time\n",
    "# Prepare a single year test set\n",
    "test_year = 2013\n",
    "GRAPH = 'cjeu'\n",
    "nodes_test = [n[0] for n in slice_graph_by_year(test_year, test_year, GCC)]\n",
    "G_train = GCC.copy()\n",
    "G_train.remove_nodes_from(nodes_test)\n",
    "test_candidates = [(source, target, {}) for target in GCC.nodes() for source in nodes_test if not source==target]\n",
    "test_data = get_features(GCC, test_candidates, test_year)\n",
    "y_test = test_data['edge']\n",
    "X_test = test_data.ix[:, [col for col in test_data.columns if col not in ['edge', 'source', 'target']]]\n",
    "del test_data"
   ]
  },
  {
   "cell_type": "code",
   "execution_count": 33,
   "metadata": {
    "collapsed": false,
    "hide_input": false
   },
   "outputs": [
    {
     "name": "stdout",
     "output_type": "stream",
     "text": [
      "Edge to non-edge ratio: 0.000920879928598\n",
      "Wall time: 1min 45s\n"
     ]
    }
   ],
   "source": [
    "%%time\n",
    "# Training set consisting of the nodes of the preceding year\n",
    "train_year = 2012\n",
    "nodes_train = [n[0] for n in slice_graph_by_year(train_year, train_year, G_train)]\n",
    "train_candidates = [(source, target, {}) for target in G_train.nodes() for source in nodes_train if not source==target]\n",
    "train_data = get_features(G_train, train_candidates, train_year)\n",
    "y_train = train_data['edge']\n",
    "X_train = train_data.loc[:, [col for col in train_data.columns if col not in ['edge', 'source', 'target']]]\n",
    "assert len(set(y_train.index) - set(X_train.index)) == 0\n",
    "print \"Edge to non-edge ratio: {}\".format(1.0*sum(y_train == True) / len(y_train))\n",
    "# Ensure that there is no overlap between test and train set\n",
    "assert len(set([(x,y) for x,y,_ in train_candidates]).intersection(set([(x,y) for x,y,_ in test_candidates]))) == 0\n",
    "del train_data"
   ]
  },
  {
   "cell_type": "markdown",
   "metadata": {},
   "source": [
    "## Model evaluation over time\n",
    "\n",
    "Since the available dataset stretches from 1968 to 2013 it is possible to evaluate how classifiers trained and tested at different points in time perform and evolve.\n",
    "\n",
    "6 testing years are chosen with 5 year intervals with training sets that contain all potential edges of nodes added the last 3 years. Since the number of nodes per year and the accompanying edges is relatively constant the dataset becomes increasingly imbalanced for more recent testing years."
   ]
  },
  {
   "cell_type": "code",
   "execution_count": null,
   "metadata": {
    "collapsed": false
   },
   "outputs": [],
   "source": [
    "%%time\n",
    "G_cur = GCC.copy()\n",
    "forests = {}\n",
    "lrs = {}\n",
    "years =  [2013, 2008, 2003, 1998, 1993, 1988]\n",
    "for year in years:\n",
    "    if isfile('pickles/rf_{}.pkl'.format(year)) and isfile('pickles/lr_{}.pkl'.format(year)):\n",
    "        forests[year] = pickle.load(open('pickles/rf_{}.pkl'.format(year), 'rb'))\n",
    "        lrs[year] = pickle.load(open('pickles/lr_{}.okl'.format(year), 'rb'))\n",
    "        print \"{} done and loaded\".format(year)\n",
    "    else:\n",
    "        training_years = range(year-3, year)\n",
    "        training_years.reverse()\n",
    "        train_data = pd.DataFrame()\n",
    "        for training_year in training_years:\n",
    "            G_cur.remove_nodes_from([n[0] for n in slice_graph_by_year(2013, training_year+1, G_cur)])\n",
    "            nodes_train = [n[0] for n in slice_graph_by_year(training_year, training_year, G_cur)]\n",
    "            train_candidates = [(source, target, {}) for target in G_cur.nodes() for source in nodes_train if not source==target]\n",
    "            train_data=train_data.append(get_features(G_cur, train_candidates, training_year))\n",
    "        rf = RandomForestClassifier(**best_params)\n",
    "        lr = LogisticRegression()\n",
    "        lr.fit(train_data.loc[:, [col for col in train_data.columns if col not in ['edge', 'source', 'target']]], train_data['edge'])\n",
    "        with open('pickles/lr_{}.pkl'.format(year), 'wb') as fl:\n",
    "            pickle.dump(lr, fl)\n",
    "        lrs[year] = lr\n",
    "        rf.fit(train_data.loc[:, [col for col in train_data.columns if col not in ['edge', 'source', 'target']]], train_data['edge'])\n",
    "        with open('pickles/rf_{}.pkl'.format(year), 'wb') as fl:\n",
    "            pickle.dump(rf, fl)\n",
    "        forests[year] = rf\n",
    "        print \"{} done and pickled\".format(year)"
   ]
  },
  {
   "cell_type": "code",
   "execution_count": 5,
   "metadata": {
    "collapsed": false
   },
   "outputs": [
    {
     "name": "stdout",
     "output_type": "stream",
     "text": [
      "Wall time: 1min 19s\n"
     ]
    }
   ],
   "source": [
    "%%time\n",
    "if isfile('pickles/prediction_evolution.pkl'):\n",
    "    labels, rf_probs, lr_probs = pickle.load(open('pickles/prediction_evolution.pkl', 'rb'))\n",
    "else:\n",
    "    years =  [2013, 2008, 2003, 1998, 1993, 1988]\n",
    "    rf_probs = {}\n",
    "    lr_probs = {}\n",
    "    labels = {}\n",
    "    for year in years:\n",
    "        G_cur = GCC.copy()\n",
    "        if isfile('pickles/rf_{}.pkl'.format(year)) and isfile('pickles/lr_{}.pkl'.format(year)):\n",
    "            forest = pickle.load(open('pickles/rf_{}.pkl'.format(year), 'rb'))\n",
    "            lr = pickle.load(open('pickles/lr_{}.pkl'.format(year), 'rb'))\n",
    "            if year < 2013:\n",
    "                G_cur.remove_nodes_from([n[0] for n in slice_graph_by_year(2013, testing_year+1, G_cur)])\n",
    "            nodes_test = [n[0] for n in slice_graph_by_year(testing_year, testing_year, G_cur)]\n",
    "            test_candidates = [(source, target, {}) for target in G_cur.nodes() for source in nodes_test if not source==target]\n",
    "            test_data = get_features(G_cur, test_candidates, testing_year).dropna(axis=0)\n",
    "            labels[testing_year] = test_data['edge']\n",
    "            rf_probs[testing_year] = forest.predict_proba(\n",
    "                test_data.loc[:, [col for col in test_data.columns if col not in ['edge', 'source', 'target']]])\n",
    "            lr_probs[testing_year] = lr.predict_proba(\n",
    "                test_data.loc[:, [col for col in test_data.columns if col not in ['edge', 'source', 'target']]])\n",
    "        else:\n",
    "            print \"Forest or LR not calculated for year\"\n",
    "            break\n",
    "    pickle.dump([labels, rf_probs, lr_probs], open('pickles/prediction_evolution.pkl', 'wb'))"
   ]
  },
  {
   "cell_type": "code",
   "execution_count": 10,
   "metadata": {
    "collapsed": false
   },
   "outputs": [
    {
     "data": {
      "image/png": "[encoded data removed]",
      "text/plain": [
       "<matplotlib.figure.Figure at 0x61b29ba8>"
      ]
     },
     "metadata": {},
     "output_type": "display_data"
    }
   ],
   "source": [
    "years = labels.keys()\n",
    "plt.figure(figsize=(20,20))\n",
    "ax1 = plt.subplot(211)\n",
    "ax2 = plt.subplot(212, sharex=ax1)\n",
    "for year in years:\n",
    "    rf_map = average_precision_score(labels[year], rf_probs[year][:,1])\n",
    "    lr_map = average_precision_score(labels[year], lr_probs[year][:,1])\n",
    "    precision_rf, recall_rf, _ = precision_recall_curve(labels[year], rf_probs[year][:,1])\n",
    "    precision_lr, recall_lr, _ = precision_recall_curve(labels[year], lr_probs[year][:,1])\n",
    "    ax1.plot(recall_rf, precision_rf, lw=2, label='{}, random forest with MAP of: {}'.format(year, rf_map))\n",
    "    ax1.legend(bbox_to_anchor=(1.05, 1), loc=2, borderaxespad=0., fontsize=20)\n",
    "    ax2.plot(recall_lr, precision_lr, lw=2, label='{}, logistic reg. with MAP of: {}'.format(year, lr_map))\n",
    "    ax2.legend(bbox_to_anchor=(1.05, 1), loc=2, borderaxespad=0., fontsize=20)\n",
    "    \n",
    "\n",
    "plt.xlim([-0.05, 1.05])\n",
    "plt.ylim([-0.05, 1.05])\n",
    "plt.xlabel('Recall', fontsize=20)\n",
    "plt.ylabel('Precision', fontsize=20)\n",
    "plt.show()"
   ]
  },
  {
   "cell_type": "markdown",
   "metadata": {},
   "source": [
    "plt.axes"
   ]
  },
  {
   "cell_type": "code",
   "execution_count": null,
   "metadata": {
    "collapsed": false
   },
   "outputs": [],
   "source": []
  },
  {
   "cell_type": "code",
   "execution_count": null,
   "metadata": {
    "collapsed": false
   },
   "outputs": [],
   "source": [
    "for year, reg in lrs.iteritems():\n",
    "    print \"{}:\".format(year)\n",
    "    t=\"\"\n",
    "    v=\"\"\n",
    "    for coef, name in zip(reg.coef_[0], X_test.columns.values):\n",
    "        t += \"{:<.7} | \".format(name)\n",
    "        v += \"{:7.3f} | \".format(coef)\n",
    "    print t\n",
    "    print v"
   ]
  },
  {
   "cell_type": "code",
   "execution_count": null,
   "metadata": {
    "collapsed": false
   },
   "outputs": [],
   "source": [
    "coef"
   ]
  },
  {
   "cell_type": "markdown",
   "metadata": {},
   "source": [
    "## Preparing the data"
   ]
  },
  {
   "cell_type": "markdown",
   "metadata": {},
   "source": [
    "The large dataset makes prediction times very long and the class imbalance biases heavily toward predicting the negative class."
   ]
  },
  {
   "cell_type": "markdown",
   "metadata": {},
   "source": [
    "### Class imbalance and data set size"
   ]
  },
  {
   "cell_type": "markdown",
   "metadata": {},
   "source": [
    "Since there are $V^2$ possible links between vertices and only a small part of them will turn out to be actual true links the dataset suffers highly from class imbalance, which for some classifiers can lead to solutions that are biased to predicting the majority class while others are perfectly able to handle imbalanced classes without bias.\n",
    "\n",
    "If it presents a problem class imbalance can be handled by\n",
    "* Weigthing the different classes to ensure that the minority class is given more importance.\n",
    "* Undersampling the majority class with replacement. This has the benefit of lower training and feature generation times, however important information in the majority class can be missed, leading to low classifier performance on the test set.\n",
    "* Upsampling the minority class with replacement. This method does not run the risk of missing information in the training set, but bias can still be introduced and computation time increases.\n",
    "\n",
    "These methods can be combined with the bootstrap technique where several classifiers are trained on different samples and predictions on the test set is a decided by majority voting.\n",
    "\n",
    "Weighting and undersampling have been used on the different methods, however with little"
   ]
  },
  {
   "cell_type": "markdown",
   "metadata": {},
   "source": [
    "# Methods"
   ]
  },
  {
   "cell_type": "markdown",
   "metadata": {},
   "source": [
    "Most approaches in link prediction have fallen in either of two categories, similarity based indices or learning based methods, where the similarity based indices assign a score to each node pair given some metric and selects the top scoring candidates as potential links <a name=\"ref-1\"/>[(Lü and Zhou, 2011)](#cite-Lu20111150), whereas learning based methods fit a model to a set of features and based on this predicts whether a candidate will form a link or not <a name=\"ref-2\"/>[(Wang, 2014)](#cite-Wang2014). The features of the learning models are usually taken from the unsupervised similarity indices and can be classified as either topological- or node-based <a name=\"ref-3\"/>[(Wang, 2014)](#cite-Wang2014).\n",
    "\n",
    "Node based features describe attributes that are independent of the network structure such as similarities in the text of two verdicts or the difference between publication time of articles. Topological features are centered around properties of the graph itself, such as common neighbors between nodes, the product of node degrees or whether two nodes belong to the same community of nodes.\n",
    "\n",
    "Following is an overview of the different features used for link prediction in the network of verdicts, roughly divided in topological and node-based features."
   ]
  },
  {
   "cell_type": "markdown",
   "metadata": {},
   "source": [
    "## Topological features"
   ]
  },
  {
   "cell_type": "markdown",
   "metadata": {},
   "source": [
    "Most topological features are similarity indices and can be categorized by how large a neighborhood they operate on. If for a given candidate pair, $(x,y)$ only the immediate neighborhoods, $\\Gamma(x)$ and $\\Gamma(y)$ are investigated the index is local, if it takes the entire network into account it is global and if it operates on some finite neighborhood greater than the 1-neighborhood it is quasi-global <a name=\"ref-4\"/>[(Lü and Zhou, 2011)](#cite-Lu20111150)."
   ]
  },
  {
   "cell_type": "markdown",
   "metadata": {},
   "source": [
    "### Local indexing"
   ]
  },
  {
   "cell_type": "markdown",
   "metadata": {},
   "source": [
    "Similarity based methods with local indexing only look at the 1-neighborhood of any given node making them fast to compute but potentially losing information found in extended neighborhood.\n",
    "\n",
    "| Name  | Definition | Comment\n",
    "|---|------------|---|\n",
    "| Common Neighbors  | $s_{x,y} = \\Gamma(x) \\cap \\Gamma(y)$ | Based on common amount of neighbours between node x and node y\n",
    "| Salton Index      | $s_{x,y} = \\frac{\\Gamma(x) \\cap \\Gamma(y)}{\\sqrt{k_x \\times k_y}}$ | Comparable to the cosine index between nodes x and y\n",
    "| Jaccard Index     | $s_{x,y} = \\frac{\\Gamma(x) \\cap \\Gamma(y)}{\\Gamma(x) \\cup \\Gamma(y)}$ | Normalizes the number of common neighbors with the total potential number of common neighbors. Equal to the probability of a randomly selected link belonging to both nodes\n",
    "| Adamic / Adar | $s_{x,y} = \\sum_{z \\ \\in \\ \\Gamma(x) \\cap \\Gamma(y)} \\frac{1}{\\log k_z}$ | Assigns less weight to highly connected nodes, reducing the effect of hubs\n",
    "| Preferential Attachment | $s_{x,y} = k_x \\times k_y$ | Probability of generating links is proportional only to the node degree. Low complexity, but does not take into account the cost of creating links in for example physical networks.\n",
    "| Resource Allocation | $s_{x,y} = \\sum_{ z \\ \\in \\ \\Gamma(x) \\cap \\Gamma(y)} \\frac{1}{k_z}$ | Based on $x$ diffusing a resource to $y$, with each neighboring being a channel\n",
    "| Leicht, Holme, Newman (LHN1) | $s_{x,y} = \\frac{\\Gamma(x) \\cap \\Gamma(y)}{k_x \\times k_y}$ | Common neighbors proportional to the mean degree of nodes\n",
    "| Hub promoted index | $s_{x,y} = \\frac{\\Gamma(x) \\cap \\Gamma(y)}{\\min(k_x, k_y)}$ | Score that amplifies the importance of hub connections\n",
    "| Hub depressed index | $s_{x,y} = \\frac{\\Gamma(x) \\cap \\Gamma(y)}{\\max(k_x, k_y)}$ | Score that penalizes hub connections\n",
    "| Sørensen index | $s_{x,y} = \\frac{2 \\Gamma(x) \\cap \\Gamma(y)}{k_x + k_y}$ | Score used in ecological community data\n",
    "\n",
    "Results by Liben-Nowell and Kleinberg <a name=\"ref-5\"/>[(Liben-Nowell and Kleinberg, 2003)](#cite-LibenNowell2004) have shown that the more advanced indices often have little or no advantage over the simple common neighbors index and that the overlap in the predicted edges is substantial, which is not surprising since the indices are all based on the same neighborhood."
   ]
  },
  {
   "cell_type": "markdown",
   "metadata": {},
   "source": [
    "#### Common Neighbors (CN)"
   ]
  },
  {
   "cell_type": "markdown",
   "metadata": {},
   "source": [
    "Common neighbors or the intersection of the 1-neighborhoods of the nodes $x$ and $y$ is the most commonly used neighborhood in link prediction and it has been shown that the likelihood of a link between two nodes correlates highly with the distance between the nodes as well as the number of neighbors shared (Link prediction, fair evaluation) (Lu, survey).\n",
    "Formally the score is found by\n",
    "\n",
    "$$\n",
    "s_{x,y} = | \\Gamma(x) \\cup \\Gamma(y) |\n",
    "$$\n",
    "\n",
    "where $\\Gamma(x)$ is the function returning the 1-neighborhood of $x$. For a directed graph either out- or in-neighborhoods can be used and the choice depends on the network. In this case where $x$ will always be a newly inserted node with no incoming links both the in- and out-neighbors of $y$ is used, as seen in the figure.\n",
    "\n",
    "The usefulness of this index can be seen in the figure where the distribution of common neighbors for edges and a sub-sample of non-edges is shown. Real edges are far more likely to have common neighbors than non-edges, however there is still a group of edges that do not share any common neighbors, effectively creating an upper limit of how many edges can be predicted with this index.\n",
    "\n",
    "<figure style=\"display: inline-block; text-align: center; max-width: 100%; margin: 0 auto\">\n",
    "<img src=\"Pictures/Common neighbors distribution.png\" style=\"margin: 0 auto; max-width: 85%; margin-bottom: 10px\">\n",
    "<figcaption style=\"font-style: italic\">Distribution of common neighbors for all edges and subsample of non-edges of size 43694.</figcaption>\n",
    "</figure>"
   ]
  },
  {
   "cell_type": "markdown",
   "metadata": {},
   "source": [
    "#### Triadic Closeness (TC)"
   ]
  },
  {
   "cell_type": "markdown",
   "metadata": {},
   "source": [
    "In a network a triad is a combination of three nodes, $x$, $z$ and $y$, along with the possible links between them. Every combination is a specific type of triad and for a directed graph there are 16 different ways, but this increases to 36 when we consider that $z$ is a common neighbor to $x$ and $y$ and that for link prediction the order matters, the triad consisting of the links ${(x,y), \\ (x,z), \\ (y,z)}$ is not the same as  ${(y,x), \\ (x,z), \\ (y,z)}$. The different combinations are seen in the figure where they are classified based on the link between $x$ and $y$, with 1-9 meaning no link, 11-19 meaning a link from $x$ to $y$, 21-29 meaning a link from $y$ to $x$ and 31-39 being a reciprocal link between $x$ and $y$.\n",
    "\n",
    "<figure style=\"display: inline-block; text-align: center; max-width: 100%; margin: 0 auto\">\n",
    "<img src=\"Pictures/open triads.png\" style=\"margin: 0 auto; max-width: 85%; margin-bottom: 10px\">\n",
    "<figcaption style=\"font-style: italic\">Possible open triadic configurations for a directed graph, with the category label below the triad.</figcaption>\n",
    "</figure>\n",
    "\n",
    "<figure style=\"display: inline-block; float: right; text-align: center; max-width: 45%; margin: 0 20px\">\n",
    "<img src=\"Pictures/closed triads.png\" style=\"float: right; max-width: 100%; margin-bottom: 10px\">\n",
    "<figcaption style=\"font-style: italic\">Possible closed triadic configurations for a directed graph, with the category label below the triad.</figcaption>\n",
    "</figure>\n",
    "\n",
    "Triadic closeness is an unsupervised method proposed by Schall <a name=\"ref-6\"/>[(Schall, 2014)](#cite-directedSchall) that exploits the fact that some triadic patterns are more likely to appear in a given network than others, so if you have a possible link between nodes $x$ and $y$ that have the common neighbor $z$ the likelihood of the created triad appearing in the network can be used as a score. In other words, the likelihood for a link between $x$ and $y$ depends on how common the triad formed from adding the link is compared to how common the triad formed by the unconnected $x$ and $y$.\n",
    "\n",
    "This is related to <a name=\"ref-7\"/>[(Schall, 2014)](#cite-directedSchall) produced good results on data from Twitter, GitHub and Google+.\n",
    "\n",
    "The actual triadic closeness score is calculated as\n",
    "\n",
    "$$\n",
    "s_{x,y} = \\sum_{z \\ \\in \\Gamma(x) \\cup \\Gamma(y)} \\frac{\\text{F}(\\delta(x,y,z) + 10) + \\text{F}(\\delta(x,y,z) + 30)}{\\text{F}(\\delta(x,y,z))}\n",
    "$$\n",
    "\n",
    "where $s_{x,y}$ is the score for the $x,y$ node pair, $\\Gamma(x)$ returns the neighborhood of $x$, $\\delta(x,z,y)$ returns the triad produced by the nodes $x$, $y$ and $z$ and $\\text{F}(t)$ returns the frequency of the triad $t$. Note that the neighborhood consists of both in- and out-going links.\n",
    "\n",
    "Since a triad requires that the nodes $x$ and $y$ are joined through an extra node $z$ nodes that are linked but do not share neighbors will not be found by this method. If the network being examined has important structure beyond the 1-neighborhood more general motif analysis methods can be used."
   ]
  },
  {
   "cell_type": "markdown",
   "metadata": {},
   "source": [
    "### Global indexing"
   ]
  },
  {
   "cell_type": "markdown",
   "metadata": {},
   "source": [
    "Global indexing refers to methods that take into account the entire network which often leads to closed form solutions including matrix inversions. Since these have a compute time of $\\mathcal{O} (n^3)$ FIND REFERENCE the computation is much larger than it is for locally indexed methods.\n",
    "\n",
    "| Name | Definition | Comment |\n",
    "|------|------------|---------|\n",
    "|Shortest path| | The length of the shortest path between nodes $x$ and $y$. Useful both as a feature and as a baseline index for comparison with other indices.\n",
    "|Katz  | $\\mathbf{S} = \\sum_{l=1}^{\\infty} \\beta^l \\mathbf{A}^{l}$ | The score is based on the sum of the number of paths with length $l$ weighted by some factor, $\\beta$ between 0 and 1. Shorter paths will have higher weights than longer paths using this scheme.\n",
    "|Leich, Holme, Newman (LHN2) | $\\mathbf{S} = \\psi (\\mathbf{I} + \\sum_{l=1}^{\\infty} \\phi^l \\mathbf{A}^l)$| Similar to the Katz index, but this method chooses $\\omega$ to be the inverse of the expected number of paths of any given path length\n",
    "|Average commute time | $ s_{x,y} = \\frac{1}{l_{x,x} + l_{y,y} - 2 l_{x,y}}$ | Equal to the expected number of steps between any two nodes, $l_{x,y}$ is the (x,y)-th element in the pseudoinverse of the Laplacian matrix, $\\mathbf{L}^{+}$"
   ]
  },
  {
   "cell_type": "markdown",
   "metadata": {},
   "source": [
    "#### Shortest Path (SP)"
   ]
  },
  {
   "cell_type": "markdown",
   "metadata": {},
   "source": [
    "A useful index when estimating the likelihood of a candidate pair to create a link can be the shortest distance between the two nodes, which despite its significance has been shown to have much more predictive power than random guessing <a name=\"ref-8\"/>[(Liben-Nowell and Kleinberg, 2003)](#cite-LibenNowell2004).\n",
    "That it can be useful in the verdict network can be seen in the figure below where the average shortest distance for connected and non-connected nodes in the network. \n",
    "\n",
    "<div style=\"display: inline-block; text-align: center; max-width: 100%; margin: 0 20px\">\n",
    "<img src=\"Pictures/shortest path dist.png\" style=\"max-width: 85%; margin-bottom: 10px\">\n",
    "<figcaption style=\"font-style: italic\">Distribution of shortest paths between connected and non-connected nodes. Graphs are normalized to sample size, so this graph does not take into account class imbalance.</figcaption></div>"
   ]
  },
  {
   "cell_type": "markdown",
   "metadata": {},
   "source": [
    "### Communities as features"
   ]
  },
  {
   "cell_type": "markdown",
   "metadata": {},
   "source": [
    "Many networks naturally form communities where nodes are grouped together based on their topological properties in groups that often reflect some real-world connections such as research fields for citation networks or groups of friends in social networks and for the network of verdicts work has been done on community detection discovering that found communities often map to relevant areas of law <a name=\"ref-9\"/>[(Derl&eacute;n, Lindholm, Rosvall and Mirshahvalad, 2013)](#cite-Derlen2013coo).\n",
    "Since sharing a community is an expression of similarity and we assume that nodes tend to form connections to other similar nodes it has use as a feature in supervised learning, either as a boolean feature capturing if two nodes belong to the same community or as a distribution capturing the probability of a node in community $a$ forming a link to a node in community $b$.\n",
    "\n",
    "To use this feature it is necessary to know both what community the source and target node belongs to. This is possible when discovering new links in an already generated network where it is assumed that all links for node $x$ are known except the one being investigated. If used in a recommender system the community $x$ belongs to needs to be re-computed for each edge added however, leading to additional computation time.\n",
    "\n",
    "The method for discovering communities in the network is Infomap developed by Rosvall, Axelsson and Bergstöm <a name=\"ref-10\"/>[(Rosvall, 2010)](#cite-Rosvall2010) as implemented in the Python `igraph` package, which is based on finding an optimal compression of a random walk performed on nodes in the network.\n",
    "\n",
    "To get an idea of how the link distribution in and between communities looks a new network $G_c$ is created where each community is collapsed into a single node while retaining the edges from the original network, $G$ resulting in a graph with 476 nodes, one for each community. The mean ratio of in-community to out-of-community links is $0.48$ with a standard deviation of $0.4$ indicating that all the communitites are dominated by self loops, i.e. most nodes in $G$ create links to nodes in their own communities. This can also be seen in figure FIGURE, which shows the adjacency matrix for the 50 largest communitites which hold 57% of the nodes in the original network.\n",
    "\n",
    "As can be seen in the heatmap below of the link distributions of the 100 largest communities most communities link far more to themselves than any other community with a mean ratio of internal to external links of 0.5. Since the remaining links are spread among so many other communities a binary feature showing whether two nodes belong to the same community or not is used instead of a distribution."
   ]
  },
  {
   "cell_type": "code",
   "execution_count": null,
   "metadata": {
    "collapsed": true,
    "hide_input": true
   },
   "outputs": [],
   "source": [
    "# Convert the graph to igraph and find the communities\n",
    "nx.write_gml(GCC, 'GCC.gml', stringizer=lambda x: str(x))\n",
    "G_i = ig.Graph.Read_GML('GCC.gml')\n",
    "# Find the communities in the graph\n",
    "vc = G_i.community_infomap()\n",
    "\n",
    "# Create a cluster graph without combining edges and find its adjacency matrix\n",
    "cg = vc.cluster_graph(combine_edges=False)\n",
    "A = np.array(cg.get_adjacency().data, dtype=float)\n",
    "\n",
    "# Proportionalize each row for clearer plotting\n",
    "row_sums = np.sum(A, axis=0)\n",
    "A_norm = A / row_sums[:, np.newaxis]"
   ]
  },
  {
   "cell_type": "code",
   "execution_count": null,
   "metadata": {
    "collapsed": false,
    "hide_input": true
   },
   "outputs": [],
   "source": [
    "plt.figure(figsize=(20,15))\n",
    "hm = sns.heatmap(A_norm[0:100, 0:100])\n",
    "hm.set_xticklabels([])\n",
    "hm.set_yticklabels([])\n",
    "plt.title(\"Proportion of directed edges between communities, each row representing a community and the diagonal being self-links\", fontsize=20)"
   ]
  },
  {
   "cell_type": "markdown",
   "metadata": {},
   "source": [
    "#### Katz indexing (KZI)"
   ]
  },
  {
   "cell_type": "markdown",
   "metadata": {},
   "source": [
    "Katz indexing is a derivative of the common neighbors methodology which states that nodes are similar if there are more paths between them and this similarity decreases with the length of the path and for a very small $\\beta$ Katz becomes similar to common neighbors <a name=\"ref-11\"/>[(Katz, 1953)](#cite-KatzIndex). A closed form solution can be found from its explicit form as\n",
    "$$\n",
    "\\mathbf{S} = \\sum_{l=1}^{\\infty} \\beta^l \\mathbf{A}^{l} = (\\mathbf{I} - \\beta \\mathbf{A})^{-1} - \\mathbf{I}\n",
    "$$\n",
    "The value of $\\beta$ is a free parameter which can be optimized for."
   ]
  },
  {
   "cell_type": "markdown",
   "metadata": {},
   "source": [
    "#### Leicht, Holme, Newman (LHN2)"
   ]
  },
  {
   "cell_type": "markdown",
   "metadata": {},
   "source": [
    "The LHN2 method is based on the assumption that nodes are similar if they have neighbors that are similar <a name=\"ref-12\"/>[(Leicht, Holme and Newman, 2006)](#cite-LHN2) and in its explicit form it is very similar to the Katz index except that it includes a self similarity measure in the form of $\\psi$\n",
    "$$\n",
    "\\mathbf{S} = \\omega \\mathbf{A} \\mathbf{S} + \\psi \\mathbf{S} = \\psi (\\mathbf{I} + \\sum_{l=1}^{\\infty} \\phi^l \\mathbf{A}^l)\n",
    "$$\n",
    "Setting the constant $\\psi$ to one this expression term by term states that every node has a similarity of one 1, $\\mathbf{I}$, and with each node in its $l$-neighborhood it has a similarity of $\\phi^l$."
   ]
  },
  {
   "cell_type": "markdown",
   "metadata": {},
   "source": [
    "#### Average Commute Time (ACM)"
   ]
  },
  {
   "cell_type": "markdown",
   "metadata": {},
   "source": [
    "ACM is found as the average number of time steps a random walker would need to reach node $x$ from node $y$ and can be found from the pseudo-inverse of the Laplacian matrix of the graph <a name=\"ref-13\"/>[(Fouss, Pirotte, Renders and Saerens, 2006)](#cite-Fouss06random-walkcomputation), $\\mathbf{L} = \\mathbf{D}-\\mathbf{A}$ where $\\mathbf{D}$ is a diagonal matrix containing the degrees of each node. From the pseudo-inverse of the Laplacian, $\\mathbf{L}^+$ the average commute time is found as \n",
    "$$\n",
    "\\text{acm}_{x,y} = l_{x,x}^+ + l_{y,y}^+ - 2l_{x,y}^+\n",
    "$$\n",
    "To keep with the convention that higher scores are better the score is found as the inverse of the commute time, $s_{x,y} = \\text{acm}_{x,y}^{-1}$."
   ]
  },
  {
   "cell_type": "markdown",
   "metadata": {},
   "source": [
    "### Quasi global indexing"
   ]
  },
  {
   "cell_type": "markdown",
   "metadata": {},
   "source": [
    "Quasi global indices generally work on an $n$-neighborhood of a node instead of restricting themselves to immediate neighbors. This can give computational speed ups, but for small-world networks it can be just as fast to compute the closed form solutions of the global methods as $n$ increases (no reference, but it makes sense).\n",
    "\n",
    "| Name | Definition                                                               | Comment |\n",
    "|------|------------|---------|-----|-----------|\n",
    "|Local Path Index | $\\mathbf{S} = \\sum_{i=2}^n \\epsilon^{i-2} \\mathbf{A}^i $| Similar to the Katz index for $n = \\infty$ the computational complexity of this index is $\\mathcal{O}(N\\langle{k}\\rangle^n)$ for a size N network with mean node degree of $\\langle{k}\\rangle$\n",
    "|Local Random Walk | $s_{x,y} = q_{x} \\pi_{x,y}(t) + q_{y} \\pi_{y,x}(t) $| Equal to the probability of reaching node $y$ from node $x$ in t timesteps weighed by some initial configuration, $q$ indicating the probability of being at node $x$, summed by its mirror from $y$ to $x$.\n",
    "|Superimposed Random Walk | $s_{x,y} = \\sum_{\\tau}^{t} q_{x} \\pi_{x,y}(\\tau) + q_{y} \\pi_{y,x}(\\tau)$ | Similar to LRW, but the summation indicates a restart at each timestep."
   ]
  },
  {
   "cell_type": "markdown",
   "metadata": {},
   "source": [
    "#### Common referrers"
   ]
  },
  {
   "cell_type": "markdown",
   "metadata": {},
   "source": [
    "<div style=\"display: inline-block; float: right; text-align: center; max-width: 33%; margin: 0 20px\">\n",
    "<img src=\"Pictures/Common referrers.png\" style=\"float: right; max-width: 100%; margin-bottom: 10px\">\n",
    "<figcaption style=\"font-style: italic\">Common referrer neighborhood for a possible connection between $x$ and $y$ where the common referrers are the $z$-nodes marked in red.</figcaption></div>\n",
    "\n",
    "Common referrers is an expansion of the common neighbors metric which assumes that if $x$ is connected to $z$ through $u$, then $x$ is also more likely to connect to other nodes that $z$ is connected to. Specific to the verdict citation networks this indicates that verdicts that have the same citations are similar and that similar verdicts tend to have the same citations.\n",
    "If a possible link between the node pair $(x,y)$ is being evaluated then the common referrers index takes the following form\n",
    "\n",
    "$$\n",
    "s_{x,y} = \\Gamma_{in}(y) \\cap \\Gamma_{in}(u) \\ \\forall \\ u \\ \\in \\ \\Gamma_{out}(x) \n",
    "$$\n",
    "\n",
    "The neighborhood is also shown in figure 4 where the common referrers are the $z$-nodes marked in red for a potential connection between $x$ and $y$.\n",
    "\n",
    "It is possible to use this index in conjunction with weighting schemes such as Adamic/Adar or Resource Allocation just like it is done with Common Neighbors."
   ]
  },
  {
   "cell_type": "markdown",
   "metadata": {},
   "source": [
    "#### Local Path Indexing (LPI)"
   ]
  },
  {
   "cell_type": "markdown",
   "metadata": {},
   "source": [
    "Local path indexing is the Katz index constrained to a neighborhood fixed to a size of $n$. This reduces the compute time as long as the average node degree is relatively small, but for small world networks with a small average shortest path length even small neighborhoods can quickly encompass the full set of nodes, making the computation of the inverse in the Katz index faster."
   ]
  },
  {
   "cell_type": "markdown",
   "metadata": {},
   "source": [
    "#### Local Random Walk (LRW)"
   ]
  },
  {
   "cell_type": "markdown",
   "metadata": {},
   "source": [
    "The local random walk scores a pair of nodes, $x,y$, based on the probability of reaching node $y$ from node $x$ in a given number of timesteps, $t$ and vice versa. This requires that node $y$ is in the $t$-neighborhood of $x$ and penalizes nodes that have high degree nodes between them."
   ]
  },
  {
   "cell_type": "markdown",
   "metadata": {},
   "source": [
    "#### Superimposed Random Walk (SRW)"
   ]
  },
  {
   "cell_type": "markdown",
   "metadata": {},
   "source": [
    "The superimposed random walk functions exactly like the LRW except that it restarts the random walker at every timestep, summing the probabilities for each increment of $\\tau$."
   ]
  },
  {
   "cell_type": "markdown",
   "metadata": {},
   "source": [
    "## Node specific features"
   ]
  },
  {
   "cell_type": "markdown",
   "metadata": {},
   "source": [
    "### Temporal features"
   ]
  },
  {
   "cell_type": "markdown",
   "metadata": {},
   "source": [
    "As link prediction has evolved to work on more and more complex and dynamic networks, it has become necessary to devise methods that can capture other dimensions than only the static structure used so far. For networks that evolve over time this includes looking at repeating patterns in the activity between nodes (Temporal Link Prediction and Tensor Factorizations), time-series based methods of predicting network features in the future (Time Series Based Link Prediction), burstiness of incoming links and link probabilities that decay over time (Time aware index for link prediction in social networks).\n",
    "\n",
    "Unlike social networks the verdict citation networks is semi-static since once inserted a node cannot add more outgoing links and once created it is not possible to remove a link. This limits the usefulness of many temporal methods studied in the literature, leaving deprecating likelihoods and burstiness as possible features."
   ]
  },
  {
   "cell_type": "markdown",
   "metadata": {},
   "source": [
    "#### Deprecating likelihoods"
   ]
  },
  {
   "cell_type": "markdown",
   "metadata": {},
   "source": [
    "The intuition behind deprecating likelihoods is that it is plausible that a verdict will make references that are close in time as older verdicts might be less relevant or further in memory for the judge making the verdict. In the histograms below distributions are shown for different years, where it is easy to see that shorter links in time are preferred over longer links.\n",
    "This can be used to create a per year probality distribution and weighing all potential links by that probability.\n",
    "Since it is technically not possible to use the distribution for the current year for new nodes the distribution for the preceding year is used, i.e. for a node inserted at time $t$ the distribution for the $t-1$ is used. That this is a decent approximation can be validated by looking at the correlation between the different time distributions, where the average for each year is found to be 0.82 with all newer correlations higher than 0.9.\n",
    "\n",
    "<figure style=\"display: inline-block; text-align: center; max-width: 100%; margin: 0 auto\">\n",
    "<img src=\"Pictures/out link time dist.png\" style=\"margin: 0 auto; max-width: 85%; margin-bottom: 10px\">\n",
    "<figcaption style=\"font-style: italic\">Distribution of years linked to for 2013, 2003, 1993 and 1983</figcaption>\n",
    "</figure>"
   ]
  },
  {
   "cell_type": "markdown",
   "metadata": {},
   "source": [
    "#### Burstiness"
   ]
  },
  {
   "cell_type": "markdown",
   "metadata": {},
   "source": [
    "The idea of burstiness is that many natural phenomena tend to appear in bursts - many events appearing in rapid succession followed by longer pauses with no activity. This can be seen in for instance earthquakes where aftershocks often follow larger shakes, in crime where a neighborhood or a single house is more likely to be victimized after having been robbed once (Numberphile) or in neurology where neurons exchange signals in spike trains, short bursts of activity followed by longer pauses. Mathematically this means that the process is not a pure Poisson process as the interarrival time of events is not independent and it is instead described by a XXX process, a type of self-excited Poisson process.\n",
    "<div style=\"display: inline-block; float: right; text-align: center; max-width: 50%; margin: 0 auto\">\n",
    "<img src=\"Pictures/interarrival times histogram.png\" style=\"margin: 0 auto; max-width: 100%; margin-bottom: 10px\">\n",
    "<figcaption style=\"font-style: italic\">Distribution of interarrival times for incoming links, cut-off at 2000</figcaption>\n",
    "</div>\n",
    "\n",
    "To determine if the interarrival times of incoming links exhibits burstiness the interarrival time for each link is calculated and shown in the histogram to the side. A bursty process will usually have a bi-modal distribution with peaks at both the short interarrival times in bursts and a peak at the longer interburst times (Cross Validated answer). This behaviour is not shown in the histogram which seems closer to the exponential distribution of interarrival times in a Poisson process. Additionally the coefficient of variation, $\\frac{\\sigma}{\\mu}$, of the interarrival times is 1.79, which is fairly close to the 1.0 expected of a Poisson process (Cross validated answer).\n",
    "With these two results it seems safe to assume that using burstiness as an index will not improve results in the link prediction."
   ]
  },
  {
   "cell_type": "markdown",
   "metadata": {},
   "source": [
    "## Predictive power of single features and feature correlation"
   ]
  },
  {
   "cell_type": "markdown",
   "metadata": {},
   "source": [
    "In the plots below the curves for the receiver operating characteristic as well as precision and recall is shown. The ROC curves show that all the shown features perform better than random guessing which would be a straight line between the diagonals, whereas the precision-recall curves show that there is quite a lot of difference between the predictive power of each feature."
   ]
  },
  {
   "cell_type": "code",
   "execution_count": null,
   "metadata": {
    "collapsed": false,
    "hide_input": true
   },
   "outputs": [],
   "source": [
    "plt.figure(figsize=(20,10))\n",
    "# Plot ROC curves\n",
    "plt.subplot(1,2,1)\n",
    "cn_res = X_test.loc[:, 'common_neighbors']\n",
    "fpr, tpr, cn_roc_thresh = roc_curve(y_test, cn_res, pos_label=1)\n",
    "plt.plot(fpr, tpr, '--')\n",
    "cr_res = X_test.loc[:, 'common_referrers']\n",
    "fpr, tpr, _ = roc_curve(y_test, cr_res, pos_label=1)\n",
    "plt.plot(fpr, tpr, ls='--')\n",
    "ra_res = X_test.loc[:, 'resource_allocation']\n",
    "fpr, tpr, _ = roc_curve(y_test, ra_res, pos_label=1)\n",
    "plt.plot(fpr, tpr, ls='--')\n",
    "ra_res = X_test.loc[:, 'leicht_holme_newman']\n",
    "fpr, tpr, _ = roc_curve(y_test, ra_res, pos_label=1)\n",
    "plt.plot(fpr, tpr)\n",
    "ra_res = X_test.loc[:, 'triadic_closeness']\n",
    "fpr, tpr, _ = roc_curve(y_test, ra_res, pos_label=1)\n",
    "plt.plot(fpr, tpr)\n",
    "ra_res = X_test.loc[:, 'preferential_attachment']\n",
    "fpr, tpr, pa_roc_thresh = roc_curve(y_test, ra_res, pos_label=1)\n",
    "plt.plot(fpr, tpr)\n",
    "ra_res = X_test.loc[:, 'adamic_adar']\n",
    "fpr, tpr, _ = roc_curve(y_test, ra_res, pos_label=1)\n",
    "plt.plot(fpr, tpr)\n",
    "#ra_res = -1*X_test.loc[:, 'shortest_path']\n",
    "#sp_fpr, sp_tpr, sp_thresh_roc = roc_curve(y_test, ra_res, pos_label=1)\n",
    "#plt.plot(sp_fpr, sp_tpr)\n",
    "plt.ylabel('True positive rate', fontsize=20)\n",
    "plt.xlabel('False positive rate', fontsize=20)\n",
    "\n",
    "# Plot precision recall curves\n",
    "plt.subplot(1,2,2)\n",
    "cn_res = X_test.loc[:, 'common_neighbors']\n",
    "prec, reca, cn_pr_thresh = precision_recall_curve(y_test, cn_res, pos_label=1)\n",
    "plt.plot(reca, prec, '--')\n",
    "cr_res = X_test.loc[:, 'common_referrers']\n",
    "prec, reca, cr_t_ = precision_recall_curve(y_test, cr_res, pos_label=1)\n",
    "plt.plot(reca, prec, ls='--')\n",
    "ra_res = X_test.loc[:, 'resource_allocation']\n",
    "prec, reca, cr_t_ = precision_recall_curve(y_test, ra_res, pos_label=1)\n",
    "plt.plot(reca, prec, ls='--')\n",
    "ra_res = X_test.loc[:, 'leicht_holme_newman']\n",
    "prec, reca, cr_t_ = precision_recall_curve(y_test, ra_res, pos_label=1)\n",
    "plt.plot(reca, prec)\n",
    "ra_res = X_test.loc[:, 'triadic_closeness']\n",
    "prec, reca, cr_t_ = precision_recall_curve(y_test, ra_res, pos_label=1)\n",
    "plt.plot(reca, prec)\n",
    "ra_res = X_test.loc[:, 'preferential_attachment']\n",
    "prec, reca, pa_pr_thresh = precision_recall_curve(y_test, ra_res, pos_label=1)\n",
    "plt.plot(reca, prec)\n",
    "ra_res = X_test.loc[:, 'adamic_adar']\n",
    "prec, reca, cr_t_ = precision_recall_curve(y_test, ra_res, pos_label=1)\n",
    "plt.plot(reca, prec)\n",
    "#ra_res = -1*X_test.loc[:, 'shortest_path']\n",
    "#sp_prec, sp_reca, sp_thresh_pr = precision_recall_curve(y_test, ra_res, pos_label=1)\n",
    "#plt.plot(sp_reca, sp_prec)\n",
    "plt.legend(['common_neighbors', 'common_referrers', 'resource_allocation', \n",
    "            'leicht_holme_newman', 'triadic_closeness', 'preferential_attachment', \n",
    "            'adamic_adar'], fontsize=20)\n",
    "plt.ylabel('Precision', fontsize=20)\n",
    "plt.xlabel('Recall', fontsize=20)\n",
    "plt.show()"
   ]
  },
  {
   "cell_type": "markdown",
   "metadata": {},
   "source": [
    "Apart from the predictive power of single features the correlation of different is important as it indicates whether two different features will tend to predict the same links. In the plot below the correlation between each feature is shown and it can be seen that particularly the common neighbor based features are highly correlated, which is also to be expected as they are variations on the same theme. This indicates that other features might be very important, even if they have a lower area under their precision recall curves."
   ]
  },
  {
   "cell_type": "code",
   "execution_count": null,
   "metadata": {
    "collapsed": true,
    "hide_input": false
   },
   "outputs": [],
   "source": [
    "rho = X_train.corr()"
   ]
  },
  {
   "cell_type": "code",
   "execution_count": null,
   "metadata": {
    "collapsed": false,
    "hide_input": false
   },
   "outputs": [],
   "source": [
    "cmap = sns.clustermap(rho)\n",
    "p=cmap.ax_heatmap.set_yticklabels(cmap.ax_heatmap.get_yticklabels(), rotation=0)"
   ]
  },
  {
   "cell_type": "markdown",
   "metadata": {},
   "source": [
    "# Supervised Methods"
   ]
  },
  {
   "cell_type": "markdown",
   "metadata": {},
   "source": [
    "Like in un-supervised learning, supervised learning in link prediction means finding a model that is able to predict whether two nodes will form a link based on other features of the network. The difference between the two is that supervised learning finds a model that explains the links already formed in a subset of the data, $G_{train}$ by combining different features such as common neighbors, node degree and node centrality and assign a weight to each feature according to its importance. This model can then be tested on the remaining data, $G_{test}$, and since this part of the network wasn't used to create the model it will give an unbiased result which can be used for evaluation."
   ]
  },
  {
   "cell_type": "markdown",
   "metadata": {},
   "source": [
    "## Feature selection"
   ]
  },
  {
   "cell_type": "markdown",
   "metadata": {},
   "source": [
    "For the supervised model it is possible to use all the different features described earlier, such as Common Neighbors, Common Referrers and so on. In many cases however the features are quite similar, for example Adamic-Adar and Resource Allocation only differ in that Adamic-Adar takes the log of the denominator. Precision wise this is not necessarily a problem since the number of samples still is much greater than the number of features, but redundant features makes the model harder to interpret and if real-time results are expected in an implementation of the classifier the additional computational time might be noticable by the end user. \n",
    "For these reasons it is interesting to look at reducing the number of features used in the final model for which there are three general approaches (Hasties)\n",
    "* Subset selection which involves finding the smallest subset of features which leads to the model with the best predictive power. For $p$ features this means fitting $2^p$ models, so often the variant forward stepwise selection is used, leading to much smaller computational times (Hasties).\n",
    "* Feature shrinking involves adding a regularization term to the computation of the minimal Residual Sum of Squares (RSS) which reduces overfitting of the model and if L1-regularization is used it can even prune out redundant features.\n",
    "* Dimensionality reduction covers matrix factorization techniques such as Principal Component Analysis (PCA) and Independent Component Analysis. Both have the advantage of decreasing the feature space however the model is often harder to interpret since the original feature space is transformed and for this reason they are not considered for feature selection for this project.\n",
    "\n",
    "To identify either the best subset of features or the regularization parameter it is necessary to use cross validation or an adjusted RSS that takes model complexity into account like the Akaike Information Criterion (AIC)."
   ]
  },
  {
   "cell_type": "markdown",
   "metadata": {},
   "source": [
    "### Logistic regression"
   ]
  },
  {
   "cell_type": "markdown",
   "metadata": {},
   "source": [
    "In machine learning terms link prediction is a categorical problem since we are investigating the binary response to $x$ links to $y$ shown below\n",
    "$$\n",
    "    f(x,y)= \n",
    "\\begin{cases}\n",
    "    1,& \\text{if } x \\ \\text{links to} \\ y \\\\\n",
    "    0,              & \\text{otherwise}\n",
    "\\end{cases}\n",
    "$$\n",
    "There are many methods specifically suited to categorical variables in machine learning where logistic regression is among the simplest. It is comparable to linear regression which is used and suited for continuous variables, but instead of modeling a continuous response it models a probability of a response variable taking some discrete value, $P(\\text{link}_{x,y} \\ | \\ \\text{feature}_{x,y})$ (REF HASTIES). Since true probabilites fall between 0 and 1 the logistic function is used, which for a range of input variables returns an S-shaped curve asymptotically approaching 0 and 1 in either limit\n",
    "$$\n",
    "p(X) = \\frac{e^{\\beta_0+\\beta_1X}}{1+e^{\\beta_0+\\beta_1X}}\n",
    "$$\n",
    "where $\\beta$ is the trainable parameter and X is the input series. The output probability can then be evaluated to determine if a link is formed.\n",
    "Since link prediction can benefit from using several input variables instead of only one it is an advantage that logistic regression can be expanded to multiple logistic regression quite simply by simply adding an addtional $\\beta$ parameter for each additional input. As with single regression the parameters are trained using maximum likelihood methods."
   ]
  },
  {
   "cell_type": "markdown",
   "metadata": {},
   "source": [
    "### Parameter tuning and feature selection"
   ]
  },
  {
   "cell_type": "markdown",
   "metadata": {},
   "source": [
    "The parameters that need to be decided for logistic regression is mainly the regularization strength and type. Regularization of a regressor adds a second, penalizing term to the loss function to be minimized, which rewards sparser models during training. Two common regularizers are the L1 and L2 norm which both take a parameter, $\\lambda$, that defines the strength of the regularization.\n",
    "In this way feature selection is performed at the same time as hyper parameter tuning, since regularization tries to minimize feature coefficients and for the L1 norm even sets the coefficients to 0.\n",
    "\n",
    "The PR-AUC plot of the best model chosen by cross validated searches of different regularization strengths are shown below for both L1 and L2 regularization as well as summary statistics."
   ]
  },
  {
   "cell_type": "code",
   "execution_count": null,
   "metadata": {
    "collapsed": false,
    "hide_input": false
   },
   "outputs": [],
   "source": [
    "%%time\n",
    "# Logistic Regression\n",
    "# Find hyper-parameters for the regressors\n",
    "# Try both L1 and L2 regularization with different coefficients\n",
    "param_grid = [{'penalty': ['l1'], 'solver': ['liblinear']}, {'penalty': ['l2']}]\n",
    "def scorer(ground_truth, predictions):\n",
    "    return average_precision_score(ground_truth, predictions[:,1])"
   ]
  },
  {
   "cell_type": "code",
   "execution_count": null,
   "metadata": {
    "collapsed": false,
    "hide_input": true
   },
   "outputs": [],
   "source": [
    "%%time\n",
    "print(\"# Tuning hyper-parameters for AUC-PR\")\n",
    "print()\n",
    "\n",
    "if isfile('pickles/l1_log_model.pkl'):\n",
    "    l1_log_model = pickle.load(open('pickles/l1_log_model.pkl', 'rb'))\n",
    "else:\n",
    "    # Do an exhaustive search of the entire grid\n",
    "    l1_log_model = LogisticRegressionCV(penalty='l1', Cs=[1e-4, 1e-2, 1, 1e2, 1e4], solver='liblinear', \n",
    "                                        scoring=make_scorer(scorer, needs_proba=True))\n",
    "    l1_log_model.fit(X_train, y_train)\n",
    "    with open('pickles/l1_log_model.pkl', 'wb') as fl:\n",
    "        l1_log_model.set_params({'scoring': 'f1'})\n",
    "        pickle.dump(l1_log_model, fl)\n",
    "\n",
    "if isfile('pickles/l2_log_model.pkl'):\n",
    "    l2_log_model = pickle.load(open('pickles/l2_log_model.pkl', 'rb'))\n",
    "else:\n",
    "    # Do an exhaustive search of the entire grid\n",
    "    l2_log_model = LogisticRegressionCV(penalty='l2', Cs=[1e-4, 1e-2, 1, 1e2, 1e4], \n",
    "                                        scoring=make_scorer(scorer, needs_proba=True))\n",
    "    l2_log_model.fit(X_train, y_train)\n",
    "    with open('pickles/l2_log_model.pkl', 'wb') as fl:\n",
    "        pickle.dump(l2_log_model, fl)\n",
    "\n",
    "l1_preds = l1_log_model.predict_proba(X_test)\n",
    "l2_preds = l2_log_model.predict_proba(X_test)\n",
    "print classification_report(y_test, l1_log_model.predict(X_test))\n",
    "print classification_report(y_test, l2_log_model.predict(X_test))\n",
    "\n",
    "l1_mean_avg_precision = average_precision_score(y_test, l1_preds[:,1])\n",
    "l2_mean_avg_precision = average_precision_score(y_test, l2_preds[:,1])\n",
    "precision_l1, recall_l1, _ = precision_recall_curve(y_test, l1_preds[:,1])\n",
    "precision_l2, recall_l2, _ = precision_recall_curve(y_test, l2_preds[:,1])\n",
    "plt.plot(recall_l1, precision_l1, lw=1, label='L1, mean avg. preceision {}'.format(l1_mean_avg_precision))\n",
    "plt.plot(recall_l2, precision_l2, lw=1, label='L2, mean avg. preceision {}'.format(l2_mean_avg_precision))\n",
    "plt.xlim([-0.05, 1.05])\n",
    "plt.ylim([-0.05, 1.05])\n",
    "plt.xlabel('Recall')\n",
    "plt.ylabel('Precision')\n",
    "plt.title('Precision and Recall for logistic regression with L1 and L2 regularization')\n",
    "plt.legend(bbox_to_anchor=(1.05, 1), loc=2, borderaxespad=0.)\n",
    "plt.show()"
   ]
  },
  {
   "cell_type": "markdown",
   "metadata": {},
   "source": [
    "Below the coefficients chosen for each regularization method can be seen. Neither regularization method excludes any of the features provided in the training set from the final model."
   ]
  },
  {
   "cell_type": "code",
   "execution_count": null,
   "metadata": {
    "collapsed": false,
    "hide_input": true
   },
   "outputs": [],
   "source": [
    "pd.DataFrame(zip(l1_log_model.coef_[0], l2_log_model.coef_[0]), \n",
    "                   index=X_train.columns.values, \n",
    "                   columns=['L1 regularization, lambda: {}'.format(1.0/l1_log_model.C_[0]), \n",
    "                            'L2 regularization, lambda: {}'.format(1.0/l2_log_model.C_[0])])"
   ]
  },
  {
   "cell_type": "markdown",
   "metadata": {},
   "source": [
    "### Decision trees"
   ]
  },
  {
   "cell_type": "markdown",
   "metadata": {},
   "source": [
    "A decision tree is a rule based classifier which can be seen as determining the class of a sample by asking questions to the features such as, *\"If there are more than 4 common neighbors, classify it is as a link\"* and combining these rules to divide the feature space into regions of different classes. Normally these rules are created by a top-down algorithm which greedily splits the training data based on what split gives the largest decrease in RSS after which the same procedure is recursively applied to the two new partitions, ad nauseam until some stopping criterion is reached.\n",
    "\n",
    "This leads to a set of rules that will be very good at predicting the training set, however it has a high likelihood of overfitting so usually this larger tree is pruned down in a manner similar to regularization in general linear models which reduces variance at the cost of some bias in the model."
   ]
  },
  {
   "cell_type": "markdown",
   "metadata": {},
   "source": [
    "## Random Forests"
   ]
  },
  {
   "cell_type": "markdown",
   "metadata": {},
   "source": [
    "### Hyper-parameter tuning and feature selection"
   ]
  },
  {
   "cell_type": "markdown",
   "metadata": {},
   "source": [
    "Random forests employ several different hyper parameters that can have great effect on the performance of the model. To select what hyper parameters are used a randomized, cross validated search is performed over the parameter space for all parameters except the number of distinct trees in the forest which is initially chosen to be 20. The scoring function to optimize is set as the area under the precision recall curve of predicted links."
   ]
  },
  {
   "cell_type": "code",
   "execution_count": 23,
   "metadata": {
    "collapsed": false,
    "hide_input": false
   },
   "outputs": [
    {
     "name": "stdout",
     "output_type": "stream",
     "text": [
      "Model with rank: 1\n",
      "Mean validation score: 0.397 (std: 0.033)\n",
      "Parameters: {'warm_start': True, 'oob_score': False, 'bootstrap': False, 'min_samples_leaf': 1, 'min_samples_split': 1, 'criterion': 'entropy', 'max_features': 'sqrt', 'max_depth': 1, 'class_weight': {True: 1}}\n",
      "\n",
      "Model with rank: 2\n",
      "Mean validation score: 0.363 (std: 0.005)\n",
      "Parameters: {'warm_start': True, 'oob_score': True, 'bootstrap': True, 'min_samples_leaf': 1, 'n_estimators': 20, 'min_samples_split': 11, 'criterion': 'gini', 'max_features': 'sqrt', 'max_depth': 11, 'class_weight': {True: 1}}\n",
      "\n",
      "Model with rank: 3\n",
      "Mean validation score: 0.353 (std: 0.012)\n",
      "Parameters: {'bootstrap': True, 'min_samples_leaf': 1, 'min_samples_split': 51, 'criterion': 'entropy', 'max_features': 'log2', 'max_depth': None, 'class_weight': {True: 5}}\n",
      "\n",
      "Wall time: 104 ms\n"
     ]
    }
   ],
   "source": [
    "%%time\n",
    "def scorer(ground_truth, predictions):\n",
    "    return average_precision_score(ground_truth, predictions[:,1])\n",
    "# Hyper-parameter tuning for random forests\n",
    "from sklearn.grid_search import GridSearchCV, RandomizedSearchCV\n",
    "from operator import itemgetter\n",
    "# Utility function to report best scores\n",
    "def report(grid_scores, n_top=3):\n",
    "    top_scores = sorted(grid_scores, key=itemgetter(1), reverse=True)[:n_top]\n",
    "    for i, score in enumerate(top_scores):\n",
    "        print(\"Model with rank: {0}\".format(i + 1))\n",
    "        print(\"Mean validation score: {0:.3f} (std: {1:.3f})\".format(\n",
    "              score.mean_validation_score,\n",
    "              np.std(score.cv_validation_scores)))\n",
    "        print(\"Parameters: {0}\".format(score.parameters))\n",
    "        print\n",
    "        (\"\")\n",
    "if isfile('pickles/rf_best_params.pkl'):\n",
    "    random_search = pickle.load(open('pickles/rf_best_params.pkl', 'rb'))\n",
    "else:\n",
    "    # build a classifier\n",
    "    clf = RandomForestClassifier(n_estimators=20)\n",
    "\n",
    "\n",
    "    # specify parameters and distributions to sample from\n",
    "    param_dist = {\"max_depth\": [1, 11, None],\n",
    "                  \"class_weight\": [{True: w} for w in [0.1, 1, 5, 15]],\n",
    "                  \"max_features\": ['sqrt', 'log2'],\n",
    "                  \"min_samples_split\": [1, 11, 51, 100],\n",
    "                  \"min_samples_leaf\": [1, 11, 51, 100],\n",
    "                  \"bootstrap\": [True, False],\n",
    "                  \"criterion\": [\"gini\", \"entropy\"]}\n",
    "\n",
    "    # run randomized search\n",
    "    n_iter_search = 20\n",
    "    random_search = RandomizedSearchCV(clf, param_distributions=param_dist,\n",
    "                                       n_iter=n_iter_search, scoring=make_scorer(scorer, needs_proba=True))\n",
    "    random_search.fit(X_train, y_train)\n",
    "    with open('pickles/rf_best_params.pkl', 'wb') as fl:\n",
    "        pickle.dump(random_search, fl)\n",
    "report(random_search.grid_scores_)\n",
    "top_scores = sorted(random_search.grid_scores_, key=itemgetter(1), reverse=True)[:3]\n",
    "best_params = top_scores[1].parameters\n",
    "best_params.update({'warm_start': False, 'oob_score': False, 'n_estimators': 30})"
   ]
  },
  {
   "cell_type": "markdown",
   "metadata": {},
   "source": [
    "The best parameters are chosen to be the 2nd model as the bootstrapped method allows for using the Out-Of-Bag (OOB) error for estimating the number of trees. The number of trees to be used in the model is now chosen by looking at the out-of-bag error for a model trained with the found hyper-parameter, which can be seen in the plot below. As a compromise between computational speed and error 50 individual trees are used for each model."
   ]
  },
  {
   "cell_type": "code",
   "execution_count": null,
   "metadata": {
    "collapsed": false,
    "hide_input": false
   },
   "outputs": [],
   "source": [
    "%%time\n",
    "min_estimators = 15\n",
    "max_estimators = 100\n",
    "if isfile('pickles/rf_n_estimators_oob.pkl'):\n",
    "    error_rate = pickle.load(open('pickles/rf_n_estimators_oob.pkl', 'rb'))\n",
    "else:\n",
    "    # Estimating the optimal number of trees for random forests using OOB error (whatever that is)\n",
    "    rf_params = random_search.best_params_\n",
    "    best_params.update({'warm_start':True, 'oob_score':True})\n",
    "    clf = RandomForestClassifier(**best_params)\n",
    "    error_rate = []\n",
    "    for i in range(min_estimators, max_estimators + 1, 5):\n",
    "        clf.set_params(n_estimators=i)\n",
    "        clf.fit(X_train, y_train)\n",
    "        # Record the OOB error for each `n_estimators=i` setting.\n",
    "        oob_error = 1 - clf.oob_score_\n",
    "        error_rate.append((i, oob_error))\n",
    "    with open('pickles/rf_n_estimators_oob.pkl', 'wb') as fl:\n",
    "        pickle.dump(error_rate, fl)"
   ]
  },
  {
   "cell_type": "code",
   "execution_count": null,
   "metadata": {
    "collapsed": false,
    "hide_input": false
   },
   "outputs": [],
   "source": [
    "xs, ys = zip(*error_rate)\n",
    "plt.plot(xs, ys)\n",
    "plt.xlim(15, max_estimators)\n",
    "plt.xlabel(\"n_estimators\")\n",
    "plt.ylabel(\"OOB error rate\")\n",
    "plt.show()\n",
    "best_params.update({'n_estimators': 30})"
   ]
  },
  {
   "cell_type": "markdown",
   "metadata": {
    "hide_input": true
   },
   "source": [
    "Note that the error rate is in accuracy for both classes which explains the low values of gain in the error rate as additional trees are included."
   ]
  },
  {
   "cell_type": "markdown",
   "metadata": {},
   "source": [
    "Finally a stepwise feature selection algorithm is employed to check what features should be included again optimizing for PR-AUC resulting in an optimal model where each feature is included. "
   ]
  },
  {
   "cell_type": "code",
   "execution_count": null,
   "metadata": {
    "collapsed": false,
    "hide_input": false
   },
   "outputs": [],
   "source": [
    "%%time\n",
    "# Feature selection for random forests\n",
    "from sklearn.feature_selection import RFECV\n",
    "if isfile('pickles/rfe_forest.pkl'):\n",
    "    rfe_forest = pickle.load(open('pickles/rfe_forest.pkl', 'rb'))\n",
    "else:\n",
    "    clf = RandomForestClassifier(**best_params)\n",
    "    rfe_forest = RFECV(estimator=clf, step=1, scoring=make_scorer(scorer, needs_proba=True))\n",
    "    rfe_forest.fit(X_train, y_train)\n",
    "    with open('pickles/rfe_forest.pkl', 'wb') as fl:\n",
    "        pickle.dump(rfe_forest, fl)"
   ]
  },
  {
   "cell_type": "code",
   "execution_count": null,
   "metadata": {
    "collapsed": false
   },
   "outputs": [],
   "source": [
    "print \"Included and excluded features as well as their importance\"\n",
    "print\n",
    "pd.DataFrame(zip(rfe_forest.support_, rfe_forest.estimator_.feature_importances_), \n",
    "             index=X_train.columns.values, columns=['Included', 'Importance'])"
   ]
  },
  {
   "cell_type": "code",
   "execution_count": null,
   "metadata": {
    "collapsed": false
   },
   "outputs": [],
   "source": [
    "print classification_report(y_test, rfe_forest.predict(X_test))"
   ]
  },
  {
   "cell_type": "code",
   "execution_count": null,
   "metadata": {
    "collapsed": true
   },
   "outputs": [],
   "source": [
    "preds = rfe_forest.predict_proba(X_test)\n",
    "mean_avg_precision = average_precision_score(y_test, preds[:,1])\n",
    "precision, recall, thresholds = precision_recall_curve(y_test, preds[:,1])\n",
    "plt.plot(recall, precision, lw=1, label='Avg. preceision {}'.format(mean_avg_precision))\n",
    "plt.xlim([-0.05, 1.05])\n",
    "plt.ylim([-0.05, 1.05])\n",
    "plt.xlabel('Recall',fontsize=20)\n",
    "plt.ylabel('Precision',fontsize=20)\n",
    "plt.title('Precision and Recall for a random forest classifier', fontsize=20)\n",
    "plt.legend(fontsize=15)\n",
    "plt.legend(bbox_to_anchor=(1.05, 1), loc=2, borderaxespad=0.)\n",
    "plt.show()"
   ]
  },
  {
   "cell_type": "code",
   "execution_count": 34,
   "metadata": {
    "collapsed": false
   },
   "outputs": [],
   "source": [
    "def sorted_scores(indexed_scores, G):\n",
    "    # Get the class probabilities for the test data set along with the source node and the target node\n",
    "    rf_preds = [(k[0], (k[1], v[1])) for k,v in indexed_scores]\n",
    "\n",
    "    # Sort the predictions by probability and store them indexed by node\n",
    "    srt_preds = {}\n",
    "    for src, edge in rf_preds:\n",
    "        trg = edge[0]\n",
    "        prob = edge[1]\n",
    "        if src not in srt_preds.keys():\n",
    "            srt_preds[src] = []\n",
    "        srt_preds[src].append(((src,trg), prob, y_test[src, trg]))\n",
    "    for src, predictions in srt_preds.iteritems():\n",
    "        srt_preds[src] = np.array(sorted(predictions, key=lambda x: x[1], reverse=True))\n",
    "    # Find the median position of real edges in the sorted predictions\n",
    "    ranked_medians = np.array([(node, np.median(np.nonzero(vals[:,2])), len(G[node])) \n",
    "                             for node, vals in srt_preds.iteritems() \n",
    "                             if vals[:,2].any()], dtype='object')\n",
    "    return ranked_medians"
   ]
  },
  {
   "cell_type": "code",
   "execution_count": 35,
   "metadata": {
    "collapsed": false
   },
   "outputs": [],
   "source": [
    "best_params.update({'class_weight': None, 'max_features':'sqrt'})\n",
    "rf = RandomForestClassifier(**best_params)\n",
    "rf.fit(X_train, y_train)\n",
    "preds = rf.predict_proba(X_test)\n",
    "rank_medians = sorted_scores(zip(X_test.index, preds), GCC)"
   ]
  },
  {
   "cell_type": "code",
   "execution_count": 38,
   "metadata": {
    "collapsed": false
   },
   "outputs": [
    {
     "name": "stdout",
     "output_type": "stream",
     "text": [
      "triadic_closeness: 0.05083\n",
      "bag_of_words  : 0.07981\n",
      "tf_idf        : 0.07789\n",
      "in_cluster    : 0.02800\n",
      "common_neighbors: 0.06858\n",
      "time_difference: 0.07938\n",
      "common_referrers: 0.03672\n",
      "preferential_attachment: 0.05376\n",
      "adamic_adar   : 0.19441\n",
      "leicht_holme_newman: 0.09501\n",
      "resource_allocation: 0.23561\n"
     ]
    }
   ],
   "source": [
    "for name, val in zip(X_train.columns.values, rf.feature_importances_):\n",
    "    print \"{:14}: {:.5f}\".format(name, val)"
   ]
  },
  {
   "cell_type": "code",
   "execution_count": 39,
   "metadata": {
    "collapsed": false
   },
   "outputs": [
    {
     "data": {
      "image/png": "[encoded data removed]",
      "text/plain": [
       "<matplotlib.figure.Figure at 0xfcfa8b70>"
      ]
     },
     "metadata": {},
     "output_type": "display_data"
    }
   ],
   "source": [
    "# Find the 95% threshold\n",
    "n_bins = 20\n",
    "n, bins, patches=plt.hist(rank_medians[:,1].astype('float64'), bins=n_bins, range=(0,100))\n",
    "vals, _,_ = binned_statistic(list(rank_medians[:,1]), list(rank_medians[:,2]), bins=bins, statistic='median')"
   ]
  },
  {
   "cell_type": "code",
   "execution_count": 40,
   "metadata": {
    "collapsed": false
   },
   "outputs": [
    {
     "data": {
      "image/png": "[encoded data removed]",
      "text/plain": [
       "<matplotlib.figure.Figure at 0xced3e80>"
      ]
     },
     "metadata": {},
     "output_type": "display_data"
    }
   ],
   "source": [
    "mean_avg_precision = average_precision_score(y_test, preds[:,1])\n",
    "precision, recall, thresholds = precision_recall_curve(y_test, preds[:,1])\n",
    "plt.plot(recall, precision, lw=1, label='Avg. preceision {}'.format(mean_avg_precision))\n",
    "plt.xlim([-0.05, 1.05])\n",
    "plt.ylim([-0.05, 1.05])\n",
    "plt.xlabel('Recall',fontsize=20)\n",
    "plt.ylabel('Precision',fontsize=20)\n",
    "plt.title('Precision and Recall for a random forest classifier', fontsize=20)\n",
    "plt.legend(fontsize=15)\n",
    "plt.legend(bbox_to_anchor=(1.05, 1), loc=2, borderaxespad=0.)\n",
    "plt.show()"
   ]
  },
  {
   "cell_type": "code",
   "execution_count": null,
   "metadata": {
    "collapsed": true
   },
   "outputs": [],
   "source": [
    "from sklearn.ensemble import GradientBoostingClassifier"
   ]
  },
  {
   "cell_type": "code",
   "execution_count": null,
   "metadata": {
    "collapsed": false
   },
   "outputs": [],
   "source": [
    "%%time\n",
    "gb = GradientBoostingClassifier(n_estimators=20, max_features='sqrt', loss='exponential', subsample=0.85, max_leaf_nodes=20)\n",
    "gb.fit(X_train, y_train)"
   ]
  },
  {
   "cell_type": "code",
   "execution_count": null,
   "metadata": {
    "collapsed": true
   },
   "outputs": [],
   "source": [
    "preds = gb.predict_proba(X_test)\n",
    "rank_medians = sorted_scores(zip(X_test.index, preds), GCC)"
   ]
  },
  {
   "cell_type": "code",
   "execution_count": null,
   "metadata": {
    "collapsed": false
   },
   "outputs": [],
   "source": [
    "mean_avg_precision = average_precision_score(y_test, preds[:,1])\n",
    "precision, recall, thresholds = precision_recall_curve(y_test, preds[:,1])\n",
    "plt.plot(recall, precision, lw=1, label='Avg. preceision {}'.format(mean_avg_precision))\n",
    "plt.xlim([-0.05, 1.05])\n",
    "plt.ylim([-0.05, 1.05])\n",
    "plt.xlabel('Recall',fontsize=20)\n",
    "plt.ylabel('Precision',fontsize=20)\n",
    "plt.title('Precision and Recall for a random forest classifier', fontsize=20)\n",
    "plt.legend(fontsize=15)\n",
    "plt.legend(bbox_to_anchor=(1.05, 1), loc=2, borderaxespad=0.)\n",
    "plt.show()"
   ]
  },
  {
   "cell_type": "code",
   "execution_count": null,
   "metadata": {
    "collapsed": false
   },
   "outputs": [],
   "source": [
    "from sklearn.neighbors import KNeighborsClassifier, RadiusNeighborsClassifier"
   ]
  },
  {
   "cell_type": "code",
   "execution_count": null,
   "metadata": {
    "collapsed": true
   },
   "outputs": [],
   "source": [
    "knn = KNeighborsClassifier()\n",
    "rn = RadiusNeighborsClassifier()"
   ]
  },
  {
   "cell_type": "code",
   "execution_count": null,
   "metadata": {
    "collapsed": false
   },
   "outputs": [],
   "source": [
    "%%time\n",
    "knn.fit(X_train,y_train)"
   ]
  },
  {
   "cell_type": "code",
   "execution_count": null,
   "metadata": {
    "collapsed": true
   },
   "outputs": [],
   "source": [
    "preds = knn.predict_proba(X_test)\n",
    "rank_medians = sorted_scores(zip(X_test.index, preds), GCC)"
   ]
  },
  {
   "cell_type": "code",
   "execution_count": null,
   "metadata": {
    "collapsed": false
   },
   "outputs": [],
   "source": [
    "mean_avg_precision = average_precision_score(y_test, preds[:,1])\n",
    "precision, recall, thresholds = precision_recall_curve(y_test, preds[:,1])\n",
    "plt.plot(recall, precision, lw=1, label='Avg. preceision {}'.format(mean_avg_precision))\n",
    "plt.xlim([-0.05, 1.05])\n",
    "plt.ylim([-0.05, 1.05])\n",
    "plt.xlabel('Recall',fontsize=20)\n",
    "plt.ylabel('Precision',fontsize=20)\n",
    "plt.title('Precision and Recall for a random forest classifier', fontsize=20)\n",
    "plt.legend(fontsize=15)\n",
    "plt.legend(bbox_to_anchor=(1.05, 1), loc=2, borderaxespad=0.)\n",
    "plt.show()"
   ]
  },
  {
   "cell_type": "code",
   "execution_count": null,
   "metadata": {
    "collapsed": false
   },
   "outputs": [],
   "source": [
    "fig, ax1 = plt.subplots()\n",
    "n, bins, patches = ax1.hist(rank_medians[:,1].astype('float64'), bins=n_bins, range=(0,100))\n",
    "vals, _,_ = binned_statistic(list(rank_medians[:,1]), list(rank_medians[:,2]), bins=bins, statistic='median')\n",
    "ax2 = ax1.twinx()\n",
    "ax2.plot(bins[:-1], vals, 'r', label='Median outdegree')\n",
    "ax1.set_xlabel('Median probability rank of true links',fontsize=20)\n",
    "ax1.set_ylabel('Count', fontsize=20)\n",
    "for tick in ax1.get_yticklabels():\n",
    "    tick.set_fontsize(15)\n",
    "ax2.set_ylabel('Degree',fontsize=20)\n",
    "for tick in ax2.get_yticklabels():\n",
    "    tick.set_fontsize(15)\n",
    "ax2.grid(None)\n",
    "fig.set_figheight(10)\n",
    "fig.set_figwidth(20)\n",
    "ax2.legend(fontsize=15)"
   ]
  },
  {
   "cell_type": "code",
   "execution_count": null,
   "metadata": {
    "collapsed": false
   },
   "outputs": [],
   "source": [
    "positions = []\n",
    "edges = []\n",
    "for predictions in srt_preds.itervalues():\n",
    "    if predictions[:,2].any():\n",
    "        curr_pos = np.nonzero(predictions[:,2])[0]\n",
    "        positions += list(curr_pos)\n",
    "        edges += list(predictions[curr_pos, 0])\n",
    "epcn = np.array(zip(edges, positions, X_test.loc[edges, 'common_neighbors'], y_test.loc[edges]))"
   ]
  },
  {
   "cell_type": "code",
   "execution_count": null,
   "metadata": {
    "collapsed": false
   },
   "outputs": [],
   "source": [
    "fig, ax1 = plt.subplots()\n",
    "n, bins, patches = ax1.hist(epcn[:,1].astype('float64'), bins=n_bins)\n",
    "vals, _,_ = binned_statistic(list(epcn[:,1]), list(epcn[:,2]), bins=bins, statistic='mean')\n",
    "ax2 = ax1.twinx()\n",
    "ax2.plot(bins[:-1], vals, 'r', label='Mean nr. of common neighbors')\n",
    "ax1.set_xlabel('Rank',fontsize=20)\n",
    "ax1.set_ylabel('Count', fontsize=20)\n",
    "for tick in ax1.get_yticklabels():\n",
    "    tick.set_fontsize(15)\n",
    "ax2.set_ylabel('Nr. of common neighbors',fontsize=20)\n",
    "for tick in ax2.get_yticklabels():\n",
    "    tick.set_fontsize(15)\n",
    "ax2.grid(None)\n",
    "fig.set_figheight(10)\n",
    "fig.set_figwidth(20)\n",
    "ax2.legend(fontsize=15)\n",
    "ax1.set_title('Rank distribution of true edges for all nodes', fontsize=20)"
   ]
  },
  {
   "cell_type": "code",
   "execution_count": null,
   "metadata": {
    "collapsed": false
   },
   "outputs": [],
   "source": [
    "from sklearn.metrics import confusion_matrix, precision_score, recall_score\n",
    "prec_reca_rank = []\n",
    "ranks = [1,2,5,10,20,50,100,1000, len(GCC.nodes())]\n",
    "for rank in ranks:\n",
    "    pred_at_rank = pos_and_y[:,0] <= rank - 1\n",
    "    prec=precision_score(pos_and_y[:,1], pred_at_rank)\n",
    "    reca=recall_score(pos_and_y[:,1], pred_at_rank)\n",
    "    prec_reca_rank.append((prec,reca,rank))\n",
    "plt.plot([reca for _,reca,_ in prec_reca_rank], [prec for prec,_,_ in prec_reca_rank])\n",
    "plt.xlabel('Recall')\n",
    "plt.ylabel('Precison')\n",
    "plt.title('Precision/Recall for varying rank threshold')"
   ]
  },
  {
   "cell_type": "code",
   "execution_count": null,
   "metadata": {
    "collapsed": false,
    "hide_input": false
   },
   "outputs": [],
   "source": [
    "\n",
    "\n",
    "n = G_train.nodes()[0]\n",
    "edg = G_train.in_edges(n, data=True)"
   ]
  },
  {
   "cell_type": "code",
   "execution_count": null,
   "metadata": {
    "collapsed": false
   },
   "outputs": [],
   "source": [
    "iat = []\n",
    "for _, item, nxt in neighborhood(edg):\n",
    "    if nxt:\n",
    "        iat.append(nxt[2]['date'] - item[2]['date'])"
   ]
  },
  {
   "cell_type": "code",
   "execution_count": null,
   "metadata": {
    "collapsed": false
   },
   "outputs": [],
   "source": [
    "iat"
   ]
  },
  {
   "cell_type": "markdown",
   "metadata": {},
   "source": [
    "The results for the validated model is shown below, both with the confusion matrix for a 50% threshold and the precision recall curve."
   ]
  },
  {
   "cell_type": "markdown",
   "metadata": {
    "collapsed": false,
    "hide_input": false
   },
   "source": [
    "## Burstiness"
   ]
  },
  {
   "cell_type": "code",
   "execution_count": null,
   "metadata": {
    "collapsed": false,
    "hide_input": false
   },
   "outputs": [],
   "source": [
    "def iter_w_neighbors(iterable):\n",
    "    \"\"\"\n",
    "    Easy access of previous and next item in a list\n",
    "    \"\"\"\n",
    "    iterator = iter(iterable)\n",
    "    prev = None\n",
    "    item = iterator.next()  # throws StopIteration if empty.\n",
    "    for next in iterator:\n",
    "        yield (prev,item,next)\n",
    "        prev = item\n",
    "        item = next\n",
    "    yield (prev,item,None)\n",
    "\n",
    "\n",
    "iat = []\n",
    "for node in G_train.nodes_iter():\n",
    "    for _, cur_edge, next_edge in iter_w_neighbors(G_train.in_edges_iter(node, data=True)):\n",
    "        if next_edge:\n",
    "            iat.append(abs((next_edge[2]['date'] - cur_edge[2]['date']).days) + 1)\n",
    "iat = np.array(iat)"
   ]
  },
  {
   "cell_type": "code",
   "execution_count": null,
   "metadata": {
    "collapsed": false
   },
   "outputs": [],
   "source": [
    "liat=math.log10(X_train)"
   ]
  },
  {
   "cell_type": "code",
   "execution_count": null,
   "metadata": {
    "collapsed": true
   },
   "outputs": [],
   "source": [
    "iat = np.array(iat)"
   ]
  },
  {
   "cell_type": "code",
   "execution_count": null,
   "metadata": {
    "collapsed": false
   },
   "outputs": [],
   "source": [
    "td = np.array(X_train.loc[:, 'time_difference'])"
   ]
  },
  {
   "cell_type": "code",
   "execution_count": null,
   "metadata": {
    "collapsed": false
   },
   "outputs": [],
   "source": [
    "(td+1.0).min()"
   ]
  },
  {
   "cell_type": "code",
   "execution_count": null,
   "metadata": {
    "collapsed": false
   },
   "outputs": [],
   "source": [
    "ax1 = plt.subplot(121)\n",
    "ax2 = plt.subplot(122)\n",
    "ax2.hist(np.log10(iat),bins=20)\n",
    "ax1.hist(np.log10(X_train.loc[y_train == False, 'time_difference']+1.0), bins=20)"
   ]
  },
  {
   "cell_type": "markdown",
   "metadata": {
    "hide_input": true
   },
   "source": [
    "# Supervised Results\n",
    "\n",
    "Finally a comparison between logistic regression, random forests and the best unsupervised classifier, Adamic/Adar. As can be seen random forests comes out the winner for now."
   ]
  },
  {
   "cell_type": "code",
   "execution_count": null,
   "metadata": {
    "collapsed": false,
    "hide_input": false
   },
   "outputs": [],
   "source": [
    "fig=plt.figure(figsize=(22,10))\n",
    "fig.suptitle('ROC and Precision / Recall for all classifiers', fontsize=20)\n",
    "rf_preds = rfe_forest.predict_proba(X_test)\n",
    "lr_preds = l1_log_model.predict_proba(X_test)\n",
    "ax1 = plt.subplot(1,2,1)\n",
    "ax1.set_xlim([-0.05, 1.05])\n",
    "ax1.set_ylim([-0.05, 1.05])\n",
    "fpr, tpr, _ = roc_curve(y_test, rf_preds[:,1])\n",
    "ax1.plot(fpr, tpr, lw=1, label='Random forest')\n",
    "fpr, tpr, _ = roc_curve(y_test, lr_preds[:,1])\n",
    "ax1.plot(fpr, tpr, lw=1, label='Logistic regression')\n",
    "fpr, tpr, _ = roc_curve(y_test, X_test.loc[:, 'adamic_adar'])\n",
    "ax1.plot(fpr, tpr, lw=1, label='Adamic/Adar')\n",
    "ax1.set_xlabel('False positive rate', fontsize=20)\n",
    "ax1.set_ylabel('True positive rate', fontsize=20)\n",
    "\n",
    "ax2 = plt.subplot(1,2,2)\n",
    "ax2.set_xlim([-0.05, 1.05])\n",
    "ax2.set_ylim([-0.05, 1.05])\n",
    "mean_avg_precision = average_precision_score(y_test, rf_preds[:,1])\n",
    "precision, recall, thresholds = precision_recall_curve(y_test, rf_preds[:,1])\n",
    "ax2.plot(recall, precision, lw=1, label='Random forest, avg. precision {:.3f}'.format(mean_avg_precision))\n",
    "mean_avg_precision = average_precision_score(y_test, lr_preds[:,1])\n",
    "precision, recall, thresholds = precision_recall_curve(y_test, lr_preds[:,1])\n",
    "ax2.plot(recall, precision, lw=1, label='Logistic regression, avg. precision {:.3f}'.format(mean_avg_precision))\n",
    "mean_avg_precision = average_precision_score(y_test, X_test.loc[:, 'adamic_adar'])\n",
    "precision, recall, thresholds = precision_recall_curve(y_test, X_test.loc[:, 'adamic_adar'])\n",
    "ax2.plot(recall, precision, lw=1, label='Adamic/Adar, avg. precision {:.3f}'.format(mean_avg_precision))\n",
    "ax2.set_xlabel('Recall', fontsize=20)\n",
    "ax2.set_ylabel('Precision', fontsize=20)\n",
    "ax2.legend(fontsize=15)\n",
    "plt.show()"
   ]
  },
  {
   "cell_type": "code",
   "execution_count": null,
   "metadata": {
    "collapsed": false
   },
   "outputs": [],
   "source": [
    "best_params.update({'class_weight': None})\n",
    "rf = RandomForestClassifier(**best_params)\n",
    "log_model = LogisticRegression(C=1e4, penalty='l1')\n",
    "rf.fit(X_train, y_train)\n",
    "log_model.fit(X_train, y_train)"
   ]
  },
  {
   "cell_type": "code",
   "execution_count": null,
   "metadata": {
    "collapsed": false
   },
   "outputs": [],
   "source": [
    "\n",
    "fig=plt.figure(figsize=(22,10))\n",
    "fig.suptitle('ROC and Precision / Recall for all classifiers', fontsize=20)\n",
    "rf_preds = rf.predict_proba(X_test)\n",
    "lr_preds = log_model.predict_proba(X_test)\n",
    "ax1 = plt.subplot(1,2,1)\n",
    "ax1.set_xlim([-0.05, 1.05])\n",
    "ax1.set_ylim([-0.05, 1.05])\n",
    "fpr, tpr, _ = roc_curve(y_test, rf_preds[:,1])\n",
    "ax1.plot(fpr, tpr, lw=1, label='Random forest')\n",
    "fpr, tpr, _ = roc_curve(y_test, lr_preds[:,1])\n",
    "ax1.plot(fpr, tpr, lw=1, label='Logistic regression')\n",
    "fpr, tpr, _ = roc_curve(y_test, X_test.loc[:, 'adamic_adar'])\n",
    "ax1.plot(fpr, tpr, lw=1, label='Adamic/Adar')\n",
    "ax1.set_xlabel('False positive rate', fontsize=20)\n",
    "ax1.set_ylabel('True positive rate', fontsize=20)\n",
    "\n",
    "ax2 = plt.subplot(1,2,2)\n",
    "ax2.set_xlim([-0.05, 1.05])\n",
    "ax2.set_ylim([-0.05, 1.05])\n",
    "mean_avg_precision = average_precision_score(y_test, rf_preds[:,1])\n",
    "precision, recall, thresholds = precision_recall_curve(y_test, rf_preds[:,1])\n",
    "ax2.plot(recall, precision, lw=1, label='Random forest, avg. precision {:.3f}'.format(mean_avg_precision))\n",
    "mean_avg_precision = average_precision_score(y_test, lr_preds[:,1])\n",
    "precision, recall, thresholds = precision_recall_curve(y_test, lr_preds[:,1])\n",
    "ax2.plot(recall, precision, lw=1, label='Logistic regression, avg. precision {:.3f}'.format(mean_avg_precision))\n",
    "mean_avg_precision = average_precision_score(y_test, X_test.loc[:, 'adamic_adar'])\n",
    "precision, recall, thresholds = precision_recall_curve(y_test, X_test.loc[:, 'adamic_adar'])\n",
    "ax2.plot(recall, precision, lw=1, label='Adamic/Adar, avg. precision {:.3f}'.format(mean_avg_precision))\n",
    "ax2.set_xlabel('Recall', fontsize=20)\n",
    "ax2.set_ylabel('Precision', fontsize=20)\n",
    "ax2.legend(fontsize=15)\n",
    "plt.show()"
   ]
  },
  {
   "cell_type": "markdown",
   "metadata": {
    "collapsed": false
   },
   "source": [
    "## Results on decimated network\n",
    "\n",
    "The evaluation methods used so far all assume that all the information regarding a link between two candidates is known, i.e. all older links in the network except the one being evaluated are intact. It is interesting to expose the classifier to the more adversarial task of finding links in a decimated network, since this corresponds to a network where only some of the links are observed, something which for instance is relevant for a recommender engine where the user is still in the process of adding references to the verdict.\n",
    "\n",
    "Two different ways to evaluate the decimated network are relevant:\n",
    "\n",
    "* Remove a percentage of links at random from the training network while keeping the test network intact.\n",
    "* Remove a percentage of links from each node to ensure that they are uniformly spread.This corresponds to the recommender engine case.\n"
   ]
  },
  {
   "cell_type": "code",
   "execution_count": null,
   "metadata": {
    "collapsed": false,
    "scrolled": true
   },
   "outputs": [],
   "source": [
    "%%time\n",
    "# Partition the edges\n",
    "# Find the edges belonging to the test candidates that have a degree higher than 1\n",
    "deg_over_two = [n for n,d in GCC.out_degree().iteritems() if d > 1]\n",
    "removable_edges = GCC.edges(deg_over_two)\n",
    "# Partition the edges\n",
    "n_partitions = 3\n",
    "edge_partitions = np.array_split(removable_edges, n_partitions)\n",
    "G_dec = GCC.copy()\n",
    "G_dec.remove_edges_from(edge_partitions[0])\n",
    "# Prepare a single year test set\n",
    "test_year = 2013\n",
    "GRAPH = 'cjeu'\n",
    "nodes_test = [n[0] for n in slice_graph_by_year(test_year, test_year, GCC)]\n",
    "# Create a training set\n",
    "G_train_dec = G_dec.copy()\n",
    "G_train_dec.remove_nodes_from(nodes_test)\n",
    "test_candidates = [(source, target, {}) for target in GCC.nodes() for source in nodes_test \n",
    "                   if source !=target]\n",
    "test_data = get_features(GCC, test_candidates, str(test_year) + \"_part_{}\".format(n_partitions))\n",
    "X_test_dec = test_data.ix[:, [col for col in test_data.columns if col not in ['edge', 'source', 'target']]]\n",
    "y_test_dec = test_data['edge']\n",
    "del test_data"
   ]
  },
  {
   "cell_type": "code",
   "execution_count": null,
   "metadata": {
    "collapsed": false
   },
   "outputs": [],
   "source": [
    "# Training set consisting of the nodes of the preceding year\n",
    "train_year = 2012\n",
    "nodes_train = [n[0] for n in slice_graph_by_year(train_year, train_year, G_train_dec)]\n",
    "train_candidates = [(source, target,{}) for target in G_train_dec.nodes() for source in nodes_train if not source==target]\n",
    "train_data = get_features(G_train_dec, train_candidates, str(train_year) + \"_part_{}\".format(n_partitions))\n",
    "y_train_dec = train_data['edge']\n",
    "X_train_dec = train_data.loc[:, [col for col in train_data.columns if col not in ['edge', 'source', 'target']]]"
   ]
  },
  {
   "cell_type": "code",
   "execution_count": null,
   "metadata": {
    "collapsed": false
   },
   "outputs": [],
   "source": [
    "best_params.update({'n_estimators': 30, 'warm_start': False, 'oob_score': False})\n",
    "rf_dec = RandomForestClassifier(**best_params)\n",
    "rf = RandomForestClassifier(**best_params)"
   ]
  },
  {
   "cell_type": "code",
   "execution_count": null,
   "metadata": {
    "collapsed": false
   },
   "outputs": [],
   "source": [
    "rf_dec.fit(X_train_dec, y_train_dec)\n",
    "rf.fit(X_train, y_train)"
   ]
  },
  {
   "cell_type": "code",
   "execution_count": null,
   "metadata": {
    "collapsed": true
   },
   "outputs": [],
   "source": [
    "preds_dec = rf_dec.predict_proba(X_test_dec)\n",
    "preds_dec_fm = rf.predict_proba(X_test_dec)\n",
    "preds = rf.predict_proba(X_test)\n",
    "mean_avg_precision = average_precision_score(y_test, preds[:,1])\n",
    "mean_avg_precision_dec = average_precision_score(y_test, preds_dec[:,1])\n",
    "mean_avg_precision_dec_fm = average_precision_score(y_test, preds_dec_fm[:,1])"
   ]
  },
  {
   "cell_type": "code",
   "execution_count": null,
   "metadata": {
    "collapsed": false
   },
   "outputs": [],
   "source": [
    "precision, recall, thresholds = precision_recall_curve(y_test, preds[:,1])\n",
    "plt.plot(recall, precision, lw=1, label='Avg. precision {:.3f}'.format(mean_avg_precision))\n",
    "precision, recall, thresholds = precision_recall_curve(y_test_dec, preds_dec_fm[:,1])\n",
    "plt.plot(recall, precision, lw=1, label='Avg. precision decimated, full model {:.3f}'.format(mean_avg_precision_dec_fm))\n",
    "precision, recall, thresholds = precision_recall_curve(y_test_dec, preds_dec[:,1])\n",
    "plt.plot(recall, precision, lw=1, label='Avg. precision decimated {:.3f}'.format(mean_avg_precision_dec))\n",
    "plt.xlim([-0.05, 1.05])\n",
    "plt.ylim([-0.05, 1.05])\n",
    "plt.xlabel('Recall',fontsize=20)\n",
    "plt.ylabel('Precision',fontsize=20)\n",
    "plt.title('Comparison of 1/3 decimated and full network', fontsize=20)\n",
    "plt.legend(fontsize=15)\n",
    "plt.legend(bbox_to_anchor=(1.05, 1), loc=2, borderaxespad=0.)\n",
    "plt.show()"
   ]
  },
  {
   "cell_type": "code",
   "execution_count": null,
   "metadata": {
    "collapsed": false
   },
   "outputs": [],
   "source": [
    "print classification_report(y_test_dec, pred_dec)"
   ]
  },
  {
   "cell_type": "code",
   "execution_count": null,
   "metadata": {
    "collapsed": false
   },
   "outputs": [],
   "source": [
    "print classification_report(y_test, pred)"
   ]
  },
  {
   "cell_type": "code",
   "execution_count": null,
   "metadata": {
    "collapsed": false
   },
   "outputs": [],
   "source": [
    "indexed_scores = zip(X_test_dec.index, preds_dec)\n",
    "ranked_medians_dec = sorted_scores(indexed_scores, G_dec)"
   ]
  },
  {
   "cell_type": "code",
   "execution_count": null,
   "metadata": {
    "collapsed": false
   },
   "outputs": [],
   "source": [
    "from scipy.stats import binned_statistic\n",
    "fig, ax1 = plt.subplots()\n",
    "n, bins, patches = ax1.hist(ranked_medians_dec[:,1].astype('float64'))\n",
    "vals, _,_ = binned_statistic(list(ranked_medians_dec[:,1]), list(ranked_medians_dec[:,2]), bins=bins, statistic='median')\n",
    "ax2 = ax1.twinx()\n",
    "ax2.plot(bins[:-1], vals, 'r', label='Median outdegree')\n",
    "ax1.set_xlabel('Median probability rank of true links',fontsize=20)\n",
    "ax1.set_ylabel('Count', fontsize=20)\n",
    "for tick in ax1.get_yticklabels():\n",
    "    tick.set_fontsize(15)\n",
    "ax2.set_ylabel('Degree',fontsize=20)\n",
    "for tick in ax2.get_yticklabels():\n",
    "    tick.set_fontsize(15)\n",
    "ax2.grid(None)\n",
    "fig.set_figheight(10)\n",
    "fig.set_figwidth(20)\n",
    "ax2.legend(fontsize=15)"
   ]
  },
  {
   "cell_type": "code",
   "execution_count": null,
   "metadata": {
    "collapsed": false
   },
   "outputs": [],
   "source": [
    "### COMPUTE FEATURES FOR ALL YEARS ###\n",
    "#years = range(1970, 1995)\n",
    "#years.reverse()\n",
    "#nodes_done = [n[0] for n in slice_graph_by_year(2013, 1995, GCC)]\n",
    "#G_cur = GCC.copy()\n",
    "#G_cur.remove_nodes_from(nodes_done)\n",
    "#for year in years:\n",
    "#    nodes_cur = [n[0] for n in slice_graph_by_year(year, year, G_cur)]\n",
    "#    G_next = G_cur.copy()\n",
    "#    G_next.remove_nodes_from(nodes_cur)\n",
    "#    cur_candidates = [(source, target, {}) for target in G_cur.nodes() for source in nodes_cur if not source==target]\n",
    "#    get_features(G_cur, cur_candidates, year)\n",
    "#    G_cur = G_next"
   ]
  },
  {
   "cell_type": "raw",
   "metadata": {
    "hide_input": true
   },
   "source": [
    "<!--bibtex\n",
    "\n",
    "@Article{Wang2014,\n",
    "author=\"Wang, Peng\n",
    "and Xu, BaoWen\n",
    "and Wu, YuRong\n",
    "and Zhou, XiaoYu\",\n",
    "title=\"Link prediction in social networks: the state-of-the-art\",\n",
    "journal=\"Science China Information Sciences\",\n",
    "year=\"2014\",\n",
    "volume=\"58\",\n",
    "number=\"1\",\n",
    "pages=\"1--38\",\n",
    "abstract=\"In social networks, link prediction predicts missing links in current networks and new or dissolution links in future networks, is important for mining and analyzing the evolution of social networks. In the past decade, many works have been done about the link prediction in social networks. The goal of this paper is to comprehensively review, analyze and discuss the state-of-the-art of the link prediction in social networks. A systematical category for link prediction techniques and problems is presented. Then link prediction techniques and problems are analyzed and discussed. Typical applications of link prediction are also addressed. Achievements and roadmaps of some active research groups are introduced. Finally, some future challenges of the link prediction in social networks are discussed.\",\n",
    "issn=\"1869-1919\",\n",
    "doi=\"10.1007/s11432-014-5237-y\",\n",
    "url=\"http://dx.doi.org/10.1007/s11432-014-5237-y\"\n",
    "}\n",
    "\n",
    "\n",
    "\n",
    "@phdthesis{Kataria2012,\n",
    " author = {Kataria, Saurabh},\n",
    " advisor = {Mitra, Prasenjit},\n",
    " title = {Topic Models for Link Prediction in Document Networks},\n",
    " year = {2012},\n",
    " isbn = {978-1-267-51143-0},\n",
    " note = {AAI3521232},\n",
    " publisher = {Pennsylvania State University},\n",
    " address = {University Park, PA, USA},\n",
    "}\n",
    "\n",
    "@article{Derlen2013coo,\n",
    "author={Derl{\\'e}n, Mattias and Lindholm, Johan and Rosvall, Martin and Mirshahvalad, Atieh},\n",
    "title={Coherence out of chaos : mapping European union law by running randomly through the maze of CJEU case law},\n",
    "journal={Europar{\\\"a}ttslig tidskrift},\n",
    "volume={:3, s. 517-535},\n",
    "year={2013},\n",
    "}\n",
    "\n",
    "@article{directedSchall,\n",
    "year={2014},\n",
    "issn={1869-5450},\n",
    "journal={Social Network Analysis and Mining},\n",
    "eid={157},\n",
    "volume={4},\n",
    "number={1},\n",
    "doi={10.1007/s13278-014-0157-9},\n",
    "title={Link prediction in directed social networks},\n",
    "url={http://dx.doi.org/10.1007/s13278-014-0157-9},\n",
    "publisher={Springer Vienna},\n",
    "keywords={Social networks; Link prediction; Metrics; Directed graphs; Patterns},\n",
    "author={Schall, Daniel},\n",
    "language={English}\n",
    "}\n",
    "\n",
    "@article{barandela2003strategies,\n",
    "  title={Strategies for learning in class imbalance problems},\n",
    "  author={Barandela, Ricardo and S{\\'a}nchez, Jos{\\'e} Salvador and Garc{\\i}a, Vicente and Rangel, Edgar},\n",
    "  journal={Pattern Recognition},\n",
    "  volume={36},\n",
    "  number={3},\n",
    "  pages={849--851},\n",
    "  year={2003},\n",
    "  publisher={Pergamon}\n",
    "}\n",
    "\n",
    "@article{Lu20111150,\n",
    "title = {Link prediction in complex networks: A survey },\n",
    "author = {Lü, Linyuan and Zhou, Tao},\n",
    "journal = {Physica A: Statistical Mechanics and its Applications },\n",
    "volume = {390},\n",
    "number = {6},\n",
    "pages = {1150 - 1170},\n",
    "year = {2011},\n",
    "issn = {0378-4371},\n",
    "doi = {http://dx.doi.org/10.1016/j.physa.2010.11.027},\n",
    "url = {http://www.sciencedirect.com/science/article/pii/S037843711000991X}\n",
    "}\n",
    "\n",
    "@INPROCEEDINGS{Cukierski2011, \n",
    "author={W. Cukierski and B. Hamner and B. Yang}, \n",
    "booktitle={Neural Networks (IJCNN), The 2011 International Joint Conference on}, \n",
    "title={Graph-based features for supervised link prediction}, \n",
    "year={2011}, \n",
    "pages={1237-1244}, \n",
    "keywords={directed graphs;learning (artificial intelligence);pattern classification;social networking (online);IJCNN social network challenge;Random Forests;directed graph;graph-based features;receiver-operator characteristic;social networks;supervised link prediction;Approximation methods;Bayesian methods;Feature extraction;Prediction algorithms;Prediction methods;Social network services;Sparse matrices}, \n",
    "doi={10.1109/IJCNN.2011.6033365}, \n",
    "ISSN={2161-4393}, \n",
    "month={July},}\n",
    "\n",
    "@inproceedings{Lichtenwalter,\n",
    " author = {Lichtenwalter, Ryan N. and Lussier, Jake T. and Chawla, Nitesh V.},\n",
    " title = {New Perspectives and Methods in Link Prediction},\n",
    " booktitle = {Proceedings of the 16th ACM SIGKDD International Conference on Knowledge Discovery and Data Mining},\n",
    " series = {KDD '10},\n",
    " year = {2010},\n",
    " isbn = {978-1-4503-0055-1},\n",
    " location = {Washington, DC, USA},\n",
    " pages = {243--252},\n",
    " numpages = {10},\n",
    " url = {http://doi.acm.org/10.1145/1835804.1835837},\n",
    " doi = {10.1145/1835804.1835837},\n",
    " acmid = {1835837},\n",
    " publisher = {ACM},\n",
    " address = {New York, NY, USA},\n",
    " keywords = {class imbalance, link prediction, machine learning, networks},\n",
    "} \n",
    "\n",
    "@Article{Rosvall2010,\n",
    "author=\"Rosvall, M.\n",
    "and Axelsson, D.\n",
    "and Bergstrom, T. C.\",\n",
    "title=\"The map equation\",\n",
    "journal=\"The European Physical Journal Special Topics\",\n",
    "year=\"2010\",\n",
    "volume=\"178\",\n",
    "number=\"1\",\n",
    "pages=\"13--23\",\n",
    "abstract=\"Many real-world networks are so large that we must simplify their structure before we can extract useful information about the systems they represent. As the tools for doing these simplifications proliferate within the network literature, researchers would benefit from some guidelines about which of the so-called community detection algorithms are most appropriate for the structures they are studying and the questions they are asking. Here we show that different methods highlight different aspects of a network's structure and that the the sort of information that we seek to extract about the system must guide us in our decision. For example, many community detection algorithms, including the popular modularity maximization approach, infer module assignments from an underlying model of the network formation process. However, we are not always as interested in how a system's network structure was formed, as we are in how a network's extant structure influences the system's behavior. To see how structure influences current behavior, we will recognize that links in a network induce movement across the network and result in system-wide interdependence. In doing so, we explicitly acknowledge that most networks carry flow. To highlight and simplify the network structure with respect to this flow, we use the map equation. We present an intuitive derivation of this flow-based and information-theoretic method and provide an interactive on-line application that anyone can use to explore the mechanics of the map equation. The differences between the map equation and the modularity maximization approach are not merely conceptual. Because the map equation attends to patterns of flow on the network and the modularity maximization approach does not, the two methods can yield dramatically different results for some network structures. To illustrate this and build our understanding of each method, we partition several sample networks. We also describe an algorithm and provide source code to efficiently decompose large weighted and directed networks based on the map equation.\",\n",
    "issn=\"1951-6401\",\n",
    "doi=\"10.1140/epjst/e2010-01179-1\",\n",
    "url=\"http://dx.doi.org/10.1140/epjst/e2010-01179-1\"\n",
    "}\n",
    "\n",
    "\n",
    "@article{LHN2,\n",
    "  title = {Vertex similarity in networks},\n",
    "  author = {Leicht, E. A. and Holme, Petter and Newman, M. E. J.},\n",
    "  journal = {Phys. Rev. E},\n",
    "  volume = {73},\n",
    "  issue = {2},\n",
    "  pages = {026120},\n",
    "  numpages = {10},\n",
    "  year = {2006},\n",
    "  month = {Feb},\n",
    "  publisher = {American Physical Society},\n",
    "  doi = {10.1103/PhysRevE.73.026120},\n",
    "  url = {http://link.aps.org/doi/10.1103/PhysRevE.73.026120}\n",
    "}\n",
    "\n",
    "@ARTICLE{Fouss06random-walkcomputation,\n",
    "    author = {Fouss, François and Pirotte, Alain and Renders, Jean-michel and Saerens, Marco},\n",
    "    title = {Random-walk computation of similarities between nodes of a graph, with application to collaborative recommendation},\n",
    "    journal = {IEEE Transactions on Knowledge and Data Engineering},\n",
    "    year = {2006},\n",
    "    volume = {19},\n",
    "    pages = {2007}\n",
    "}\n",
    "\n",
    "@inproceedings{LibenNowell2004,\n",
    " author = {Liben-Nowell, David and Kleinberg, Jon},\n",
    " title = {The Link Prediction Problem for Social Networks},\n",
    " booktitle = {Proceedings of the Twelfth International Conference on Information and Knowledge Management},\n",
    " series = {CIKM '03},\n",
    " year = {2003},\n",
    " isbn = {1-58113-723-0},\n",
    " location = {New Orleans, LA, USA},\n",
    " pages = {556--559},\n",
    " numpages = {4},\n",
    " url = {http://doi.acm.org/10.1145/956863.956972},\n",
    " doi = {10.1145/956863.956972},\n",
    " acmid = {956972},\n",
    " publisher = {ACM},\n",
    " address = {New York, NY, USA},\n",
    " keywords = {link analysis, link prediction, social networks},\n",
    "}\n",
    "\n",
    "@article{Linyuan2009,\n",
    "  title = {Similarity index based on local paths for link prediction of complex networks},\n",
    "  author = {L\\\"u, Linyuan and Jin, Ci-Hang and Zhou, Tao},\n",
    "  journal = {Phys. Rev. E},\n",
    "  volume = {80},\n",
    "  issue = {4},\n",
    "  pages = {046122},\n",
    "  numpages = {9},\n",
    "  year = {2009},\n",
    "  month = {Oct},\n",
    "  publisher = {American Physical Society},\n",
    "  doi = {10.1103/PhysRevE.80.046122},\n",
    "  url = {http://link.aps.org/doi/10.1103/PhysRevE.80.046122}\n",
    "}\n",
    "\n",
    "\n",
    "@article{KatzIndex,\n",
    "year={1953},\n",
    "issn={0033-3123},\n",
    "journal={Psychometrika},\n",
    "volume={18},\n",
    "number={1},\n",
    "doi={10.1007/BF02289026},\n",
    "title={A new status index derived from sociometric analysis},\n",
    "url={http://dx.doi.org/10.1007/BF02289026},\n",
    "publisher={Springer-Verlag},\n",
    "author={Katz, Leo},\n",
    "pages={39-43},\n",
    "language={English}\n",
    "}\n",
    "\n",
    "\n",
    "@ARTICLE{2015arXiv151204776T,\n",
    "   author = {{Tabourier}, L. and {Libert}, A.-S. and {Lambiotte}, R.},\n",
    "    title = \"{Predicting links in ego-networks using temporal information}\",\n",
    "  journal = {ArXiv e-prints},\n",
    "archivePrefix = \"arXiv\",\n",
    "   eprint = {1512.04776},\n",
    " keywords = {Computer Science - Social and Information Networks, Physics - Physics and Society},\n",
    "     year = {2015},\n",
    "    month = {dec},\n",
    "   adsurl = {http://adsabs.harvard.edu/abs/2015arXiv151204776T},\n",
    "  adsnote = {Provided by the SAO/NASA Astrophysics Data System}\n",
    "}\n",
    "\n",
    "@inproceedings{chang2009relational,\n",
    "  title={Relational topic models for document networks},\n",
    "  author={Chang, Jonathan and Blei, David M},\n",
    "  booktitle={International Conference on Artificial Intelligence and Statistics},\n",
    "  pages={81--88},\n",
    "  year={2009}\n",
    "}\n",
    "\n",
    "@inproceedings{Blei2011PTM,\n",
    " author = {Blei, David},\n",
    " title = {Probabilistic Topic Models},\n",
    " booktitle = {Proceedings of the 17th ACM SIGKDD International Conference Tutorials},\n",
    " series = {KDD '11 Tutorials},\n",
    " year = {2011},\n",
    " isbn = {978-1-4503-1201-1},\n",
    " location = {San Diego, California},\n",
    " pages = {5:1--5:1},\n",
    " articleno = {5},\n",
    " numpages = {1},\n",
    " url = {http://doi.acm.org.proxy.findit.dtu.dk/10.1145/2107736.2107741},\n",
    " doi = {10.1145/2107736.2107741},\n",
    " acmid = {2107741},\n",
    " publisher = {ACM},\n",
    " address = {New York, NY, USA},\n",
    "}\n",
    "\n",
    "@article{RWRLu,\n",
    "  author={Ming-Sheng Shang and Linyuan Lü and Wei Zeng and Yi-Cheng Zhang and Tao Zhou},\n",
    "  title={Relevance is more significant than correlation: Information filtering on sparse data},\n",
    "  journal={EPL (Europhysics Letters)},\n",
    "  volume={88},\n",
    "  number={6},\n",
    "  pages={68008},\n",
    "  url={http://stacks.iop.org/0295-5075/88/i=6/a=68008},\n",
    "  year={2009},\n",
    "  abstract={In some recommender systems where users can vote objects by ratings, the similarity between users can be quantified by a benchmark index, namely the Pearson correlation coefficient , which reflects the rating correlations. Another alternative way is to calculate the similarity based solely on the relevance information, namely whether a user has voted an object. The former one uses more information than the latter, and is intuitively expected to give more accurate rating predictions under the standard collaborative filtering framework. However, according to the extensive experimental analysis, this letter reports the opposite results that the latter method, making use of only the relevance information, can outperform the former method, especially when the data set is sparse. Our finding challenges the routine knowledge on information filtering, and suggests some alternatives to address the sparsity problem.}\n",
    "}\n",
    "\n",
    "@inproceedings{AnalysisMicroblogs,\n",
    " author = {Yin, Dawei and Hong, Liangjie and Davison, Brian D.},\n",
    " title = {Structural Link Analysis and Prediction in Microblogs},\n",
    " booktitle = {Proceedings of the 20th ACM International Conference on Information and Knowledge Management},\n",
    " series = {CIKM '11},\n",
    " year = {2011},\n",
    " isbn = {978-1-4503-0717-8},\n",
    " location = {Glasgow, Scotland, UK},\n",
    " pages = {1163--1168},\n",
    " numpages = {6},\n",
    " url = {http://doi.acm.org.proxy.findit.dtu.dk/10.1145/2063576.2063743},\n",
    " doi = {10.1145/2063576.2063743},\n",
    " acmid = {2063743},\n",
    " publisher = {ACM},\n",
    " address = {New York, NY, USA},\n",
    " keywords = {link analysis, link prediction, twitter},\n",
    "}\n",
    "\n",
    "@inproceedings{FormationMicroblogs,\n",
    " author = {Yin, Dawei and Hong, Liangjie and Xiong, Xiong and Davison, Brian D.},\n",
    " title = {Link Formation Analysis in Microblogs},\n",
    " booktitle = {Proceedings of the 34th International ACM SIGIR Conference on Research and Development in Information Retrieval},\n",
    " series = {SIGIR '11},\n",
    " year = {2011},\n",
    " isbn = {978-1-4503-0757-4},\n",
    " location = {Beijing, China},\n",
    " pages = {1235--1236},\n",
    " numpages = {2},\n",
    " url = {http://doi.acm.org/10.1145/2009916.2010136},\n",
    " doi = {10.1145/2009916.2010136},\n",
    " acmid = {2010136},\n",
    " publisher = {ACM},\n",
    " address = {New York, NY, USA},\n",
    " keywords = {link analysis, link formation, link prediction, microblogs},\n",
    "}\n",
    "-->"
   ]
  },
  {
   "cell_type": "code",
   "execution_count": null,
   "metadata": {
    "collapsed": true
   },
   "outputs": [],
   "source": []
  },
  {
   "cell_type": "markdown",
   "metadata": {},
   "source": [
    "# References\n",
    "\n",
    "<a name=\"cite-Lu20111150\"/><sup>[^](#ref-1) [^](#ref-4) </sup>Lü, Linyuan and Zhou, Tao. 2011. _Link prediction in complex networks: A survey _. [URL](http://www.sciencedirect.com/science/article/pii/S037843711000991X)\n",
    "\n",
    "<a name=\"cite-Wang2014\"/><sup>[^](#ref-2) [^](#ref-3) </sup>Wang, Peng\n",
    "and Xu, BaoWen\n",
    "and Wu, YuRong\n",
    "and Zhou, XiaoYu. 2014. _Link prediction in social networks: the state-of-the-art_. [URL](http://dx.doi.org/10.1007/s11432-014-5237-y)\n",
    "\n",
    "<a name=\"cite-LibenNowell2004\"/><sup>[^](#ref-5) [^](#ref-8) </sup>Liben-Nowell, David and Kleinberg, Jon. 2003. _The Link Prediction Problem for Social Networks_. [URL](http://doi.acm.org/10.1145/956863.956972)\n",
    "\n",
    "<a name=\"cite-directedSchall\"/><sup>[^](#ref-6) [^](#ref-7) </sup>Schall, Daniel. 2014. _Link prediction in directed social networks_. [URL](http://dx.doi.org/10.1007/s13278-014-0157-9)\n",
    "\n",
    "<a name=\"cite-Derlen2013coo\"/><sup>[^](#ref-9) </sup>Derl&eacute;n, Mattias and Lindholm, Johan and Rosvall, Martin and Mirshahvalad, Atieh. 2013. _Coherence out of chaos : mapping European union law by running randomly through the maze of CJEU case law_.\n",
    "\n",
    "<a name=\"cite-Rosvall2010\"/><sup>[^](#ref-10) </sup>Rosvall, M.\n",
    "and Axelsson, D.\n",
    "and Bergstrom, T. C.. 2010. _The map equation_. [URL](http://dx.doi.org/10.1140/epjst/e2010-01179-1)\n",
    "\n",
    "<a name=\"cite-KatzIndex\"/><sup>[^](#ref-11) </sup>Katz, Leo. 1953. _A new status index derived from sociometric analysis_. [URL](http://dx.doi.org/10.1007/BF02289026)\n",
    "\n",
    "<a name=\"cite-LHN2\"/><sup>[^](#ref-12) </sup>Leicht, E. A. and Holme, Petter and Newman, M. E. J.. 2006. _Vertex similarity in networks_. [URL](http://link.aps.org/doi/10.1103/PhysRevE.73.026120)\n",
    "\n",
    "<a name=\"cite-Fouss06random-walkcomputation\"/><sup>[^](#ref-13) </sup>Fouss, François and Pirotte, Alain and Renders, Jean-michel and Saerens, Marco. 2006. _Random-walk computation of similarities between nodes of a graph, with application to collaborative recommendation_.\n",
    "\n"
   ]
  }
 ],
 "metadata": {
  "kernelspec": {
   "display_name": "Python 2",
   "language": "python",
   "name": "python2"
  },
  "language_info": {
   "codemirror_mode": {
    "name": "ipython",
    "version": 2
   },
   "file_extension": ".py",
   "mimetype": "text/x-python",
   "name": "python",
   "nbconvert_exporter": "python",
   "pygments_lexer": "ipython2",
   "version": "2.7.11"
  }
 },
 "nbformat": 4,
 "nbformat_minor": 0
}
