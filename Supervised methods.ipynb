{
 "cells": [
  {
   "cell_type": "markdown",
   "metadata": {},
   "source": [
    "# Table of Contents\n",
    "* [Methods](#Methods)\n",
    "\t* [Topological features](#Topological-features)\n",
    "\t\t* [Local indexing](#Local-indexing)\n",
    "\t\t\t* [Common Neighbors (CN)](#Common-Neighbors-%28CN%29)\n",
    "\t\t\t* [Triadic Closeness (TC)](#Triadic-Closeness-%28TC%29)\n",
    "\t\t* [Global indexing](#Global-indexing)\n",
    "\t\t\t* [Shortest Path (SP)](#Shortest-Path-%28SP%29)\n",
    "\t\t\t* [Katz indexing (KZI)](#Katz-indexing-%28KZI%29)\n",
    "\t\t\t* [Leicht, Holme, Newman (LHN2)](#Leicht,-Holme,-Newman-%28LHN2%29)\n",
    "\t\t\t* [Average Commute Time (ACM)](#Average-Commute-Time-%28ACM%29)\n",
    "\t\t* [Quasi global indexing](#Quasi-global-indexing)\n",
    "\t\t\t* [Common referrers](#Common-referrers)\n",
    "\t\t\t* [Local Path Indexing (LPI)](#Local-Path-Indexing-%28LPI%29)\n",
    "\t\t\t* [Local Random Walk (LRW)](#Local-Random-Walk-%28LRW%29)\n",
    "\t\t\t* [Superimposed Random Walk (SRW)](#Superimposed-Random-Walk-%28SRW%29)\n",
    "\t* [Preparing the data](#Preparing-the-data)\n",
    "\t\t* [Class imbalance and data set size](#Class-imbalance-and-data-set-size)\n",
    "* [Supervised Methods](#Supervised-Methods)\n",
    "\t* [Feature selection](#Feature-selection)\n",
    "\t\t* [Logistic regression](#Logistic-regression)\n",
    "\t\t* [Decision trees](#Decision-trees)\n",
    "\t\t* [Comparison with unsupervised methods](#Comparison-with-unsupervised-methods)\n",
    "\t* [Communities as features](#Communities-as-features)\n",
    "\t* [Sequential classification](#Sequential-classification)\n"
   ]
  },
  {
   "cell_type": "code",
   "execution_count": 1,
   "metadata": {
    "collapsed": false,
    "hide_input": true
   },
   "outputs": [
    {
     "name": "stdout",
     "output_type": "stream",
     "text": [
      "Wall time: 33.5 s\n"
     ]
    }
   ],
   "source": [
    "%%time\n",
    "import matplotlib.pyplot as plt\n",
    "%matplotlib inline\n",
    "import seaborn as sns\n",
    "import sys\n",
    "import multiprocessing as mp\n",
    "import numpy as np\n",
    "import scipy.sparse.linalg as splin\n",
    "import random\n",
    "import math\n",
    "import heapq\n",
    "from os.path import isfile\n",
    "from sklearn.externals.six import StringIO\n",
    "import pydotplus\n",
    "import igraph as ig\n",
    "import time\n",
    "from sklearn.ensemble import RandomForestClassifier\n",
    "from scipy import interp\n",
    "from sklearn.metrics import roc_curve, auc, precision_recall_curve, average_precision_score, make_scorer\n",
    "from sklearn.grid_search import GridSearchCV\n",
    "from sklearn.cross_validation import StratifiedKFold, train_test_split\n",
    "from sklearn.metrics import confusion_matrix\n",
    "from sklearn.metrics import classification_report\n",
    "from sklearn.feature_selection import RFECV, SelectFromModel\n",
    "from sklearn.ensemble import RandomForestClassifier\n",
    "from sklearn import tree\n",
    "from collections import *\n",
    "import cPickle as pkl\n",
    "import pandas as pd\n",
    "from sklearn.linear_model import LogisticRegression, LogisticRegressionCV\n",
    "from sklearn.svm import SVC, SVR\n",
    "from scipy.sparse import dok_matrix"
   ]
  },
  {
   "cell_type": "code",
   "execution_count": 2,
   "metadata": {
    "collapsed": true,
    "hide_input": true
   },
   "outputs": [],
   "source": [
    "%run load_data.py\n",
    "GRAPH = 'EUCHR'\n",
    "np.random.seed(42)\n",
    "random.seed(42)\n",
    "\n",
    "\n",
    "# Find the greatest connected component and work on that\n",
    "components = []\n",
    "lengths = []\n",
    "# Find the greatest component from the undirected version of the graph\n",
    "for component in nx.connected_component_subgraphs(nx.Graph(G)):\n",
    "    components.append(component)\n",
    "    lengths.append(len(component))\n",
    "# Find the GCC as the largest component and then recreate the directed graph\n",
    "GCC = components[lengths.index(max(lengths))]\n",
    "GCC = G.subgraph(GCC.nodes())"
   ]
  },
  {
   "cell_type": "code",
   "execution_count": 3,
   "metadata": {
    "collapsed": false,
    "hide_input": true
   },
   "outputs": [],
   "source": [
    "def successors_scoped(node, head, G):\n",
    "    \"\"\"\n",
    "    Return the successors of a node scoped to the time specified by the head node\n",
    "    \n",
    "    arguments:\n",
    "    node -- node to return successors for\n",
    "    head -- node containing the timestamp to scope the graph to\n",
    "    G -- graph containing the nodes\n",
    "    \"\"\"\n",
    "    max_time = G.node[head]['date']\n",
    "    return [n for n in G[node] if G.node[n]['date'] <= max_time]\n",
    "\n",
    "def predecessors_scoped(node, head, G):\n",
    "    \"\"\"\n",
    "    Return the predecessors of a node scoped to the time specified by the head node\n",
    "    \n",
    "    arguments:\n",
    "    node -- node to return predecessors for\n",
    "    head -- node containing the timestamp to scope the graph to\n",
    "    G -- graph containing the nodes\n",
    "    \"\"\"\n",
    "    max_time = G.node[head]['date']\n",
    "    return [n for n in G.pred[node] if G.node[n]['date'] <= max_time]\n",
    "\n",
    "def scoped_neighborhood(node, head_node, G):\n",
    "    \"\"\"\n",
    "    Return the neighborhood of a node at a given timestamp\n",
    "    \n",
    "    arguments:\n",
    "    node -- node to find the neighborhood for\n",
    "    head_node -- node containing the timestamp to filter the nodes by\n",
    "    G -- directed graph containing the node\n",
    "    \"\"\"\n",
    "    max_date = G.node[head_node]['date']\n",
    "    pre = predecessors_scoped(node, head_node, G)\n",
    "    suc = successors_scoped(node, head_node, G)\n",
    "    return list(set(pre).union(set(suc)))    \n",
    "    \n",
    "def scoped_out_degree(node, head_node, G):\n",
    "    \"\"\"\n",
    "    Return the degree of a node at a given timestamp\n",
    "    \n",
    "    arguments:\n",
    "    node -- node to return the degree for\n",
    "    head_node -- node containing the timestamp to filter the nodes by\n",
    "    G -- graph containing the nodes\n",
    "    \"\"\"\n",
    "    max_date = G.node[head_node]['date']\n",
    "    neighborhood = [n for n in G[node] if G.node[n]['date'] <= max_date]\n",
    "    return len(neighborhood)\n",
    "\n",
    "def scoped_in_degree(node, head_node, G):\n",
    "    \"\"\"\n",
    "    Return the degree of a node at a given timestamp\n",
    "    \n",
    "    arguments:\n",
    "    node -- node to return the degree for\n",
    "    head_node -- node containing the timestamp to filter the nodes by\n",
    "    G -- graph containing the nodes\n",
    "    \"\"\"\n",
    "    max_date = G.node[head_node]['date']\n",
    "    neighborhood = [n for n in G.pred[node] if G.node[n]['date'] <= max_date]\n",
    "    return len(neighborhood)\n",
    "\n",
    "def scoped_degree(node, head_node, G):\n",
    "    \"\"\"\n",
    "    Return the degree of a node at a given timestamop\n",
    "    \"\"\"\n",
    "    return len(scoped_neighborhood(node, head_node, G))\n",
    "\n",
    "def get_common_neighbors(x,y,G):\n",
    "    u = set(scoped_neighborhood(x,x,G))\n",
    "    v = set(scoped_neighborhood(y,x,G))\n",
    "    return u.intersection(v)\n",
    "\n",
    "def get_neighbor_union(x,y,G):\n",
    "    u = set(scoped_neighborhood(x,x,G))\n",
    "    v = set(scoped_neighborhood(y,x,G))\n",
    "    return u.union(v)\n",
    "\n",
    "def get_common_referrers(x,y,G):\n",
    "    common_referrers_source = {n for m in successors_scoped(x, x, G) for n in predecessors_scoped(m, x, G)} - {x}\n",
    "    referrers_to_target = set(predecessors_scoped(y,x,G))\n",
    "    return common_referrers_source.intersection(referrers_to_target)\n",
    "\n",
    "    \n",
    "def common_referrers(validation_set, G, weighting_scheme=None):\n",
    "    \"\"\"\n",
    "    For a given node pair x and y, return the number of nodes that both refer to a node that x also refers and refers to y\n",
    "    or f(y) intersection g(f(x)) where f returns the predeccessors of a node and g returns the successors\n",
    "    \n",
    "    arguments:\n",
    "    validation_set -- list of edges to score\n",
    "    G -- digraph containing the nodes in the edges of the validation set\n",
    "    \n",
    "    returns:\n",
    "    list of edges with score as an attribute\n",
    "    \"\"\"\n",
    " \n",
    "    results = []\n",
    "    for non_edge in validation_set:\n",
    "        x = non_edge[0]\n",
    "        y = non_edge[1]\n",
    "        connected = y in G[x]\n",
    "        if connected:\n",
    "            G.remove_edge(x,y)\n",
    "        cn = get_common_referrers(x,y,G)\n",
    "        if weighting_scheme and weighting_scheme.is_local():\n",
    "            weights = []\n",
    "            for z in cn:\n",
    "                weights.append(weighting_scheme.score(z, x, G) * 1.0)\n",
    "            s = sum(weights)\n",
    "        else:\n",
    "            s = len(cn)\n",
    "        if weighting_scheme and weighting_scheme.is_global():\n",
    "            s = s*weighting_scheme.score(x,y,G)\n",
    "        if len(non_edge) > 2:\n",
    "            non_edge[2]['score'] = s\n",
    "            results.append(non_edge)\n",
    "        else:\n",
    "            results.append(s)\n",
    "        if connected:\n",
    "            G.add_edge(x,y)\n",
    "    return results\n",
    "\n",
    "def common_neighbors(validation_set, G, weighting_scheme=None, recalculate=False):\n",
    "    \"\"\"\n",
    "    Perform common neighbors scoring on a list of edges, backed by the database\n",
    "    \n",
    "    arguments:\n",
    "    validation_set -- list of edges to score\n",
    "    G -- digraph containing the nodes in the edges of the validation set\n",
    "    recalculate -- Whether to load edges from the database or recalculate them all    \n",
    "    returns:\n",
    "    list of edges with score as an attribute\n",
    "    \"\"\"\n",
    "    results = []\n",
    "    for non_edge in validation_set:\n",
    "        x = non_edge[0]\n",
    "        y = non_edge[1]\n",
    "        cn = get_common_neighbors(x,y,GCC)\n",
    "        if weighting_scheme and weighting_scheme.is_local():\n",
    "            weights = []\n",
    "            for z in cn:\n",
    "                weights.append(weighting_scheme.score(z, x, GCC) * 1.0)\n",
    "            s = sum(weights)\n",
    "        else:\n",
    "            s = len(cn)\n",
    "        if weighting_scheme and weighting_scheme.is_global():\n",
    "            s = s*weighting_scheme.score(x,y,GCC)\n",
    "        non_edge[2]['score'] = s\n",
    "        results.append(non_edge)\n",
    "    return results\n",
    "\n",
    "class WeightingScheme():\n",
    "    \n",
    "    def is_global(self):\n",
    "        return self.weight_type == \"global\"\n",
    "    def is_local(self):\n",
    "        return self.weight_type == \"local\"\n",
    "        \n",
    "\n",
    "class Jaccard(WeightingScheme):\n",
    "    \n",
    "    def __init__(self):\n",
    "        self.weight_type = \"global\"\n",
    "    \n",
    "    def score(self,x,y,G):\n",
    "        \"\"\"\n",
    "        Perform jaccard scoring on a list of edges\n",
    "\n",
    "        arguments:\n",
    "        validation_set -- list of edges to score\n",
    "        G -- digraph containing the nodes in the edges of the validation set\n",
    "\n",
    "        returns:\n",
    "        list of edges with score as an attribute\n",
    "        \"\"\"\n",
    "        u = set(scoped_neighborhood(x,x,G))\n",
    "        v = set(scoped_neighborhood(y,x,G))\n",
    "        try:\n",
    "            s = 1.0*len(u & v)/len(u | v)\n",
    "        except:\n",
    "            s = 0.0\n",
    "        return s\n",
    "    \n",
    "class AdamicAdar(WeightingScheme):\n",
    "    \n",
    "    def __init__(self):\n",
    "        self.weight_type = 'local'\n",
    "        \n",
    "    def score(self, z, x, G):\n",
    "        \"\"\"\n",
    "        Return the AdamicAdar coefficient for a single neighbor z, scoped to the time of a node x\n",
    "        \n",
    "        arguments:\n",
    "        z -- node to return the AA coefficient for\n",
    "        x -- node that holds the timestamp to scope z to\n",
    "        G -- graph containing x and z\n",
    "        \"\"\"\n",
    "        deg = scoped_degree(z,x,G)\n",
    "        if deg > 1:\n",
    "            return 1.0/math.log(scoped_degree(z, x, G))\n",
    "        else:\n",
    "            return 0.0\n",
    "\n",
    "        \n",
    "class ResourceAllocation(WeightingScheme):\n",
    "    \n",
    "    def __init__(self):\n",
    "        self.weight_type = 'local'\n",
    "        \n",
    "    def score(self, z, x, G):\n",
    "        \"\"\"\n",
    "        Return the RA coefficient for a single neighbor z, scoped to the time of a node x\n",
    "        \n",
    "        arguments:\n",
    "        z -- node to return the AA coefficient for\n",
    "        x -- node that holds the timestamp to scope z to\n",
    "        G -- graph containing x and z\n",
    "        \"\"\"\n",
    "        deg = scoped_degree(z,x,G)\n",
    "        if deg > 1:\n",
    "            return 1.0/scoped_degree(z, x, G)\n",
    "        else:\n",
    "            return 0.0\n",
    "\n",
    "\n",
    "        \n",
    "class LeichtHolmeNewman(WeightingScheme):\n",
    "    \n",
    "    def __init__(self):\n",
    "        self.weight_type = 'global'\n",
    "        \n",
    "    def score(self, x, y, G):\n",
    "        \"\"\"\n",
    "        Return the RA coefficient for a single neighbor z, scoped to the time of a node x\n",
    "        \n",
    "        arguments:\n",
    "        z -- node to return the AA coefficient for\n",
    "        x -- node that holds the timestamp to scope z to\n",
    "        G -- graph containing x and z\n",
    "        \"\"\"\n",
    "        x_deg = scoped_degree(x,x,G)\n",
    "        y_deg = scoped_degree(y,x,G)\n",
    "        if x_deg > 0 and y_deg > 0:\n",
    "            return 1.0/x_deg*y_deg\n",
    "        else:\n",
    "            return 0.0\n",
    "\n",
    "class HubDepressed(WeightingScheme):\n",
    "    def __init__(self):\n",
    "        self.weight_type = 'local'\n",
    "\n",
    "    def score(self, x, y, G):\n",
    "        x_deg = scoped_degree(x,x,G)\n",
    "        y_deg = scoped_degree(y,x,G)\n",
    "        if x_deg != 0 and y_deg != 0:\n",
    "            return 1.0/min(x_deg, y_deg)\n",
    "        else:\n",
    "            return 0.0\n",
    "    \n",
    "class HubPromoted(WeightingScheme):\n",
    "    def __init__(self):\n",
    "        self.weight_type = 'global'\n",
    "\n",
    "    def score(self, x, y, G):\n",
    "        x_deg = scoped_degree(x,x,G)\n",
    "        y_deg = scoped_degree(y,x,G)\n",
    "        if x_deg != 0 or y_deg != 0:\n",
    "            return 1.0/max(x_deg, y_deg)\n",
    "        else:\n",
    "            return 0.0\n",
    "\n",
    "class Salton(WeightingScheme):\n",
    "    def __init__(self):\n",
    "        self.weight_type = 'global'\n",
    "\n",
    "\n",
    "    def score(self, x, y, G):\n",
    "        x_deg = scoped_degree(x,x,G)\n",
    "        y_deg = scoped_degree(y,x,G)\n",
    "        if x_deg != 0 and y_deg != 0:\n",
    "            return 1.0/math.sqrt(x_deg*y_deg)\n",
    "        else:\n",
    "            return 0.0\n",
    "\n",
    "def hub_depressed(validation_set, G):\n",
    "    \"\"\"\n",
    "    Find the hub promoted similarity of a single edge\n",
    "    \"\"\"\n",
    "    results = []\n",
    "    for non_edge in validation_set:\n",
    "        x = non_edge[0]\n",
    "        y = non_edge[1]\n",
    "        cn = get_common_neighbors(x,y,G)\n",
    "        if scoped_out_degree(x, x, G) != 0 and scoped_in_degree(y, x, G) != 0:\n",
    "            s = 1.0*len(cn)/min(scoped_out_degree(x, x, G),scoped_in_degree(y, x, G))\n",
    "        else:\n",
    "            s = 0.0\n",
    "        non_edge[2]['score'] = s\n",
    "        results.append(non_edge)\n",
    "    return results\n",
    "\n",
    "def hub_promoted(validation_set, G):\n",
    "    \"\"\"\n",
    "    Find the hub promoted similarity of a single edge\n",
    "    \"\"\"\n",
    "    results = []\n",
    "    for non_edge in validation_set:\n",
    "        x = non_edge[0]\n",
    "        y = non_edge[1]\n",
    "        cn = get_common_neighbors(x,y,G)\n",
    "        if scoped_out_degree(x, x, G) != 0 or scoped_in_degree(y, x, G) != 0:\n",
    "            s = 1.0*len(cn)/max(scoped_out_degree(x, x, G),scoped_in_degree(y, x, G))\n",
    "        else:\n",
    "            s = 0.0\n",
    "        non_edge[2]['score'] = s\n",
    "        results.append(non_edge)\n",
    "    return results\n",
    "\n",
    "def salton(validation_set, G):\n",
    "    \"\"\"\n",
    "    Find the salton similarity of a single edge\n",
    "    \"\"\"\n",
    "    results = []\n",
    "    for non_edge in validation_set:\n",
    "        x = non_edge[0]\n",
    "        y = non_edge[1]\n",
    "        cn = get_common_neighbors(x,y,G)\n",
    "        if scoped_out_degree(x, x, G) == 0 or scoped_in_degree(y, x, G) == 0:\n",
    "            s = 0.0\n",
    "        else:\n",
    "            s = 1.0*len(cn)/math.sqrt(scoped_out_degree(x, x, G)*scoped_in_degree(y, x, G))\n",
    "        non_edge[2]['score'] = s\n",
    "        results.append(non_edge)\n",
    "    return results\n",
    "\n",
    "def leicht_holme_newman(validation_set, G):\n",
    "    \"\"\"\n",
    "    Perform LHN1 scoring on a single edge\n",
    "    \n",
    "    arguments:\n",
    "    non_edge -- edge tuple specified by node endpoints\n",
    "    G -- graph containing the nodes in the edge\n",
    "    \n",
    "    return:\n",
    "    edges with the score as an attribute\n",
    "    \"\"\"\n",
    "    results = []\n",
    "    for non_edge in validation_set:\n",
    "        x = non_edge[0]\n",
    "        y = non_edge[1]\n",
    "        cn = get_common_neighbors(x,y,G)\n",
    "        if scoped_out_degree(x, x, G) == 0 or scoped_in_degree(y, x, G) == 0:\n",
    "            s = 0.0\n",
    "        else:\n",
    "            s = 1.0*len(cn)/(scoped_out_degree(x, x, G)*scoped_in_degree(y, x, G))\n",
    "        non_edge[2]['score'] = s\n",
    "        results.append(non_edge)\n",
    "    return results\n",
    "\n",
    "def adamic_adar(validation_set, G):\n",
    "    \"\"\"\n",
    "    Perform jaccard scoring on a list of edges\n",
    "    \n",
    "    arguments:\n",
    "    validation_set -- list of edges to score\n",
    "    G -- digraph containing the nodes in the edges of the validation set\n",
    "    \n",
    "    returns:\n",
    "    list of edges with score as an attribute\n",
    "    \"\"\"\n",
    "    results = []\n",
    "    for non_edge in validation_set:\n",
    "        x = non_edge[0]\n",
    "        y = non_edge[1]\n",
    "        neighbors = get_common_neighbors(x,y,G)\n",
    "        s = 1*sum([1.0/math.log(scoped_degree(node, x, G)) for node in neighbors if scoped_degree(node, x, G) > 1])\n",
    "        non_edge[2]['score'] = s\n",
    "        results.append(non_edge)\n",
    "    return results\n",
    "\n",
    "def resource_allocation(validation_set, G):\n",
    "    \"\"\"\n",
    "    Perform resource allocation scoring on a list of edges\n",
    "    \n",
    "    arguments:\n",
    "    validation_set -- list of edges to score\n",
    "    G -- digraph containing the nodes in the edges of the validation set\n",
    "    \n",
    "    returns:\n",
    "    list of edges with score as an attribute\n",
    "    \"\"\"\n",
    "    results = []\n",
    "    for non_edge in validation_set:\n",
    "        x = non_edge[0]\n",
    "        y = non_edge[1]\n",
    "        neighbors = get_common_neighbors(x,y,G)\n",
    "        s = sum([1.0/scoped_degree(node, x, G) for node in neighbors if scoped_degree(node, x, G) > 1])\n",
    "        non_edge[2]['score'] = s\n",
    "        results.append(non_edge)\n",
    "    return results\n",
    "\n",
    "\n",
    "def preferential_attachment(validation_set, G):\n",
    "    \"\"\"\n",
    "    Perform preferential attachment scoring on a list of edges\n",
    "    \n",
    "    arguments:\n",
    "    validation_set -- list of edges to score\n",
    "    G -- digraph containing the nodes in the edges of the validation set\n",
    "    \n",
    "    returns:\n",
    "    list of edges with score as an attribute\n",
    "    \"\"\"\n",
    "\n",
    "    results = []\n",
    "    for non_edge in validation_set:\n",
    "        x = non_edge[0]\n",
    "        y = non_edge[1]\n",
    "        s = scoped_out_degree(x,x,G)*scoped_in_degree(y,x,G)\n",
    "        non_edge[2]['score'] = s\n",
    "        results.append(non_edge)\n",
    "    return results\n",
    "\n",
    "def triadic_closeness(validation_set, G, census=None, weighting_scheme=None):\n",
    "    \n",
    "    results = []\n",
    "    if census == None:\n",
    "        census = triadic_distribution(G)\n",
    "    for non_edge in validation_set:\n",
    "        \n",
    "        x = non_edge[0]\n",
    "        y = non_edge[1]\n",
    "        connected = y in G[x]\n",
    "        if connected:\n",
    "            G.remove_edge(x,y)\n",
    "        u = set(scoped_neighborhood(x,x,G))\n",
    "        v = set(scoped_neighborhood(y,x,G))\n",
    "        cn = u.intersection(v)\n",
    "        t_score = []\n",
    "        for z in cn:\n",
    "            triad = get_triad(x,z,y,G)\n",
    "            if census[triad] == 0:\n",
    "                continue\n",
    "            try:\n",
    "                F2 = census[triad+30]\n",
    "            except KeyError:\n",
    "                F2 = 0.0\n",
    "            try:\n",
    "                F1 = census[triad+10]\n",
    "            except KeyError:\n",
    "                F1 = 0.0\n",
    "            \n",
    "            # Add in any weighting schemes that work on the individual nodes in the common neighborhood\n",
    "            if weighting_scheme and weighting_scheme.is_local():\n",
    "                score = weighting_scheme.score(z, x, GCC)*(1.0*F1 + F2)/census[triad]\n",
    "            else:\n",
    "                score = (1.0*F1 + F2)/census[triad]\n",
    "            \n",
    "            t_score.append(score)\n",
    "        s = sum(t_score)\n",
    "        if weighting_scheme and weighting_scheme.is_global():\n",
    "            s = s*weighting_scheme.score(x, y, G)\n",
    "        if len(non_edge) > 2:\n",
    "            non_edge[2]['score'] = s\n",
    "            results.append(non_edge)\n",
    "        else:\n",
    "            results.append(s)\n",
    "        if connected:\n",
    "            G.add_edge(x,y)\n",
    "    return results\n",
    "\n",
    "def triadic_distribution(G):\n",
    "    \"\"\"\n",
    "    Return the distribution of closed triad configurations for a graph\n",
    "    The distribution is labelled as in the paper by Schall\n",
    "    http://link.springer.com.proxy.findit.dtu.dk/article/10.1007/s13278-014-0157-9\n",
    "    \n",
    "    arguments:\n",
    "    G -- directed graph\n",
    "    \n",
    "    returns:\n",
    "    Dict of labels with counts\n",
    "    \"\"\"\n",
    "    \n",
    "    # Integer labels as presented in the paper\n",
    "    TRIAD_NAMES = range(1,10) + range(11, 20) + range(21,30) + range (31, 40)\n",
    "    census = {name: 0 for name in TRIAD_NAMES}\n",
    "    for u in G.nodes_iter():\n",
    "        u_neighbors = list(set(G.successors(u)) | set(G.predecessors(u)))\n",
    "        for z in u_neighbors:\n",
    "            z_neighbors = list((set(G.successors(z)) | set(G.predecessors(z))) - {u} )\n",
    "            for v in z_neighbors:\n",
    "                name = get_triad(u,z,v, G)\n",
    "                census[name] += 1\n",
    "    return census\n",
    "\n",
    "\n",
    "def get_triad(u,z,v,G):\n",
    "    \"\"\"\n",
    "    Return the triad created by the nodes u,v and z\n",
    "    This implementation is quite probably awful.\n",
    "    \n",
    "    parameters:\n",
    "    \n",
    "    u -- starting node\n",
    "    z -- connecting node\n",
    "    v -- ending node\n",
    "    G -- DiGraph containing the nodes\n",
    "    \n",
    "    returns:\n",
    "    Dict containing closed triad counts\n",
    "    \"\"\"\n",
    "    \n",
    "    u_out = G[u]\n",
    "    v_out = G[v]\n",
    "    z_out = G[z]\n",
    "    id = 0\n",
    "    \n",
    "    if v in u_out and u in v_out:\n",
    "        id = 30\n",
    "    elif u in v_out:\n",
    "        id = 20\n",
    "    elif v in u_out:\n",
    "        id = 10\n",
    "    \n",
    "    if u in z_out and z not in u_out:\n",
    "        id += 7\n",
    "        if v in z_out and z not in v_out:\n",
    "            return id + 2\n",
    "        elif z in v_out and v not in z_out:\n",
    "            return id + 1\n",
    "        elif z in v_out and v in z_out:\n",
    "            return id\n",
    "        raise Exception(\"Error in finding triad\")\n",
    "    elif z in v_out and v not in z_out:\n",
    "        id += 5\n",
    "        if z in u_out and u not in z_out:\n",
    "            return id + 1\n",
    "        elif z in u_out and u in z_out:\n",
    "            return id\n",
    "        raise Exception(\"Error in finding triad\")\n",
    "    elif z in u_out and u not in z_out:\n",
    "        id += 3\n",
    "        if v in z_out and z not in v_out:\n",
    "            return id + 1\n",
    "        if v in z_out and z in v_out:\n",
    "            return id\n",
    "        raise Exception(\"Error in finding triad\")\n",
    "    elif z in u_out and u in z_out:\n",
    "        if v in z_out and z not in v_out:\n",
    "            return id + 2\n",
    "        elif v in z_out and z in v_out:\n",
    "            return id + 1\n",
    "    \n",
    "    raise Exception(\"No triad found\")\n",
    "        \n",
    "\n",
    "def get_closed_triads(x, y, G):\n",
    "    \"\"\"\n",
    "    Return the closed triads generated by adding a link from x to y.\n",
    "    Triads are classified according to the triadic_census algorithm of NetworkX based on \n",
    "    http://vlado.fmf.uni-lj.si/pub/networks/doc/triads/triads.pdf\n",
    "    \"\"\"\n",
    "    \n",
    "    # Taken directly from nx.triadic_census source\n",
    "    TRIAD_NAMES = ('003', '012', '102', '021D', '021U', '021C', '111D', '111U',\n",
    "                   '030T', '030C', '201', '120D', '120U', '120C', '210', '300')\n",
    "    census = {name: 0 for name in TRIAD_NAMES}\n",
    "    \n",
    "    x_in = set(G.predecessors(x))\n",
    "    y_in = set(G.predecessors(y))\n",
    "    x_out = set(G.successors(x))\n",
    "    y_out = set(G.successors(y))\n",
    "    \n",
    "    for node in x_in | y_in | x_out | y_out:\n",
    "        # y refers to a node that refers to x\n",
    "        if node in x_in and node in y_out:\n",
    "            census['030C'] += 1\n",
    "        # y is being referred to by a node that refers to x\n",
    "        if node in x_in and node in y_in:\n",
    "            census['030T'] += 1\n",
    "        # x refers to a node that refers to y\n",
    "        if node in x_out and node in y_in:\n",
    "            census['030T'] += 1\n",
    "        # x refers to a node that y refers to\n",
    "        if node in x_out and node in y_out:\n",
    "            census['030T'] += 1\n",
    "\n",
    "def time_difference(candidate_edges, G):\n",
    "    \"\"\"\n",
    "    Return the time difference for a set of edges\n",
    "    \"\"\"\n",
    "\n",
    "    results = []\n",
    "    \n",
    "    results = [(x,y, {'score': int((G.node[x]['date'] - G.node[y]['date']).days)}) for x,y,_ in candidate_edges]\n",
    "    return results\n",
    "\n",
    "def shortest_dag_path(candidate_edges, G):\n",
    "    results = []\n",
    "    longest_possible_path = len(G.nodes())\n",
    "    H = nx.Graph(G)\n",
    "    for x,y,_ in candidate_edges:\n",
    "        connected = y in G[x].keys()\n",
    "        if connected:\n",
    "            H.remove_edge(x,y)\n",
    "        try:\n",
    "            results.append((x,y,{'score': nx.shortest_path_length(H,x,y)}))\n",
    "        except:\n",
    "            results.append((x,y, {'score': longest_possible_path}))\n",
    "        if connected:\n",
    "            H.add_edge(x,y)\n",
    "    return results\n",
    "        \n",
    "class CommonNeighbors():\n",
    "    \"\"\"\n",
    "    An experiment that scores a list of edges based on the number of common neighbors between the source and the target node\n",
    "    \"\"\"\n",
    "    \n",
    "    def __init__(self, weighting_scheme=None):\n",
    "        self.weighting_scheme = weighting_scheme\n",
    "        \n",
    "    def valid_false_edges(self, G, source_nodes):\n",
    "        \"\"\"\n",
    "        Returns a list of edges that do not exist in G and will score highly on the common neighbors index\n",
    "        \n",
    "        Parameters\n",
    "        ----------\n",
    "        G: networkX.Graph\n",
    "            Graph to perform experiment on\n",
    "        source_nodes: list of tuples\n",
    "            Nodes containing the true edges to be scored\n",
    "        \"\"\"\n",
    "        false_validation_edges = [(source, target) for source in source_nodes\n",
    "                   for neighbor in G[source].keys()\n",
    "                   for target in set(scoped_neighborhood(neighbor, source, G)) - {source} if target not in G[source].keys()]\n",
    "        \n",
    "        false_validation_edges = list(set(false_validation_edges))\n",
    "        for i in range(len(false_validation_edges)):\n",
    "            edge = false_validation_edges[i]\n",
    "            # Add date information to the non-edge\n",
    "            false_validation_edges[i] = edge + ({'date': G.node[edge[0]]['date']},)\n",
    "        \n",
    "        return false_validation_edges\n",
    "        \n",
    "    def score_edges(self, edges, G):\n",
    "        return common_neighbors(edges, G, self.weighting_scheme)\n",
    "    \n",
    "class TriadicCloseness(CommonNeighbors):\n",
    "    \n",
    "    def __init__(self, cache_distribution=False, weighting_scheme=None):\n",
    "        self.cache_distribution = cache_distribution\n",
    "        self.census = None\n",
    "        self.weighting_scheme=weighting_scheme\n",
    "    \n",
    "    def score_edges(self, edges, G):\n",
    "        \n",
    "        if self.cache_distribution == True and self.census == None:\n",
    "            self.census = triadic_distribution(G)\n",
    "            return triadic_closeness(edges, G, self.census, self.weighting_scheme)\n",
    "        else:\n",
    "            return triadic_closeness(edges, G, self.census, self.weighting_scheme)\n",
    "    \n",
    "class CommonReferrers():\n",
    "    \n",
    "    def __init__(self, weighting_scheme=None):\n",
    "        self.weighting_scheme = weighting_scheme\n",
    "    \n",
    "    def valid_false_edges(self, G, source_nodes):\n",
    "        \"\"\"\n",
    "        Returns a list of edges that do not exist in G and will score highly on the common referrers index\n",
    "        \n",
    "        Parameters\n",
    "        ----------\n",
    "        G: networkX.Graph\n",
    "            Graph to perform experiment on\n",
    "        source_nodes: list of tuples\n",
    "            Nodes containing the true edges to be scored\n",
    "        \"\"\"\n",
    "        non_edges = []\n",
    "        for source in source_nodes:\n",
    "            neighbors = G[source].keys()\n",
    "            corefs = set()\n",
    "            for neighbor in neighbors:\n",
    "                corefs = corefs | {c for c in predecessors_scoped(neighbor, source, G)}\n",
    "            [non_edges.append((source, referee)) for coref in (corefs - {source}) \n",
    "                                                 for referee in set(successors_scoped(coref, source, G)) - set(neighbors)]\n",
    "            \n",
    "        for i in range(len(non_edges)):\n",
    "            edge = non_edges[i]\n",
    "            # Add date information to the non-edge\n",
    "            non_edges[i] = edge + ({'date': G.node[edge[0]]['date']},)\n",
    "        \n",
    "        return non_edges\n",
    "    \n",
    "    def score_edges(self, edges, G):\n",
    "        return common_referrers(edges, G, self.weighting_scheme)\n",
    "            \n",
    "                \n",
    "def valid_random_non_edges(graph, n):\n",
    "    \"\"\"\n",
    "    Returns randomized, non-existent links between nodes in the graph that are guaranteed to observe causality.\n",
    "\n",
    "    Parameters\n",
    "    ----------\n",
    "    graph : NetworkX graph.\n",
    "        Graph to find non-existent edges.\n",
    "    n : integer\n",
    "        Number of non-existent edges to find\n",
    "\n",
    "    Returns\n",
    "    -------\n",
    "    non_edges : list\n",
    "        List of n edges that are not in the graph.\n",
    "    \"\"\"\n",
    "    result_pairs = {}\n",
    "    # Sort edges according to age\n",
    "    sorted_edges =[node for node, data in sorted(graph.nodes(data=True), key=lambda x: x[1]['date'], reverse=True)]\n",
    "    node_set = set(graph.nodes())\n",
    "    candidates = list(np.random.choice(sorted_edges, n, replace=True))\n",
    "    i = 0\n",
    "    while i < len(candidates):\n",
    "        u = candidates[i]\n",
    "        if not u in result_pairs.keys():\n",
    "            result_pairs[u] = []\n",
    "            \n",
    "        # Make sure the potential neighbors respect causality with a resolution equal to the timestamp\n",
    "        cand_index = sorted_edges.index(u)\n",
    "        potential_neighbors = set(sorted_edges[cand_index:])\n",
    "        if graph.is_directed():\n",
    "            neighbors = set(graph.successors(u)).union(set(graph.predecessors(u)))\n",
    "        else:\n",
    "            neighbors = set(graph.neighbors(u))\n",
    "        # Make sure the potential neighbors respect causality\n",
    "        non_neighbors = list(potential_neighbors - neighbors - set(result_pairs[u]))\n",
    "        # The oldest node will have a neighborhood of Ø, so add a new candidate to the list in that case\n",
    "        if len(non_neighbors) == 0:\n",
    "            candidates.append(random.choice(graph.nodes()))\n",
    "        else:    \n",
    "            result_pairs[u].append(random.choice(non_neighbors))\n",
    "        i += 1\n",
    "    \n",
    "    return [(k,v) for k, arr in result_pairs.iteritems() for v in arr]\n",
    "        \n",
    "\n",
    "def k_fold_validate(G, k, experiment):\n",
    "    \"\"\"\n",
    "    K-fold validation of some specified function\n",
    "    \n",
    "    arguments:\n",
    "    G -- Graph to perform the function on\n",
    "    k -- number of folds\n",
    "    fun -- function to be evaluated\n",
    "    kwargs -- arguments to be passed to the evaluated function\n",
    "    \n",
    "    return:\n",
    "    List of lists of scored predictions\n",
    "    \"\"\"\n",
    "    results = []\n",
    "    validation_sets = []\n",
    "    edges = G.edges(data=True)\n",
    "    random.shuffle(edges)\n",
    "    # Find all edges that do not exist in the graph, but will return a high score\n",
    "    false_edges = experiment.valid_false_edges(G, G.nodes())\n",
    "    random.shuffle(false_edges)\n",
    "    M = len(false_edges)/k\n",
    "    # Find the number of true members in the validation set\n",
    "    N = len(edges)/k\n",
    "    for i in range(0,k):\n",
    "        validation_sets.append(edges[i*N:(i+1)*N] + false_edges[i*M:(i+1)*M])\n",
    "    for val_edges in validation_sets:\n",
    "        res = experiment.score_edges(val_edges, G)\n",
    "        # If not shuffled, subsequent sorting algorithms will always rank true edges higher than false edges when they have\n",
    "        # the same score\n",
    "        random.shuffle(res)\n",
    "        results.append(res)\n",
    "    return results\n",
    "\n",
    "def k_fold_nodes(G, k, experiment):\n",
    "    \"\"\"\n",
    "    Perform k-fold validation on the nodes of the graph.\n",
    "    This validation only tests relevant false edges, i.e. edges where we are fairly certain the score won't come out as 0.0\n",
    "    making it useful for precision / recall, but not for AUC. The true edges can still score 0.0\n",
    "    \"\"\"\n",
    "    results = []\n",
    "    nodes = G.nodes()\n",
    "    random.shuffle(nodes)\n",
    "    N = len(nodes)/k\n",
    "    validation_sets = []\n",
    "    for i in range(0, k):\n",
    "        validation_sets.append(nodes[i*N:(i+1)*N])\n",
    "    for true_nodes in validation_sets:\n",
    "        # Validation sets consist of all possible the edges in \n",
    "        val_edges = [(source, target, G[source][target]) for source in true_nodes for target in G[source].keys()]\n",
    "        val_set = set((source, target) for (source, target, _) in val_edges)\n",
    "        G_train = G.copy()\n",
    "        G_train.remove_edges_from(val_edges)\n",
    "        false_validation_edges = experiment.valid_false_edges(G, true_nodes)\n",
    "        false_validation_edges = [(x,y,data) for (x,y,data) in false_validation_edges if (x,y) not in val_set]\n",
    "        validation_set = val_edges + false_validation_edges\n",
    "        # If not shuffled, subsequent sorting algorithms will always rank true edges higher than false edges when they have\n",
    "        # the same score\n",
    "        random.shuffle(validation_set)        \n",
    "        results.append(experiment.score_edges(validation_set, G))\n",
    "    return results\n",
    "\n",
    "def at_degree_validation(G, experiment, degree):\n",
    "    if degree < 2:\n",
    "        raise Exception('Degree must be larger than 2')\n",
    "    res = {}\n",
    "    H = G.copy()\n",
    "    to_be_evaluated = []\n",
    "    # Randomly sample n nodes from each degree bin\n",
    "    deg=nx.degree(G)\n",
    "    h = {}\n",
    "    for node in G.nodes_iter():\n",
    "        if G.out_degree(node) == degree:\n",
    "            to_be_evaluated.append(node)\n",
    "    for node in to_be_evaluated:\n",
    "        res[node] = []\n",
    "        e = G.edges(node, data=True)\n",
    "        if not len(e) == degree:\n",
    "            raise Exception(\"Mismatch: {}\".format(len(e)))\n",
    "        G.remove_edges_from(e[1:degree-1])\n",
    "        for i in range(1, degree):\n",
    "            to_be_scored = experiment.valid_false_edges(H, [node]) + e[i:degree]\n",
    "            random.shuffle(to_be_scored)\n",
    "            scored_edges = experiment.score_edges(to_be_scored, G)\n",
    "            [edge[2].update({'n_edges': i}) for edge in scored_edges]\n",
    "            res[node] += scored_edges\n",
    "            #res[node][i] = scored_edges\n",
    "            G.add_edge(e[i][0], e[i][1])\n",
    "    return res\n",
    "        \n",
    "def precision(G, results, L):\n",
    "    \"\"\"\n",
    "    Find the ratio of the true positives to trues\n",
    "    \n",
    "    arguments:\n",
    "    G -- graph the results are based on\n",
    "    results -- list of lists of scored predictions\n",
    "    L -- number of results to be considered\n",
    "    \n",
    "    return:\n",
    "    List of precisions for each set of results\n",
    "    \"\"\"\n",
    "    # Sort the results with descending scores\n",
    "    results = [sorted(result, key=lambda x: x[2]['score'], reverse=True) for result in results]\n",
    "    for res in results:\n",
    "        if L > len(res):\n",
    "            raise ArgumentError(\"L is larger than the number of results\")\n",
    "    edge_set = set(G.edges())\n",
    "    # True positives exist in both the edge set and the result set\n",
    "    true_positives = [[(edge[0],edge[1]) for edge in result[0:L] if (edge[0], edge[1]) in edge_set] for result in results]\n",
    "    return [1.0*len(trues)/L for trues in true_positives]\n",
    "\n",
    "def per_node_precision(G, results):\n",
    "    \"\"\"\n",
    "    results : dict\n",
    "        A dict of {node: [e1, e2, ... e_n]} where e is an edge of the form (source, target, {'n_edges': x, 'score': y}) where\n",
    "        n_edges number of edges the node had when the prediction was made.\n",
    "    \"\"\"\n",
    "    \n",
    "    m = 43\n",
    "    # Create a dict that all the edges sorted by score and grouped by n_edges and then node\n",
    "    s = {n: {k: [] for k in range(1,m+1)} for n in results.iterkeys()}\n",
    "    for node, node_res in results.iteritems():\n",
    "        # Sort the entire list of results\n",
    "        srt = sorted(node_res, key=lambda x: x[2]['score'], reverse=True)\n",
    "        for x,y,data in srt:\n",
    "            # Add each result to its proper bin\n",
    "            s[node][data['n_edges']].append((x,y,{'score': data['score']}))\n",
    "    precisions = {k: [] for k in range(1,m+1)}\n",
    "    edge_set = set(G.edges())\n",
    "    for node, node_res in s.iteritems():\n",
    "        n = G.out_degree(node)\n",
    "        for level, results in node_res.iteritems():\n",
    "            L = n-level\n",
    "            if len(results) == 0:\n",
    "                break\n",
    "            precisions[level].append(1.0*len([(edge[0],edge[1]) for edge in results[0:L] if (edge[0], edge[1]) in edge_set])/L)\n",
    "    return precisions\n",
    "    \n",
    "\n",
    "def precision2(G, results, L):\n",
    "    \"\"\"\n",
    "    Find the ratio of the true positives to trues\n",
    "    \n",
    "    arguments:\n",
    "    G -- graph the results are based on\n",
    "    results -- list of lists of scored predictions\n",
    "    L -- number of results to be considered\n",
    "    \n",
    "    return:\n",
    "    List of precisions for each set of results\n",
    "    \"\"\"\n",
    "    # Sort the results with descending scores\n",
    "    #results = heapq.nlargest(L, results, key=lambda x: x[2]['score'])\n",
    "    edge_set = set(G.edges())\n",
    "    # True positives exist in both the edge set and the result set\n",
    "    true_positives = [(edge[0],edge[1]) for edge in results if (edge[0], edge[1]) in edge_set]\n",
    "    return 1.0*len(true_positives)/L\n",
    "\n",
    "def AUC(G, results):\n",
    "    \"\"\"\n",
    "    Perform n trials where the score of a non-edge and an edge in the result is compared. Count the number of trials where\n",
    "    the edge had the higher score as n' and the number of times the score was equal as n'' and return the AUC as (n' + n'')/n.\n",
    "    \n",
    "    arguments:\n",
    "    G -- graph the results are based on\n",
    "    results -- list of lists of scored predictions\n",
    "    \n",
    "    return:\n",
    "    List of precisions for each set of results\n",
    "    \"\"\"\n",
    "    \n",
    "    edge_set = set(G.edges())\n",
    "    AUC = []\n",
    "    for result_set in results:\n",
    "        true_edges = []\n",
    "        false_edges = []\n",
    "        for (x,y,data) in result_set:\n",
    "            if (x,y) in edge_set:\n",
    "                true_edges.append((x,y,data))\n",
    "            else:\n",
    "                false_edges.append((x,y,data))\n",
    "        \n",
    "        random.shuffle(true_edges)\n",
    "        random.shuffle(false_edges)\n",
    "        n = len(true_edges)\n",
    "        n_better = 0.0\n",
    "        n_same = 0.0\n",
    "        for i in range(0, n):\n",
    "            if true_edges[i][2]['score'] > false_edges[i][2]['score']:\n",
    "                n_better += 1.0\n",
    "            if true_edges[i][2]['score'] == false_edges[i][2]['score']:\n",
    "                n_same += 1.0\n",
    "        AUC.append((n_better + 0.5*n_same)/n)\n",
    "    return AUC\n",
    "\n",
    "def in_cluster(candidate_edges, G):\n",
    "    results = []\n",
    "    nx.write_gml(G, 'G.gml', stringizer=lambda x: str(x))\n",
    "    G_i = ig.Graph.Read_GML('G.gml')\n",
    "    vc = G_i.community_infomap()\n",
    "    node_to_cluster = {}\n",
    "    for node, cluster in zip(G_i.vs(), vc.membership):\n",
    "        node_to_cluster[node['label']] = cluster\n",
    "    for x,y,data in candidate_edges:\n",
    "        s = False\n",
    "        if node_to_cluster[x] == node_to_cluster[y]:\n",
    "            s = True\n",
    "        results.append((x,y,{'score': s}))\n",
    "    return results\n",
    "\n",
    "def slice_graph_by_year(start_year, end_year, G):\n",
    "    \"\"\"\n",
    "    Returns all nodes created within a range of years\n",
    "    \"\"\"\n",
    "    if datetime.date(start_year, 1, 1) < datetime.date(end_year, 1, 1):\n",
    "        raise ArgumentError(\"The starting year must be larger than or equal to the ending year\")\n",
    "    t1 = datetime.date(start_year, 12, 31)\n",
    "    t2 = datetime.date(end_year, 1, 1)\n",
    "    \n",
    "    return [n for n in G.nodes(data=True) if n[1]['date'] >= t2 and n[1]['date'] < t1]\n",
    "\n",
    "f = lambda x, y, G: y in G[x].keys()\n",
    "features = ['edge',\n",
    "            'triadic_closeness',\n",
    "            'common_neighbors',\n",
    "            'time_difference',\n",
    "            'common_referrers',\n",
    "            'src_degree', \n",
    "            'trg_degree', \n",
    "            'degree_product',\n",
    "            'common_referrersadamic_adar',\n",
    "            'adamic_adar', \n",
    "            'leicht_holme_newman',\n",
    "            'resource_allocation']\n",
    "\n",
    "def get_features(G, cand_edges, year, load=True):\n",
    "    \n",
    "    def load_or_extract(function, f_name, year, cand_edges, G, load=True):\n",
    "        path = 'pickles/'+GRAPH+'_'+year+'_'+f_name+'.pkl'\n",
    "        res = pd.Series(index=cand_edges)\n",
    "        if isfile(path) and load:\n",
    "            res = pd.read_pickle(path)\n",
    "        else:\n",
    "            res = pd.Series([data['score'] for x,y, data in function(cand_edges, G)], index=[(x,y) for x,y,_ in cand_edges])\n",
    "            if load:\n",
    "                res.to_pickle(path)\n",
    "        return res\n",
    "                              \n",
    "    df = pd.DataFrame(index=[(x,y) for x,y,_ in cand_edges])\n",
    "    true_edges = set(G.edges())\n",
    "    df['shortest_path'] = load_or_extract(shortest_dag_path, 'shortest_path', str(year), cand_edges, G, load).values\n",
    "    df['edge'] = [True if (x,y) in true_edges else False for x,y,_ in cand_edges]\n",
    "    df['source'] = [x for x,_,__ in cand_edges]\n",
    "    df['target'] = [y for _,y,__ in cand_edges]\n",
    "    df['triadic_closeness'] = load_or_extract(triadic_closeness, 'triadic_closeness', str(year), cand_edges, G, load).values\n",
    "    df['in_cluster'] = load_or_extract(in_cluster, 'in_cluster', str(year), cand_edges, G, load).values\n",
    "    df['common_neighbors'] = load_or_extract(common_neighbors, 'common_neighbors', str(year), cand_edges, G, load).values\n",
    "    df['time_difference'] = load_or_extract(time_difference, 'time_difference', str(year), cand_edges, G, load).values\n",
    "    df['common_referrers'] = load_or_extract(common_referrers, 'common_referrers', str(year), cand_edges, G, load).values\n",
    "    df['src_degree'] = [len(G[x]) for x, _, __ in cand_edges]\n",
    "    df['trg_degree'] = [len(G[y]) for _, y, __ in cand_edges]\n",
    "    df['preferential_attachment'] = load_or_extract(preferential_attachment, 'preferential_attachment', \n",
    "                                                    str(year), cand_edges, G, load).values\n",
    "    df['adamic_adar'] = load_or_extract(adamic_adar, 'adamic_adar', str(year), cand_edges, G, load).values\n",
    "    df['leicht_holme_newman'] = load_or_extract(leicht_holme_newman, \n",
    "                                                'leicht_holme_newman', str(year), cand_edges, G, load).values\n",
    "    df['resource_allocation'] = load_or_extract(resource_allocation, \n",
    "                                                'resource_allocation', str(year), cand_edges, G, load).values\n",
    "    return df"
   ]
  },
  {
   "cell_type": "code",
   "execution_count": 4,
   "metadata": {
    "collapsed": false,
    "hide_input": true
   },
   "outputs": [
    {
     "name": "stdout",
     "output_type": "stream",
     "text": [
      "Wall time: 1min 46s\n"
     ]
    }
   ],
   "source": [
    "%%time\n",
    "# Prepare a single year test set\n",
    "test_year = 2013\n",
    "nodes_test = [n[0] for n in slice_graph_by_year(test_year, test_year, GCC)]\n",
    "G_train = GCC.copy()\n",
    "G_train.remove_nodes_from(nodes_test)\n",
    "test_candidates = [(source, target, {}) for target in GCC.nodes() for source in nodes_test if not source==target]\n",
    "test_data = get_features(GCC, test_candidates, test_year)\n",
    "y_test = test_data['edge']\n",
    "X_test = test_data.ix[:, [col for col in test_data.columns if col not in ['edge', 'source', 'target']]]"
   ]
  },
  {
   "cell_type": "code",
   "execution_count": 5,
   "metadata": {
    "collapsed": false,
    "hide_input": true
   },
   "outputs": [
    {
     "name": "stdout",
     "output_type": "stream",
     "text": [
      "Edge to non-edge ratio: 0.000920879928598\n",
      "Wall time: 1min 44s\n"
     ]
    }
   ],
   "source": [
    "%%time\n",
    "# Training set consisting of the nodes of the preceding year\n",
    "train_year = 2012\n",
    "nodes_train = [n[0] for n in slice_graph_by_year(train_year, train_year, G_train)]\n",
    "train_candidates = [(source, target, {}) for target in G_train.nodes() for source in nodes_train if not source==target]\n",
    "train_data = get_features(GCC, train_candidates, train_year)\n",
    "y_train = train_data['edge']\n",
    "X_train = train_data.loc[:, [col for col in train_data.columns if col not in ['edge', 'source', 'target']]]\n",
    "assert len(set(y_train.index) - set(X_train.index)) == 0\n",
    "print \"Edge to non-edge ratio: {}\".format(1.0*sum(y_train == True) / len(y_train))\n",
    "# Ensure that there is no overlap between test and train set\n",
    "assert len(set([(x,y) for x,y,_ in train_candidates]).intersection(set([(x,y) for x,y,_ in test_candidates]))) == 0"
   ]
  },
  {
   "cell_type": "markdown",
   "metadata": {},
   "source": [
    "## Preparing the data\n",
    "The large dataset makes prediction times very long and the class imbalance biases heavily toward predicting the negative class.\n",
    "\n",
    "### Class imbalance and data set size\n",
    "Since there are $V^2$ possible links between vertices and only a small part of them will turn out to be actual true links the dataset suffers highly from class imbalance, which for some classifiers can lead to solutions that are biased to predicting the majority class while others are perfectly able to handle imbalanced classes without bias.\n",
    "\n",
    "If it presents a problem class imbalance can be handled by\n",
    "* Weigthing the different classes to ensure that the minority class is given more importance.\n",
    "* Undersampling the majority class with replacement. This has the benefit of lower training and feature generation times, however important information in the majority class can be missed, leading to low classifier performance on the test set.\n",
    "* Upsampling the minority class with replacement. This method does not run the risk of missing information in the training set, but bias can still be introduced and computation time increases.\n",
    "\n",
    "These methods can be combined with the bootstrap technique where several classifiers are trained on different samples and predictions on the test set is a decided by majority voting.\n",
    "\n",
    "Weighting and undersampling have been used on the different methods, however with little "
   ]
  },
  {
   "cell_type": "markdown",
   "metadata": {},
   "source": [
    "# Methods"
   ]
  },
  {
   "cell_type": "markdown",
   "metadata": {},
   "source": [
    "Most approaches in link prediction have fallen in either of two categories, similarity based indices or learning based methods, where the similarity based indices assign a score to each node pair given some metric and selects the top scoring candidates as potential links <a name=\"ref-1\"/>[(Lü and Zhou, 2011)](#cite-Lu20111150), whereas learning based methods fit a model to a set of features and based on this predicts whether a candidate will form a link or not <a name=\"ref-2\"/>[(Wang, 2014)](#cite-Wang2014). The features of the learning models are usually taken from the unsupervised similarity indices and can be classified as either topological- or node-based <a name=\"ref-3\"/>[(Wang, 2014)](#cite-Wang2014).\n",
    "\n",
    "Node based features describe attributes that are independent of the network structure such as similarities in the text of two verdicts or the difference between publication time of articles. Topological features are centered around properties of the graph itself, such as common neighbors between nodes, the product of node degrees or whether two nodes belong to the same community of nodes.\n",
    "\n",
    "Following is an overview of the different features used for link prediction in the network of verdicts, roughly divided in topological and node-based features."
   ]
  },
  {
   "cell_type": "markdown",
   "metadata": {},
   "source": [
    "## Topological features"
   ]
  },
  {
   "cell_type": "markdown",
   "metadata": {},
   "source": [
    "Most topological features are similarity indices and can be categorized by how large a neighborhood they operate on. If for a given candidate pair, $(x,y)$ only the immediate neighborhoods, $\\Gamma(x)$ and $\\Gamma(y)$ are investigated the index is local, if it takes the entire network into account it is global and if it operates on some finite neighborhood greater than the 1-neighborhood it is quasi-global <a name=\"ref-4\"/>[(Lü and Zhou, 2011)](#cite-Lu20111150)."
   ]
  },
  {
   "cell_type": "markdown",
   "metadata": {},
   "source": [
    "### Local indexing"
   ]
  },
  {
   "cell_type": "markdown",
   "metadata": {},
   "source": [
    "Similarity based methods with local indexing only look at the 1-neighborhood of any given node making them fast to compute but potentially losing information found in extended neighborhood.\n",
    "\n",
    "| Name  | Definition | Comment\n",
    "|---|------------|---|\n",
    "| Common Neighbors  | $s_{x,y} = \\Gamma(x) \\cap \\Gamma(y)$ | Based on common amount of neighbours between node x and node y\n",
    "| Salton Index      | $s_{x,y} = \\frac{\\Gamma(x) \\cap \\Gamma(y)}{\\sqrt{k_x \\times k_y}}$ | Comparable to the cosine index between nodes x and y\n",
    "| Jaccard Index     | $s_{x,y} = \\frac{\\Gamma(x) \\cap \\Gamma(y)}{\\Gamma(x) \\cup \\Gamma(y)}$ | Normalizes the number of common neighbors with the total potential number of common neighbors. Equal to the probability of a randomly selected link belonging to both nodes\n",
    "| Adamic / Adar | $s_{x,y} = \\sum_{z \\ \\in \\ \\Gamma(x) \\cap \\Gamma(y)} \\frac{1}{\\log k_z}$ | Assigns less weight to highly connected nodes, reducing the effect of hubs\n",
    "| Preferential Attachment | $s_{x,y} = k_x \\times k_y$ | Probability of generating links is proportional only to the node degree. Low complexity, but does not take into account the cost of creating links in for example physical networks.\n",
    "| Resource Allocation | $s_{x,y} = \\sum_{ z \\ \\in \\ \\Gamma(x) \\cap \\Gamma(y)} \\frac{1}{k_z}$ | Based on $x$ diffusing a resource to $y$, with each neighboring being a channel\n",
    "| Leicht, Holme, Newman (LHN1) | $s_{x,y} = \\frac{\\Gamma(x) \\cap \\Gamma(y)}{k_x \\times k_y}$ | Common neighbors proportional to the mean degree of nodes\n",
    "| Hub promoted index | $s_{x,y} = \\frac{\\Gamma(x) \\cap \\Gamma(y)}{\\min(k_x, k_y)}$ | Score that amplifies the importance of hub connections\n",
    "| Hub depressed index | $s_{x,y} = \\frac{\\Gamma(x) \\cap \\Gamma(y)}{\\max(k_x, k_y)}$ | Score that penalizes hub connections\n",
    "| Sørensen index | $s_{x,y} = \\frac{2 \\Gamma(x) \\cap \\Gamma(y)}{k_x + k_y}$ | Score used in ecological community data\n",
    "\n",
    "Results by Liben-Nowell and Kleinberg <a name=\"ref-5\"/>[(Liben-Nowell and Kleinberg, 2003)](#cite-LibenNowell2004) have shown that the more advanced indices often have little or no advantage over the simple common neighbors index and that the overlap in the predicted edges is substantial, which is not surprising since the indices are all based on the same neighborhood."
   ]
  },
  {
   "cell_type": "markdown",
   "metadata": {},
   "source": [
    "#### Common Neighbors (CN)"
   ]
  },
  {
   "cell_type": "markdown",
   "metadata": {},
   "source": [
    "Common neighbors or the intersection of the 1-neighborhoods of the nodes $x$ and $y$ is the most commonly used neighborhood in link prediction and it has been shown that the likelihood of a link between two nodes correlates highly with the distance between the nodes as well as the number of neighbors shared (Link prediction, fair evaluation) (Lu, survey).\n",
    "Formally the score is found by\n",
    "\n",
    "$$\n",
    "s_{x,y} = | \\Gamma(x) \\cup \\Gamma(y) |\n",
    "$$\n",
    "\n",
    "where $\\Gamma(x)$ is the function returning the 1-neighborhood of $x$. For a directed graph either out- or in-neighborhoods can be used and the choice depends on the network. In this case where $x$ will always be a newly inserted node with no incoming links both the in- and out-neighbors of $y$ is used, as seen in the figure.\n",
    "\n",
    "The usefulness of this index can be seen in the figure where the distribution of common neighbors for edges and a sub-sample of non-edges is shown. Real edges are far more likely to have common neighbors than non-edges, however there is still a group of edges that do not share any common neighbors, effectively creating an upper limit of how many edges can be predicted with this index.\n",
    "\n",
    "<figure style=\"display: inline-block; text-align: center; max-width: 100%; margin: 0 auto\">\n",
    "<img src=\"Pictures/Common neighbors distribution.png\" style=\"margin: 0 auto; max-width: 85%; margin-bottom: 10px\">\n",
    "<figcaption style=\"font-style: italic\">Distribution of common neighbors for all edges and subsample of non-edges of size 43694.</figcaption>\n",
    "</figure>"
   ]
  },
  {
   "cell_type": "markdown",
   "metadata": {},
   "source": [
    "#### Triadic Closeness (TC)"
   ]
  },
  {
   "cell_type": "markdown",
   "metadata": {},
   "source": [
    "In a network a triad is a combination of three nodes, $x$, $z$ and $y$, along with the possible links between them. Every combination is a specific type of triad and for a directed graph there are 16 different ways, but this increases to 36 when we consider that $z$ is a common neighbor to $x$ and $y$ and that for link prediction the order matters, the triad consisting of the links ${(x,y), \\ (x,z), \\ (y,z)}$ is not the same as  ${(y,x), \\ (x,z), \\ (y,z)}$. The different combinations are seen in the figure where they are classified based on the link between $x$ and $y$, with 1-9 meaning no link, 11-19 meaning a link from $x$ to $y$, 21-29 meaning a link from $y$ to $x$ and 31-39 being a reciprocal link between $x$ and $y$.\n",
    "\n",
    "<figure style=\"display: inline-block; text-align: center; max-width: 100%; margin: 0 auto\">\n",
    "<img src=\"Pictures/open triads.png\" style=\"margin: 0 auto; max-width: 85%; margin-bottom: 10px\">\n",
    "<figcaption style=\"font-style: italic\">Possible open triadic configurations for a directed graph, with the category label below the triad.</figcaption>\n",
    "</figure>\n",
    "\n",
    "<figure style=\"display: inline-block; float: right; text-align: center; max-width: 45%; margin: 0 20px\">\n",
    "<img src=\"Pictures/closed triads.png\" style=\"float: right; max-width: 100%; margin-bottom: 10px\">\n",
    "<figcaption style=\"font-style: italic\">Possible closed triadic configurations for a directed graph, with the category label below the triad.</figcaption>\n",
    "</figure>\n",
    "\n",
    "Triadic closeness is an unsupervised method proposed by Schall <a name=\"ref-6\"/>[(Schall, 2014)](#cite-directedSchall) that exploits the fact that some triadic patterns are more likely to appear in a given network than others, so if you have a possible link between nodes $x$ and $y$ that have the common neighbor $z$ the likelihood of the created triad appearing in the network can be used as a score. In other words, the likelihood for a link between $x$ and $y$ depends on how common the triad formed from adding the link is compared to how common the triad formed by the unconnected $x$ and $y$.\n",
    "\n",
    "This is related to <a name=\"ref-7\"/>[(Schall, 2014)](#cite-directedSchall) produced good results on data from Twitter, GitHub and Google+.\n",
    "\n",
    "The actual triadic closeness score is calculated as\n",
    "\n",
    "$$\n",
    "s_{x,y} = \\sum_{z \\ \\in \\Gamma(x) \\cup \\Gamma(y)} \\frac{\\text{F}(\\delta(x,y,z) + 10) + \\text{F}(\\delta(x,y,z) + 30)}{\\text{F}(\\delta(x,y,z))}\n",
    "$$\n",
    "\n",
    "where $s_{x,y}$ is the score for the $x,y$ node pair, $\\Gamma(x)$ returns the neighborhood of $x$, $\\delta(x,z,y)$ returns the triad produced by the nodes $x$, $y$ and $z$ and $\\text{F}(t)$ returns the frequency of the triad $t$. Note that the neighborhood consists of both in- and out-going links.\n",
    "\n",
    "Since a triad requires that the nodes $x$ and $y$ are joined through an extra node $z$ nodes that are linked but do not share neighbors will not be found by this method. If the network being examined has important structure beyond the 1-neighborhood more general motif analysis methods can be used."
   ]
  },
  {
   "cell_type": "markdown",
   "metadata": {},
   "source": [
    "### Global indexing"
   ]
  },
  {
   "cell_type": "markdown",
   "metadata": {},
   "source": [
    "Global indexing refers to methods that take into account the entire network which often leads to closed form solutions including matrix inversions. Since these have a compute time of $\\mathcal{O} (n^3)$ FIND REFERENCE the computation is much larger than it is for locally indexed methods.\n",
    "\n",
    "| Name | Definition | Comment |\n",
    "|------|------------|---------|\n",
    "|Shortest path| | The length of the shortest path between nodes $x$ and $y$. Useful both as a feature and as a baseline index for comparison with other indices.\n",
    "|Katz  | $\\mathbf{S} = \\sum_{l=1}^{\\infty} \\beta^l \\mathbf{A}^{l}$ | The score is based on the sum of the number of paths with length $l$ weighted by some factor, $\\beta$ between 0 and 1. Shorter paths will have higher weights than longer paths using this scheme.\n",
    "|Leich, Holme, Newman (LHN2) | $\\mathbf{S} = \\psi (\\mathbf{I} + \\sum_{l=1}^{\\infty} \\phi^l \\mathbf{A}^l)$| Similar to the Katz index, but this method chooses $\\omega$ to be the inverse of the expected number of paths of any given path length\n",
    "|Average commute time | $ s_{x,y} = \\frac{1}{l_{x,x} + l_{y,y} - 2 l_{x,y}}$ | Equal to the expected number of steps between any two nodes, $l_{x,y}$ is the (x,y)-th element in the pseudoinverse of the Laplacian matrix, $\\mathbf{L}^{+}$"
   ]
  },
  {
   "cell_type": "markdown",
   "metadata": {},
   "source": [
    "#### Shortest Path (SP)"
   ]
  },
  {
   "cell_type": "markdown",
   "metadata": {},
   "source": [
    "A useful index when estimating the likelihood of a candidate pair to create a link can be the shortest distance between the two nodes, which despite its significance has been shown to have much more predictive power than random guessing <a name=\"ref-8\"/>[(Liben-Nowell and Kleinberg, 2003)](#cite-LibenNowell2004).\n",
    "That it can be useful in the verdict network can be seen in the figure below where the average shortest distance for connected and non-connected nodes in the network. \n",
    "\n",
    "<div style=\"display: inline-block; text-align: center; max-width: 100%; margin: 0 20px\">\n",
    "<img src=\"Pictures/shortest path dist.png\" style=\"max-width: 85%; margin-bottom: 10px\">\n",
    "<figcaption style=\"font-style: italic\">Distribution of shortest paths between connected and non-connected nodes. Graphs are normalized to sample size, so this graph does not take into account class imbalance.</figcaption></div>"
   ]
  },
  {
   "cell_type": "markdown",
   "metadata": {},
   "source": [
    "#### Katz indexing (KZI)"
   ]
  },
  {
   "cell_type": "markdown",
   "metadata": {},
   "source": [
    "Katz indexing is a derivative of the common neighbors methodology which states that nodes are similar if there are more paths between them and this similarity decreases with the length of the path and for a very small $\\beta$ Katz becomes similar to common neighbors <a name=\"ref-9\"/>[(Katz, 1953)](#cite-KatzIndex). A closed form solution can be found from its explicit form as\n",
    "$$\n",
    "\\mathbf{S} = \\sum_{l=1}^{\\infty} \\beta^l \\mathbf{A}^{l} = (\\mathbf{I} - \\beta \\mathbf{A})^{-1} - \\mathbf{I}\n",
    "$$\n",
    "The value of $\\beta$ is a free parameter which can be optimized for."
   ]
  },
  {
   "cell_type": "markdown",
   "metadata": {},
   "source": [
    "#### Leicht, Holme, Newman (LHN2)"
   ]
  },
  {
   "cell_type": "markdown",
   "metadata": {},
   "source": [
    "The LHN2 method is based on the assumption that nodes are similar if they have neighbors that are similar <a name=\"ref-10\"/>[(Leicht, Holme and Newman, 2006)](#cite-LHN2) and in its explicit form it is very similar to the Katz index except that it includes a self similarity measure in the form of $\\psi$\n",
    "$$\n",
    "\\mathbf{S} = \\omega \\mathbf{A} \\mathbf{S} + \\psi \\mathbf{S} = \\psi (\\mathbf{I} + \\sum_{l=1}^{\\infty} \\phi^l \\mathbf{A}^l)\n",
    "$$\n",
    "Setting the constant $\\psi$ to one this expression term by term states that every node has a similarity of one 1, $\\mathbf{I}$, and with each node in its $l$-neighborhood it has a similarity of $\\phi^l$."
   ]
  },
  {
   "cell_type": "markdown",
   "metadata": {},
   "source": [
    "#### Average Commute Time (ACM)"
   ]
  },
  {
   "cell_type": "markdown",
   "metadata": {},
   "source": [
    "ACM is found as the average number of time steps a random walker would need to reach node $x$ from node $y$ and can be found from the pseudo-inverse of the Laplacian matrix of the graph <a name=\"ref-11\"/>[(Fouss, Pirotte, Renders and Saerens, 2006)](#cite-Fouss06random-walkcomputation), $\\mathbf{L} = \\mathbf{D}-\\mathbf{A}$ where $\\mathbf{D}$ is a diagonal matrix containing the degrees of each node. From the pseudo-inverse of the Laplacian, $\\mathbf{L}^+$ the average commute time is found as \n",
    "$$\n",
    "\\text{acm}_{x,y} = l_{x,x}^+ + l_{y,y}^+ - 2l_{x,y}^+\n",
    "$$\n",
    "To keep with the convention that higher scores are better the score is found as the inverse of the commute time, $s_{x,y} = \\text{acm}_{x,y}^{-1}$."
   ]
  },
  {
   "cell_type": "markdown",
   "metadata": {},
   "source": [
    "### Quasi global indexing\n",
    "\n",
    "Quasi global indices generally work on an $n$-neighborhood of a node instead of restricting themselves to immediate neighbors. This can give computational speed ups, but for small-world networks it can be just as fast to compute the closed form solutions of the global methods as $n$ increases (no reference, but it makes sense).\n",
    "\n",
    "| Name | Definition                                                               | Comment |\n",
    "|------|------------|---------|-----|-----------|\n",
    "|Local Path Index | $\\mathbf{S} = \\sum_{i=2}^n \\epsilon^{i-2} \\mathbf{A}^i $| Similar to the Katz index for $n = \\infty$ the computational complexity of this index is $\\mathcal{O}(N\\langle{k}\\rangle^n)$ for a size N network with mean node degree of $\\langle{k}\\rangle$\n",
    "|Local Random Walk | $s_{x,y} = q_{x} \\pi_{x,y}(t) + q_{y} \\pi_{y,x}(t) $| Equal to the probability of reaching node $y$ from node $x$ in t timesteps weighed by some initial configuration, $q$ indicating the probability of being at node $x$, summed by its mirror from $y$ to $x$.\n",
    "|Superimposed Random Walk | $s_{x,y} = \\sum_{\\tau}^{t} q_{x} \\pi_{x,y}(\\tau) + q_{y} \\pi_{y,x}(\\tau)$ | Similar to LRW, but the summation indicates a restart at each timestep."
   ]
  },
  {
   "cell_type": "markdown",
   "metadata": {},
   "source": [
    "#### Common referrers\n",
    "\n",
    "<div style=\"display: inline-block; float: right; text-align: center; max-width: 33%; margin: 0 20px\">\n",
    "<img src=\"Pictures/Common referrers.png\" style=\"float: right; max-width: 100%; margin-bottom: 10px\">\n",
    "<figcaption style=\"font-style: italic\">Common referrer neighborhood for a possible connection between $x$ and $y$ where the common referrers are the $z$-nodes marked in red.</figcaption></div>\n",
    "\n",
    "Common referrers is an expansion of the common neighbors metric which assumes that if $x$ is connected to $z$ through $u$, then $x$ is also more likely to connect to other nodes that $z$ is connected to. Specific to the verdict citation networks this indicates that verdicts that have the same citations are similar and that similar verdicts tend to have the same citations.\n",
    "If a possible link between the node pair $(x,y)$ is being evaluated then the common referrers index takes the following form\n",
    "\n",
    "$$\n",
    "s_{x,y} = \\Gamma_{in}(y) \\cap \\Gamma_{in}(u) \\ \\forall \\ u \\ \\in \\ \\Gamma_{out}(x) \n",
    "$$\n",
    "\n",
    "The neighborhood is also shown in figure 4 where the common referrers are the $z$-nodes marked in red for a potential connection between $x$ and $y$.\n",
    "\n",
    "It is possible to use this index in conjunction with weighting schemes such as Adamic/Adar or Resource Allocation just like it is done with Common Neighbors."
   ]
  },
  {
   "cell_type": "markdown",
   "metadata": {},
   "source": [
    "#### Local Path Indexing (LPI)\n",
    "\n",
    "Local path indexing is the Katz index constrained to a neighborhood fixed to a size of $n$. This reduces the compute time as long as the average node degree is relatively small, but for small world networks with a small average shortest path length even small neighborhoods can quickly encompass the full set of nodes, making the computation of the inverse in the Katz index faster."
   ]
  },
  {
   "cell_type": "markdown",
   "metadata": {},
   "source": [
    "#### Local Random Walk (LRW)\n",
    "\n",
    "The local random walk scores a pair of nodes, $x,y$, based on the probability of reaching node $y$ from node $x$ in a given number of timesteps, $t$ and vice versa. This requires that node $y$ is in the $t$-neighborhood of $x$ and penalizes nodes that have high degree nodes between them."
   ]
  },
  {
   "cell_type": "markdown",
   "metadata": {},
   "source": [
    "#### Superimposed Random Walk (SRW)\n",
    "\n",
    "The superimposed random walk functions exactly like the LRW except that it restarts the random walker at every timestep, summing the probabilities for each increment of $\\tau$."
   ]
  },
  {
   "cell_type": "markdown",
   "metadata": {},
   "source": [
    "In the plot below the precision and recall for the different indices is shown, where it can be seen that while there are great similarities between particularly the features derived from common neighbors."
   ]
  },
  {
   "cell_type": "code",
   "execution_count": 6,
   "metadata": {
    "collapsed": false,
    "hide_input": true
   },
   "outputs": [
    {
     "data": {
      "image/png": "[encoded data removed]",
      "text/plain": [
       "<matplotlib.figure.Figure at 0x16542f98>"
      ]
     },
     "metadata": {},
     "output_type": "display_data"
    }
   ],
   "source": [
    "plt.figure(figsize=(20,10))\n",
    "# Plot ROC curves\n",
    "plt.subplot(1,2,1)\n",
    "cn_res = X_test.loc[:, 'common_neighbors']\n",
    "fpr, tpr, cn_roc_thresh = roc_curve(y_test, cn_res, pos_label=1)\n",
    "plt.plot(fpr, tpr, '--')\n",
    "cr_res = X_test.loc[:, 'common_referrers']\n",
    "fpr, tpr, _ = roc_curve(y_test, cr_res, pos_label=1)\n",
    "plt.plot(fpr, tpr, ls='--')\n",
    "ra_res = X_test.loc[:, 'resource_allocation']\n",
    "fpr, tpr, _ = roc_curve(y_test, ra_res, pos_label=1)\n",
    "plt.plot(fpr, tpr, ls='--')\n",
    "ra_res = X_test.loc[:, 'leicht_holme_newman']\n",
    "fpr, tpr, _ = roc_curve(y_test, ra_res, pos_label=1)\n",
    "plt.plot(fpr, tpr)\n",
    "ra_res = X_test.loc[:, 'triadic_closeness']\n",
    "fpr, tpr, _ = roc_curve(y_test, ra_res, pos_label=1)\n",
    "plt.plot(fpr, tpr)\n",
    "ra_res = X_test.loc[:, 'preferential_attachment']\n",
    "fpr, tpr, pa_roc_thresh = roc_curve(y_test, ra_res, pos_label=1)\n",
    "plt.plot(fpr, tpr)\n",
    "ra_res = X_test.loc[:, 'adamic_adar']\n",
    "fpr, tpr, _ = roc_curve(y_test, ra_res, pos_label=1)\n",
    "plt.plot(fpr, tpr)\n",
    "ra_res = -1*X_test.loc[:, 'shortest_path']\n",
    "sp_fpr, sp_tpr, sp_thresh_roc = roc_curve(y_test, ra_res, pos_label=1)\n",
    "plt.plot(sp_fpr, sp_tpr)\n",
    "plt.ylabel('True positive rate', fontsize=20)\n",
    "plt.xlabel('False positive rate', fontsize=20)\n",
    "\n",
    "# Plot precision recall curves\n",
    "plt.subplot(1,2,2)\n",
    "cn_res = X_test.loc[:, 'common_neighbors']\n",
    "prec, reca, cn_pr_thresh = precision_recall_curve(y_test, cn_res, pos_label=1)\n",
    "plt.plot(reca, prec, '--')\n",
    "cr_res = X_test.loc[:, 'common_referrers']\n",
    "prec, reca, cr_t_ = precision_recall_curve(y_test, cr_res, pos_label=1)\n",
    "plt.plot(reca, prec, ls='--')\n",
    "ra_res = X_test.loc[:, 'resource_allocation']\n",
    "prec, reca, cr_t_ = precision_recall_curve(y_test, ra_res, pos_label=1)\n",
    "plt.plot(reca, prec, ls='--')\n",
    "ra_res = X_test.loc[:, 'leicht_holme_newman']\n",
    "prec, reca, cr_t_ = precision_recall_curve(y_test, ra_res, pos_label=1)\n",
    "plt.plot(reca, prec)\n",
    "ra_res = X_test.loc[:, 'triadic_closeness']\n",
    "prec, reca, cr_t_ = precision_recall_curve(y_test, ra_res, pos_label=1)\n",
    "plt.plot(reca, prec)\n",
    "ra_res = X_test.loc[:, 'preferential_attachment']\n",
    "prec, reca, pa_pr_thresh = precision_recall_curve(y_test, ra_res, pos_label=1)\n",
    "plt.plot(reca, prec)\n",
    "ra_res = X_test.loc[:, 'adamic_adar']\n",
    "prec, reca, cr_t_ = precision_recall_curve(y_test, ra_res, pos_label=1)\n",
    "plt.plot(reca, prec)\n",
    "ra_res = -1*X_test.loc[:, 'shortest_path']\n",
    "sp_prec, sp_reca, sp_thresh_pr = precision_recall_curve(y_test, ra_res, pos_label=1)\n",
    "plt.plot(sp_reca, sp_prec)\n",
    "plt.legend(['common_neighbors', 'common_referrers', 'resource_allocation', \n",
    "            'leicht_holme_newman', 'triadic_closeness', 'preferential_attachment', \n",
    "            'adamic_adar', 'shortest_path'], fontsize=20)\n",
    "plt.ylabel('Precision', fontsize=20)\n",
    "plt.xlabel('Recall', fontsize=20)\n",
    "plt.show()"
   ]
  },
  {
   "cell_type": "code",
   "execution_count": null,
   "metadata": {
    "collapsed": false,
    "hide_input": false
   },
   "outputs": [],
   "source": [
    "zip(sp_thresh_pr, sp_prec, sp_reca)"
   ]
  },
  {
   "cell_type": "code",
   "execution_count": null,
   "metadata": {
    "collapsed": false
   },
   "outputs": [],
   "source": [
    "nx.shortest_path_length(GCC.edges()[0][0])"
   ]
  },
  {
   "cell_type": "code",
   "execution_count": null,
   "metadata": {
    "collapsed": true
   },
   "outputs": [],
   "source": [
    "e = GCC.edges()[0]\n",
    "x = e[0]\n",
    "y = e[1]"
   ]
  },
  {
   "cell_type": "code",
   "execution_count": null,
   "metadata": {
    "collapsed": false
   },
   "outputs": [],
   "source": [
    "nx.shortest_path_length(GCC, x,y)"
   ]
  },
  {
   "cell_type": "code",
   "execution_count": null,
   "metadata": {
    "collapsed": false
   },
   "outputs": [],
   "source": [
    "from sklearn.metrics import confusion_matrix\n",
    "tpr_fpr = []\n",
    "for i in range(0,20):\n",
    "    r_cn = -1*X_test.loc[:, 'shortest_path'] < -i\n",
    "    cm = confusion_matrix(y_test, r_cn)\n",
    "    fpr = 1.0*cm[0,1] / sum(cm[0,:])\n",
    "    tpr = 1.0*cm[1,1] / sum(cm[1,:]) \n",
    "    tpr_fpr.append((tpr,fpr))"
   ]
  },
  {
   "cell_type": "code",
   "execution_count": null,
   "metadata": {
    "collapsed": false
   },
   "outputs": [],
   "source": [
    "tpr_fpr"
   ]
  },
  {
   "cell_type": "markdown",
   "metadata": {},
   "source": [
    "# Supervised Methods"
   ]
  },
  {
   "cell_type": "markdown",
   "metadata": {},
   "source": [
    "Like in un-supervised learning, supervised learning in link prediction means finding a model that is able to predict whether two nodes will form a link based on other features of the network. The difference between the two is that supervised learning finds a model that explains the links already formed in a subset of the data, $G_{train}$ by combining different features such as common neighbors, node degree and node centrality and assign a weight to each feature according to its importance. This model can then be tested on the remaining data, $G_{test}$, and since this part of the network wasn't used to create the model it will give an unbiased result which can be used for evaluation."
   ]
  },
  {
   "cell_type": "markdown",
   "metadata": {},
   "source": [
    "## Feature selection"
   ]
  },
  {
   "cell_type": "markdown",
   "metadata": {},
   "source": [
    "For the supervised model it is possible to use all the different features described earlier, such as Common Neighbors, Common Referrers and so on. In many cases however the features are quite similar, for example Adamic-Adar and Resource Allocation only differ in that Adamic-Adar takes the log of the denominator. Precision wise this is not necessarily a problem since the number of samples still is much greater than the number of features, but redundant features makes the model harder to interpret and if real-time results are expected in an implementation of the classifier the additional computational time might be noticable by the end user. \n",
    "For these reasons it is interesting to look at reducing the number of features used in the final model for which there are three general approaches (Hasties)\n",
    "* Subset selection which involves finding the smallest subset of features which leads to the model with the best predictive power. For $p$ features this means fitting $2^p$ models, so often the variant forward stepwise selection is used, leading to much smaller computational times (Hasties).\n",
    "* Feature shrinking involves adding a regularization term to the computation of the minimal Residual Sum of Squares (RSS) which reduces overfitting of the model and if L1-regularization is used it can even prune out redundant features.\n",
    "* Dimensionality reduction covers matrix factorization techniques such as Principal Component Analysis (PCA) and Independent Component Analysis. Both have the advantage of decreasing the feature space however the model is often harder to interpret since the original feature space is transformed and for this reason they are not considered for feature selection for this project.\n",
    "\n",
    "To identify either the best subset of features or the regularization parameter it is necessary to use cross validation or an adjusted RSS that takes model complexity into account like the Akaike Information Criterion (AIC)."
   ]
  },
  {
   "cell_type": "markdown",
   "metadata": {},
   "source": [
    "### Logistic regression"
   ]
  },
  {
   "cell_type": "markdown",
   "metadata": {},
   "source": [
    "In machine learning terms link prediction is a categorical problem since we are investigating the binary response to $x$ links to $y$ shown below\n",
    "$$\n",
    "    f(x,y)= \n",
    "\\begin{cases}\n",
    "    1,& \\text{if } x \\ \\text{links to} \\ y \\\\\n",
    "    0,              & \\text{otherwise}\n",
    "\\end{cases}\n",
    "$$\n",
    "There are many methods specifically suited to categorical variables in machine learning where logistic regression is among the simplest. It is comparable to linear regression which is used and suited for continuous variables, but instead of modeling a continuous response it models a probability of a response variable taking some discrete value, $P(\\text{link}_{x,y} \\ | \\ \\text{feature}_{x,y})$ (REF HASTIES). Since true probabilites fall between 0 and 1 the logistic function is used, which for a range of input variables returns an S-shaped curve asymptotically approaching 0 and 1 in either limit\n",
    "$$\n",
    "p(X) = \\frac{e^{\\beta_0+\\beta_1X}}{1+e^{\\beta_0+\\beta_1X}}\n",
    "$$\n",
    "where $\\beta$ is the trainable parameter and X is the input series. The output probability can then be evaluated to determine if a link is formed.\n",
    "Since link prediction can benefit from using several input variables instead of only one it is an advantage that logistic regression can be expanded to multiple logistic regression quite simply by simply adding an addtional $\\beta$ parameter for each additional input. As with single regression the parameters are trained using maximum likelihood methods."
   ]
  },
  {
   "cell_type": "code",
   "execution_count": 8,
   "metadata": {
    "collapsed": false
   },
   "outputs": [
    {
     "name": "stdout",
     "output_type": "stream",
     "text": [
      "Wall time: 0 ns\n"
     ]
    }
   ],
   "source": [
    "%%time\n",
    "# Logistic Regression\n",
    "# Find hyper-parameters for the regressors\n",
    "# Try both L1 and L2 regularization with different coefficients\n",
    "param_grid = [{'penalty': ['l1'], 'solver': ['liblinear']}, {'penalty': ['l2']}]\n",
    "def scorer(ground_truth, predictions):\n",
    "    return average_precision_score(ground_truth, predictions[:,1])"
   ]
  },
  {
   "cell_type": "code",
   "execution_count": 10,
   "metadata": {
    "collapsed": false
   },
   "outputs": [
    {
     "name": "stdout",
     "output_type": "stream",
     "text": [
      "# Tuning hyper-parameters for AUC-PR\n",
      "()\n",
      "             precision    recall  f1-score   support\n",
      "\n",
      "      False       1.00      1.00      1.00   3511712\n",
      "       True       0.45      0.16      0.24      3218\n",
      "\n",
      "avg / total       1.00      1.00      1.00   3514930\n",
      "\n",
      "             precision    recall  f1-score   support\n",
      "\n",
      "      False       1.00      1.00      1.00   3511712\n",
      "       True       0.44      0.12      0.19      3218\n",
      "\n",
      "avg / total       1.00      1.00      1.00   3514930\n",
      "\n"
     ]
    },
    {
     "ename": "IndexError",
     "evalue": "too many indices for array",
     "output_type": "error",
     "traceback": [
      "\u001b[1;31m---------------------------------------------------------------------------\u001b[0m",
      "\u001b[1;31mIndexError\u001b[0m                                Traceback (most recent call last)",
      "\u001b[1;32m<ipython-input-10-99d218c735a3>\u001b[0m in \u001b[0;36m<module>\u001b[1;34m()\u001b[0m\n\u001b[1;32m----> 1\u001b[1;33m \u001b[0mget_ipython\u001b[0m\u001b[1;33m(\u001b[0m\u001b[1;33m)\u001b[0m\u001b[1;33m.\u001b[0m\u001b[0mrun_cell_magic\u001b[0m\u001b[1;33m(\u001b[0m\u001b[1;34mu'time'\u001b[0m\u001b[1;33m,\u001b[0m \u001b[1;34mu''\u001b[0m\u001b[1;33m,\u001b[0m \u001b[1;34mu'print(\"# Tuning hyper-parameters for AUC-PR\")\\nprint()\\n\\nif isfile(\\'pickles/l1_log_model.pkl\\'):\\n    l1_log_model = pickle.load(open(\\'pickles/l1_log_model.pkl\\', \\'rb\\'))\\nelse:\\n    # Do an exhaustive search of the entire grid\\n    l1_log_model = LogisticRegressionCV(penalty=\\'l1\\', solver=\\'liblinear\\', scoring=make_scorer(scorer, needs_proba=True))\\n    l1_log_model.fit(X_train, y_train)\\n    with open(\\'pickles/l1_log_model.pkl\\', \\'wb\\') as fl:\\n        pickle.dump(l1_log_model, fl)\\n\\nif isfile(\\'pickles/l2_log_model.pkl\\'):\\n    l2_log_model = pickle.load(open(\\'pickles/l2_log_model.pkl\\', \\'rb\\'))\\nelse:\\n    # Do an exhaustive search of the entire grid\\n    l2_log_model = LogisticRegressionCV(penalty=\\'l2\\', scoring=make_scorer(scorer, needs_proba=True))\\n    l2_log_model.fit(X_train, y_train)\\n    with open(\\'pickles/l2_log_model.pkl\\', \\'wb\\') as fl:\\n        pickle.dump(l2_log_model, fl)\\n\\nl1_preds = l1_log_model.predict(X_test)\\nl2_preds = l2_log_model.predict(X_test)\\nprint classification_report(y_test, l1_preds)\\nprint classification_report(y_test, l2_preds)\\n\\nl1_mean_avg_precision = average_precision_score(y_test, l1_preds[:,1])\\nl2_mean_avg_precision = average_precision_score(y_test, l2_preds[:,1])\\nprecision_l1, recall_l1, _ = precision_recall_curve(y_test, l1_mean_avg_precision.predict_proba(X_test))\\nprecision_l2, recall_l2, _ = precision_recall_curve(y_test, l2_mean_avg_precision.predict_proba(X_test))\\nplt.plot(recall_l1, precision_l1, lw=1, label=\\'L1, mean avg. preceision {}\\'.format(l1_mean_avg_precision))\\nplt.plot(recall_l2, precision_l2, lw=1, label=\\'L2, mean avg. preceision {}\\'.format(l2_mean_avg_precision))\\nplt.xlim([-0.05, 1.05])\\nplt.ylim([-0.05, 1.05])\\nplt.xlabel(\\'Recall\\')\\nplt.ylabel(\\'Precision\\')\\nplt.title(\\'Precision and Recall for logistic regression with L1 and L2 regularization\\')\\nplt.legend(bbox_to_anchor=(1.05, 1), loc=2, borderaxespad=0.)\\nplt.show()'\u001b[0m\u001b[1;33m)\u001b[0m\u001b[1;33m\u001b[0m\u001b[0m\n\u001b[0m",
      "\u001b[1;32mC:\\Users\\Simon\\Anaconda2\\lib\\site-packages\\IPython\\core\\interactiveshell.pyc\u001b[0m in \u001b[0;36mrun_cell_magic\u001b[1;34m(self, magic_name, line, cell)\u001b[0m\n\u001b[0;32m   2291\u001b[0m             \u001b[0mmagic_arg_s\u001b[0m \u001b[1;33m=\u001b[0m \u001b[0mself\u001b[0m\u001b[1;33m.\u001b[0m\u001b[0mvar_expand\u001b[0m\u001b[1;33m(\u001b[0m\u001b[0mline\u001b[0m\u001b[1;33m,\u001b[0m \u001b[0mstack_depth\u001b[0m\u001b[1;33m)\u001b[0m\u001b[1;33m\u001b[0m\u001b[0m\n\u001b[0;32m   2292\u001b[0m             \u001b[1;32mwith\u001b[0m \u001b[0mself\u001b[0m\u001b[1;33m.\u001b[0m\u001b[0mbuiltin_trap\u001b[0m\u001b[1;33m:\u001b[0m\u001b[1;33m\u001b[0m\u001b[0m\n\u001b[1;32m-> 2293\u001b[1;33m                 \u001b[0mresult\u001b[0m \u001b[1;33m=\u001b[0m \u001b[0mfn\u001b[0m\u001b[1;33m(\u001b[0m\u001b[0mmagic_arg_s\u001b[0m\u001b[1;33m,\u001b[0m \u001b[0mcell\u001b[0m\u001b[1;33m)\u001b[0m\u001b[1;33m\u001b[0m\u001b[0m\n\u001b[0m\u001b[0;32m   2294\u001b[0m             \u001b[1;32mreturn\u001b[0m \u001b[0mresult\u001b[0m\u001b[1;33m\u001b[0m\u001b[0m\n\u001b[0;32m   2295\u001b[0m \u001b[1;33m\u001b[0m\u001b[0m\n",
      "\u001b[1;32mC:\\Users\\Simon\\Anaconda2\\lib\\site-packages\\IPython\\core\\magics\\execution.pyc\u001b[0m in \u001b[0;36mtime\u001b[1;34m(self, line, cell, local_ns)\u001b[0m\n",
      "\u001b[1;32mC:\\Users\\Simon\\Anaconda2\\lib\\site-packages\\IPython\\core\\magic.pyc\u001b[0m in \u001b[0;36m<lambda>\u001b[1;34m(f, *a, **k)\u001b[0m\n\u001b[0;32m    191\u001b[0m     \u001b[1;31m# but it's overkill for just that one bit of state.\u001b[0m\u001b[1;33m\u001b[0m\u001b[1;33m\u001b[0m\u001b[0m\n\u001b[0;32m    192\u001b[0m     \u001b[1;32mdef\u001b[0m \u001b[0mmagic_deco\u001b[0m\u001b[1;33m(\u001b[0m\u001b[0marg\u001b[0m\u001b[1;33m)\u001b[0m\u001b[1;33m:\u001b[0m\u001b[1;33m\u001b[0m\u001b[0m\n\u001b[1;32m--> 193\u001b[1;33m         \u001b[0mcall\u001b[0m \u001b[1;33m=\u001b[0m \u001b[1;32mlambda\u001b[0m \u001b[0mf\u001b[0m\u001b[1;33m,\u001b[0m \u001b[1;33m*\u001b[0m\u001b[0ma\u001b[0m\u001b[1;33m,\u001b[0m \u001b[1;33m**\u001b[0m\u001b[0mk\u001b[0m\u001b[1;33m:\u001b[0m \u001b[0mf\u001b[0m\u001b[1;33m(\u001b[0m\u001b[1;33m*\u001b[0m\u001b[0ma\u001b[0m\u001b[1;33m,\u001b[0m \u001b[1;33m**\u001b[0m\u001b[0mk\u001b[0m\u001b[1;33m)\u001b[0m\u001b[1;33m\u001b[0m\u001b[0m\n\u001b[0m\u001b[0;32m    194\u001b[0m \u001b[1;33m\u001b[0m\u001b[0m\n\u001b[0;32m    195\u001b[0m         \u001b[1;32mif\u001b[0m \u001b[0mcallable\u001b[0m\u001b[1;33m(\u001b[0m\u001b[0marg\u001b[0m\u001b[1;33m)\u001b[0m\u001b[1;33m:\u001b[0m\u001b[1;33m\u001b[0m\u001b[0m\n",
      "\u001b[1;32mC:\\Users\\Simon\\Anaconda2\\lib\\site-packages\\IPython\\core\\magics\\execution.pyc\u001b[0m in \u001b[0;36mtime\u001b[1;34m(self, line, cell, local_ns)\u001b[0m\n\u001b[0;32m   1165\u001b[0m         \u001b[1;32melse\u001b[0m\u001b[1;33m:\u001b[0m\u001b[1;33m\u001b[0m\u001b[0m\n\u001b[0;32m   1166\u001b[0m             \u001b[0mst\u001b[0m \u001b[1;33m=\u001b[0m \u001b[0mclock2\u001b[0m\u001b[1;33m(\u001b[0m\u001b[1;33m)\u001b[0m\u001b[1;33m\u001b[0m\u001b[0m\n\u001b[1;32m-> 1167\u001b[1;33m             \u001b[1;32mexec\u001b[0m\u001b[1;33m(\u001b[0m\u001b[0mcode\u001b[0m\u001b[1;33m,\u001b[0m \u001b[0mglob\u001b[0m\u001b[1;33m,\u001b[0m \u001b[0mlocal_ns\u001b[0m\u001b[1;33m)\u001b[0m\u001b[1;33m\u001b[0m\u001b[0m\n\u001b[0m\u001b[0;32m   1168\u001b[0m             \u001b[0mend\u001b[0m \u001b[1;33m=\u001b[0m \u001b[0mclock2\u001b[0m\u001b[1;33m(\u001b[0m\u001b[1;33m)\u001b[0m\u001b[1;33m\u001b[0m\u001b[0m\n\u001b[0;32m   1169\u001b[0m             \u001b[0mout\u001b[0m \u001b[1;33m=\u001b[0m \u001b[0mNone\u001b[0m\u001b[1;33m\u001b[0m\u001b[0m\n",
      "\u001b[1;32m<timed exec>\u001b[0m in \u001b[0;36m<module>\u001b[1;34m()\u001b[0m\n",
      "\u001b[1;31mIndexError\u001b[0m: too many indices for array"
     ]
    }
   ],
   "source": [
    "%%time\n",
    "print(\"# Tuning hyper-parameters for AUC-PR\")\n",
    "print()\n",
    "\n",
    "if isfile('pickles/l1_log_model.pkl'):\n",
    "    l1_log_model = pickle.load(open('pickles/l1_log_model.pkl', 'rb'))\n",
    "else:\n",
    "    # Do an exhaustive search of the entire grid\n",
    "    l1_log_model = LogisticRegressionCV(penalty='l1', solver='liblinear', scoring=make_scorer(scorer, needs_proba=True))\n",
    "    l1_log_model.fit(X_train, y_train)\n",
    "    with open('pickles/l1_log_model.pkl', 'wb') as fl:\n",
    "        pickle.dump(l1_log_model, fl)\n",
    "\n",
    "if isfile('pickles/l2_log_model.pkl'):\n",
    "    l2_log_model = pickle.load(open('pickles/l2_log_model.pkl', 'rb'))\n",
    "else:\n",
    "    # Do an exhaustive search of the entire grid\n",
    "    l2_log_model = LogisticRegressionCV(penalty='l2', scoring=make_scorer(scorer, needs_proba=True))\n",
    "    l2_log_model.fit(X_train, y_train)\n",
    "    with open('pickles/l2_log_model.pkl', 'wb') as fl:\n",
    "        pickle.dump(l2_log_model, fl)\n",
    "\n",
    "l1_preds = l1_log_model.predict(X_test)\n",
    "l2_preds = l2_log_model.predict(X_test)\n",
    "print classification_report(y_test, l1_preds)\n",
    "print classification_report(y_test, l2_preds)\n",
    "\n",
    "l1_mean_avg_precision = average_precision_score(y_test, l1_preds[:,1])\n",
    "l2_mean_avg_precision = average_precision_score(y_test, l2_preds[:,1])\n",
    "precision_l1, recall_l1, _ = precision_recall_curve(y_test, l1_mean_avg_precision.predict_proba(X_test))\n",
    "precision_l2, recall_l2, _ = precision_recall_curve(y_test, l2_mean_avg_precision.predict_proba(X_test))\n",
    "plt.plot(recall_l1, precision_l1, lw=1, label='L1, mean avg. preceision {}'.format(l1_mean_avg_precision))\n",
    "plt.plot(recall_l2, precision_l2, lw=1, label='L2, mean avg. preceision {}'.format(l2_mean_avg_precision))\n",
    "plt.xlim([-0.05, 1.05])\n",
    "plt.ylim([-0.05, 1.05])\n",
    "plt.xlabel('Recall')\n",
    "plt.ylabel('Precision')\n",
    "plt.title('Precision and Recall for logistic regression with L1 and L2 regularization')\n",
    "plt.legend(bbox_to_anchor=(1.05, 1), loc=2, borderaxespad=0.)\n",
    "plt.show()"
   ]
  },
  {
   "cell_type": "code",
   "execution_count": null,
   "metadata": {
    "collapsed": false
   },
   "outputs": [],
   "source": [
    "new_model = SelectFromModel(best_log_model, prefit=True)\n",
    "X_new = new_model.transform(X_train)\n",
    "print \"Dimensions of old model: {}\".format(X_train.shape)\n",
    "print \"Dimensions of model transformed after L1 regularization: {}\".format(X_new.shape)"
   ]
  },
  {
   "cell_type": "code",
   "execution_count": null,
   "metadata": {
    "collapsed": false
   },
   "outputs": [],
   "source": [
    "%%time\n",
    "log_model = LogisticRegression(C=1, penalty='l1')\n",
    "log_model.fit(X_train, y_train)\n",
    "preds = log_model.predict_proba(X_train)\n",
    "mean_avg_precision = average_precision_score(y_train, preds[:,1])\n",
    "precision, recall, thresholds = precision_recall_curve(y_train, preds[:,1])\n",
    "plt.plot(recall, precision, lw=1, label='Avg. preceision {}'.format(mean_avg_precision))\n",
    "plt.xlim([-0.05, 1.05])\n",
    "plt.ylim([-0.05, 1.05])\n",
    "plt.xlabel('Recall')\n",
    "plt.ylabel('Precision')\n",
    "plt.title('Precision and Recall for logistic regression')\n",
    "plt.legend(bbox_to_anchor=(1.05, 1), loc=2, borderaxespad=0.)\n",
    "plt.show()"
   ]
  },
  {
   "cell_type": "code",
   "execution_count": null,
   "metadata": {
    "collapsed": false
   },
   "outputs": [],
   "source": [
    "%%time\n",
    "log_model = LogisticRegression(C=.001, penalty='l1')\n",
    "log_model.fit(np.reshape(X_train.loc[:, ['adamic_adar']], (-1,1)), y_train)\n",
    "preds = log_model.predict_proba(np.reshape(X_test.loc[:, ['adamic_adar']], (-1,1)))\n",
    "mean_avg_precision = average_precision_score(y_test, preds[:,1])\n",
    "precision, recall, thresholds = precision_recall_curve(y_test, preds[:,1])\n",
    "plt.plot(recall, precision, lw=1, label='Avg. preceision {}'.format(mean_avg_precision))\n",
    "ra_res = X_test.loc[:, 'adamic_adar']\n",
    "prec, reca, cr_t_ = precision_recall_curve(y_test, ra_res, pos_label=1)\n",
    "plt.plot(reca, prec)\n",
    "plt.xlim([-0.05, 1.05])\n",
    "plt.ylim([-0.05, 1.05])\n",
    "plt.xlabel('Recall')\n",
    "plt.ylabel('Precision')\n",
    "plt.title('Precision and Recall for logistic regression')\n",
    "plt.legend(bbox_to_anchor=(1.05, 1), loc=2, borderaxespad=0.)\n",
    "plt.legend(['Logistic', 'Adamic/Adar'])\n",
    "plt.show()"
   ]
  },
  {
   "cell_type": "code",
   "execution_count": null,
   "metadata": {
    "collapsed": false
   },
   "outputs": [],
   "source": [
    "print classification_report(y_test, log_model.predict(X_test))"
   ]
  },
  {
   "cell_type": "code",
   "execution_count": null,
   "metadata": {
    "collapsed": false
   },
   "outputs": [],
   "source": [
    "for name, coef in zip(X_train.columns.values, log_model.coef_[0]):\n",
    "    print '{}: {}'.format(name, coef)"
   ]
  },
  {
   "cell_type": "code",
   "execution_count": null,
   "metadata": {
    "collapsed": true
   },
   "outputs": [],
   "source": [
    "corr = X_train.corr(method='spearman')"
   ]
  },
  {
   "cell_type": "code",
   "execution_count": null,
   "metadata": {
    "collapsed": false
   },
   "outputs": [],
   "source": [
    "plt.matshow(corr)"
   ]
  },
  {
   "cell_type": "code",
   "execution_count": null,
   "metadata": {
    "collapsed": false
   },
   "outputs": [],
   "source": [
    "import seaborn as sns"
   ]
  },
  {
   "cell_type": "code",
   "execution_count": null,
   "metadata": {
    "collapsed": true
   },
   "outputs": [],
   "source": []
  },
  {
   "cell_type": "code",
   "execution_count": null,
   "metadata": {
    "collapsed": false
   },
   "outputs": [],
   "source": [
    "clst = sns.clustermap(corr, method='average', metric='euclidean')\n",
    "for label in clst.ax_heatmap.get_yticklabels():\n",
    "    label.set_rotation(0)"
   ]
  },
  {
   "cell_type": "code",
   "execution_count": null,
   "metadata": {
    "collapsed": false
   },
   "outputs": [],
   "source": []
  },
  {
   "cell_type": "markdown",
   "metadata": {},
   "source": [
    "### Decision trees"
   ]
  },
  {
   "cell_type": "markdown",
   "metadata": {},
   "source": [
    "A decision tree is a rule based classifier which can be seen as determining the class of a sample by asking questions to the features such as, *\"If there are more than 4 common neighbors, classify it is as a link\"* and combining these rules to divide the feature space into regions of different classes. Normally these rules are created by a top-down algorithm which greedily splits the training data based on what split gives the largest decrease in RSS after which the same procedure is recursively applied to the two new partitions, ad nauseam until some stopping criterion is reached.\n",
    "\n",
    "This leads to a set of rules that will be very good at predicting the training set, however it has a high likelihood of overfitting so usually this larger tree is pruned down in a manner similar to regularization in general linear models which reduces variance at the cost of some bias in the model."
   ]
  },
  {
   "cell_type": "markdown",
   "metadata": {},
   "source": [
    "## Random Forests\n",
    "\n",
    "### Hyper-parameter tuning and feature selection\n",
    "Random forests employ several different hyper parameters that can have great effect on the performance of the model. To select what hyper parameters are used a randomized, cross validated search is performed over the parameter space for all parameters except the number of distinct trees in the forest which is initially chosen to be 20. The scoring function to optimize is set as the area under the precision recall curve of predicted links."
   ]
  },
  {
   "cell_type": "code",
   "execution_count": 130,
   "metadata": {
    "collapsed": false,
    "hide_input": true
   },
   "outputs": [
    {
     "name": "stdout",
     "output_type": "stream",
     "text": [
      "Model with rank: 1\n",
      "Mean validation score: 0.397 (std: 0.033)\n",
      "Parameters: {'warm_start': True, 'oob_score': False, 'bootstrap': False, 'min_samples_leaf': 1, 'min_samples_split': 1, 'criterion': 'entropy', 'max_features': 'sqrt', 'max_depth': 1, 'class_weight': {True: 1}}\n",
      "\n",
      "Model with rank: 2\n",
      "Mean validation score: 0.363 (std: 0.005)\n",
      "Parameters: {'warm_start': True, 'oob_score': True, 'bootstrap': True, 'min_samples_leaf': 1, 'n_estimators': 20, 'min_samples_split': 11, 'criterion': 'gini', 'max_features': 'sqrt', 'max_depth': 11, 'class_weight': {True: 1}}\n",
      "\n",
      "Model with rank: 3\n",
      "Mean validation score: 0.353 (std: 0.012)\n",
      "Parameters: {'bootstrap': True, 'min_samples_leaf': 1, 'min_samples_split': 51, 'criterion': 'entropy', 'max_features': 'log2', 'max_depth': None, 'class_weight': {True: 5}}\n",
      "\n",
      "Wall time: 16 ms\n"
     ]
    }
   ],
   "source": [
    "%%time\n",
    "# Hyper-parameter tuning for random forests\n",
    "from sklearn.grid_search import GridSearchCV, RandomizedSearchCV\n",
    "from operator import itemgetter\n",
    "if isfile('pickles/rf_best_params.pkl'):\n",
    "    random_search = pickle.load(open('pickles/rf_best_params.pkl', 'rb'))\n",
    "else:\n",
    "    # build a classifier\n",
    "    clf = RandomForestClassifier(n_estimators=20)\n",
    "\n",
    "\n",
    "    # Utility function to report best scores\n",
    "    def report(grid_scores, n_top=3):\n",
    "        top_scores = sorted(grid_scores, key=itemgetter(1), reverse=True)[:n_top]\n",
    "        for i, score in enumerate(top_scores):\n",
    "            print(\"Model with rank: {0}\".format(i + 1))\n",
    "            print(\"Mean validation score: {0:.3f} (std: {1:.3f})\".format(\n",
    "                  score.mean_validation_score,\n",
    "                  np.std(score.cv_validation_scores)))\n",
    "            print(\"Parameters: {0}\".format(score.parameters))\n",
    "            print(\"\")\n",
    "\n",
    "    # specify parameters and distributions to sample from\n",
    "    param_dist = {\"max_depth\": [1, 11, None],\n",
    "                  \"class_weight\": [{True: w} for w in [0.1, 1, 5, 15]],\n",
    "                  \"max_features\": ['sqrt', 'log2'],\n",
    "                  \"min_samples_split\": [1, 11, 51, 100],\n",
    "                  \"min_samples_leaf\": [1, 11, 51, 100],\n",
    "                  \"bootstrap\": [True, False],\n",
    "                  \"criterion\": [\"gini\", \"entropy\"]}\n",
    "\n",
    "    # run randomized search\n",
    "    n_iter_search = 20\n",
    "    random_search = RandomizedSearchCV(clf, param_distributions=param_dist,\n",
    "                                       n_iter=n_iter_search, scoring=make_scorer(scorer, needs_proba=True))\n",
    "    random_search.fit(X_train, y_train)\n",
    "    with open('pickles/rf_best_params.pkl', 'wb') as fl:\n",
    "        pickle.dump(random_search, fl)\n",
    "report(random_search.grid_scores_)\n",
    "top_scores = sorted(random_search.grid_scores_, key=itemgetter(1), reverse=True)[:3]\n",
    "best_params = top_scores[1].parameters"
   ]
  },
  {
   "cell_type": "markdown",
   "metadata": {},
   "source": [
    "The best parameters are chosen to be the 2nd model as the bootstrapped method allows for using the Out-Of-Bag (OOB) error for estimating the number of trees. The number of trees to be used in the model is now chosen by looking at the out-of-bag error for a model trained with the found hyper-parameter, which can be seen in the plot below. As a compromise between computational speed and error 50 individual trees are used for each model."
   ]
  },
  {
   "cell_type": "code",
   "execution_count": null,
   "metadata": {
    "collapsed": true,
    "hide_input": true
   },
   "outputs": [],
   "source": [
    "%%time\n",
    "if isfile('pickles/rf_n_estimators_oob.pkl'):\n",
    "    error_rate = pickle.load(open('pickles/rf_n_estimators_oob.pkl', 'rb'))\n",
    "else:\n",
    "    # Estimating the optimal number of trees for random forests using OOB error (whatever that is)\n",
    "    rf_params = random_search.best_params_\n",
    "    best_params.update({'warm_start':True, 'oob_score':True})\n",
    "    clf = RandomForestClassifier(**best_params)\n",
    "    min_estimators = 15\n",
    "    max_estimators = 100\n",
    "    error_rate = []\n",
    "    for i in range(min_estimators, max_estimators + 1, 5):\n",
    "        clf.set_params(n_estimators=i)\n",
    "        clf.fit(X_train, y_train)\n",
    "        # Record the OOB error for each `n_estimators=i` setting.\n",
    "        oob_error = 1 - clf.oob_score_\n",
    "        error_rate.append((i, oob_error))\n",
    "    with open('pickles/rf_n_estimators_oob.pkl, 'wb') as fl:\n",
    "        pickle.dump(error_rate, fl)"
   ]
  },
  {
   "cell_type": "code",
   "execution_count": 138,
   "metadata": {
    "collapsed": false,
    "hide_input": true
   },
   "outputs": [
    {
     "data": {
      "image/png": "[encoded data removed]",
      "text/plain": [
       "<matplotlib.figure.Figure at 0x15764da0>"
      ]
     },
     "metadata": {},
     "output_type": "display_data"
    }
   ],
   "source": [
    "xs, ys = zip(*error_rate)\n",
    "plt.plot(xs, ys)\n",
    "plt.xlim(min_estimators, max_estimators)\n",
    "plt.xlabel(\"n_estimators\")\n",
    "plt.ylabel(\"OOB error rate\")\n",
    "plt.legend(loc=\"upper right\")\n",
    "plt.show()\n",
    "best_params.update({'n_estimators': 30})"
   ]
  },
  {
   "cell_type": "markdown",
   "metadata": {},
   "source": [
    "Note that the error rate is in accuracy for both classes which explains the low values of gain in the error rate as additional trees are included."
   ]
  },
  {
   "cell_type": "markdown",
   "metadata": {},
   "source": [
    "Finally a stepwise feature selection algorithm is employed to check what features should be included again optimizing for PR-AUC resulting in an optimal model where each feature is included. "
   ]
  },
  {
   "cell_type": "code",
   "execution_count": 139,
   "metadata": {
    "collapsed": false,
    "hide_input": false
   },
   "outputs": [
    {
     "name": "stdout",
     "output_type": "stream",
     "text": [
      "Wall time: 38min 19s\n"
     ]
    }
   ],
   "source": [
    "%%time\n",
    "# Feature selection for random forests\n",
    "from sklearn.feature_selection import RFECV\n",
    "if isfile('pickles/rfe_forest.pkl'):\n",
    "    rfe_forest = pickle.load(open('pickles/rfe_forest.pkl', 'rb'))\n",
    "else:\n",
    "    clf = RandomForestClassifier(**best_params)\n",
    "    rfe_forest = RFECV(estimator=clf, step=1, scoring=make_scorer(scorer, needs_proba=True))\n",
    "    rfe_forest.fit(X_train, y_train)\n",
    "    with open('pickles/rfe_forest.pkl', 'wb') as fl:\n",
    "        pickle.dump(rfe_forest, fl)"
   ]
  },
  {
   "cell_type": "code",
   "execution_count": 140,
   "metadata": {
    "collapsed": false,
    "hide_input": true
   },
   "outputs": [
    {
     "name": "stdout",
     "output_type": "stream",
     "text": [
      "Included and excluded features\n",
      "shortest_path: True\n",
      "triadic_closeness: True\n",
      "in_cluster: True\n",
      "common_neighbors: True\n",
      "time_difference: True\n",
      "common_referrers: True\n",
      "src_degree: True\n",
      "trg_degree: True\n",
      "preferential_attachment: True\n",
      "adamic_adar: True\n",
      "leicht_holme_newman: True\n",
      "resource_allocation: True\n"
     ]
    }
   ],
   "source": [
    "print \"Included and excluded features\"\n",
    "for name, state in zip(X_train.columns.values, rfe_forest.support_):\n",
    "    print '{}: {}'.format(name, state)"
   ]
  },
  {
   "cell_type": "markdown",
   "metadata": {},
   "source": [
    "The results for the validated model is shown below, both with the confusion matrix for a 50% threshold and the precision recall curve."
   ]
  },
  {
   "cell_type": "code",
   "execution_count": 141,
   "metadata": {
    "collapsed": false,
    "hide_input": true
   },
   "outputs": [
    {
     "name": "stdout",
     "output_type": "stream",
     "text": [
      "             precision    recall  f1-score   support\n",
      "\n",
      "      False       1.00      1.00      1.00   3511712\n",
      "       True       0.62      0.14      0.23      3218\n",
      "\n",
      "avg / total       1.00      1.00      1.00   3514930\n",
      "\n"
     ]
    }
   ],
   "source": [
    "print classification_report(y_test, rfe_forest.predict(X_test))"
   ]
  },
  {
   "cell_type": "code",
   "execution_count": 142,
   "metadata": {
    "collapsed": false,
    "hide_input": true
   },
   "outputs": [
    {
     "data": {
      "image/png": "[encoded data removed]",
      "text/plain": [
       "<matplotlib.figure.Figure at 0x1339b99b0>"
      ]
     },
     "metadata": {},
     "output_type": "display_data"
    }
   ],
   "source": [
    "preds = rfe_forest.predict_proba(X_test)\n",
    "mean_avg_precision = average_precision_score(y_test, preds[:,1])\n",
    "precision, recall, thresholds = precision_recall_curve(y_test, preds[:,1])\n",
    "plt.plot(recall, precision, lw=1, label='Avg. preceision {}'.format(mean_avg_precision))\n",
    "plt.xlim([-0.05, 1.05])\n",
    "plt.ylim([-0.05, 1.05])\n",
    "plt.xlabel('Recall')\n",
    "plt.ylabel('Precision')\n",
    "plt.title('Precision and Recall for a random forest classifier')\n",
    "plt.legend(bbox_to_anchor=(1.05, 1), loc=2, borderaxespad=0.)\n",
    "plt.show()"
   ]
  },
  {
   "cell_type": "code",
   "execution_count": null,
   "metadata": {
    "collapsed": false
   },
   "outputs": [],
   "source": []
  },
  {
   "cell_type": "code",
   "execution_count": 74,
   "metadata": {
    "collapsed": true
   },
   "outputs": [],
   "source": []
  },
  {
   "cell_type": "code",
   "execution_count": null,
   "metadata": {
    "collapsed": true
   },
   "outputs": [],
   "source": [
    "%%time\n",
    "if isfile('pickles/rf_n_estimators_oob.pkl'):\n",
    "    error_rate = pickle.load(open('pickles/rf_n_estimators_oob.pkl', 'rb'))\n",
    "else:\n",
    "    # Estimating the optimal number of trees for random forests using OOB error (whatever that is)\n",
    "    rf_params = random_search.best_params_\n",
    "    best_params.update({'warm_start':True, 'oob_score':True})\n",
    "    clf = RandomForestClassifier(**best_params)\n",
    "    min_estimators = 15\n",
    "    max_estimators = 100\n",
    "    error_rate = []\n",
    "    for i in range(min_estimators, max_estimators + 1, 5):\n",
    "        clf.set_params(n_estimators=i)\n",
    "        clf.fit(X_train, y_train)\n",
    "        # Record the OOB error for each `n_estimators=i` setting.\n",
    "        oob_error = 1 - clf.oob_score_\n",
    "        error_rate.append((i, oob_error))\n",
    "    with open('pickles/rf_n_estimators_oob.pkl, 'wb') as fl:\n",
    "        pickle.dump(error_rate, fl)"
   ]
  },
  {
   "cell_type": "code",
   "execution_count": 125,
   "metadata": {
    "collapsed": false
   },
   "outputs": [
    {
     "data": {
      "image/png": "[encoded data removed]",
      "text/plain": [
       "<matplotlib.figure.Figure at 0x116f586a0>"
      ]
     },
     "metadata": {},
     "output_type": "display_data"
    }
   ],
   "source": [
    "xs, ys = zip(*error_rate)\n",
    "plt.plot(xs, ys)\n",
    "plt.xlim(min_estimators, max_estimators)\n",
    "plt.xlabel(\"n_estimators\")\n",
    "plt.ylabel(\"OOB error rate\")\n",
    "plt.legend(loc=\"upper right\")\n",
    "plt.show()"
   ]
  },
  {
   "cell_type": "code",
   "execution_count": 102,
   "metadata": {
    "collapsed": false
   },
   "outputs": [],
   "source": [
    "rf_params.update({'oob_score':False})\n",
    "clf2 = RandomForestClassifier(**best_params)"
   ]
  },
  {
   "cell_type": "code",
   "execution_count": 123,
   "metadata": {
    "collapsed": false
   },
   "outputs": [
    {
     "data": {
      "text/plain": [
       "0.99915227244885463"
      ]
     },
     "execution_count": 123,
     "metadata": {},
     "output_type": "execute_result"
    }
   ],
   "source": [
    "clf.oob_score_"
   ]
  },
  {
   "cell_type": "code",
   "execution_count": 104,
   "metadata": {
    "collapsed": false
   },
   "outputs": [
    {
     "name": "stdout",
     "output_type": "stream",
     "text": [
      "             precision    recall  f1-score   support\n",
      "\n",
      "      False       1.00      1.00      1.00   3511712\n",
      "       True       0.63      0.14      0.23      3218\n",
      "\n",
      "avg / total       1.00      1.00      1.00   3514930\n",
      "\n"
     ]
    }
   ],
   "source": [
    "print classification_report(y_test, clf2.predict(X_test))"
   ]
  },
  {
   "cell_type": "code",
   "execution_count": 117,
   "metadata": {
    "collapsed": false
   },
   "outputs": [],
   "source": [
    "best_params.update({'warm_start':True, 'oob_score':True})\n",
    "clf3= RandomForestClassifier(**best_params)"
   ]
  },
  {
   "cell_type": "code",
   "execution_count": 118,
   "metadata": {
    "collapsed": false
   },
   "outputs": [
    {
     "data": {
      "text/plain": [
       "<bound method RandomForestClassifier.get_params of RandomForestClassifier(bootstrap=True, class_weight={True: 1},\n",
       "            criterion='gini', max_depth=11, max_features='sqrt',\n",
       "            max_leaf_nodes=None, min_samples_leaf=1, min_samples_split=11,\n",
       "            min_weight_fraction_leaf=0.0, n_estimators=20, n_jobs=1,\n",
       "            oob_score=True, random_state=None, verbose=0, warm_start=True)>"
      ]
     },
     "execution_count": 118,
     "metadata": {},
     "output_type": "execute_result"
    }
   ],
   "source": [
    "clf3.get_params"
   ]
  },
  {
   "cell_type": "code",
   "execution_count": 105,
   "metadata": {
    "collapsed": false
   },
   "outputs": [
    {
     "name": "stdout",
     "output_type": "stream",
     "text": [
      "Included and excluded features\n",
      "shortest_path: 0.0411688902722\n",
      "triadic_closeness: 0.0780160951614\n",
      "in_cluster: 0.0277072185561\n",
      "common_neighbors: 0.0879686678134\n",
      "time_difference: 0.0917441589557\n",
      "common_referrers: 0.0420880427048\n",
      "src_degree: 0.0330156785293\n",
      "trg_degree: 0.0340705077085\n",
      "preferential_attachment: 0.0634546595493\n",
      "adamic_adar: 0.184245969306\n",
      "leicht_holme_newman: 0.0906021570175\n",
      "resource_allocation: 0.225917954426\n"
     ]
    }
   ],
   "source": [
    "print \"Included and excluded features\"\n",
    "for name, state in zip(X_train.columns.values, clf2.feature_importances_):\n",
    "    print '{}: {}'.format(name, state)"
   ]
  },
  {
   "cell_type": "code",
   "execution_count": null,
   "metadata": {
    "collapsed": false
   },
   "outputs": [],
   "source": [
    "%%time\n",
    "rfe_tree = RFECV(estimator=tree.DecisionTreeClassifier(), step=1, scoring=make_scorer(scorer, needs_proba=True))\n",
    "rfe_tree.fit(X_train, y_train)\n",
    "preds = rfe_tree.predict_proba(X_test)\n",
    "mean_avg_precision = average_precision_score(y_test, preds[:,1])\n",
    "precision, recall, thresholds = precision_recall_curve(y_test, preds[:,1])\n",
    "plt.plot(recall, precision, lw=1, label='Avg. preceision {}'.format(mean_avg_precision))\n",
    "plt.xlim([-0.05, 1.05])\n",
    "plt.ylim([-0.05, 1.05])\n",
    "plt.xlabel('Recall')\n",
    "plt.ylabel('Precision')\n",
    "plt.title('Precision and Recall for a single decision tree')\n",
    "plt.legend(bbox_to_anchor=(1.05, 1), loc=2, borderaxespad=0.)\n",
    "plt.show()\n",
    "print\n",
    "print \"Included and excluded features:\"\n",
    "in_out = ['Excluded', 'Included']\n",
    "for name, in_model in zip(X_train.columns.values, rfe_tree.get_support()):\n",
    "    print name + \": {}\".format(in_out[in_model])\n",
    "print\n",
    "print classification_report(y_test, rfe_tree.predict(X_test))"
   ]
  },
  {
   "cell_type": "code",
   "execution_count": null,
   "metadata": {
    "collapsed": false
   },
   "outputs": [],
   "source": [
    "# Export the tree\n",
    "dot_data = StringIO()\n",
    "tree.export_graphviz(rfe_tree.estimator_, out_file=dot_data,  \n",
    "                         feature_names=X_train.columns.values[rfe_tree.support_],  \n",
    "                         class_names=['No link', 'Link'],  \n",
    "                         filled=True, rounded=True,  \n",
    "                         special_characters=True)  \n",
    "graph = pydotplus.graph_from_dot_data(dot_data.getvalue()) \n",
    "graph.write_pdf(\"rfe_tree.pdf\")"
   ]
  },
  {
   "cell_type": "code",
   "execution_count": null,
   "metadata": {
    "collapsed": false
   },
   "outputs": [],
   "source": [
    "%%time\n",
    "random_forest = RandomForestClassifier(n_estimators=20, max_depth=5, \n",
    "                                       min_samples_leaf=10, \n",
    "                                       class_weight={True: 15})\n",
    "random_forest.fit(X_train, y_train)\n",
    "preds = random_forest.predict_proba(X_test)\n",
    "mean_avg_precision = average_precision_score(y_test, preds[:,1])\n",
    "precision, recall, thresholds = precision_recall_curve(y_test, preds[:,1])"
   ]
  },
  {
   "cell_type": "code",
   "execution_count": null,
   "metadata": {
    "collapsed": false
   },
   "outputs": [],
   "source": [
    "\n",
    "random_forest = RandomForestClassifier(n_estimators=20, max_depth=5, \n",
    "                                       min_samples_leaf=10, \n",
    "                                       class_weight={True: 1})\n",
    "random_forest.fit(X_train, y_train)\n",
    "preds = random_forest.predict_proba(X_train)\n",
    "mean_avg_precision = average_precision_score(y_train, preds[:,1])\n",
    "precision, recall, thresholds = precision_recall_curve(y_train, preds[:,1])\n",
    "\n",
    "plt.plot(recall, precision, lw=1, label='Avg. precision: {}'.format(mean_avg_precision))\n",
    "plt.xlim([-0.05, 1.05])\n",
    "plt.ylim([-0.05, 1.05])\n",
    "plt.xlabel('Recall')\n",
    "plt.ylabel('Precision')\n",
    "plt.title('Precision and Recall for random forest, 20 trees')\n",
    "plt.legend(bbox_to_anchor=(1.05, 1), loc=2, borderaxespad=0.)\n",
    "\n",
    "random_forest2 = RandomForestClassifier(n_estimators=20, max_depth=5, \n",
    "                                       min_samples_leaf=10, \n",
    "                                       class_weight='balanced_subsample')\n",
    "random_forest2.fit(X_train, y_train)\n",
    "preds2 = random_forest2.predict_proba(X_train)\n",
    "mean_avg_precision2 = average_precision_score(y_train, preds2[:,1])\n",
    "precision2, recall2, thresholds = precision_recall_curve(y_train, preds2[:,1])\n",
    "plt.plot(recall2, precision2, lw=1, label='Balanced Avg. precision: {}'.format(mean_avg_precision2))\n",
    "plt.xlim([-0.05, 1.05])\n",
    "plt.ylim([-0.05, 1.05])\n",
    "plt.xlabel('Recall')\n",
    "plt.ylabel('Precision')\n",
    "plt.title('Precision and Recall for random forest, 20 trees, balanced')\n",
    "plt.legend(bbox_to_anchor=(1.05, 1), loc=2, borderaxespad=0.)\n",
    "plt.show()"
   ]
  },
  {
   "cell_type": "code",
   "execution_count": null,
   "metadata": {
    "collapsed": false
   },
   "outputs": [],
   "source": [
    "print classification_report(y_train, random_forest2.predict(X_train))"
   ]
  },
  {
   "cell_type": "code",
   "execution_count": null,
   "metadata": {
    "collapsed": false
   },
   "outputs": [],
   "source": [
    "for name, val in zip(X_train.columns.values, random_forest.feature_importances_):\n",
    "    print \"{}: {}\".format(name, val)"
   ]
  },
  {
   "cell_type": "code",
   "execution_count": null,
   "metadata": {
    "collapsed": false
   },
   "outputs": [],
   "source": [
    "from sklearn.preprocessing import StandardScaler\n",
    "scaler = StandardScaler().fit(X_train)"
   ]
  },
  {
   "cell_type": "code",
   "execution_count": null,
   "metadata": {
    "collapsed": false
   },
   "outputs": [],
   "source": [
    "%%time\n",
    "from sklearn.svm import SVC, LinearSVC\n",
    "svm = LinearSVC(loss='l2', penalty='l1', dual=False, class_weight='balanced', C=0.001)\n",
    "svm.fit(scaler.transform(X_train), y_train)"
   ]
  },
  {
   "cell_type": "code",
   "execution_count": null,
   "metadata": {
    "collapsed": false
   },
   "outputs": [],
   "source": [
    "preds = svm.predict(scaler.transform(X_test))\n",
    "print classification_report(y_test, preds)"
   ]
  },
  {
   "cell_type": "code",
   "execution_count": null,
   "metadata": {
    "collapsed": false
   },
   "outputs": [],
   "source": [
    "%%time\n",
    "from sklearn.ensemble import AdaBoostClassifier\n",
    "ada = AdaBoostClassifier(n_estimators=100)\n",
    "ada.fit(X_train, y_train)"
   ]
  },
  {
   "cell_type": "code",
   "execution_count": null,
   "metadata": {
    "collapsed": true
   },
   "outputs": [],
   "source": [
    "preds = ada.predict_proba(X_test)\n",
    "mean_avg_precision = average_precision_score(y_test, preds[:,1])\n",
    "precision, recall, thresholds = precision_recall_curve(y_test, preds[:,1])"
   ]
  },
  {
   "cell_type": "code",
   "execution_count": null,
   "metadata": {
    "collapsed": false
   },
   "outputs": [],
   "source": [
    "plt.plot(recall, precision, lw=1, label='Avg. precision: {}'.format(mean_avg_precision))\n",
    "plt.xlim([-0.05, 1.05])\n",
    "plt.ylim([-0.05, 1.05])\n",
    "plt.xlabel('Recall')\n",
    "plt.ylabel('Precision')\n",
    "plt.title('Precision and Recall for Adaboost Classifier')\n",
    "plt.legend(bbox_to_anchor=(1.05, 1), loc=2, borderaxespad=0.)\n",
    "plt.show()"
   ]
  },
  {
   "cell_type": "code",
   "execution_count": null,
   "metadata": {
    "collapsed": false
   },
   "outputs": [],
   "source": [
    "print classification_report(y_test, ada.predict(X_test))"
   ]
  },
  {
   "cell_type": "code",
   "execution_count": null,
   "metadata": {
    "collapsed": false
   },
   "outputs": [],
   "source": [
    "pca = PCA(n_components=2)\n",
    "X_r = pca.fit(np.array(X_train)).transform(np.array(X_train))\n",
    "lda = LinearDiscriminantAnalysis(n_components=2)\n",
    "X_r2 = lda.fit(np.array(X_train), y_train).transform(np.array(X_train))\n",
    "# Percentage of variance explained for each components\n",
    "print('explained variance ratio (first two components): %s'\n",
    "      % str(pca.explained_variance_ratio_))\n",
    "target_names = ['edge', 'non_edge']\n",
    "plt.figure()\n",
    "for c, i, target_name in zip(\"rgb\", [True, False], target_names):\n",
    "    plt.scatter(X_r[y_train == i, 0], X_r[y_train == i, 1], c=c, label=target_name)\n",
    "plt.legend()\n",
    "plt.title('PCA of IRIS dataset')\n",
    "plt.figure()\n",
    "for c, i, target_name in zip(\"rgb\", [True, False], target_names):\n",
    "    plt.scatter(X_r2[y_train == i, 0], X_r2[y_train == i, 1], c=c, label=target_name)\n",
    "plt.legend()\n",
    "plt.title('LDA of IRIS dataset')\n",
    "\n",
    "plt.show()\n"
   ]
  },
  {
   "cell_type": "code",
   "execution_count": null,
   "metadata": {
    "collapsed": false
   },
   "outputs": [],
   "source": [
    "X_r.shape"
   ]
  },
  {
   "cell_type": "code",
   "execution_count": null,
   "metadata": {
    "collapsed": false
   },
   "outputs": [],
   "source": [
    "from sklearn import datasets"
   ]
  },
  {
   "cell_type": "code",
   "execution_count": null,
   "metadata": {
    "collapsed": true
   },
   "outputs": [],
   "source": [
    "iris = datasets.load_iris()\n",
    "X = iris.data\n",
    "y = iris.target"
   ]
  },
  {
   "cell_type": "code",
   "execution_count": null,
   "metadata": {
    "collapsed": true
   },
   "outputs": [],
   "source": [
    "import matplotlib.pyplot as plt\n",
    "\n",
    "from sklearn import datasets\n",
    "from sklearn.decomposition import PCA, FastICA\n",
    "from sklearn.discriminant_analysis import LinearDiscriminantAnalysis\n",
    "\n",
    "iris = datasets.load_iris()\n",
    "cols = [col for col in X_train.columns.values if col not in  []]\n",
    "X = np.array(X_train.loc[:, cols])\n",
    "y = np.array(y_train)\n",
    "target_names = ['Edge', 'Non-edge']\n",
    "\n",
    "pca = FastICA(n_components=len(X_train.columns), whiten=True)\n",
    "X_r = pca.fit(X).transform(X)"
   ]
  },
  {
   "cell_type": "code",
   "execution_count": null,
   "metadata": {
    "collapsed": false
   },
   "outputs": [],
   "source": [
    "plt.figure(figsize=(20,10))\n",
    "for c, i, target_name in zip(\"rgb\", [True, False], target_names):\n",
    "    plt.scatter(X_r[y == i, 6], X_r[y == i, 7], c=c, label=target_name)\n",
    "plt.legend()\n",
    "plt.title('PCA of IRIS dataset')\n",
    "\n",
    "plt.show()"
   ]
  },
  {
   "cell_type": "code",
   "execution_count": null,
   "metadata": {
    "collapsed": false
   },
   "outputs": [],
   "source": [
    "%%time\n",
    "random_forest = RandomForestClassifier(n_estimators=40, max_depth=5, min_samples_leaf=10)\n",
    "random_forest.fit(X_r, y)\n",
    "X_test_r = pca.transform(np.array(X_test))\n",
    "preds = random_forest.predict_proba(X_test_r)\n",
    "mean_avg_precision = average_precision_score(y_test, preds[:,1])\n",
    "precision, recall, thresholds = precision_recall_curve(y_test, preds[:,1])"
   ]
  },
  {
   "cell_type": "code",
   "execution_count": null,
   "metadata": {
    "collapsed": false
   },
   "outputs": [],
   "source": [
    "plt.plot(recall, precision, lw=1, label='Avg. precision: {}'.format(mean_avg_precision))\n",
    "plt.xlim([-0.05, 1.05])\n",
    "plt.ylim([-0.05, 1.05])\n",
    "plt.xlabel('Recall')\n",
    "plt.ylabel('Precision')\n",
    "plt.title('Precision and Recall for random forest, 20 trees')\n",
    "plt.legend(bbox_to_anchor=(1.05, 1), loc=2, borderaxespad=0.)\n",
    "plt.show()"
   ]
  },
  {
   "cell_type": "code",
   "execution_count": null,
   "metadata": {
    "collapsed": false
   },
   "outputs": [],
   "source": [
    "X_r[yy]"
   ]
  },
  {
   "cell_type": "markdown",
   "metadata": {},
   "source": [
    "### Comparison with unsupervised methods\n"
   ]
  },
  {
   "cell_type": "code",
   "execution_count": null,
   "metadata": {
    "collapsed": true
   },
   "outputs": [],
   "source": [
    "%run load_data.py\n",
    "GRAPH = 'EUCHR'\n",
    "np.random.seed(42)\n",
    "random.seed(42)\n",
    "\n",
    "\n",
    "# Find the greatest connected component and work on that\n",
    "components = []\n",
    "lengths = []\n",
    "# Find the greatest component from the undirected version of the graph\n",
    "for component in nx.connected_component_subgraphs(nx.Graph(G)):\n",
    "    components.append(component)\n",
    "    lengths.append(len(component))\n",
    "# Find the GCC as the largest component and then recreate the directed graph\n",
    "GCC = components[lengths.index(max(lengths))]\n",
    "GCC = G.subgraph(GCC.nodes())"
   ]
  },
  {
   "cell_type": "code",
   "execution_count": null,
   "metadata": {
    "collapsed": false
   },
   "outputs": [],
   "source": [
    "test_year = 2013\n",
    "degrees = [5, 10, 15, 20]\n",
    "models = [(rfe_tree, 'single_tree'), (random_forest, 'random_forest'), (log_model, 'logistic_regression')]\n",
    "model_results = {}\n",
    "for model, name in models:\n",
    "    model_results[name] = {}\n",
    "    for degree in degrees:\n",
    "        res = {}\n",
    "        nodes = set(x for x,_ in test_data.loc[test_data['src_degree'] == degree, 'source'].index)\n",
    "        # assert len(nodes) == len([n for n, d in  slice_graph_by_year(test_year, test_year, GCC) if len(GCC[n]) == degree])\n",
    "        for node in nodes:\n",
    "            res[node] = {}\n",
    "            # If there already exists predictions for this node at this degree, load them\n",
    "            if isfile('pickles/{}_{}_{}.pkl'.format(name, node, degree)):\n",
    "                res[node] = pkl.load(open('pickles/{}_{}_{}.pkl'.format(name, node, degree), 'rb'))\n",
    "            else:\n",
    "                # If the features of the node at this degree has been created, load them\n",
    "                if isfile('pickles/{}_validation_deg_{}.pkl'.format(node, degree)):\n",
    "                    panel = pd.read_pickle('pickles/{}_validation_deg_{}.pkl'.format(node, degree))\n",
    "                # Generate features\n",
    "                else:\n",
    "                    dict_to_df = {}\n",
    "                    e = GCC.edges(node, data=True)\n",
    "                    if not len(e) == degree:\n",
    "                        raise Exception(\"Mismatch: {}\".format(len(e)))\n",
    "                    GCC.remove_edges_from(e[1:degree-1])\n",
    "                    for i in range(1, degree):\n",
    "                        to_be_scored = [(node, y, {}) for y in set(GCC.nodes()) - set(node) \n",
    "                                        if not (node, y) in set((s,t) for s,t,_ in e[0:i])]\n",
    "                        data = get_features(GCC, to_be_scored, node+'_{}_edges'.format(i), False)\n",
    "                        nans = data.isnull().any(1).nonzero()[0]\n",
    "                        if len(nans)>0:\n",
    "                            print \"Nans in get features: {}\".format(nans)\n",
    "                        dict_to_df[i] = data\n",
    "                        GCC.add_edge(e[i][0], e[i][1])\n",
    "                    panel = pd.Panel(dict_to_df)\n",
    "                    panel.to_pickle('pickles/{}_validation_deg_{}.pkl'.format(node, degree))\n",
    "                # Perform predictions on generated or loaded features\n",
    "                for i, df in panel.iteritems():\n",
    "                    df.dropna()\n",
    "                    X = df.ix[:, [col for col in data.columns if col not in ['edge', 'source', 'target']]]\n",
    "                    probs = zip(df['edge'], [p[1] for p in model.predict_proba(X)])\n",
    "                    probs = sorted(probs, key=lambda x: x[1], reverse=True)\n",
    "                    res[node][i] = probs[0:degree - i]\n",
    "                with open('pickles/{}_{}_{}.pkl'.format(name, node, degree), 'wb') as fl:\n",
    "                    pkl.dump(res[node], fl)\n",
    "            print \"Node done: {}\".format(node)\n",
    "        model_results[name][degree]= res\n",
    "        print \"Degree done: {}\".format(degree)\n",
    "    print \"Model done: \" + name"
   ]
  },
  {
   "cell_type": "code",
   "execution_count": null,
   "metadata": {
    "collapsed": false
   },
   "outputs": [],
   "source": [
    "%%time\n",
    "a = per_node_precision(GCC, model_results['logistic_regression'][10])\n",
    "b = per_node_precision(GCC, model_results['single_tree'][10])\n",
    "c = per_node_precision(GCC, model_results['random_forest'][10])\n",
    "d = {k: sum(p)/len(p) for k,p in a.iteritems() if len(p) != 0}\n",
    "e = {k: sum(p)/len(p) for k,p in b.iteritems() if len(p) != 0}\n",
    "f = {k: sum(p)/len(p) for k,p in c.iteritems() if len(p) != 0}\n",
    "plt.figure(figsize=(20,10))\n",
    "plt.plot(d.keys(), d.values(), e.keys(), e.values(), f.keys(), f.values(), lw=1.0, marker='o')\n",
    "plt.legend(['Logistic regression', 'Decision tree', 'Random forest'], markerscale=1, fontsize=20)\n",
    "plt.ylabel('Precision', fontsize=20)\n",
    "plt.xlabel('Number of edges on source node', fontsize=20)"
   ]
  },
  {
   "cell_type": "markdown",
   "metadata": {
    "collapsed": false
   },
   "source": [
    "## Communities as features"
   ]
  },
  {
   "cell_type": "code",
   "execution_count": null,
   "metadata": {
    "collapsed": false
   },
   "outputs": [],
   "source": [
    "# Convert the graph to igraph and find the communities\n",
    "nx.write_gml(GCC, 'GCC.gml', stringizer=lambda x: str(x))\n",
    "G_i = ig.Graph.Read_GML('GCC.gml')\n",
    "# Find the communities in the graph\n",
    "vc = G_i.community_infomap()"
   ]
  },
  {
   "cell_type": "code",
   "execution_count": null,
   "metadata": {
    "collapsed": false
   },
   "outputs": [],
   "source": [
    "# Create a cluster graph without combining edges and find its adjacency matrix\n",
    "cg = vc.cluster_graph(combine_edges=False)\n",
    "A = np.array(cg.get_adjacency().data, dtype=float)"
   ]
  },
  {
   "cell_type": "code",
   "execution_count": null,
   "metadata": {
    "collapsed": false
   },
   "outputs": [],
   "source": [
    "# Proportionalize each row for clearer plotting\n",
    "row_sums = np.sum(A, axis=0)\n",
    "A_norm = A / row_sums[:, np.newaxis]\n",
    "plt.figure(figsize=(20,20))\n",
    "plt.imshow(A_norm[0:150, 0:150])\n",
    "plt.colorbar()"
   ]
  },
  {
   "cell_type": "markdown",
   "metadata": {
    "collapsed": false
   },
   "source": [
    "## Sequential classification"
   ]
  },
  {
   "cell_type": "code",
   "execution_count": null,
   "metadata": {
    "collapsed": false
   },
   "outputs": [],
   "source": [
    "%%time\n",
    "log_model = LogisticRegression(C=.001, penalty='l1', class_weight='balanced')\n",
    "log_model.fit(X_train, y_train)\n",
    "preds = log_model.predict(X_test)"
   ]
  },
  {
   "cell_type": "code",
   "execution_count": null,
   "metadata": {
    "collapsed": false
   },
   "outputs": [],
   "source": [
    "print classification_report(y_test, preds)\n",
    "print classification_report(y_train, log_model.predict(X_train))"
   ]
  },
  {
   "cell_type": "code",
   "execution_count": null,
   "metadata": {
    "collapsed": true
   },
   "outputs": [],
   "source": [
    "log_model2 = LogisticRegression(C=1.001, penalty='l1')\n",
    "p2 = log_model.predict(X_train)\n",
    "log_model2.fit(X_train.loc[p2], y_train[p2])"
   ]
  },
  {
   "cell_type": "code",
   "execution_count": null,
   "metadata": {
    "collapsed": false
   },
   "outputs": [],
   "source": [
    "preds = log_model.predict(X_test)"
   ]
  },
  {
   "cell_type": "code",
   "execution_count": null,
   "metadata": {
    "collapsed": false
   },
   "outputs": [],
   "source": [
    "print classification_report(y_test, preds)"
   ]
  },
  {
   "cell_type": "code",
   "execution_count": null,
   "metadata": {
    "collapsed": false
   },
   "outputs": [],
   "source": [
    "print classification_report(y_test[preds], log_model2.predict(X_test.loc[preds,:]))"
   ]
  },
  {
   "cell_type": "code",
   "execution_count": null,
   "metadata": {
    "collapsed": false
   },
   "outputs": [],
   "source": [
    "print classification_report(y_train, )"
   ]
  },
  {
   "cell_type": "code",
   "execution_count": null,
   "metadata": {
    "collapsed": false
   },
   "outputs": [],
   "source": [
    "len([p for p in preds if p ==True])"
   ]
  },
  {
   "cell_type": "code",
   "execution_count": null,
   "metadata": {
    "collapsed": true
   },
   "outputs": [],
   "source": [
    "def in_cluster(G, candidate_edges):\n",
    "    results = []\n",
    "    nx.write_gml(G, 'G.gml', stringizer=lambda x: str(x))\n",
    "    G_i = ig.Graph.Read_GML('G.gml')\n",
    "    vc = G_i.community_infomap()\n",
    "    node_to_cluster = {}\n",
    "    for node, cluster in zip(G_i.vs(), vc.membership):\n",
    "        node_to_cluster[node['label']] = cluster\n",
    "    for x,y,data in candidate_edges:\n",
    "        s = False\n",
    "        if node_to_cluster[x] == node_to_cluster[y]:\n",
    "            s = True\n",
    "        results.append((x,y,{'score': s}))\n",
    "    return results        "
   ]
  },
  {
   "cell_type": "code",
   "execution_count": null,
   "metadata": {
    "collapsed": true
   },
   "outputs": [],
   "source": [
    "candidate_edges = GCC.edges(data=True)\n",
    "ic = in_cluster(GCC, candidate_edges)"
   ]
  },
  {
   "cell_type": "code",
   "execution_count": null,
   "metadata": {
    "collapsed": false
   },
   "outputs": [],
   "source": [
    "1.0*sum([data['score'] for x,y,data in ic])/len(ic)"
   ]
  },
  {
   "cell_type": "code",
   "execution_count": null,
   "metadata": {
    "collapsed": false
   },
   "outputs": [],
   "source": [
    "false_edges = valid_random_non_edges(GCC, len(candidate_edges))"
   ]
  },
  {
   "cell_type": "code",
   "execution_count": null,
   "metadata": {
    "collapsed": false
   },
   "outputs": [],
   "source": [
    "false_edges = [(x,y,{}) for x,y in false_edges]\n",
    "fic = in_cluster(GCC, false_edges)\n",
    "1.0*sum([data['score'] for x,y,data in fic])/len(fic)"
   ]
  },
  {
   "cell_type": "code",
   "execution_count": null,
   "metadata": {
    "collapsed": false
   },
   "outputs": [],
   "source": [
    "np"
   ]
  },
  {
   "cell_type": "code",
   "execution_count": null,
   "metadata": {
    "collapsed": false
   },
   "outputs": [],
   "source": [
    "node_to_cluster['62002CJ0230']"
   ]
  },
  {
   "cell_type": "code",
   "execution_count": null,
   "metadata": {
    "collapsed": false
   },
   "outputs": [],
   "source": [
    "vc[39]"
   ]
  },
  {
   "cell_type": "code",
   "execution_count": null,
   "metadata": {
    "collapsed": false
   },
   "outputs": [],
   "source": [
    "self_to_foreign = np.zeros(len(A))\n",
    "for i in xrange(len(A)):\n",
    "    self_to_foreign[i] = 1.0*(A[i][i])/(sum(A[i])+1)"
   ]
  },
  {
   "cell_type": "code",
   "execution_count": null,
   "metadata": {
    "collapsed": false
   },
   "outputs": [],
   "source": [
    "plt.plot(self_to_foreign, 'o')"
   ]
  },
  {
   "cell_type": "code",
   "execution_count": null,
   "metadata": {
    "collapsed": false
   },
   "outputs": [],
   "source": [
    "ig.plot(cg, layout=layout)"
   ]
  },
  {
   "cell_type": "code",
   "execution_count": null,
   "metadata": {
    "collapsed": false
   },
   "outputs": [],
   "source": [
    "plt.figure(figsize=(20,10))\n",
    "plt.imshow(A_np[0:20, 0:20])\n",
    "plt.colorbar()"
   ]
  },
  {
   "cell_type": "code",
   "execution_count": null,
   "metadata": {
    "collapsed": false
   },
   "outputs": [],
   "source": [
    "scaler.transform(X_train)"
   ]
  },
  {
   "cell_type": "code",
   "execution_count": null,
   "metadata": {
    "collapsed": false
   },
   "outputs": [],
   "source": [
    "for c in clusters:\n",
    "    print len(c)"
   ]
  },
  {
   "cell_type": "code",
   "execution_count": null,
   "metadata": {
    "collapsed": false
   },
   "outputs": [],
   "source": [
    "vc.modularity"
   ]
  },
  {
   "cell_type": "code",
   "execution_count": null,
   "metadata": {
    "collapsed": false
   },
   "outputs": [],
   "source": [
    "tt = slice_graph_by_year(2013, 2013, GCC)"
   ]
  },
  {
   "cell_type": "code",
   "execution_count": null,
   "metadata": {
    "collapsed": false
   },
   "outputs": [],
   "source": [
    "len([n for n, d in tt if len(G[n]) == 15])"
   ]
  },
  {
   "cell_type": "code",
   "execution_count": null,
   "metadata": {
    "collapsed": false
   },
   "outputs": [],
   "source": [
    "sgs=vc.subgraphs()"
   ]
  },
  {
   "cell_type": "code",
   "execution_count": null,
   "metadata": {
    "collapsed": false
   },
   "outputs": [],
   "source": [
    "sg = sgs[0]"
   ]
  },
  {
   "cell_type": "code",
   "execution_count": null,
   "metadata": {
    "collapsed": false
   },
   "outputs": [],
   "source": [
    "v=list(sg.vs)[0]"
   ]
  },
  {
   "cell_type": "code",
   "execution_count": null,
   "metadata": {
    "collapsed": false
   },
   "outputs": [],
   "source": [
    "v['label']"
   ]
  },
  {
   "cell_type": "markdown",
   "metadata": {},
   "source": [
    "While the accuracy of the logistic model seems incredibly good this simple evaluation hides an important issue which can be seen when looking at the per-class metrics."
   ]
  },
  {
   "cell_type": "code",
   "execution_count": null,
   "metadata": {
    "collapsed": false
   },
   "outputs": [],
   "source": [
    "\n",
    "preds = logi.predict(test_data[:,1:])\n",
    "print classification_report(test_data[:,0], preds)"
   ]
  },
  {
   "cell_type": "markdown",
   "metadata": {
    "collapsed": true
   },
   "source": [
    "The model is able to predict the non-existence of links very well, but completely fails to predict existing links which are exactly the cases that are interesting. This can be seen as having a model that will always predict that no link will form will have very nice accuracy due to the imbalance between classes. It is therefore necessary to train the model on an a more balanced dataset.\n",
    "\n",
    "[Link prediction in dynamic weighted and directed social networks] proposes a way to combat this. Since the set of potential edges, $D$, has the subsets of existing links, $D^+$ and non-existing links, $D^-$, where $D^- >> D^+$ it is possible to split into $m$ sub-sets each of size $|D^+|$, $S_i$ so that $\\sum_i S_i = D^-$.\n",
    "\n",
    "Models are then trained on $D^+ S_i \\ \\forall \\ i \\in m$  resulting in $m$ models all trained on the same positive cases. To perform classification of a potential link majority voting among the classifiers is done."
   ]
  },
  {
   "cell_type": "code",
   "execution_count": null,
   "metadata": {
    "collapsed": false
   },
   "outputs": [],
   "source": [
    "# Split the cases in positive and negative samples\n",
    "D_pos = train_data[train_data[:,0] == 1]\n",
    "D_neg = train_data[train_data[:,0] == 0]"
   ]
  },
  {
   "cell_type": "code",
   "execution_count": null,
   "metadata": {
    "collapsed": false
   },
   "outputs": [],
   "source": [
    "# Compute models for each case\n",
    "m = len(D_neg)/len(D_pos)\n",
    "try:\n",
    "    models = pkl.load(open('pickles/majority_logistic.pkl', 'rb'))\n",
    "except:\n",
    "    models = []\n",
    "    for i in range(0, m):\n",
    "        S = np.array(D_neg[i*len(D_pos):(i+1)*len(D_pos)])\n",
    "        model = LogisticRegression(C=1e5)\n",
    "        models.append(model.fit(np.append(S[:,1:], D_pos[:,1:], axis=0), np.append(S[:,0], D_pos[:,0], axis = 0)))\n",
    "    with open('pickles/majority_logistic.pkl', 'wb') as fl:\n",
    "        pkl.dump(models, fl)"
   ]
  },
  {
   "cell_type": "code",
   "execution_count": null,
   "metadata": {
    "collapsed": false
   },
   "outputs": [],
   "source": [
    "%%time\n",
    "# Compute models for each case\n",
    "m = len(D_neg)/len(D_pos)\n",
    "try:\n",
    "    models = pkl.load(open('pickles/majority_svc.pkl', 'rb'))\n",
    "except:\n",
    "    models = []\n",
    "    for i in range(0, m):\n",
    "        S = np.array(D_neg[i*len(D_pos):(i+1)*len(D_pos)])\n",
    "        model = LinearSVC()\n",
    "        models.append(model.fit(np.append(S[:,1:], D_pos[:,1:], axis=0), np.append(S[:,0], D_pos[:,0], axis = 0)))\n",
    "    with open('pickles/majority_svc.pkl', 'wb') as fl:\n",
    "        pkl.dump(models, fl)"
   ]
  },
  {
   "cell_type": "code",
   "execution_count": null,
   "metadata": {
    "collapsed": false
   },
   "outputs": [],
   "source": [
    "%%time\n",
    "# Create predictions for each model and decide the final outcome by majority voting\n",
    "try:\n",
    "    predictions = pkl.load(open('pickles/majority_pred.pkl', 'rb'))\n",
    "except:\n",
    "    predictions = np.zeros(test_data.shape[0])\n",
    "    for i in range(0, len(models)):\n",
    "        predictions += models[i].predict(test_data[:, 1:])\n",
    "    with open('pickles/majority_pred.pkl', 'wb') as fl:\n",
    "        pkl.dump(predictions, fl)"
   ]
  },
  {
   "cell_type": "code",
   "execution_count": null,
   "metadata": {
    "collapsed": false
   },
   "outputs": [],
   "source": [
    "%%time\n",
    "# Create predictions for each model and decide the final outcome by majority voting\n",
    "try:\n",
    "    svc_pred = pkl.load(open('pickles/majority_svc_pred.pkl', 'rb'))\n",
    "except:\n",
    "    svc_pred = np.zeros(test_data.shape[0])\n",
    "    for i in range(0, len(models)):\n",
    "        svc_pred += models[i].predict(test_data[:, 1:])\n",
    "    with open('pickles/majority_svc_pred.pkl', 'wb') as fl:\n",
    "        pkl.dump(svc_pred, fl)"
   ]
  },
  {
   "cell_type": "code",
   "execution_count": null,
   "metadata": {
    "collapsed": true
   },
   "outputs": [],
   "source": [
    "voted_result = np.zeros(len(svc_pred))\n",
    "for i, agg in enumerate(svc_pred):\n",
    "    if agg > m/2:\n",
    "        voted_result[i] = 1"
   ]
  },
  {
   "cell_type": "code",
   "execution_count": null,
   "metadata": {
    "collapsed": false
   },
   "outputs": [],
   "source": [
    "voted_result = np.zeros(len(predictions))\n",
    "for i, agg in enumerate(predictions):\n",
    "    if agg > m/2:\n",
    "        voted_result[i] = 1"
   ]
  },
  {
   "cell_type": "code",
   "execution_count": null,
   "metadata": {
    "collapsed": false
   },
   "outputs": [],
   "source": [
    "print classification_report(test_data[:,0], voted_result)"
   ]
  },
  {
   "cell_type": "code",
   "execution_count": null,
   "metadata": {
    "collapsed": true
   },
   "outputs": [],
   "source": [
    "from sklearn import cross_validation as cv"
   ]
  },
  {
   "cell_type": "code",
   "execution_count": null,
   "metadata": {
    "collapsed": true
   },
   "outputs": [],
   "source": [
    "nodes = slice_graph_by_year(start_date, start_date-7, GCC)"
   ]
  },
  {
   "cell_type": "code",
   "execution_count": null,
   "metadata": {
    "collapsed": false
   },
   "outputs": [],
   "source": [
    "X_train, X_test, y_train, y_test = cv.train_test_split(train_data[:,1:], train_data[:,0], test_size=0.2)"
   ]
  },
  {
   "cell_type": "code",
   "execution_count": null,
   "metadata": {
    "collapsed": false
   },
   "outputs": [],
   "source": [
    "2142685L*4"
   ]
  },
  {
   "cell_type": "code",
   "execution_count": null,
   "metadata": {
    "collapsed": false
   },
   "outputs": [],
   "source": [
    "cn_res = X_test.loc[:, 'common_neighbors']"
   ]
  },
  {
   "cell_type": "code",
   "execution_count": null,
   "metadata": {
    "collapsed": false
   },
   "outputs": [],
   "source": [
    "cn_res_p = np.log(cn_res+1)"
   ]
  },
  {
   "cell_type": "code",
   "execution_count": null,
   "metadata": {
    "collapsed": false
   },
   "outputs": [],
   "source": []
  },
  {
   "cell_type": "code",
   "execution_count": null,
   "metadata": {
    "collapsed": false
   },
   "outputs": [],
   "source": [
    "from sklearn.metrics import roc_curve"
   ]
  },
  {
   "cell_type": "code",
   "execution_count": null,
   "metadata": {
    "collapsed": true
   },
   "outputs": [],
   "source": [
    "fpr, tpr, thresh = roc_curve(y_test, cn_res, drop_intermediate=False)"
   ]
  },
  {
   "cell_type": "code",
   "execution_count": null,
   "metadata": {
    "collapsed": false
   },
   "outputs": [],
   "source": [
    "plt.plot(fpr, tpr)"
   ]
  },
  {
   "cell_type": "code",
   "execution_count": null,
   "metadata": {
    "collapsed": false
   },
   "outputs": [],
   "source": [
    "prec, reca, _ = precision_recall_curve(y_test, cn_res, pos_label=1)"
   ]
  },
  {
   "cell_type": "code",
   "execution_count": null,
   "metadata": {
    "collapsed": false
   },
   "outputs": [],
   "source": [
    "cn_res = X_test.loc[:, 'common_neighbors']\n",
    "prec, reca, cn_t = precision_recall_curve(y_test, cn_res, pos_label=1)\n",
    "plt.plot(reca, prec)\n",
    "cr_res = X_test.loc[:, 'common_referrers']\n",
    "prec, reca, cr_t_ = precision_recall_curve(y_test, cr_res, pos_label=1)\n",
    "plt.plot(reca, prec)\n",
    "ra_res = X_test.loc[:, 'resource_allocation']\n",
    "prec, reca, cr_t_ = precision_recall_curve(y_test, ra_res, pos_label=1)\n",
    "plt.plot(reca, prec)\n",
    "ra_res = X_test.loc[:, 'leicht_holme_newman']\n",
    "prec, reca, cr_t_ = precision_recall_curve(y_test, ra_res, pos_label=1)\n",
    "plt.plot(reca, prec)\n",
    "ra_res = X_test.loc[:, 'triadic_closeness']\n",
    "prec, reca, cr_t_ = precision_recall_curve(y_test, ra_res, pos_label=1)\n",
    "plt.plot(reca, prec)\n",
    "ra_res = X_test.loc[:, 'preferential_attachment']\n",
    "prec, reca, cr_t_ = precision_recall_curve(y_test, ra_res, pos_label=1)\n",
    "plt.plot(reca, prec)\n",
    "ra_res = X_test.loc[:, 'adamic_adar']\n",
    "prec, reca, cr_t_ = precision_recall_curve(y_test, ra_res, pos_label=1)\n",
    "plt.plot(reca, prec)\n",
    "precision, recall, thresholds = precision_recall_curve(y_test, preds[:,1])\n",
    "plt.plot(recall, precision)\n",
    "plt.legend(['common_neighbors', 'common_referrers', 'resource_allocation', \n",
    "            'leicht_holme_newman', 'triadic_closeness', 'preferential_attachment', \n",
    "            'adamic_adar', 'adaboost'])\n",
    "plt.show()"
   ]
  },
  {
   "cell_type": "code",
   "execution_count": null,
   "metadata": {
    "collapsed": false
   },
   "outputs": [],
   "source": [
    "cn_res = X_test.loc[:, 'common_neighbors']\n",
    "fpr, tpr, cn_t = roc_curve(y_test, cn_res, pos_label=1)\n",
    "plt.plot(fpr, tpr)\n",
    "cr_res = X_test.loc[:, 'common_referrers']\n",
    "fpr, tpr, cr_t_ = roc_curve(y_test, cr_res, pos_label=1)\n",
    "plt.plot(fpr, tpr)\n",
    "ra_res = X_test.loc[:, 'resource_allocation']\n",
    "fpr, tpr, cr_t_ = roc_curve(y_test, ra_res, pos_label=1)\n",
    "plt.plot(fpr, tpr)\n",
    "ra_res = X_test.loc[:, 'leicht_holme_newman']\n",
    "fpr, tpr, cr_t_ = roc_curve(y_test, ra_res, pos_label=1)\n",
    "plt.plot(fpr, tpr)\n",
    "ra_res = X_test.loc[:, 'triadic_closeness']\n",
    "fpr, tpr, cr_t_ = roc_curve(y_test, ra_res, pos_label=1)\n",
    "plt.plot(fpr, tpr)\n",
    "ra_res = X_test.loc[:, 'preferential_attachment']\n",
    "fpr, tpr, cr_t_ = roc_curve(y_test, ra_res, pos_label=1)\n",
    "plt.plot(fpr, tpr)\n",
    "ra_res = X_test.loc[:, 'adamic_adar']\n",
    "fpr, tpr, cr_t_ = roc_curve(y_test, ra_res, pos_label=1)\n",
    "plt.plot(fpr, tpr)\n",
    "plt.legend(['common_neighbors', 'common_referrers', 'resource_allocation', \n",
    "            'leicht_holme_newman', 'triadic_closeness', 'preferential_attachment', \n",
    "            'adamic_adar'])\n",
    "plt.show()"
   ]
  },
  {
   "cell_type": "code",
   "execution_count": null,
   "metadata": {
    "collapsed": false
   },
   "outputs": [],
   "source": [
    "X_train.columns"
   ]
  },
  {
   "cell_type": "code",
   "execution_count": null,
   "metadata": {
    "collapsed": false
   },
   "outputs": [],
   "source": [
    "scores = cv.cross_val_score(ll, train_data[:,1:], train_data[:,0], cv=5)"
   ]
  },
  {
   "cell_type": "markdown",
   "metadata": {},
   "source": [
    "Perform a cross validation experiment on the logistic classifier based on the years 2000 - 2013"
   ]
  },
  {
   "cell_type": "raw",
   "metadata": {},
   "source": [
    "<!--bibtex\n",
    "\n",
    "@Article{Wang2014,\n",
    "author=\"Wang, Peng\n",
    "and Xu, BaoWen\n",
    "and Wu, YuRong\n",
    "and Zhou, XiaoYu\",\n",
    "title=\"Link prediction in social networks: the state-of-the-art\",\n",
    "journal=\"Science China Information Sciences\",\n",
    "year=\"2014\",\n",
    "volume=\"58\",\n",
    "number=\"1\",\n",
    "pages=\"1--38\",\n",
    "abstract=\"In social networks, link prediction predicts missing links in current networks and new or dissolution links in future networks, is important for mining and analyzing the evolution of social networks. In the past decade, many works have been done about the link prediction in social networks. The goal of this paper is to comprehensively review, analyze and discuss the state-of-the-art of the link prediction in social networks. A systematical category for link prediction techniques and problems is presented. Then link prediction techniques and problems are analyzed and discussed. Typical applications of link prediction are also addressed. Achievements and roadmaps of some active research groups are introduced. Finally, some future challenges of the link prediction in social networks are discussed.\",\n",
    "issn=\"1869-1919\",\n",
    "doi=\"10.1007/s11432-014-5237-y\",\n",
    "url=\"http://dx.doi.org/10.1007/s11432-014-5237-y\"\n",
    "}\n",
    "\n",
    "\n",
    "\n",
    "@phdthesis{Kataria2012,\n",
    " author = {Kataria, Saurabh},\n",
    " advisor = {Mitra, Prasenjit},\n",
    " title = {Topic Models for Link Prediction in Document Networks},\n",
    " year = {2012},\n",
    " isbn = {978-1-267-51143-0},\n",
    " note = {AAI3521232},\n",
    " publisher = {Pennsylvania State University},\n",
    " address = {University Park, PA, USA},\n",
    "}\n",
    "\n",
    "@article{directedSchall,\n",
    "year={2014},\n",
    "issn={1869-5450},\n",
    "journal={Social Network Analysis and Mining},\n",
    "eid={157},\n",
    "volume={4},\n",
    "number={1},\n",
    "doi={10.1007/s13278-014-0157-9},\n",
    "title={Link prediction in directed social networks},\n",
    "url={http://dx.doi.org/10.1007/s13278-014-0157-9},\n",
    "publisher={Springer Vienna},\n",
    "keywords={Social networks; Link prediction; Metrics; Directed graphs; Patterns},\n",
    "author={Schall, Daniel},\n",
    "language={English}\n",
    "}\n",
    "\n",
    "\n",
    "@article{Lu20111150,\n",
    "title = {Link prediction in complex networks: A survey },\n",
    "author = {Lü, Linyuan and Zhou, Tao},\n",
    "journal = {Physica A: Statistical Mechanics and its Applications },\n",
    "volume = {390},\n",
    "number = {6},\n",
    "pages = {1150 - 1170},\n",
    "year = {2011},\n",
    "issn = {0378-4371},\n",
    "doi = {http://dx.doi.org/10.1016/j.physa.2010.11.027},\n",
    "url = {http://www.sciencedirect.com/science/article/pii/S037843711000991X}\n",
    "}\n",
    "\n",
    "@INPROCEEDINGS{Cukierski2011, \n",
    "author={W. Cukierski and B. Hamner and B. Yang}, \n",
    "booktitle={Neural Networks (IJCNN), The 2011 International Joint Conference on}, \n",
    "title={Graph-based features for supervised link prediction}, \n",
    "year={2011}, \n",
    "pages={1237-1244}, \n",
    "keywords={directed graphs;learning (artificial intelligence);pattern classification;social networking (online);IJCNN social network challenge;Random Forests;directed graph;graph-based features;receiver-operator characteristic;social networks;supervised link prediction;Approximation methods;Bayesian methods;Feature extraction;Prediction algorithms;Prediction methods;Social network services;Sparse matrices}, \n",
    "doi={10.1109/IJCNN.2011.6033365}, \n",
    "ISSN={2161-4393}, \n",
    "month={July},}\n",
    "\n",
    "@inproceedings{Lichtenwalter,\n",
    " author = {Lichtenwalter, Ryan N. and Lussier, Jake T. and Chawla, Nitesh V.},\n",
    " title = {New Perspectives and Methods in Link Prediction},\n",
    " booktitle = {Proceedings of the 16th ACM SIGKDD International Conference on Knowledge Discovery and Data Mining},\n",
    " series = {KDD '10},\n",
    " year = {2010},\n",
    " isbn = {978-1-4503-0055-1},\n",
    " location = {Washington, DC, USA},\n",
    " pages = {243--252},\n",
    " numpages = {10},\n",
    " url = {http://doi.acm.org/10.1145/1835804.1835837},\n",
    " doi = {10.1145/1835804.1835837},\n",
    " acmid = {1835837},\n",
    " publisher = {ACM},\n",
    " address = {New York, NY, USA},\n",
    " keywords = {class imbalance, link prediction, machine learning, networks},\n",
    "} \n",
    "\n",
    "@article{LHN2,\n",
    "  title = {Vertex similarity in networks},\n",
    "  author = {Leicht, E. A. and Holme, Petter and Newman, M. E. J.},\n",
    "  journal = {Phys. Rev. E},\n",
    "  volume = {73},\n",
    "  issue = {2},\n",
    "  pages = {026120},\n",
    "  numpages = {10},\n",
    "  year = {2006},\n",
    "  month = {Feb},\n",
    "  publisher = {American Physical Society},\n",
    "  doi = {10.1103/PhysRevE.73.026120},\n",
    "  url = {http://link.aps.org/doi/10.1103/PhysRevE.73.026120}\n",
    "}\n",
    "\n",
    "@ARTICLE{Fouss06random-walkcomputation,\n",
    "    author = {Fouss, François and Pirotte, Alain and Renders, Jean-michel and Saerens, Marco},\n",
    "    title = {Random-walk computation of similarities between nodes of a graph, with application to collaborative recommendation},\n",
    "    journal = {IEEE Transactions on Knowledge and Data Engineering},\n",
    "    year = {2006},\n",
    "    volume = {19},\n",
    "    pages = {2007}\n",
    "}\n",
    "\n",
    "@inproceedings{LibenNowell2004,\n",
    " author = {Liben-Nowell, David and Kleinberg, Jon},\n",
    " title = {The Link Prediction Problem for Social Networks},\n",
    " booktitle = {Proceedings of the Twelfth International Conference on Information and Knowledge Management},\n",
    " series = {CIKM '03},\n",
    " year = {2003},\n",
    " isbn = {1-58113-723-0},\n",
    " location = {New Orleans, LA, USA},\n",
    " pages = {556--559},\n",
    " numpages = {4},\n",
    " url = {http://doi.acm.org/10.1145/956863.956972},\n",
    " doi = {10.1145/956863.956972},\n",
    " acmid = {956972},\n",
    " publisher = {ACM},\n",
    " address = {New York, NY, USA},\n",
    " keywords = {link analysis, link prediction, social networks},\n",
    "}\n",
    "\n",
    "@article{Linyuan2009,\n",
    "  title = {Similarity index based on local paths for link prediction of complex networks},\n",
    "  author = {L\\\"u, Linyuan and Jin, Ci-Hang and Zhou, Tao},\n",
    "  journal = {Phys. Rev. E},\n",
    "  volume = {80},\n",
    "  issue = {4},\n",
    "  pages = {046122},\n",
    "  numpages = {9},\n",
    "  year = {2009},\n",
    "  month = {Oct},\n",
    "  publisher = {American Physical Society},\n",
    "  doi = {10.1103/PhysRevE.80.046122},\n",
    "  url = {http://link.aps.org/doi/10.1103/PhysRevE.80.046122}\n",
    "}\n",
    "\n",
    "\n",
    "@article{KatzIndex,\n",
    "year={1953},\n",
    "issn={0033-3123},\n",
    "journal={Psychometrika},\n",
    "volume={18},\n",
    "number={1},\n",
    "doi={10.1007/BF02289026},\n",
    "title={A new status index derived from sociometric analysis},\n",
    "url={http://dx.doi.org/10.1007/BF02289026},\n",
    "publisher={Springer-Verlag},\n",
    "author={Katz, Leo},\n",
    "pages={39-43},\n",
    "language={English}\n",
    "}\n",
    "\n",
    "\n",
    "@ARTICLE{2015arXiv151204776T,\n",
    "   author = {{Tabourier}, L. and {Libert}, A.-S. and {Lambiotte}, R.},\n",
    "    title = \"{Predicting links in ego-networks using temporal information}\",\n",
    "  journal = {ArXiv e-prints},\n",
    "archivePrefix = \"arXiv\",\n",
    "   eprint = {1512.04776},\n",
    " keywords = {Computer Science - Social and Information Networks, Physics - Physics and Society},\n",
    "     year = {2015},\n",
    "    month = {dec},\n",
    "   adsurl = {http://adsabs.harvard.edu/abs/2015arXiv151204776T},\n",
    "  adsnote = {Provided by the SAO/NASA Astrophysics Data System}\n",
    "}\n",
    "\n",
    "@inproceedings{chang2009relational,\n",
    "  title={Relational topic models for document networks},\n",
    "  author={Chang, Jonathan and Blei, David M},\n",
    "  booktitle={International Conference on Artificial Intelligence and Statistics},\n",
    "  pages={81--88},\n",
    "  year={2009}\n",
    "}\n",
    "\n",
    "@inproceedings{Blei2011PTM,\n",
    " author = {Blei, David},\n",
    " title = {Probabilistic Topic Models},\n",
    " booktitle = {Proceedings of the 17th ACM SIGKDD International Conference Tutorials},\n",
    " series = {KDD '11 Tutorials},\n",
    " year = {2011},\n",
    " isbn = {978-1-4503-1201-1},\n",
    " location = {San Diego, California},\n",
    " pages = {5:1--5:1},\n",
    " articleno = {5},\n",
    " numpages = {1},\n",
    " url = {http://doi.acm.org.proxy.findit.dtu.dk/10.1145/2107736.2107741},\n",
    " doi = {10.1145/2107736.2107741},\n",
    " acmid = {2107741},\n",
    " publisher = {ACM},\n",
    " address = {New York, NY, USA},\n",
    "}\n",
    "\n",
    "@article{RWRLu,\n",
    "  author={Ming-Sheng Shang and Linyuan Lü and Wei Zeng and Yi-Cheng Zhang and Tao Zhou},\n",
    "  title={Relevance is more significant than correlation: Information filtering on sparse data},\n",
    "  journal={EPL (Europhysics Letters)},\n",
    "  volume={88},\n",
    "  number={6},\n",
    "  pages={68008},\n",
    "  url={http://stacks.iop.org/0295-5075/88/i=6/a=68008},\n",
    "  year={2009},\n",
    "  abstract={In some recommender systems where users can vote objects by ratings, the similarity between users can be quantified by a benchmark index, namely the Pearson correlation coefficient , which reflects the rating correlations. Another alternative way is to calculate the similarity based solely on the relevance information, namely whether a user has voted an object. The former one uses more information than the latter, and is intuitively expected to give more accurate rating predictions under the standard collaborative filtering framework. However, according to the extensive experimental analysis, this letter reports the opposite results that the latter method, making use of only the relevance information, can outperform the former method, especially when the data set is sparse. Our finding challenges the routine knowledge on information filtering, and suggests some alternatives to address the sparsity problem.}\n",
    "}\n",
    "\n",
    "@inproceedings{AnalysisMicroblogs,\n",
    " author = {Yin, Dawei and Hong, Liangjie and Davison, Brian D.},\n",
    " title = {Structural Link Analysis and Prediction in Microblogs},\n",
    " booktitle = {Proceedings of the 20th ACM International Conference on Information and Knowledge Management},\n",
    " series = {CIKM '11},\n",
    " year = {2011},\n",
    " isbn = {978-1-4503-0717-8},\n",
    " location = {Glasgow, Scotland, UK},\n",
    " pages = {1163--1168},\n",
    " numpages = {6},\n",
    " url = {http://doi.acm.org.proxy.findit.dtu.dk/10.1145/2063576.2063743},\n",
    " doi = {10.1145/2063576.2063743},\n",
    " acmid = {2063743},\n",
    " publisher = {ACM},\n",
    " address = {New York, NY, USA},\n",
    " keywords = {link analysis, link prediction, twitter},\n",
    "}\n",
    "\n",
    "@inproceedings{FormationMicroblogs,\n",
    " author = {Yin, Dawei and Hong, Liangjie and Xiong, Xiong and Davison, Brian D.},\n",
    " title = {Link Formation Analysis in Microblogs},\n",
    " booktitle = {Proceedings of the 34th International ACM SIGIR Conference on Research and Development in Information Retrieval},\n",
    " series = {SIGIR '11},\n",
    " year = {2011},\n",
    " isbn = {978-1-4503-0757-4},\n",
    " location = {Beijing, China},\n",
    " pages = {1235--1236},\n",
    " numpages = {2},\n",
    " url = {http://doi.acm.org/10.1145/2009916.2010136},\n",
    " doi = {10.1145/2009916.2010136},\n",
    " acmid = {2010136},\n",
    " publisher = {ACM},\n",
    " address = {New York, NY, USA},\n",
    " keywords = {link analysis, link formation, link prediction, microblogs},\n",
    "}\n",
    "-->"
   ]
  },
  {
   "cell_type": "code",
   "execution_count": null,
   "metadata": {
    "collapsed": false
   },
   "outputs": [],
   "source": []
  },
  {
   "cell_type": "code",
   "execution_count": null,
   "metadata": {
    "collapsed": false
   },
   "outputs": [],
   "source": [
    "print classification_report(y[test], classifier.predict(X[test]))"
   ]
  },
  {
   "cell_type": "code",
   "execution_count": null,
   "metadata": {
    "collapsed": false
   },
   "outputs": [],
   "source": [
    "classifier.tree_"
   ]
  },
  {
   "cell_type": "code",
   "execution_count": null,
   "metadata": {
    "collapsed": true
   },
   "outputs": [],
   "source": []
  },
  {
   "cell_type": "markdown",
   "metadata": {},
   "source": [
    "# References\n",
    "\n",
    "<a name=\"cite-Lu20111150\"/><sup>[^](#ref-1) [^](#ref-4) </sup>Lü, Linyuan and Zhou, Tao. 2011. _Link prediction in complex networks: A survey _. [URL](http://www.sciencedirect.com/science/article/pii/S037843711000991X)\n",
    "\n",
    "<a name=\"cite-Wang2014\"/><sup>[^](#ref-2) [^](#ref-3) </sup>Wang, Peng\n",
    "and Xu, BaoWen\n",
    "and Wu, YuRong\n",
    "and Zhou, XiaoYu. 2014. _Link prediction in social networks: the state-of-the-art_. [URL](http://dx.doi.org/10.1007/s11432-014-5237-y)\n",
    "\n",
    "<a name=\"cite-LibenNowell2004\"/><sup>[^](#ref-5) [^](#ref-8) </sup>Liben-Nowell, David and Kleinberg, Jon. 2003. _The Link Prediction Problem for Social Networks_. [URL](http://doi.acm.org/10.1145/956863.956972)\n",
    "\n",
    "<a name=\"cite-directedSchall\"/><sup>[^](#ref-6) [^](#ref-7) </sup>Schall, Daniel. 2014. _Link prediction in directed social networks_. [URL](http://dx.doi.org/10.1007/s13278-014-0157-9)\n",
    "\n",
    "<a name=\"cite-KatzIndex\"/><sup>[^](#ref-9) </sup>Katz, Leo. 1953. _A new status index derived from sociometric analysis_. [URL](http://dx.doi.org/10.1007/BF02289026)\n",
    "\n",
    "<a name=\"cite-LHN2\"/><sup>[^](#ref-10) </sup>Leicht, E. A. and Holme, Petter and Newman, M. E. J.. 2006. _Vertex similarity in networks_. [URL](http://link.aps.org/doi/10.1103/PhysRevE.73.026120)\n",
    "\n",
    "<a name=\"cite-Fouss06random-walkcomputation\"/><sup>[^](#ref-11) </sup>Fouss, François and Pirotte, Alain and Renders, Jean-michel and Saerens, Marco. 2006. _Random-walk computation of similarities between nodes of a graph, with application to collaborative recommendation_.\n",
    "\n"
   ]
  }
 ],
 "metadata": {
  "kernelspec": {
   "display_name": "Python 2",
   "language": "python",
   "name": "python2"
  },
  "language_info": {
   "codemirror_mode": {
    "name": "ipython",
    "version": 2
   },
   "file_extension": ".py",
   "mimetype": "text/x-python",
   "name": "python",
   "nbconvert_exporter": "python",
   "pygments_lexer": "ipython2",
   "version": "2.7.11"
  }
 },
 "nbformat": 4,
 "nbformat_minor": 0
}
